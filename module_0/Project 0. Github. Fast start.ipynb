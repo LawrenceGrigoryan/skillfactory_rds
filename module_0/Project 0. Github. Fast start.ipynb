{
 "cells": [
  {
   "cell_type": "markdown",
   "metadata": {},
   "source": [
    "### В этом уроке нас ждет любопытная задача — угадать загаданное компьютером число за минимальное число попыток. Давайте приступим к её решению.\n",
    "\n",
    "Условие:\n",
    "\n",
    "Компьютер загадывает целое число от  до , и нам его нужно угадать.\n",
    "Под «угадать», конечно, подразумевается «написать программу, которая угадывает число»."
   ]
  },
  {
   "cell_type": "code",
   "execution_count": null,
   "metadata": {},
   "outputs": [],
   "source": [
    "import numpy as np\n",
    "count = 0\n",
    "number = np.random.randint(1, 101)\n",
    "print('Загадано число от 1 до 100')\n",
    "\n",
    "while True:\n",
    "    predict = int(input())\n",
    "    count += 1\n",
    "    if number == predict:\n",
    "        break\n",
    "    elif number > predict:\n",
    "        print(f'Угадываемое число больше {predict}')\n",
    "    elif number < predict:\n",
    "        print(f'Угадываемое число меньше {predict}')\n",
    "\n",
    "print(f'Вы угадали число {number} за {count} попыток.')"
   ]
  },
  {
   "cell_type": "markdown",
   "metadata": {},
   "source": [
    "### Автоматизируем процесс"
   ]
  },
  {
   "cell_type": "code",
   "execution_count": 25,
   "metadata": {},
   "outputs": [
    {
     "name": "stdout",
     "output_type": "stream",
     "text": [
      "Загадано число от 1 до 100\n",
      "Вы угадали число 71 за 1 попыток.\n"
     ]
    }
   ],
   "source": [
    "number = np.random.randint(1, 101)\n",
    "print('Загадано число от 1 до 100')\n",
    "\n",
    "for count in range(1, 101):\n",
    "    predict = np.random.randint(1, 101)\n",
    "    if number == predict:\n",
    "        break\n",
    "    elif number > predict:\n",
    "        print(f'Угадываемое число больше {predict}')\n",
    "    elif number < predict:\n",
    "        print(f'Угадываемое число меньше {predict}')\n",
    "\n",
    "print(f'Вы угадали число {number} за {count} попыток.')"
   ]
  },
  {
   "cell_type": "markdown",
   "metadata": {},
   "source": [
    "## Завернем игру в функцию"
   ]
  },
  {
   "cell_type": "code",
   "execution_count": 27,
   "metadata": {},
   "outputs": [],
   "source": [
    "def game_core_v1(number):\n",
    "    \"\"\"Просто угадываем рандомно, никак не используя инфу о больше\n",
    "    или меньше.\n",
    "       Функция принимает загаданное число и возвращает число попыток.\"\"\"\n",
    "    count = 0\n",
    "    while True:\n",
    "        count += 1\n",
    "        predict = np.random.randint(1, 101)\n",
    "        if number == predict:\n",
    "            return count"
   ]
  },
  {
   "cell_type": "code",
   "execution_count": 29,
   "metadata": {},
   "outputs": [
    {
     "name": "stdout",
     "output_type": "stream",
     "text": [
      "Ваш алгоритм угадывает число в среднем за 101 попыток\n"
     ]
    },
    {
     "data": {
      "text/plain": [
       "101"
      ]
     },
     "execution_count": 29,
     "metadata": {},
     "output_type": "execute_result"
    }
   ],
   "source": [
    "def score_game(game_core):\n",
    "    \"\"\"Запускаем игру 1000 раз, чтобы понять, как быстро она\n",
    "    угадывает число.\"\"\"\n",
    "    count_Is = []\n",
    "    np.random.seed(1)  # фиксируем RANDOM SEED, чтобы ваш эксперимент был воспроизводим\n",
    "    random_array = np.random.randint(1, 101, size=(1000))\n",
    "    for number in random_array:\n",
    "        count_Is.append(game_core(number))\n",
    "    score = int(np.mean(count_Is))\n",
    "    print(f'Ваш алгоритм угадывает число в среднем за {score} попыток')\n",
    "    return score\n",
    "\n",
    "# Запускаем\n",
    "score_game(game_core_v1)\n",
    "    "
   ]
  },
  {
   "cell_type": "markdown",
   "metadata": {},
   "source": [
    "## А если учесть инфу о больше или меньше?"
   ]
  },
  {
   "cell_type": "code",
   "execution_count": 34,
   "metadata": {},
   "outputs": [
    {
     "name": "stdout",
     "output_type": "stream",
     "text": [
      "Ваш алгоритм угадывает число в среднем за 33 попыток\n"
     ]
    },
    {
     "data": {
      "text/plain": [
       "33"
      ]
     },
     "execution_count": 34,
     "metadata": {},
     "output_type": "execute_result"
    }
   ],
   "source": [
    "def game_core_v2(number):\n",
    "    \"\"\"Сначала устанавливаем любое число, а потом уменьшем\n",
    "    или увеличиваем его в зависимости от того, больше оно\n",
    "    или меньше нужного.\n",
    "       Функция принимает загаданное число и возвращает среднее число попыток.\"\"\"\n",
    "    count = 1\n",
    "    predict = np.random.randint(1, 101)\n",
    "    while number != predict:\n",
    "        count += 1\n",
    "        if number > predict:\n",
    "            predict += 1\n",
    "        elif number < predict:\n",
    "            predict -= 1\n",
    "    return(count)  # Выход из цикла, если угадали\n",
    "\n",
    "# Проверяем\n",
    "score_game(game_core_v2)"
   ]
  },
  {
   "cell_type": "markdown",
   "metadata": {},
   "source": [
    "# rds_0"
   ]
  },
  {
   "cell_type": "markdown",
   "metadata": {},
   "source": [
    "#### Рекомендации:\n",
    "\n",
    "1) Работайте в репозитории, который вы создали в начале этого модуля.\n",
    "\n",
    "2) Сохраните все файлы, сделайте коммит, затем запушьте (git push) все изменения в репозиторий на гитхабе, чтобы ментор смог проверить ваш код.\n",
    "3) Проверьте, что ваш алгоритм действительно угадывает число и делает это за как можно меньшее число попыток (без читерства).\n",
    "\n",
    "4) Убедитесь, что ваш код понятен и красив.\n",
    "\n",
    "5) Если будет возможность, задокументируйте код.\n",
    "\n",
    "\n",
    "6) Не стесняйтесь использовать коммиты чаще, если собираетесь писать код не за один раз. Во многих компаниях есть негласное правило: Перед уходом с работы сделайте git commit, git push."
   ]
  },
  {
   "cell_type": "code",
   "execution_count": null,
   "metadata": {},
   "outputs": [],
   "source": []
  },
  {
   "cell_type": "code",
   "execution_count": null,
   "metadata": {},
   "outputs": [],
   "source": []
  },
  {
   "cell_type": "code",
   "execution_count": null,
   "metadata": {},
   "outputs": [],
   "source": []
  },
  {
   "cell_type": "code",
   "execution_count": null,
   "metadata": {},
   "outputs": [],
   "source": []
  },
  {
   "cell_type": "code",
   "execution_count": null,
   "metadata": {},
   "outputs": [],
   "source": []
  }
 ],
 "metadata": {
  "kernelspec": {
   "display_name": "Python 3",
   "language": "python",
   "name": "python3"
  },
  "language_info": {
   "codemirror_mode": {
    "name": "ipython",
    "version": 3
   },
   "file_extension": ".py",
   "mimetype": "text/x-python",
   "name": "python",
   "nbconvert_exporter": "python",
   "pygments_lexer": "ipython3",
   "version": "3.7.6"
  }
 },
 "nbformat": 4,
 "nbformat_minor": 4
}
