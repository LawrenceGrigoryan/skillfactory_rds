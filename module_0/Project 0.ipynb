{
 "cells": [
  {
   "cell_type": "markdown",
   "metadata": {},
   "source": [
    "# Исходный код"
   ]
  },
  {
   "cell_type": "code",
   "execution_count": 1,
   "metadata": {},
   "outputs": [],
   "source": [
    "import numpy as np"
   ]
  },
  {
   "cell_type": "code",
   "execution_count": 1,
   "metadata": {},
   "outputs": [],
   "source": [
    "def score_game(game_core):\n",
    "    \"\"\"Запускаем игру 1000 раз, чтобы понять, как быстро она\n",
    "    угадывает число.\"\"\"\n",
    "    count_Is = []\n",
    "    np.random.seed(1)  # фиксируем RANDOM SEED, чтобы ваш эксперимент был воспроизводим\n",
    "    random_array = np.random.randint(1, 101, size=(1000))\n",
    "    for number in random_array:\n",
    "        count_Is.append(game_core(number))\n",
    "    score = int(np.mean(count_Is))\n",
    "    print(f'Ваш алгоритм угадывает число в среднем за {score} попыток')\n",
    "    return score"
   ]
  },
  {
   "cell_type": "code",
   "execution_count": null,
   "metadata": {},
   "outputs": [],
   "source": [
    "def game_core_v2(number):\n",
    "    \"\"\"Сначала устанавливаем любое число, а потом уменьшем\n",
    "    или увеличиваем его в зависимости от того, больше оно\n",
    "    или меньше нужного.\n",
    "       Функция принимает загаданное число и возвращает среднее число попыток.\"\"\"\n",
    "    count = 1\n",
    "    predict = np.random.randint(1, 101)\n",
    "    while number != predict:\n",
    "        count += 1\n",
    "        if number > predict:\n",
    "            predict += 1\n",
    "        elif number < predict:\n",
    "            predict -= 1\n",
    "    return(count)  # Выход из цикла, если угадали\n",
    "\n",
    "# Проверяем\n",
    "score_game(game_core_v2)"
   ]
  },
  {
   "cell_type": "markdown",
   "metadata": {},
   "source": [
    "# Модифицируем, чтобы было быстрее"
   ]
  },
  {
   "cell_type": "code",
   "execution_count": 10,
   "metadata": {},
   "outputs": [],
   "source": [
    "def score_game(game_core):\n",
    "    \"\"\"Запускаем игру 1000 раз, чтобы понять, как быстро она\n",
    "    угадывает число.\"\"\"\n",
    "    count_is = []\n",
    "    np.random.seed(1)  # Фиксируем RANDOM SEED, чтобы эксперимент был воспроизводим\n",
    "    random_array = np.random.randint(1, 101, size=(1000))\n",
    "                                                   \n",
    "    for number in random_array:\n",
    "        count_is.append(game_core(number))\n",
    "                                                   \n",
    "    score = int(np.mean(count_is))\n",
    "    print(f'Ваш алгоритм угадывает число в среднем за {score} попыток')\n",
    "                                                   \n",
    "    return score"
   ]
  },
  {
   "cell_type": "code",
   "execution_count": 11,
   "metadata": {},
   "outputs": [
    {
     "name": "stdout",
     "output_type": "stream",
     "text": [
      "Ваш алгоритм угадывает число в среднем за 24 попыток\n"
     ]
    },
    {
     "data": {
      "text/plain": [
       "24"
      ]
     },
     "execution_count": 11,
     "metadata": {},
     "output_type": "execute_result"
    }
   ],
   "source": [
    "# Учтем информацию о том, на какое наибольшее число делятся оба числа (загаданное и неугаданное) без остатка.\n",
    "def game_core_v3(number):\n",
    "    \"\"\"Функция учитывает информацию о том, больше или меньше загаданного числа неугаданное,\n",
    "       а также информацию о наибольшем общем делителе этих чисел. \n",
    "       Затем происходит вычитание или сложение неугаданного числа с НОД в зависимости от первого условия.\"\"\"\n",
    "    divisors = [x for x in range(1, 101)]\n",
    "    count = 1\n",
    "    predict = np.random.randint(1, 101)\n",
    "    gcd = 0  # Greatest Common Divisor - НОД\n",
    "    \n",
    "    for num, divisor in enumerate(divisors):\n",
    "            if predict % divisors[num] == 0 and number % divisors[num] == 0:\n",
    "                gcd = divisor\n",
    "            else:\n",
    "                continue\n",
    "    \n",
    "    while number != predict:\n",
    "        count += 1\n",
    "        \n",
    "        if predict > number:\n",
    "            predict -= gcd\n",
    "        else:\n",
    "            predict += gcd\n",
    "            \n",
    "    \n",
    "    return count  # Выход из цикла, если угадали\n",
    "\n",
    "# Проверяем\n",
    "score_game(game_core_v3)"
   ]
  },
  {
   "cell_type": "code",
   "execution_count": null,
   "metadata": {},
   "outputs": [],
   "source": []
  },
  {
   "cell_type": "code",
   "execution_count": null,
   "metadata": {},
   "outputs": [],
   "source": []
  },
  {
   "cell_type": "code",
   "execution_count": null,
   "metadata": {},
   "outputs": [],
   "source": []
  },
  {
   "cell_type": "code",
   "execution_count": null,
   "metadata": {},
   "outputs": [],
   "source": []
  },
  {
   "cell_type": "code",
   "execution_count": null,
   "metadata": {},
   "outputs": [],
   "source": []
  },
  {
   "cell_type": "code",
   "execution_count": null,
   "metadata": {},
   "outputs": [],
   "source": []
  }
 ],
 "metadata": {
  "kernelspec": {
   "display_name": "Python 3",
   "language": "python",
   "name": "python3"
  },
  "language_info": {
   "codemirror_mode": {
    "name": "ipython",
    "version": 3
   },
   "file_extension": ".py",
   "mimetype": "text/x-python",
   "name": "python",
   "nbconvert_exporter": "python",
   "pygments_lexer": "ipython3",
   "version": "3.7.6"
  }
 },
 "nbformat": 4,
 "nbformat_minor": 4
}
