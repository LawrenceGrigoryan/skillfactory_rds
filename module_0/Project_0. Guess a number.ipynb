{
 "cells": [
  {
   "cell_type": "code",
   "execution_count": 1,
   "metadata": {},
   "outputs": [],
   "source": [
    "import numpy as np"
   ]
  },
  {
   "cell_type": "markdown",
   "metadata": {},
   "source": [
    "# Modifying the algorithm to get better results"
   ]
  },
  {
   "cell_type": "code",
   "execution_count": 2,
   "metadata": {},
   "outputs": [],
   "source": [
    "def score_game(game_core):\n",
    "    \"\"\"Launches the game 1000 times in order to figure out\n",
    "    the effectivenes of the algorithm\"\"\"\n",
    "    count_is = []\n",
    "    np.random.seed(1)  # Фиксируем RANDOM SEED, чтобы эксперимент был воспроизводим\n",
    "    random_array = np.random.randint(1, 101, size=(1000))                                         \n",
    "    for number in random_array:\n",
    "        count_is.append(game_core(number))                                           \n",
    "    score = int(np.mean(count_is))\n",
    "    print(f'Your algorithm guesses the number on average in {score} attempt(s)')\n",
    "                                                   \n",
    "    return score"
   ]
  },
  {
   "cell_type": "code",
   "execution_count": 3,
   "metadata": {},
   "outputs": [
    {
     "name": "stdout",
     "output_type": "stream",
     "text": [
      "Your algorithm guesses the number on average in 24 attempt(s)\n"
     ]
    },
    {
     "data": {
      "text/plain": [
       "24"
      ]
     },
     "execution_count": 3,
     "metadata": {},
     "output_type": "execute_result"
    }
   ],
   "source": [
    "# My initial algorithm\n",
    "def game_core_v3(number):\n",
    "    \"\"\"The function guesses the number using the GCD\"\"\"\n",
    "    divisors = [x for x in range(1, 101)]\n",
    "    count = 1\n",
    "    predict = np.random.randint(1, 101)\n",
    "    gcd = 0  # Greatest Common Divisor\n",
    "    for num, divisor in enumerate(divisors):\n",
    "            if predict % divisors[num] == 0 and number % divisors[num] == 0:\n",
    "                gcd = divisor\n",
    "            else:\n",
    "                continue\n",
    "    \n",
    "    while number != predict:\n",
    "        count += 1\n",
    "        if predict > number:\n",
    "            predict -= gcd\n",
    "        else:\n",
    "            predict += gcd \n",
    "    \n",
    "    return count\n",
    "\n",
    "\n",
    "score_game(game_core_v3)"
   ]
  },
  {
   "cell_type": "markdown",
   "metadata": {},
   "source": [
    "## Binary search algorithm:\n",
    "\n",
    "The most effective algorithm"
   ]
  },
  {
   "cell_type": "code",
   "execution_count": 4,
   "metadata": {},
   "outputs": [
    {
     "name": "stdout",
     "output_type": "stream",
     "text": [
      "Your algorithm guesses the number on average in 5 attempt(s)\n"
     ]
    },
    {
     "data": {
      "text/plain": [
       "5"
      ]
     },
     "execution_count": 4,
     "metadata": {},
     "output_type": "execute_result"
    }
   ],
   "source": [
    "def game_core_v3(number):\n",
    "    \"\"\"The function calculates the middle of the array, then compares the middle \n",
    "    with the number we need to guess and depending on the result of comparison\n",
    "    it cuts off the left or the right half of the array and repeats this\n",
    "    cycle untill it guesses the number.\"\"\"\n",
    "    count = 1\n",
    "    left_lim = 0\n",
    "    right_lim = 101\n",
    "    prediction = (left_lim + right_lim) // 2\n",
    "    while number != prediction:\n",
    "        count += 1\n",
    "        if number > prediction:\n",
    "            left_lim = prediction\n",
    "            prediction = (left_lim + right_lim) // 2\n",
    "        else:\n",
    "            right_lim = prediction\n",
    "            prediction = (left_lim + right_lim) // 2\n",
    "    \n",
    "    return count\n",
    "\n",
    "\n",
    "score_game(game_core_v3)"
   ]
  }
 ],
 "metadata": {
  "kernelspec": {
   "display_name": "Python 3",
   "language": "python",
   "name": "python3"
  },
  "language_info": {
   "codemirror_mode": {
    "name": "ipython",
    "version": 3
   },
   "file_extension": ".py",
   "mimetype": "text/x-python",
   "name": "python",
   "nbconvert_exporter": "python",
   "pygments_lexer": "ipython3",
   "version": "3.7.6"
  }
 },
 "nbformat": 4,
 "nbformat_minor": 4
}
