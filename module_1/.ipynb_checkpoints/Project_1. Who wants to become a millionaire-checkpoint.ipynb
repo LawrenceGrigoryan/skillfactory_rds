{
 "cells": [
  {
   "cell_type": "code",
   "execution_count": 1,
   "metadata": {},
   "outputs": [
    {
     "data": {
      "text/plain": [
       "['.git',\n",
       " '.ipynb_checkpoints',\n",
       " 'data.csv',\n",
       " 'Project_1. Who wants to become a millionaire.ipynb']"
      ]
     },
     "execution_count": 1,
     "metadata": {},
     "output_type": "execute_result"
    }
   ],
   "source": [
    "import pandas as pd\n",
    "import os\n",
    "from collections import Counter\n",
    "import itertools\n",
    "os.listdir()"
   ]
  },
  {
   "cell_type": "code",
   "execution_count": 211,
   "metadata": {
    "scrolled": true
   },
   "outputs": [
    {
     "data": {
      "text/html": [
       "<div>\n",
       "<style scoped>\n",
       "    .dataframe tbody tr th:only-of-type {\n",
       "        vertical-align: middle;\n",
       "    }\n",
       "\n",
       "    .dataframe tbody tr th {\n",
       "        vertical-align: top;\n",
       "    }\n",
       "\n",
       "    .dataframe thead th {\n",
       "        text-align: right;\n",
       "    }\n",
       "</style>\n",
       "<table border=\"1\" class=\"dataframe\">\n",
       "  <thead>\n",
       "    <tr style=\"text-align: right;\">\n",
       "      <th></th>\n",
       "      <th>imdb_id</th>\n",
       "      <th>popularity</th>\n",
       "      <th>budget</th>\n",
       "      <th>revenue</th>\n",
       "      <th>original_title</th>\n",
       "      <th>cast</th>\n",
       "      <th>director</th>\n",
       "      <th>tagline</th>\n",
       "      <th>overview</th>\n",
       "      <th>runtime</th>\n",
       "      <th>genres</th>\n",
       "      <th>production_companies</th>\n",
       "      <th>release_date</th>\n",
       "      <th>vote_count</th>\n",
       "      <th>vote_average</th>\n",
       "      <th>release_year</th>\n",
       "    </tr>\n",
       "  </thead>\n",
       "  <tbody>\n",
       "    <tr>\n",
       "      <th>0</th>\n",
       "      <td>tt0369610</td>\n",
       "      <td>32.985763</td>\n",
       "      <td>150000000</td>\n",
       "      <td>1513528810</td>\n",
       "      <td>Jurassic World</td>\n",
       "      <td>Chris Pratt|Bryce Dallas Howard|Irrfan Khan|Vi...</td>\n",
       "      <td>Colin Trevorrow</td>\n",
       "      <td>The park is open.</td>\n",
       "      <td>Twenty-two years after the events of Jurassic ...</td>\n",
       "      <td>124</td>\n",
       "      <td>Action|Adventure|Science Fiction|Thriller</td>\n",
       "      <td>Universal Studios|Amblin Entertainment|Legenda...</td>\n",
       "      <td>6/9/2015</td>\n",
       "      <td>5562</td>\n",
       "      <td>6.5</td>\n",
       "      <td>2015</td>\n",
       "    </tr>\n",
       "    <tr>\n",
       "      <th>1</th>\n",
       "      <td>tt1392190</td>\n",
       "      <td>28.419936</td>\n",
       "      <td>150000000</td>\n",
       "      <td>378436354</td>\n",
       "      <td>Mad Max: Fury Road</td>\n",
       "      <td>Tom Hardy|Charlize Theron|Hugh Keays-Byrne|Nic...</td>\n",
       "      <td>George Miller</td>\n",
       "      <td>What a Lovely Day.</td>\n",
       "      <td>An apocalyptic story set in the furthest reach...</td>\n",
       "      <td>120</td>\n",
       "      <td>Action|Adventure|Science Fiction|Thriller</td>\n",
       "      <td>Village Roadshow Pictures|Kennedy Miller Produ...</td>\n",
       "      <td>5/13/2015</td>\n",
       "      <td>6185</td>\n",
       "      <td>7.1</td>\n",
       "      <td>2015</td>\n",
       "    </tr>\n",
       "    <tr>\n",
       "      <th>2</th>\n",
       "      <td>tt2908446</td>\n",
       "      <td>13.112507</td>\n",
       "      <td>110000000</td>\n",
       "      <td>295238201</td>\n",
       "      <td>Insurgent</td>\n",
       "      <td>Shailene Woodley|Theo James|Kate Winslet|Ansel...</td>\n",
       "      <td>Robert Schwentke</td>\n",
       "      <td>One Choice Can Destroy You</td>\n",
       "      <td>Beatrice Prior must confront her inner demons ...</td>\n",
       "      <td>119</td>\n",
       "      <td>Adventure|Science Fiction|Thriller</td>\n",
       "      <td>Summit Entertainment|Mandeville Films|Red Wago...</td>\n",
       "      <td>3/18/2015</td>\n",
       "      <td>2480</td>\n",
       "      <td>6.3</td>\n",
       "      <td>2015</td>\n",
       "    </tr>\n",
       "    <tr>\n",
       "      <th>3</th>\n",
       "      <td>tt2488496</td>\n",
       "      <td>11.173104</td>\n",
       "      <td>200000000</td>\n",
       "      <td>2068178225</td>\n",
       "      <td>Star Wars: The Force Awakens</td>\n",
       "      <td>Harrison Ford|Mark Hamill|Carrie Fisher|Adam D...</td>\n",
       "      <td>J.J. Abrams</td>\n",
       "      <td>Every generation has a story.</td>\n",
       "      <td>Thirty years after defeating the Galactic Empi...</td>\n",
       "      <td>136</td>\n",
       "      <td>Action|Adventure|Science Fiction|Fantasy</td>\n",
       "      <td>Lucasfilm|Truenorth Productions|Bad Robot</td>\n",
       "      <td>12/15/2015</td>\n",
       "      <td>5292</td>\n",
       "      <td>7.5</td>\n",
       "      <td>2015</td>\n",
       "    </tr>\n",
       "    <tr>\n",
       "      <th>4</th>\n",
       "      <td>tt2820852</td>\n",
       "      <td>9.335014</td>\n",
       "      <td>190000000</td>\n",
       "      <td>1506249360</td>\n",
       "      <td>Furious 7</td>\n",
       "      <td>Vin Diesel|Paul Walker|Jason Statham|Michelle ...</td>\n",
       "      <td>James Wan</td>\n",
       "      <td>Vengeance Hits Home</td>\n",
       "      <td>Deckard Shaw seeks revenge against Dominic Tor...</td>\n",
       "      <td>137</td>\n",
       "      <td>Action|Crime|Thriller</td>\n",
       "      <td>Universal Pictures|Original Film|Media Rights ...</td>\n",
       "      <td>4/1/2015</td>\n",
       "      <td>2947</td>\n",
       "      <td>7.3</td>\n",
       "      <td>2015</td>\n",
       "    </tr>\n",
       "  </tbody>\n",
       "</table>\n",
       "</div>"
      ],
      "text/plain": [
       "     imdb_id  popularity     budget     revenue                original_title  \\\n",
       "0  tt0369610   32.985763  150000000  1513528810                Jurassic World   \n",
       "1  tt1392190   28.419936  150000000   378436354            Mad Max: Fury Road   \n",
       "2  tt2908446   13.112507  110000000   295238201                     Insurgent   \n",
       "3  tt2488496   11.173104  200000000  2068178225  Star Wars: The Force Awakens   \n",
       "4  tt2820852    9.335014  190000000  1506249360                     Furious 7   \n",
       "\n",
       "                                                cast          director  \\\n",
       "0  Chris Pratt|Bryce Dallas Howard|Irrfan Khan|Vi...   Colin Trevorrow   \n",
       "1  Tom Hardy|Charlize Theron|Hugh Keays-Byrne|Nic...     George Miller   \n",
       "2  Shailene Woodley|Theo James|Kate Winslet|Ansel...  Robert Schwentke   \n",
       "3  Harrison Ford|Mark Hamill|Carrie Fisher|Adam D...       J.J. Abrams   \n",
       "4  Vin Diesel|Paul Walker|Jason Statham|Michelle ...         James Wan   \n",
       "\n",
       "                         tagline  \\\n",
       "0              The park is open.   \n",
       "1             What a Lovely Day.   \n",
       "2     One Choice Can Destroy You   \n",
       "3  Every generation has a story.   \n",
       "4            Vengeance Hits Home   \n",
       "\n",
       "                                            overview  runtime  \\\n",
       "0  Twenty-two years after the events of Jurassic ...      124   \n",
       "1  An apocalyptic story set in the furthest reach...      120   \n",
       "2  Beatrice Prior must confront her inner demons ...      119   \n",
       "3  Thirty years after defeating the Galactic Empi...      136   \n",
       "4  Deckard Shaw seeks revenge against Dominic Tor...      137   \n",
       "\n",
       "                                      genres  \\\n",
       "0  Action|Adventure|Science Fiction|Thriller   \n",
       "1  Action|Adventure|Science Fiction|Thriller   \n",
       "2         Adventure|Science Fiction|Thriller   \n",
       "3   Action|Adventure|Science Fiction|Fantasy   \n",
       "4                      Action|Crime|Thriller   \n",
       "\n",
       "                                production_companies release_date  vote_count  \\\n",
       "0  Universal Studios|Amblin Entertainment|Legenda...     6/9/2015        5562   \n",
       "1  Village Roadshow Pictures|Kennedy Miller Produ...    5/13/2015        6185   \n",
       "2  Summit Entertainment|Mandeville Films|Red Wago...    3/18/2015        2480   \n",
       "3          Lucasfilm|Truenorth Productions|Bad Robot   12/15/2015        5292   \n",
       "4  Universal Pictures|Original Film|Media Rights ...     4/1/2015        2947   \n",
       "\n",
       "   vote_average  release_year  \n",
       "0           6.5          2015  \n",
       "1           7.1          2015  \n",
       "2           6.3          2015  \n",
       "3           7.5          2015  \n",
       "4           7.3          2015  "
      ]
     },
     "execution_count": 211,
     "metadata": {},
     "output_type": "execute_result"
    }
   ],
   "source": [
    "data = pd.read_csv('data.csv')\n",
    "data.head()"
   ]
  },
  {
   "cell_type": "code",
   "execution_count": 3,
   "metadata": {
    "scrolled": true
   },
   "outputs": [
    {
     "data": {
      "text/html": [
       "<div>\n",
       "<style scoped>\n",
       "    .dataframe tbody tr th:only-of-type {\n",
       "        vertical-align: middle;\n",
       "    }\n",
       "\n",
       "    .dataframe tbody tr th {\n",
       "        vertical-align: top;\n",
       "    }\n",
       "\n",
       "    .dataframe thead th {\n",
       "        text-align: right;\n",
       "    }\n",
       "</style>\n",
       "<table border=\"1\" class=\"dataframe\">\n",
       "  <thead>\n",
       "    <tr style=\"text-align: right;\">\n",
       "      <th></th>\n",
       "      <th>imdb_id</th>\n",
       "      <th>popularity</th>\n",
       "      <th>budget</th>\n",
       "      <th>revenue</th>\n",
       "      <th>original_title</th>\n",
       "      <th>cast</th>\n",
       "      <th>director</th>\n",
       "      <th>tagline</th>\n",
       "      <th>overview</th>\n",
       "      <th>runtime</th>\n",
       "      <th>genres</th>\n",
       "      <th>production_companies</th>\n",
       "      <th>release_date</th>\n",
       "      <th>vote_count</th>\n",
       "      <th>vote_average</th>\n",
       "      <th>release_year</th>\n",
       "    </tr>\n",
       "  </thead>\n",
       "  <tbody>\n",
       "    <tr>\n",
       "      <th>1885</th>\n",
       "      <td>tt0120903</td>\n",
       "      <td>0.182246</td>\n",
       "      <td>75000000</td>\n",
       "      <td>157299717</td>\n",
       "      <td>X-Men</td>\n",
       "      <td>Patrick Stewart|Hugh Jackman|Ian McKellen|Hall...</td>\n",
       "      <td>Bryan Singer</td>\n",
       "      <td>Evolution Begins</td>\n",
       "      <td>Two mutants, Rogue and Wolverine, come to a pr...</td>\n",
       "      <td>104</td>\n",
       "      <td>Adventure|Action|Science Fiction</td>\n",
       "      <td>Twentieth Century Fox Film Corporation|Donners...</td>\n",
       "      <td>7/13/2000</td>\n",
       "      <td>2766</td>\n",
       "      <td>6.6</td>\n",
       "      <td>2000</td>\n",
       "    </tr>\n",
       "    <tr>\n",
       "      <th>1886</th>\n",
       "      <td>tt0192255</td>\n",
       "      <td>0.123920</td>\n",
       "      <td>22000000</td>\n",
       "      <td>13555988</td>\n",
       "      <td>The Little Vampire</td>\n",
       "      <td>Richard E. Grant|Jonathan Lipnicki|Jim Carter|...</td>\n",
       "      <td>Uli Edel</td>\n",
       "      <td>They're not just best friends, they're blood b...</td>\n",
       "      <td>Based on the popular books, the story tells of...</td>\n",
       "      <td>95</td>\n",
       "      <td>Horror|Family|Foreign</td>\n",
       "      <td>New Line Cinema</td>\n",
       "      <td>10/27/2000</td>\n",
       "      <td>42</td>\n",
       "      <td>6.4</td>\n",
       "      <td>2000</td>\n",
       "    </tr>\n",
       "    <tr>\n",
       "      <th>1887</th>\n",
       "      <td>tt0131704</td>\n",
       "      <td>0.104908</td>\n",
       "      <td>76000000</td>\n",
       "      <td>35134820</td>\n",
       "      <td>The Adventures of Rocky &amp; Bullwinkle</td>\n",
       "      <td>Rene Russo|Jason Alexander|Piper Perabo|Randy ...</td>\n",
       "      <td>Des McAnuff</td>\n",
       "      <td>This summer it's not the same old bull.</td>\n",
       "      <td>Rocky and Bullwinkle have been living off the ...</td>\n",
       "      <td>88</td>\n",
       "      <td>Adventure|Animation|Action|Comedy|Family</td>\n",
       "      <td>Universal Pictures|Capella International|KC Me...</td>\n",
       "      <td>6/30/2000</td>\n",
       "      <td>35</td>\n",
       "      <td>4.0</td>\n",
       "      <td>2000</td>\n",
       "    </tr>\n",
       "    <tr>\n",
       "      <th>1888</th>\n",
       "      <td>tt0162983</td>\n",
       "      <td>0.031018</td>\n",
       "      <td>40000000</td>\n",
       "      <td>36037909</td>\n",
       "      <td>Hanging Up</td>\n",
       "      <td>Meg Ryan|Diane Keaton|Lisa Kudrow|Walter Matth...</td>\n",
       "      <td>Diane Keaton</td>\n",
       "      <td>Every family has a few hang-ups.</td>\n",
       "      <td>A trio of sisters bond over their ambivalence ...</td>\n",
       "      <td>94</td>\n",
       "      <td>Comedy|Drama</td>\n",
       "      <td>Laurence Mark Productions|Columbia Pictures Co...</td>\n",
       "      <td>2/16/2000</td>\n",
       "      <td>21</td>\n",
       "      <td>5.2</td>\n",
       "      <td>2000</td>\n",
       "    </tr>\n",
       "    <tr>\n",
       "      <th>1889</th>\n",
       "      <td>tt0163676</td>\n",
       "      <td>0.015997</td>\n",
       "      <td>15000000</td>\n",
       "      <td>5217498</td>\n",
       "      <td>The In Crowd</td>\n",
       "      <td>Susan Ward|Lori Heuring|Matthew Settle|Nathan ...</td>\n",
       "      <td>Mary Lambert</td>\n",
       "      <td>What would you do to get in?</td>\n",
       "      <td>A mentally disturbed young woman takes a job a...</td>\n",
       "      <td>105</td>\n",
       "      <td>Thriller</td>\n",
       "      <td>Warner Bros. Pictures</td>\n",
       "      <td>7/19/2000</td>\n",
       "      <td>12</td>\n",
       "      <td>5.2</td>\n",
       "      <td>2000</td>\n",
       "    </tr>\n",
       "  </tbody>\n",
       "</table>\n",
       "</div>"
      ],
      "text/plain": [
       "        imdb_id  popularity    budget    revenue  \\\n",
       "1885  tt0120903    0.182246  75000000  157299717   \n",
       "1886  tt0192255    0.123920  22000000   13555988   \n",
       "1887  tt0131704    0.104908  76000000   35134820   \n",
       "1888  tt0162983    0.031018  40000000   36037909   \n",
       "1889  tt0163676    0.015997  15000000    5217498   \n",
       "\n",
       "                            original_title  \\\n",
       "1885                                 X-Men   \n",
       "1886                    The Little Vampire   \n",
       "1887  The Adventures of Rocky & Bullwinkle   \n",
       "1888                            Hanging Up   \n",
       "1889                          The In Crowd   \n",
       "\n",
       "                                                   cast      director  \\\n",
       "1885  Patrick Stewart|Hugh Jackman|Ian McKellen|Hall...  Bryan Singer   \n",
       "1886  Richard E. Grant|Jonathan Lipnicki|Jim Carter|...      Uli Edel   \n",
       "1887  Rene Russo|Jason Alexander|Piper Perabo|Randy ...   Des McAnuff   \n",
       "1888  Meg Ryan|Diane Keaton|Lisa Kudrow|Walter Matth...  Diane Keaton   \n",
       "1889  Susan Ward|Lori Heuring|Matthew Settle|Nathan ...  Mary Lambert   \n",
       "\n",
       "                                                tagline  \\\n",
       "1885                                   Evolution Begins   \n",
       "1886  They're not just best friends, they're blood b...   \n",
       "1887            This summer it's not the same old bull.   \n",
       "1888                   Every family has a few hang-ups.   \n",
       "1889                       What would you do to get in?   \n",
       "\n",
       "                                               overview  runtime  \\\n",
       "1885  Two mutants, Rogue and Wolverine, come to a pr...      104   \n",
       "1886  Based on the popular books, the story tells of...       95   \n",
       "1887  Rocky and Bullwinkle have been living off the ...       88   \n",
       "1888  A trio of sisters bond over their ambivalence ...       94   \n",
       "1889  A mentally disturbed young woman takes a job a...      105   \n",
       "\n",
       "                                        genres  \\\n",
       "1885          Adventure|Action|Science Fiction   \n",
       "1886                     Horror|Family|Foreign   \n",
       "1887  Adventure|Animation|Action|Comedy|Family   \n",
       "1888                              Comedy|Drama   \n",
       "1889                                  Thriller   \n",
       "\n",
       "                                   production_companies release_date  \\\n",
       "1885  Twentieth Century Fox Film Corporation|Donners...    7/13/2000   \n",
       "1886                                    New Line Cinema   10/27/2000   \n",
       "1887  Universal Pictures|Capella International|KC Me...    6/30/2000   \n",
       "1888  Laurence Mark Productions|Columbia Pictures Co...    2/16/2000   \n",
       "1889                              Warner Bros. Pictures    7/19/2000   \n",
       "\n",
       "      vote_count  vote_average  release_year  \n",
       "1885        2766           6.6          2000  \n",
       "1886          42           6.4          2000  \n",
       "1887          35           4.0          2000  \n",
       "1888          21           5.2          2000  \n",
       "1889          12           5.2          2000  "
      ]
     },
     "execution_count": 3,
     "metadata": {},
     "output_type": "execute_result"
    }
   ],
   "source": [
    "data.tail()"
   ]
  },
  {
   "cell_type": "code",
   "execution_count": 4,
   "metadata": {
    "scrolled": true
   },
   "outputs": [
    {
     "name": "stdout",
     "output_type": "stream",
     "text": [
      "Всего наблюдений в датасете: 1890\n"
     ]
    }
   ],
   "source": [
    "print(f'Всего наблюдений в датасете: {len(data)}')"
   ]
  },
  {
   "cell_type": "code",
   "execution_count": 5,
   "metadata": {
    "scrolled": true
   },
   "outputs": [
    {
     "name": "stdout",
     "output_type": "stream",
     "text": [
      "<class 'pandas.core.frame.DataFrame'>\n",
      "RangeIndex: 1890 entries, 0 to 1889\n",
      "Data columns (total 16 columns):\n",
      " #   Column                Non-Null Count  Dtype  \n",
      "---  ------                --------------  -----  \n",
      " 0   imdb_id               1890 non-null   object \n",
      " 1   popularity            1890 non-null   float64\n",
      " 2   budget                1890 non-null   int64  \n",
      " 3   revenue               1890 non-null   int64  \n",
      " 4   original_title        1890 non-null   object \n",
      " 5   cast                  1890 non-null   object \n",
      " 6   director              1890 non-null   object \n",
      " 7   tagline               1890 non-null   object \n",
      " 8   overview              1890 non-null   object \n",
      " 9   runtime               1890 non-null   int64  \n",
      " 10  genres                1890 non-null   object \n",
      " 11  production_companies  1890 non-null   object \n",
      " 12  release_date          1890 non-null   object \n",
      " 13  vote_count            1890 non-null   int64  \n",
      " 14  vote_average          1890 non-null   float64\n",
      " 15  release_year          1890 non-null   int64  \n",
      "dtypes: float64(2), int64(5), object(9)\n",
      "memory usage: 236.4+ KB\n"
     ]
    }
   ],
   "source": [
    "# Проверим наличие NaN-значений\n",
    "data.info()"
   ]
  },
  {
   "cell_type": "markdown",
   "metadata": {},
   "source": [
    "# Предобработка датасета"
   ]
  },
  {
   "cell_type": "code",
   "execution_count": 6,
   "metadata": {},
   "outputs": [],
   "source": [
    "# Список с ответами\n",
    "answer_ls = []"
   ]
  },
  {
   "cell_type": "markdown",
   "metadata": {},
   "source": [
    "# 1. У какого фильма из списка самый большой бюджет?\n",
    "Варианты ответов:\n",
    "1. The Dark Knight Rises (tt1345836)\n",
    "2. Spider-Man 3 (tt0413300)\n",
    "3. Avengers: Age of Ultron (tt2395427)\n",
    "4. The Warrior's Way\t(tt1032751)\n",
    "5. Pirates of the Caribbean: On Stranger Tides (tt1298650)"
   ]
  },
  {
   "cell_type": "code",
   "execution_count": 7,
   "metadata": {
    "scrolled": true
   },
   "outputs": [
    {
     "data": {
      "text/plain": [
       "491    The Warrior's Way\n",
       "Name: original_title, dtype: object"
      ]
     },
     "execution_count": 7,
     "metadata": {},
     "output_type": "execute_result"
    }
   ],
   "source": [
    "data[data.budget == data.budget.max()].original_title"
   ]
  },
  {
   "cell_type": "code",
   "execution_count": 8,
   "metadata": {},
   "outputs": [],
   "source": [
    "answer_ls.append(4)"
   ]
  },
  {
   "cell_type": "markdown",
   "metadata": {},
   "source": [
    "# 2. Какой из фильмов самый длительный (в минутах)\n",
    "1. The Lord of the Rings: The Return of the King\t(tt0167260)\n",
    "2. Gods and Generals\t(tt0279111)\n",
    "3. King Kong\t(tt0360717)\n",
    "4. Pearl Harbor\t(tt0213149)\n",
    "5. Alexander\t(tt0346491)"
   ]
  },
  {
   "cell_type": "code",
   "execution_count": 9,
   "metadata": {},
   "outputs": [
    {
     "data": {
      "text/plain": [
       "1158    Gods and Generals\n",
       "Name: original_title, dtype: object"
      ]
     },
     "execution_count": 9,
     "metadata": {},
     "output_type": "execute_result"
    }
   ],
   "source": [
    "data[data.runtime == data.runtime.max()].original_title"
   ]
  },
  {
   "cell_type": "code",
   "execution_count": 10,
   "metadata": {},
   "outputs": [],
   "source": [
    "answer_ls.append(2)"
   ]
  },
  {
   "cell_type": "markdown",
   "metadata": {},
   "source": [
    "# 3. Какой из фильмов самый короткий (в минутах)\n",
    "Варианты ответов:\n",
    "\n",
    "1. Home on the Range\ttt0299172\n",
    "2. The Jungle Book 2\ttt0283426\n",
    "3. Winnie the Pooh\ttt1449283\n",
    "4. Corpse Bride\ttt0121164\n",
    "5. Hoodwinked!\ttt0443536"
   ]
  },
  {
   "cell_type": "code",
   "execution_count": 11,
   "metadata": {},
   "outputs": [
    {
     "data": {
      "text/plain": [
       "769    Winnie the Pooh\n",
       "Name: original_title, dtype: object"
      ]
     },
     "execution_count": 11,
     "metadata": {},
     "output_type": "execute_result"
    }
   ],
   "source": [
    "data[data.runtime == data.runtime.min()].original_title"
   ]
  },
  {
   "cell_type": "code",
   "execution_count": 12,
   "metadata": {},
   "outputs": [],
   "source": [
    "answer_ls.append(3)"
   ]
  },
  {
   "cell_type": "markdown",
   "metadata": {},
   "source": [
    "# 4. Средняя длительность фильма?\n",
    "\n",
    "Варианты ответов:\n",
    "1. 115\n",
    "2. 110\n",
    "3. 105\n",
    "4. 120\n",
    "5. 100\n"
   ]
  },
  {
   "cell_type": "code",
   "execution_count": 13,
   "metadata": {},
   "outputs": [
    {
     "data": {
      "text/plain": [
       "110"
      ]
     },
     "execution_count": 13,
     "metadata": {},
     "output_type": "execute_result"
    }
   ],
   "source": [
    "round(data.runtime.mean())"
   ]
  },
  {
   "cell_type": "code",
   "execution_count": 14,
   "metadata": {},
   "outputs": [],
   "source": [
    "answer_ls.append(2)"
   ]
  },
  {
   "cell_type": "markdown",
   "metadata": {},
   "source": [
    "# 5. Средняя длительность фильма по медиане?\n",
    "Варианты ответов:\n",
    "1. 106\n",
    "2. 112\n",
    "3. 101\n",
    "4. 120\n",
    "5. 115\n",
    "\n",
    "\n"
   ]
  },
  {
   "cell_type": "code",
   "execution_count": 15,
   "metadata": {
    "scrolled": true
   },
   "outputs": [
    {
     "data": {
      "text/plain": [
       "106"
      ]
     },
     "execution_count": 15,
     "metadata": {},
     "output_type": "execute_result"
    }
   ],
   "source": [
    "round(data.runtime.median())"
   ]
  },
  {
   "cell_type": "code",
   "execution_count": 16,
   "metadata": {},
   "outputs": [],
   "source": [
    "answer_ls.append(1)"
   ]
  },
  {
   "cell_type": "markdown",
   "metadata": {},
   "source": [
    "# 6. Какой самый прибыльный фильм?\n",
    "Варианты ответов:\n",
    "1. The Avengers\ttt0848228\n",
    "2. Minions\ttt2293640\n",
    "3. Star Wars: The Force Awakens\ttt2488496\n",
    "4. Furious 7\ttt2820852\n",
    "5. Avatar\ttt0499549"
   ]
  },
  {
   "cell_type": "code",
   "execution_count": 212,
   "metadata": {},
   "outputs": [],
   "source": [
    "data['profit'] = data.revenue - data.budget"
   ]
  },
  {
   "cell_type": "code",
   "execution_count": 18,
   "metadata": {},
   "outputs": [
    {
     "data": {
      "text/plain": [
       "239    Avatar\n",
       "Name: original_title, dtype: object"
      ]
     },
     "execution_count": 18,
     "metadata": {},
     "output_type": "execute_result"
    }
   ],
   "source": [
    "data[data.profit == data.profit.max()].original_title"
   ]
  },
  {
   "cell_type": "code",
   "execution_count": 19,
   "metadata": {},
   "outputs": [],
   "source": [
    "answer_ls.append(5)"
   ]
  },
  {
   "cell_type": "markdown",
   "metadata": {},
   "source": [
    "# 7. Какой фильм самый убыточный?\n",
    "Варианты ответов:\n",
    "1. Supernova tt0134983\n",
    "2. The Warrior's Way tt1032751\n",
    "3. Flushed Away\ttt0424095\n",
    "4. The Adventures of Pluto Nash\ttt0180052\n",
    "5. The Lone Ranger\ttt1210819"
   ]
  },
  {
   "cell_type": "code",
   "execution_count": 20,
   "metadata": {},
   "outputs": [
    {
     "data": {
      "text/html": [
       "<div>\n",
       "<style scoped>\n",
       "    .dataframe tbody tr th:only-of-type {\n",
       "        vertical-align: middle;\n",
       "    }\n",
       "\n",
       "    .dataframe tbody tr th {\n",
       "        vertical-align: top;\n",
       "    }\n",
       "\n",
       "    .dataframe thead th {\n",
       "        text-align: right;\n",
       "    }\n",
       "</style>\n",
       "<table border=\"1\" class=\"dataframe\">\n",
       "  <thead>\n",
       "    <tr style=\"text-align: right;\">\n",
       "      <th></th>\n",
       "      <th>imdb_id</th>\n",
       "      <th>popularity</th>\n",
       "      <th>budget</th>\n",
       "      <th>revenue</th>\n",
       "      <th>original_title</th>\n",
       "      <th>cast</th>\n",
       "      <th>director</th>\n",
       "      <th>tagline</th>\n",
       "      <th>overview</th>\n",
       "      <th>runtime</th>\n",
       "      <th>genres</th>\n",
       "      <th>production_companies</th>\n",
       "      <th>release_date</th>\n",
       "      <th>vote_count</th>\n",
       "      <th>vote_average</th>\n",
       "      <th>release_year</th>\n",
       "      <th>profit</th>\n",
       "    </tr>\n",
       "  </thead>\n",
       "  <tbody>\n",
       "    <tr>\n",
       "      <th>491</th>\n",
       "      <td>tt1032751</td>\n",
       "      <td>0.25054</td>\n",
       "      <td>425000000</td>\n",
       "      <td>11087569</td>\n",
       "      <td>The Warrior's Way</td>\n",
       "      <td>Kate Bosworth|Jang Dong-gun|Geoffrey Rush|Dann...</td>\n",
       "      <td>Sngmoo Lee</td>\n",
       "      <td>Assassin. Hero. Legend.</td>\n",
       "      <td>An Asian assassin (Dong-gun Jang) is forced to...</td>\n",
       "      <td>100</td>\n",
       "      <td>Adventure|Fantasy|Action|Western|Thriller</td>\n",
       "      <td>Boram Entertainment Inc.</td>\n",
       "      <td>12/2/2010</td>\n",
       "      <td>74</td>\n",
       "      <td>6.4</td>\n",
       "      <td>2010</td>\n",
       "      <td>-413912431</td>\n",
       "    </tr>\n",
       "  </tbody>\n",
       "</table>\n",
       "</div>"
      ],
      "text/plain": [
       "       imdb_id  popularity     budget   revenue     original_title  \\\n",
       "491  tt1032751     0.25054  425000000  11087569  The Warrior's Way   \n",
       "\n",
       "                                                  cast    director  \\\n",
       "491  Kate Bosworth|Jang Dong-gun|Geoffrey Rush|Dann...  Sngmoo Lee   \n",
       "\n",
       "                     tagline  \\\n",
       "491  Assassin. Hero. Legend.   \n",
       "\n",
       "                                              overview  runtime  \\\n",
       "491  An Asian assassin (Dong-gun Jang) is forced to...      100   \n",
       "\n",
       "                                        genres      production_companies  \\\n",
       "491  Adventure|Fantasy|Action|Western|Thriller  Boram Entertainment Inc.   \n",
       "\n",
       "    release_date  vote_count  vote_average  release_year     profit  \n",
       "491    12/2/2010          74           6.4          2010 -413912431  "
      ]
     },
     "execution_count": 20,
     "metadata": {},
     "output_type": "execute_result"
    }
   ],
   "source": [
    "data[data.profit == data.profit.min()]"
   ]
  },
  {
   "cell_type": "code",
   "execution_count": 21,
   "metadata": {},
   "outputs": [],
   "source": [
    "answer_ls.append(2)"
   ]
  },
  {
   "cell_type": "markdown",
   "metadata": {},
   "source": [
    "# 8. Сколько всего фильмов в прибыли?\n",
    "Варианты ответов:\n",
    "1. 1478\n",
    "2. 1520\n",
    "3. 1241\n",
    "4. 1135\n",
    "5. 1398\n"
   ]
  },
  {
   "cell_type": "code",
   "execution_count": 22,
   "metadata": {},
   "outputs": [
    {
     "name": "stdout",
     "output_type": "stream",
     "text": [
      "Всего прибыльных фильмов: 1478\n"
     ]
    }
   ],
   "source": [
    "profitable = data[data.profit > 0].original_title.count()\n",
    "print(f'Всего прибыльных фильмов: {profitable}')"
   ]
  },
  {
   "cell_type": "code",
   "execution_count": 23,
   "metadata": {},
   "outputs": [],
   "source": [
    "answer_ls.append(1)"
   ]
  },
  {
   "cell_type": "markdown",
   "metadata": {},
   "source": [
    "# 9. Самый прибыльный фильм в 2008 году?\n",
    "Варианты ответов:\n",
    "1. Madagascar: Escape 2 Africa\ttt0479952\n",
    "2. Iron Man\ttt0371746\n",
    "3. Kung Fu Panda\ttt0441773\n",
    "4. The Dark Knight\ttt0468569\n",
    "5. Mamma Mia!\ttt0795421"
   ]
  },
  {
   "cell_type": "code",
   "execution_count": 24,
   "metadata": {},
   "outputs": [
    {
     "data": {
      "text/html": [
       "<div>\n",
       "<style scoped>\n",
       "    .dataframe tbody tr th:only-of-type {\n",
       "        vertical-align: middle;\n",
       "    }\n",
       "\n",
       "    .dataframe tbody tr th {\n",
       "        vertical-align: top;\n",
       "    }\n",
       "\n",
       "    .dataframe thead th {\n",
       "        text-align: right;\n",
       "    }\n",
       "</style>\n",
       "<table border=\"1\" class=\"dataframe\">\n",
       "  <thead>\n",
       "    <tr style=\"text-align: right;\">\n",
       "      <th></th>\n",
       "      <th>imdb_id</th>\n",
       "      <th>popularity</th>\n",
       "      <th>budget</th>\n",
       "      <th>revenue</th>\n",
       "      <th>original_title</th>\n",
       "      <th>cast</th>\n",
       "      <th>director</th>\n",
       "      <th>tagline</th>\n",
       "      <th>overview</th>\n",
       "      <th>runtime</th>\n",
       "      <th>genres</th>\n",
       "      <th>production_companies</th>\n",
       "      <th>release_date</th>\n",
       "      <th>vote_count</th>\n",
       "      <th>vote_average</th>\n",
       "      <th>release_year</th>\n",
       "      <th>profit</th>\n",
       "    </tr>\n",
       "  </thead>\n",
       "  <tbody>\n",
       "    <tr>\n",
       "      <th>600</th>\n",
       "      <td>tt0468569</td>\n",
       "      <td>8.466668</td>\n",
       "      <td>185000000</td>\n",
       "      <td>1001921825</td>\n",
       "      <td>The Dark Knight</td>\n",
       "      <td>Christian Bale|Michael Caine|Heath Ledger|Aaro...</td>\n",
       "      <td>Christopher Nolan</td>\n",
       "      <td>Why So Serious?</td>\n",
       "      <td>Batman raises the stakes in his war on crime. ...</td>\n",
       "      <td>152</td>\n",
       "      <td>Drama|Action|Crime|Thriller</td>\n",
       "      <td>DC Comics|Legendary Pictures|Warner Bros.|Syncopy</td>\n",
       "      <td>7/16/2008</td>\n",
       "      <td>8432</td>\n",
       "      <td>8.1</td>\n",
       "      <td>2008</td>\n",
       "      <td>816921825</td>\n",
       "    </tr>\n",
       "  </tbody>\n",
       "</table>\n",
       "</div>"
      ],
      "text/plain": [
       "       imdb_id  popularity     budget     revenue   original_title  \\\n",
       "600  tt0468569    8.466668  185000000  1001921825  The Dark Knight   \n",
       "\n",
       "                                                  cast           director  \\\n",
       "600  Christian Bale|Michael Caine|Heath Ledger|Aaro...  Christopher Nolan   \n",
       "\n",
       "             tagline                                           overview  \\\n",
       "600  Why So Serious?  Batman raises the stakes in his war on crime. ...   \n",
       "\n",
       "     runtime                       genres  \\\n",
       "600      152  Drama|Action|Crime|Thriller   \n",
       "\n",
       "                                  production_companies release_date  \\\n",
       "600  DC Comics|Legendary Pictures|Warner Bros.|Syncopy    7/16/2008   \n",
       "\n",
       "     vote_count  vote_average  release_year     profit  \n",
       "600        8432           8.1          2008  816921825  "
      ]
     },
     "execution_count": 24,
     "metadata": {},
     "output_type": "execute_result"
    }
   ],
   "source": [
    "data.query('release_year == 2008').query('profit == profit.max()')"
   ]
  },
  {
   "cell_type": "code",
   "execution_count": 25,
   "metadata": {},
   "outputs": [],
   "source": [
    "answer_ls.append(4)"
   ]
  },
  {
   "cell_type": "markdown",
   "metadata": {},
   "source": [
    "# 10. Самый убыточный фильм за период с 2012 по 2014 (включительно)?\n",
    "Варианты ответов:\n",
    "1. Winter's Tale\ttt1837709\n",
    "2. Stolen\ttt1656186\n",
    "3. Broken City\ttt1235522\n",
    "4. Upside Down\ttt1374992\n",
    "5. The Lone Ranger\ttt1210819\n"
   ]
  },
  {
   "cell_type": "code",
   "execution_count": 26,
   "metadata": {
    "scrolled": true
   },
   "outputs": [
    {
     "data": {
      "text/plain": [
       "1246    The Lone Ranger\n",
       "Name: original_title, dtype: object"
      ]
     },
     "execution_count": 26,
     "metadata": {},
     "output_type": "execute_result"
    }
   ],
   "source": [
    "data.query('2012 <= release_year <= 2014').query('profit == profit.min()').original_title"
   ]
  },
  {
   "cell_type": "code",
   "execution_count": 27,
   "metadata": {},
   "outputs": [],
   "source": [
    "answer_ls.append(5)"
   ]
  },
  {
   "cell_type": "markdown",
   "metadata": {},
   "source": [
    "# 11. Какого жанра фильмов больше всего?\n",
    "Варианты ответов:\n",
    "1. Action\n",
    "2. Adventure\n",
    "3. Drama\n",
    "4. Comedy\n",
    "5. Thriller"
   ]
  },
  {
   "cell_type": "code",
   "execution_count": 28,
   "metadata": {
    "scrolled": false
   },
   "outputs": [
    {
     "name": "stdout",
     "output_type": "stream",
     "text": [
      "[('Drama', 782)]\n"
     ]
    }
   ],
   "source": [
    "genre_counter = Counter()\n",
    "\n",
    "for genres in data.genres:\n",
    "    genres = genres.split('|')\n",
    "    for genre in genres:\n",
    "        genre_counter[genre] += 1\n",
    "        \n",
    "print(genre_counter.most_common(1))"
   ]
  },
  {
   "cell_type": "code",
   "execution_count": 29,
   "metadata": {
    "scrolled": true
   },
   "outputs": [
    {
     "data": {
      "text/plain": [
       "Drama              782\n",
       "Comedy             683\n",
       "Thriller           597\n",
       "Action             583\n",
       "Adventure          416\n",
       "Crime              315\n",
       "Romance            308\n",
       "Family             260\n",
       "Science Fiction    248\n",
       "Fantasy            223\n",
       "Horror             176\n",
       "Mystery            168\n",
       "Animation          139\n",
       "Music               64\n",
       "History             62\n",
       "War                 58\n",
       "Western             20\n",
       "Documentary          8\n",
       "Foreign              2\n",
       "dtype: int64"
      ]
     },
     "execution_count": 29,
     "metadata": {},
     "output_type": "execute_result"
    }
   ],
   "source": [
    "# Друой способ\n",
    "pd.DataFrame(data.\n",
    "             genres.\n",
    "             str.\n",
    "             split('|').tolist()).stack().value_counts()"
   ]
  },
  {
   "cell_type": "code",
   "execution_count": 30,
   "metadata": {},
   "outputs": [],
   "source": [
    "answer_ls.append(3)"
   ]
  },
  {
   "cell_type": "markdown",
   "metadata": {},
   "source": [
    "# 12. Какого жанра среди прибыльных фильмов больше всего?\n",
    "Варианты ответов:\n",
    "1. Drama\n",
    "2. Comedy\n",
    "3. Action\n",
    "4. Thriller\n",
    "5. Adventure"
   ]
  },
  {
   "cell_type": "code",
   "execution_count": 31,
   "metadata": {},
   "outputs": [
    {
     "data": {
      "text/plain": [
       "[('Drama', 560)]"
      ]
     },
     "execution_count": 31,
     "metadata": {},
     "output_type": "execute_result"
    }
   ],
   "source": [
    "profitable = data[data.profit > 0]\n",
    "genre_counter = Counter()\n",
    "\n",
    "for genres in profitable.genres:\n",
    "    genres = genres.split('|')\n",
    "    for genre in genres:\n",
    "        genre_counter[genre] += 1\n",
    "genre_counter.most_common(1)"
   ]
  },
  {
   "cell_type": "code",
   "execution_count": 32,
   "metadata": {},
   "outputs": [],
   "source": [
    "answer_ls.append(1)"
   ]
  },
  {
   "cell_type": "markdown",
   "metadata": {},
   "source": [
    "# 13. Кто из режиссеров снял больше всего фильмов?\n",
    "Варианты ответов:\n",
    "1. Steven Spielberg\n",
    "2. Ridley Scott \n",
    "3. Steven Soderbergh\n",
    "4. Christopher Nolan\n",
    "5. Clint Eastwood"
   ]
  },
  {
   "cell_type": "code",
   "execution_count": 33,
   "metadata": {},
   "outputs": [
    {
     "data": {
      "text/plain": [
       "Steven Soderbergh         13\n",
       "Ridley Scott              12\n",
       "Clint Eastwood            12\n",
       "Steven Spielberg          10\n",
       "Shawn Levy                10\n",
       "                          ..\n",
       "Floria Sigismondi          1\n",
       "Chris Koch                 1\n",
       "Andrew Erwin|Jon Erwin     1\n",
       "Gavin O'Connor             1\n",
       "Danny Cannon               1\n",
       "Name: director, Length: 958, dtype: int64"
      ]
     },
     "execution_count": 33,
     "metadata": {},
     "output_type": "execute_result"
    }
   ],
   "source": [
    "data.director.value_counts()"
   ]
  },
  {
   "cell_type": "code",
   "execution_count": 34,
   "metadata": {},
   "outputs": [],
   "source": [
    "answer_ls.append(3)"
   ]
  },
  {
   "cell_type": "markdown",
   "metadata": {},
   "source": [
    "# 14. Кто из режиссеров снял больше всего Прибыльных фильмов?\n",
    "Варианты ответов:\n",
    "1. Steven Soderbergh\n",
    "2. Clint Eastwood\n",
    "3. Steven Spielberg\n",
    "4. Ridley Scott\n",
    "5. Christopher Nolan"
   ]
  },
  {
   "cell_type": "code",
   "execution_count": 35,
   "metadata": {},
   "outputs": [
    {
     "data": {
      "text/plain": [
       "Ridley Scott         12\n",
       "Steven Soderbergh    10\n",
       "Steven Spielberg     10\n",
       "Clint Eastwood       10\n",
       "Shawn Levy            9\n",
       "                     ..\n",
       "Richard Curtis        1\n",
       "Steve Martino         1\n",
       "Jon Amiel             1\n",
       "Shane Black           1\n",
       "Scott Waugh           1\n",
       "Name: director, Length: 774, dtype: int64"
      ]
     },
     "execution_count": 35,
     "metadata": {},
     "output_type": "execute_result"
    }
   ],
   "source": [
    "profitable.director.value_counts()"
   ]
  },
  {
   "cell_type": "code",
   "execution_count": 36,
   "metadata": {},
   "outputs": [],
   "source": [
    "answer_ls.append(4)"
   ]
  },
  {
   "cell_type": "markdown",
   "metadata": {},
   "source": [
    "# 15. Кто из режиссеров принес больше всего прибыли?\n",
    "Варианты ответов:\n",
    "1. Steven Spielberg\n",
    "2. Christopher Nolan\n",
    "3. David Yates\n",
    "4. James Cameron\n",
    "5. Peter Jackson\n"
   ]
  },
  {
   "cell_type": "code",
   "execution_count": 37,
   "metadata": {
    "scrolled": true
   },
   "outputs": [
    {
     "data": {
      "text/plain": [
       "director\n",
       "Peter Jackson            5202593685\n",
       "David Yates              3379295625\n",
       "Christopher Nolan        3162548502\n",
       "J.J. Abrams              2839169916\n",
       "Michael Bay              2760938960\n",
       "                            ...    \n",
       "David Bowers|Sam Fell     -84540684\n",
       "Peter Hyams               -86956545\n",
       "Ron Underwood             -92896027\n",
       "James L. Brooks           -96289726\n",
       "Sngmoo Lee               -413912431\n",
       "Name: profit, Length: 958, dtype: int64"
      ]
     },
     "execution_count": 37,
     "metadata": {},
     "output_type": "execute_result"
    }
   ],
   "source": [
    "data.groupby(['director']).profit.sum().sort_values(ascending=False)"
   ]
  },
  {
   "cell_type": "code",
   "execution_count": 38,
   "metadata": {},
   "outputs": [],
   "source": [
    "answer_ls.append(5)"
   ]
  },
  {
   "cell_type": "markdown",
   "metadata": {},
   "source": [
    "# 16. Какой актер принес больше всего прибыли?\n",
    "Варианты ответов:\n",
    "1. Emma Watson\n",
    "2. Johnny Depp\n",
    "3. Michelle Rodriguez\n",
    "4. Orlando Bloom\n",
    "5. Rupert Grint"
   ]
  },
  {
   "cell_type": "code",
   "execution_count": 39,
   "metadata": {
    "scrolled": true
   },
   "outputs": [],
   "source": [
    "def spliter(df):\n",
    "    x = df.split('|')\n",
    "    return x"
   ]
  },
  {
   "cell_type": "code",
   "execution_count": 357,
   "metadata": {
    "scrolled": true
   },
   "outputs": [],
   "source": [
    "data.cast = data.cast.apply(spliter)"
   ]
  },
  {
   "cell_type": "code",
   "execution_count": 41,
   "metadata": {
    "scrolled": false
   },
   "outputs": [],
   "source": [
    "actor_profit = Counter()\n",
    "i = 0\n",
    "\n",
    "for actors in data.cast:\n",
    "    for actor in actors:\n",
    "        actor_profit[actor] += data.profit.iloc[i]\n",
    "    i += 1"
   ]
  },
  {
   "cell_type": "code",
   "execution_count": 42,
   "metadata": {},
   "outputs": [
    {
     "data": {
      "text/plain": [
       "[('Emma Watson', 6666245597)]"
      ]
     },
     "execution_count": 42,
     "metadata": {},
     "output_type": "execute_result"
    }
   ],
   "source": [
    "actor_profit.most_common(1)"
   ]
  },
  {
   "cell_type": "code",
   "execution_count": 43,
   "metadata": {},
   "outputs": [],
   "source": [
    "answer_ls.append(1)"
   ]
  },
  {
   "cell_type": "markdown",
   "metadata": {},
   "source": [
    "# 17. Какой актер принес меньше всего прибыли в 2012 году?\n",
    "Варианты ответов:\n",
    "1. Nicolas Cage\n",
    "2. Danny Huston\n",
    "3. Kirsten Dunst\n",
    "4. Jim Sturgess\n",
    "5. Sami Gayle"
   ]
  },
  {
   "cell_type": "code",
   "execution_count": 44,
   "metadata": {},
   "outputs": [],
   "source": [
    "actor_loss = Counter()\n",
    "new_data = data.query('release_year == 2012')\n",
    "j = 0\n",
    "\n",
    "for actors in new_data.cast:\n",
    "    for actor in actors:\n",
    "        actor_loss[actor] += new_data.profit.iloc[j]\n",
    "    j += 1"
   ]
  },
  {
   "cell_type": "code",
   "execution_count": 45,
   "metadata": {},
   "outputs": [
    {
     "data": {
      "text/plain": [
       "('Kirsten Dunst', -68109207)"
      ]
     },
     "execution_count": 45,
     "metadata": {},
     "output_type": "execute_result"
    }
   ],
   "source": [
    "actor_loss.most_common()[-1]"
   ]
  },
  {
   "cell_type": "code",
   "execution_count": 46,
   "metadata": {
    "scrolled": true
   },
   "outputs": [],
   "source": [
    "answer_ls.append(3)"
   ]
  },
  {
   "cell_type": "markdown",
   "metadata": {},
   "source": [
    "# 18. Какой актер снялся в большем количестве высокобюджетных фильмов? (в фильмах где бюджет выше среднего по данной выборке)\n",
    "Варианты ответов:\n",
    "1. Tom Cruise\n",
    "2. Mark Wahlberg \n",
    "3. Matt Damon\n",
    "4. Angelina Jolie\n",
    "5. Adam Sandler"
   ]
  },
  {
   "cell_type": "code",
   "execution_count": 47,
   "metadata": {},
   "outputs": [
    {
     "data": {
      "text/plain": [
       "54506961.474603176"
      ]
     },
     "execution_count": 47,
     "metadata": {},
     "output_type": "execute_result"
    }
   ],
   "source": [
    "budget_mean = data.budget.mean()\n",
    "budget_mean"
   ]
  },
  {
   "cell_type": "code",
   "execution_count": 48,
   "metadata": {},
   "outputs": [
    {
     "data": {
      "text/plain": [
       "[('Matt Damon', 18)]"
      ]
     },
     "execution_count": 48,
     "metadata": {},
     "output_type": "execute_result"
    }
   ],
   "source": [
    "actor_counter = Counter()\n",
    "high_budget = data[data.budget > budget_mean]\n",
    "\n",
    "for actors in high_budget.cast:\n",
    "    for actor in actors:\n",
    "        actor_counter[actor] += 1\n",
    "\n",
    "actor_counter.most_common(1)"
   ]
  },
  {
   "cell_type": "markdown",
   "metadata": {},
   "source": [
    "# 19. В фильмах какого жанра больше всего снимался Nicolas Cage?  \n",
    "Варианты ответа:\n",
    "1. Drama\n",
    "2. Action\n",
    "3. Thriller\n",
    "4. Adventure\n",
    "5. Crime"
   ]
  },
  {
   "cell_type": "code",
   "execution_count": 115,
   "metadata": {},
   "outputs": [],
   "source": [
    "data.genres = data.genres.apply(spliter)"
   ]
  },
  {
   "cell_type": "code",
   "execution_count": 50,
   "metadata": {
    "scrolled": true
   },
   "outputs": [],
   "source": [
    "cage_genre = Counter()\n",
    "\n",
    "i = 0\n",
    "for genres in data.genres:\n",
    "    for genre in genres:\n",
    "        if 'Nicolas Cage' in data.cast.iloc[i]:\n",
    "            cage_genre[genre] += 1\n",
    "    i += 1"
   ]
  },
  {
   "cell_type": "code",
   "execution_count": 51,
   "metadata": {},
   "outputs": [
    {
     "data": {
      "text/plain": [
       "[('Action', 17)]"
      ]
     },
     "execution_count": 51,
     "metadata": {},
     "output_type": "execute_result"
    }
   ],
   "source": [
    "cage_genre.most_common(1)"
   ]
  },
  {
   "cell_type": "code",
   "execution_count": 52,
   "metadata": {
    "scrolled": true
   },
   "outputs": [],
   "source": [
    "answer_ls.append(2)"
   ]
  },
  {
   "cell_type": "markdown",
   "metadata": {},
   "source": [
    "# 20. Какая студия сняла больше всего фильмов?\n",
    "Варианты ответа:\n",
    "1. Universal Pictures (Universal)\n",
    "2. Paramount Pictures\n",
    "3. Columbia Pictures\n",
    "4. Warner Bros\n",
    "5. Twentieth Century Fox Film Corporation"
   ]
  },
  {
   "cell_type": "code",
   "execution_count": 274,
   "metadata": {},
   "outputs": [],
   "source": [
    "data.production_companies = data.production_companies.apply(spliter)"
   ]
  },
  {
   "cell_type": "code",
   "execution_count": 54,
   "metadata": {
    "scrolled": true
   },
   "outputs": [
    {
     "data": {
      "text/plain": [
       "[('Universal Pictures', 173)]"
      ]
     },
     "execution_count": 54,
     "metadata": {},
     "output_type": "execute_result"
    }
   ],
   "source": [
    "prod_counter = Counter()\n",
    "\n",
    "for companies in data.production_companies:\n",
    "    for company in companies:\n",
    "        prod_counter[company] += 1\n",
    "        \n",
    "prod_counter.most_common(1)"
   ]
  },
  {
   "cell_type": "code",
   "execution_count": 55,
   "metadata": {},
   "outputs": [],
   "source": [
    "answer_ls.append(1)"
   ]
  },
  {
   "cell_type": "markdown",
   "metadata": {},
   "source": [
    "# 21. Какая студия сняла больше всего фильмов в 2015 году?\n",
    "Варианты ответа:\n",
    "1. Universal Pictures\n",
    "2. Paramount Pictures\n",
    "3. Columbia Pictures\n",
    "4. Warner Bros\n",
    "5. Twentieth Century Fox Film Corporation"
   ]
  },
  {
   "cell_type": "code",
   "execution_count": 56,
   "metadata": {},
   "outputs": [],
   "source": [
    "new_data = data.query('release_year == 2015')"
   ]
  },
  {
   "cell_type": "code",
   "execution_count": 282,
   "metadata": {},
   "outputs": [
    {
     "data": {
      "text/plain": [
       "[('Universal Pictures', 173),\n",
       " ('Warner Bros.', 168),\n",
       " ('Paramount Pictures', 122),\n",
       " ('Columbia Pictures', 117),\n",
       " ('Twentieth Century Fox Film Corporation', 109),\n",
       " ('Relativity Media', 99),\n",
       " ('New Line Cinema', 88),\n",
       " ('Walt Disney Pictures', 82),\n",
       " ('Village Roadshow Pictures', 63),\n",
       " ('DreamWorks SKG', 62),\n",
       " ('Touchstone Pictures', 58),\n",
       " ('Regency Enterprises', 49),\n",
       " ('Metro-Goldwyn-Mayer (MGM)', 48),\n",
       " ('Columbia Pictures Corporation', 47),\n",
       " ('Dune Entertainment', 44),\n",
       " ('Summit Entertainment', 41),\n",
       " ('Miramax Films', 39),\n",
       " ('Dimension Films', 37),\n",
       " ('Lionsgate', 35),\n",
       " ('Fox 2000 Pictures', 35),\n",
       " ('Legendary Pictures', 34),\n",
       " ('Spyglass Entertainment', 32),\n",
       " ('Screen Gems', 31),\n",
       " ('Revolution Studios', 30),\n",
       " ('Original Film', 29),\n",
       " ('New Regency Pictures', 28),\n",
       " ('The Weinstein Company', 28),\n",
       " ('Working Title Films', 27),\n",
       " ('DreamWorks Animation', 26),\n",
       " ('Imagine Entertainment', 25),\n",
       " ('Scott Free Productions', 24),\n",
       " ('Lakeshore Entertainment', 24),\n",
       " ('Scott Rudin Productions', 24),\n",
       " ('Fox Searchlight Pictures', 24),\n",
       " ('Epsilon Motion Pictures', 24),\n",
       " ('Amblin Entertainment', 23),\n",
       " ('Happy Madison Productions', 23),\n",
       " ('StudioCanal', 23),\n",
       " ('Canal+', 22),\n",
       " ('Focus Features', 21),\n",
       " ('Studio Babelsberg', 20),\n",
       " ('NPV Entertainment', 20),\n",
       " ('Apatow Productions', 19),\n",
       " ('Ingenious Film Partners', 19),\n",
       " ('Jerry Bruckheimer Films', 19),\n",
       " ('Lions Gate Films', 19),\n",
       " ('Davis Entertainment', 18),\n",
       " ('EuropaCorp', 17),\n",
       " ('TriStar Pictures', 17),\n",
       " ('Silver Pictures', 17),\n",
       " ('Millennium Films', 17),\n",
       " ('20th Century Fox', 17),\n",
       " ('UK Film Council', 17),\n",
       " ('Dune Entertainment III', 17),\n",
       " ('Vertigo Entertainment', 16),\n",
       " ('Walden Media', 16),\n",
       " ('BBC Films', 16),\n",
       " ('TSG Entertainment', 15),\n",
       " ('Participant Media', 15),\n",
       " ('Alcon Entertainment', 15),\n",
       " ('Castle Rock Entertainment', 15),\n",
       " ('Media Rights Capital', 14),\n",
       " ('Nickelodeon Movies', 14),\n",
       " ('Di Bonaventura Pictures', 14),\n",
       " ('Pixar Animation Studios', 13),\n",
       " ('Film4', 13),\n",
       " ('Escape Artists', 13),\n",
       " ('1492 Pictures', 13),\n",
       " ('Marvel Enterprises', 13),\n",
       " ('Saturn Films', 13),\n",
       " ('Warner Bros. Pictures', 13),\n",
       " ('Franchise Pictures', 13),\n",
       " ('Dentsu', 12),\n",
       " ('Marvel Studios', 12),\n",
       " ('MTV Films', 12),\n",
       " ('Platinum Dunes', 12),\n",
       " ('Malpaso Productions', 12),\n",
       " ('Heyday Films', 12),\n",
       " ('Imagenation Abu Dhabi FZ', 12),\n",
       " ('Dark Castle Entertainment', 12),\n",
       " ('Intermedia Films', 12),\n",
       " ('Morgan Creek Productions', 12),\n",
       " ('Anonymous Content', 11),\n",
       " ('Endgame Entertainment', 11),\n",
       " ('Moving Picture Company (MPC)', 11),\n",
       " ('Blumhouse Productions', 11),\n",
       " ('Ingenious Media', 11),\n",
       " ('TF1 Films Production', 11),\n",
       " ('Nu Image Films', 11),\n",
       " ('Tim Burton Productions', 11),\n",
       " ('Scion Films', 11),\n",
       " ('Studio Canal', 11),\n",
       " ('GK Films', 11),\n",
       " ('DNA Films', 10),\n",
       " ('Double Feature Films', 10),\n",
       " ('Plan B Entertainment', 10),\n",
       " ('Open Road Films', 10),\n",
       " ('Marc Platt Productions', 10),\n",
       " ('Twentieth Century Fox Animation', 10),\n",
       " ('CBS Films', 10),\n",
       " ('Sunswept Entertainment', 10),\n",
       " ('WingNut Films', 10),\n",
       " ('Walt Disney Animation Studios', 10),\n",
       " ('Davis-Films', 10),\n",
       " ('Overbrook Entertainment', 10),\n",
       " ('Constantin Film Produktion', 10),\n",
       " ('Paramount Vantage', 10),\n",
       " ('Mosaic Media Group', 10),\n",
       " ('Robert Simonds Productions', 10),\n",
       " ('Cruise/Wagner Productions', 10),\n",
       " ('Bad Robot', 9),\n",
       " ('Appian Way', 9),\n",
       " ('Skydance Productions', 9),\n",
       " ('Blue Sky Studios', 9),\n",
       " ('Sony Pictures Animation', 9),\n",
       " ('Ghost House Pictures', 9),\n",
       " ('21 Laps Entertainment', 9),\n",
       " (\"Donners' Company\", 9),\n",
       " ('DC Comics', 9),\n",
       " ('Exclusive Media Group', 9),\n",
       " ('Impact Pictures', 9),\n",
       " ('Emmett/Furla Films', 9),\n",
       " ('Radar Pictures', 9),\n",
       " ('Mandate Pictures', 9),\n",
       " ('Rogue Pictures', 9),\n",
       " ('De Line Pictures', 9),\n",
       " ('Phoenix Pictures', 9),\n",
       " ('United Artists', 9),\n",
       " ('Color Force', 8),\n",
       " ('Temple Hill Entertainment', 8),\n",
       " ('Sony Pictures Entertainment (SPE)', 8),\n",
       " ('RatPac-Dune Entertainment', 8),\n",
       " ('Sidney Kimmel Entertainment', 8),\n",
       " ('Thunder Road Pictures', 8),\n",
       " ('BenderSpink', 8),\n",
       " ('Blinding Edge Pictures', 8),\n",
       " ('Syncopy', 8),\n",
       " ('Reliance Entertainment', 8),\n",
       " ('Section Eight', 8),\n",
       " ('Kennedy/Marshall Company, The', 8),\n",
       " ('Cheyenne Enterprises', 8),\n",
       " ('Stillking Films', 8),\n",
       " ('Atmosphere Entertainment MM', 7),\n",
       " ('Cross Creek Pictures', 7),\n",
       " ('Chernin Entertainment', 7),\n",
       " ('Roth Films', 7),\n",
       " ('ImageMovers', 7),\n",
       " ('Gary Sanchez Productions', 7),\n",
       " ('IM Global', 7),\n",
       " ('Troublemaker Studios', 7),\n",
       " ('FilmDistrict', 7),\n",
       " ('Annapurna Pictures', 7),\n",
       " ('Weed Road Pictures', 7),\n",
       " ('Mandalay Pictures', 7),\n",
       " ('Goldcrest Pictures', 7),\n",
       " ('Stuber Productions', 7),\n",
       " ('Walt Disney Feature Animation', 7),\n",
       " ('Canal Plus', 7),\n",
       " ('Virtual Studios', 7),\n",
       " ('Contrafilm', 7),\n",
       " ('DreamWorks Pictures', 7),\n",
       " ('Universal Studios', 6),\n",
       " ('Mandeville Films', 6),\n",
       " ('Red Wagon Entertainment', 6),\n",
       " ('Michael De Luca Productions', 6),\n",
       " ('Gold Circle Films', 6),\n",
       " ('Forward Pass', 6),\n",
       " ('Marvel Entertainment', 6),\n",
       " ('Spring Creek Productions', 6),\n",
       " ('LStar Capital', 6),\n",
       " ('PathÃ©', 6),\n",
       " ('QED International', 6),\n",
       " ('Province of British Columbia Production Services Tax Credit', 6),\n",
       " ('Jersey Films', 6),\n",
       " ('Offspring Entertainment', 6),\n",
       " ('Conundrum Entertainment', 6),\n",
       " ('Nick Wechsler Productions', 6),\n",
       " ('Lawrence Gordon Productions', 6),\n",
       " ('Centropolis Entertainment', 6),\n",
       " ('2929 Productions', 6),\n",
       " ('Twisted Pictures', 6),\n",
       " ('Atlas Entertainment', 6),\n",
       " ('The Zanuck Company', 6),\n",
       " ('Firm Films', 6),\n",
       " ('River Road Entertainment', 6),\n",
       " ('France 2 CinÃ©ma', 6),\n",
       " ('Pacific Data Images (PDI)', 6),\n",
       " ('Alphaville Films', 6),\n",
       " ('Zide-Perry Productions', 6),\n",
       " ('Current Entertainment', 6),\n",
       " ('Tribeca Productions', 6),\n",
       " (\"Mel's Cite du Cinema\", 6),\n",
       " ('Valhalla Motion Pictures', 6),\n",
       " ('Rising Star', 6),\n",
       " ('Big Screen Productions', 6),\n",
       " ('Beacon Pictures', 6),\n",
       " ('Major Studio Partners', 6),\n",
       " ('Mid Atlantic Films', 5),\n",
       " ('Illumination Entertainment', 5),\n",
       " ('Anarchos Productions', 5),\n",
       " ('Marv Films', 5),\n",
       " ('Bazelevs Production', 5),\n",
       " ('3 Arts Entertainment', 5),\n",
       " ('Mad Chance', 5),\n",
       " ('Sony Pictures', 5),\n",
       " ('Good Universe', 5),\n",
       " ('Wonderland Sound and Vision', 5),\n",
       " ('Infinitum Nihil', 5),\n",
       " ('Gran Via Productions', 5),\n",
       " ('Vinyl Films', 5),\n",
       " ('Smokehouse Pictures', 5),\n",
       " ('Bad Hat Harry Productions', 5),\n",
       " ('Hasbro', 5),\n",
       " ('Indian Paintbrush', 5),\n",
       " ('Lin Pictures', 5),\n",
       " ('Warner Bros. Animation', 5),\n",
       " ('1984 Private Defense Contractors', 5),\n",
       " ('FilmNation Entertainment', 5),\n",
       " ('Karz Entertainment', 5),\n",
       " ('Rainforest Films', 5),\n",
       " ('Strike Entertainment', 5),\n",
       " ('Broken Road Productions', 5),\n",
       " ('Green Hat Films', 5),\n",
       " ('Maverick Films', 5),\n",
       " ('Flower Films (II)', 5),\n",
       " ('Walt Disney', 5),\n",
       " ('Stage 6 Films', 5),\n",
       " ('Wintergreen Productions', 5),\n",
       " ('Wild West Picture Show Productions', 5),\n",
       " ('Fox Atomic', 5),\n",
       " ('The Montecito Picture Company', 5),\n",
       " ('Mike Zoss Productions', 5),\n",
       " ('WWE Studios', 5),\n",
       " ('Tapestry Films', 5),\n",
       " ('Edward R. Pressman Film', 5),\n",
       " ('One Race Productions', 5),\n",
       " ('Hyde Park Films', 5),\n",
       " ('Isle of Man Film', 5),\n",
       " ('DC Entertainment', 5),\n",
       " ('Mutual Film Company', 5),\n",
       " ('Paramount Animation', 5),\n",
       " ('Industry Entertainment', 5),\n",
       " ('American Zoetrope', 5),\n",
       " ('Lawrence Bender Productions', 5),\n",
       " ('Bel Air Entertainment', 5),\n",
       " ('Dino De Laurentiis Company', 5),\n",
       " ('Grive Productions', 5),\n",
       " ('Dark Horse Entertainment', 5),\n",
       " ('Intrepid Pictures', 5),\n",
       " ('Virgin Produced', 5),\n",
       " ('Initial Entertainment Group (IEG)', 5),\n",
       " ('Laura Ziskin Productions', 5),\n",
       " ('Laurence Mark Productions', 5),\n",
       " ('Silver Reel', 5),\n",
       " ('Lucasfilm', 4),\n",
       " ('Revolution Sun Studios', 4),\n",
       " ('M6 Films', 4),\n",
       " ('CinÃ©+', 4),\n",
       " ('Waverly Films', 4),\n",
       " ('Moonlighting Films', 4),\n",
       " ('Groundswell Productions', 4),\n",
       " ('Sony Pictures Entertainment', 4),\n",
       " ('Red Granite Pictures', 4),\n",
       " ('Alliance Films', 4),\n",
       " ('Closest to the Hole Productions', 4),\n",
       " ('Bold Films', 4),\n",
       " ('Shangri-La Entertainment', 4),\n",
       " ('Dune Films', 4),\n",
       " ('Wildwood Enterprises', 4),\n",
       " ('Treehouse Pictures', 4),\n",
       " ('Mace Neufeld Productions', 4),\n",
       " ('Nimar Studios', 4),\n",
       " ('Protozoa Pictures', 4),\n",
       " ('Don Carmody Productions', 4),\n",
       " ('Laika Entertainment', 4),\n",
       " ('Grindstone Entertainment Group', 4),\n",
       " ('Bluegrass Films', 4),\n",
       " ('Canadian Film or Video Production Tax Credit (CPTC)', 4),\n",
       " ('The Mark Gordon Company', 4),\n",
       " ('Focus Films', 4),\n",
       " ('Montecito Picture Company, The', 4),\n",
       " ('Gunn Films', 4),\n",
       " ('Misher Films', 4),\n",
       " ('Icon Productions', 4),\n",
       " ('Canal+ EspaÃ±a', 4),\n",
       " ('Josephson Entertainment', 4),\n",
       " ('PathÃ© Renn Productions', 4),\n",
       " ('LivePlanet', 4),\n",
       " ('Everyman Pictures', 4),\n",
       " ('Bona Fide Productions', 4),\n",
       " ('Jerry Weintraub Productions', 4),\n",
       " ('Cruel and Unusual Films', 4),\n",
       " ('Reliance BIG Entertainment', 4),\n",
       " ('Rat Entertainment', 4),\n",
       " ('Toho-Towa', 4),\n",
       " ('Wayans Bros. Entertainment', 4),\n",
       " ('Brad Grey Pictures', 4),\n",
       " ('Miramax', 4),\n",
       " ('Metropolitan Filmexport', 4),\n",
       " ('Newmarket Capital Group', 4),\n",
       " ('Tollin/Robbins Productions', 4),\n",
       " ('Playtone', 4),\n",
       " ('China Film Co-Production Corporation', 4),\n",
       " ('Grosvenor Park Media Ltd.', 4),\n",
       " ('Red Hour Films', 4),\n",
       " ('Kanzaman', 4),\n",
       " ('CinÃ©CinÃ©ma', 4),\n",
       " ('The Kennedy/Marshall Company', 4),\n",
       " ('Casey Silver Productions', 4),\n",
       " ('Neal Street Productions', 4),\n",
       " ('Ecosse Films', 4),\n",
       " ('GreeneStreet Films', 4),\n",
       " ('Paradox Entertainment', 4),\n",
       " ('Amen Ra Films', 4),\n",
       " ('Icon Entertainment International', 4),\n",
       " ('Konrad Pictures', 4),\n",
       " ('Quinta Communications', 4),\n",
       " ('Avery Pix', 4),\n",
       " ('Shady Acres Entertainment', 4),\n",
       " ('Parkes/MacDonald Productions', 4),\n",
       " ('Aardman Animations', 4),\n",
       " ('Brightlight Pictures', 4),\n",
       " ('Warner Independent Pictures (WIP)', 4),\n",
       " ('Section Eight Productions', 4),\n",
       " ('Craven-Maddalena Films', 4),\n",
       " ('Global Entertainment Productions GmbH & Company Medien KG', 4),\n",
       " ('Fuji Television Network', 3),\n",
       " ('NeoReel', 3),\n",
       " ('Walt Disney Studios Motion Pictures', 3),\n",
       " ('Genre Films', 3),\n",
       " ('TC Productions', 3),\n",
       " ('Gotham Group', 3),\n",
       " ('A24', 3),\n",
       " ('Buena Vista', 3),\n",
       " ('Irish Film Board', 3),\n",
       " ('Cube Vision', 3),\n",
       " ('Goldmann Pictures', 3),\n",
       " ('Wigram Productions', 3),\n",
       " ('DMG Entertainment', 3),\n",
       " ('Ram Bergman Productions', 3),\n",
       " ('Point Grey Pictures', 3),\n",
       " ('Worldview Entertainment', 3),\n",
       " ('Automatik Entertainment', 3),\n",
       " ('Sony Pictures Releasing', 3),\n",
       " ('Insurge Pictures', 3),\n",
       " ('Disruption Entertainment', 3),\n",
       " ('Instituto de la CinematografÃ\\xada y de las Artes Audiovisuales (ICAA)', 3),\n",
       " ('Clinica Estetico', 3),\n",
       " ('RatPac Entertainment', 3),\n",
       " ('Crave Films', 3),\n",
       " ('Aldamisa Entertainment', 3),\n",
       " ('Big Kid Pictures', 3),\n",
       " ('Ghoulardi Film Company', 3),\n",
       " ('Screen Australia', 3),\n",
       " ('Harpo Films', 3),\n",
       " ('Celador Films', 3),\n",
       " ('Cloud Eight Films', 3),\n",
       " ('DisneyToon Studios', 3),\n",
       " ('The Safran Company', 3),\n",
       " ('HanWay Films', 3),\n",
       " ('Olive Bridge Entertainment', 3),\n",
       " ('Affirm Films', 3),\n",
       " ('A Band Apart', 3),\n",
       " ('Internationale Filmproduktion Blackbird Dritte', 3),\n",
       " ('Starz Animation', 3),\n",
       " ('Imprint Entertainment', 3),\n",
       " ('Radical Media', 3),\n",
       " ('Buckaroo Entertainment', 3),\n",
       " ('Chockstone Pictures', 3),\n",
       " ('Fortis Films', 3),\n",
       " ('Telecinco Cinema', 3),\n",
       " ('Spectacle Entertainment Group', 3),\n",
       " ('This Is That Productions', 3),\n",
       " ('DreamWorks', 3),\n",
       " ('Cold Spring Pictures', 3),\n",
       " ('Team Todd', 3),\n",
       " ('Zanuck Company, The', 3),\n",
       " ('Peninsula Films', 3),\n",
       " ('Junction Entertainment', 3),\n",
       " ('Bedford Falls Productions', 3),\n",
       " ('Tree Line Films', 3),\n",
       " ('Linson Entertainment', 3),\n",
       " ('Katalyst Films', 3),\n",
       " ('Three Strange Angels', 3),\n",
       " ('PathÃ© Pictures International', 3),\n",
       " ('Prescience', 3),\n",
       " ('Mayhem Pictures', 3),\n",
       " ('Gracie Films', 3),\n",
       " ('Bazmark Films', 3),\n",
       " ('Gold/Miller Productions', 3),\n",
       " ('View Askew Productions', 3),\n",
       " ('Beacon Communications', 3),\n",
       " ('Cinerenta Medienbeteiligungs KG', 3),\n",
       " ('IMF Internationale Medien und Film GmbH & Co. 3. Produktions KG', 3),\n",
       " ('Hyde Park Entertainment', 3),\n",
       " ('Eon Productions', 3),\n",
       " ('Gerber Pictures', 3),\n",
       " ('Hypnotic', 3),\n",
       " ('Voltage Pictures', 3),\n",
       " ('K/O Paper Products', 3),\n",
       " ('Wild Bunch', 3),\n",
       " ('Depth of Field', 3),\n",
       " ('Bedford Falls Company, The', 3),\n",
       " ('Ascendant Pictures', 3),\n",
       " ('VIP Medienfonds 4', 3),\n",
       " ('International Production Company', 3),\n",
       " ('Odd Lot Entertainment', 3),\n",
       " ('Art Linson Productions', 3),\n",
       " ('Film Rites', 3),\n",
       " ('Fox Searchlight', 3),\n",
       " ('Mark Canton Productions', 3),\n",
       " ('FilmEngine', 3),\n",
       " ('Room 101', 3),\n",
       " ('Solana Films', 3),\n",
       " ('Prospero Pictures', 3),\n",
       " ('DiNovi Pictures', 3),\n",
       " ('Kalima Productions GmbH & Co. KG', 3),\n",
       " ('Splendid Pictures', 3),\n",
       " ('Parkes+MacDonald Image Nation', 3),\n",
       " ('Artisan Entertainment', 3),\n",
       " ('Mikona Productions GmbH & Co. KG', 3),\n",
       " ('David Foster Productions', 3),\n",
       " ('Colombia Pictures', 3),\n",
       " ('Propaganda Films', 3),\n",
       " ('Evolution Entertainment', 3),\n",
       " ('World 2000 Entertainment', 3),\n",
       " ('Marty Katz Productions', 3),\n",
       " ('Signature Pictures', 3),\n",
       " ('Good Machine', 3),\n",
       " ('Baltimore Spring Creek Productions', 3),\n",
       " ('Hemisphere Media Capital', 3),\n",
       " ('Yucaipa Films', 3),\n",
       " ('Cheetah Vision', 3),\n",
       " ('Jinks/Cohen Company', 3),\n",
       " ('Next Entertainment', 3),\n",
       " ('Mirage Enterprises', 3),\n",
       " ('Lonely Film Productions GmbH & Co. KG.', 3),\n",
       " ('Tig Productions', 3),\n",
       " ('Dylan Sellers Productions', 3),\n",
       " ('Universal', 3),\n",
       " ('Weinstein Company, The', 3),\n",
       " ('Yari Film Group', 3),\n",
       " ('WV Films III', 3),\n",
       " ('Baldwin Entertainment Group', 3),\n",
       " ('Bob Yari Productions', 3),\n",
       " ('Radiant Productions', 3),\n",
       " ('Zephyr Films', 3),\n",
       " ('Kennedy Miller Productions', 2),\n",
       " ('One Race Films', 2),\n",
       " ('International Traders', 2),\n",
       " ('Prime Focus', 2),\n",
       " ('FilmColony', 2),\n",
       " ('Babieka', 2),\n",
       " ('Flynn Picture Company', 2),\n",
       " ('Trigger Street Productions', 2),\n",
       " ('Fuzzy Door Productions', 2),\n",
       " ('Alpha Core', 2),\n",
       " ('Brownstone Productions', 2),\n",
       " ('Element Pictures', 2),\n",
       " ('No Trace Camping', 2),\n",
       " ('Energy Entertainment', 2),\n",
       " ('Wildgaze Films', 2),\n",
       " ('Killer Films', 2),\n",
       " ('Free State Pictures', 2),\n",
       " ('Huayi Brothers Media', 2),\n",
       " ('Feigco Entertainment', 2),\n",
       " ('Fox International Productions', 2),\n",
       " ('Chartoff-Winkler Productions', 2),\n",
       " ('Entertainment One', 2),\n",
       " ('Anton Capital Entertainment (ACE)', 2),\n",
       " ('David Dobkin Productions', 2),\n",
       " ('Blue-Tongue Films', 2),\n",
       " ('Onyx Films', 2),\n",
       " ('Sony Pictures Home Entertainment', 2),\n",
       " ('Living Films', 2),\n",
       " ('Origin Pictures', 2),\n",
       " ('Iron Horse Entertainment (II)', 2),\n",
       " ('Route One Films', 2),\n",
       " ('Pacific Standard', 2),\n",
       " ('Columbia TriStar', 2),\n",
       " ('Ruby Films', 2),\n",
       " ('Lynda Obst Productions', 2),\n",
       " ('87Eleven', 2),\n",
       " ('Mad Hatter Entertainment', 2),\n",
       " ('LionsGate', 2),\n",
       " ('Outlaw Sinema', 2),\n",
       " ('WideAwake', 2),\n",
       " ('Hollywood Gang Productions', 2),\n",
       " ('Echo Films', 2),\n",
       " ('Why Not Productions', 2),\n",
       " ('Before the Door Pictures', 2),\n",
       " ('Washington Square Films', 2),\n",
       " ('Radical Studios', 2),\n",
       " ('AR Films', 2),\n",
       " ('Demarest Films', 2),\n",
       " ('Crescendo Productions', 2),\n",
       " ('Bandito Brothers', 2),\n",
       " ('Electric City Entertainment', 2),\n",
       " ('Prana Studios', 2),\n",
       " ('Prana Animation Studios', 2),\n",
       " ('Albert S. Ruddy Productions', 2),\n",
       " ('Likely Story', 2),\n",
       " ('Fake Empire', 2),\n",
       " ('Scope Pictures', 2),\n",
       " ('Evergreen Media Group', 2),\n",
       " ('Hopscotch Features', 2),\n",
       " ('Screen Gems, Inc.', 2),\n",
       " ('Scottish Screen', 2),\n",
       " ('Boxing Cat Films', 2),\n",
       " ('Pure Flix Entertainment', 2),\n",
       " ('Winkler Films', 2),\n",
       " ('Lightstorm Entertainment', 2),\n",
       " ('Sketch Films', 2),\n",
       " ('Key Creatives', 2),\n",
       " ('Arc Productions', 2),\n",
       " ('Skylark Productions', 2),\n",
       " ('Kurtzman/Orci', 2),\n",
       " ('American Empirical Pictures', 2),\n",
       " ('Inferno Distribution', 2),\n",
       " ('Kaplan/Perrone Entertainment', 2),\n",
       " ('Virtual Films', 2),\n",
       " ('Palomar Pictures (II)', 2),\n",
       " ('Practical Pictures', 2),\n",
       " ('Parallel Zide', 2),\n",
       " ('Bagdasarian Productions', 2),\n",
       " ('Andell Entertainment', 2),\n",
       " ('Pictures in Paradise', 2),\n",
       " ('Pacific Film and Television Commission', 2),\n",
       " ('Australian Film Finance Corporation (AFFC)', 2),\n",
       " ('Rogue', 2),\n",
       " ('Stars Road Entertainment', 2),\n",
       " ('Imagi Animation Studios', 2),\n",
       " ('X-Filme Creative Pool', 2),\n",
       " ('Paul Schiff Productions', 2),\n",
       " ('26 Films', 2),\n",
       " ('Seed Productions', 2),\n",
       " ('CinemaNX', 2),\n",
       " ('Sikelia Productions', 2),\n",
       " ('Lions Gate', 2),\n",
       " ('Overnight Films', 2),\n",
       " ('Aegis Film Fund', 2),\n",
       " ('Madhouse Entertainment', 2),\n",
       " ('Road Rebel', 2),\n",
       " ('Home Box Office (HBO)', 2),\n",
       " ('HBO Films', 2),\n",
       " ('Hammer Film Productions', 2),\n",
       " ('Overture Films', 2),\n",
       " ('Animal Logic', 2),\n",
       " ('Intellectual Properties Worldwide', 2),\n",
       " ('Penn Station Entertainment', 2),\n",
       " ('Maguire Entertainment', 2),\n",
       " ('Omnilab Media', 2),\n",
       " ('Ambience Entertainment', 2),\n",
       " ('Serendipity Point Films', 2),\n",
       " ('platinum studios', 2),\n",
       " ('The Saul Zaentz Company', 2),\n",
       " ('Little Bird', 2),\n",
       " ('British Broadcasting Corporation (BBC)', 2),\n",
       " ('WV Films II', 2),\n",
       " ('Lucky Red', 2),\n",
       " ('Red Wagon Productions', 2),\n",
       " ('Chris Lee Productions', 2),\n",
       " ('David Brown Productions', 2),\n",
       " ('USA Films', 2),\n",
       " ('Sean S. Cunningham Films', 2),\n",
       " ('Crystal Lake Entertainment', 2),\n",
       " ('Kopelson Entertainment', 2),\n",
       " ('David Kirschner Productions', 2),\n",
       " ('Darkwoods Productions', 2),\n",
       " ('Ardustry Entertainment', 2),\n",
       " ('ApolloMedia Distribution', 2),\n",
       " ('TPS Star', 2),\n",
       " ('Sommers Company, The', 2),\n",
       " ('KMP Film Invest', 2),\n",
       " ('Rogue Marble', 2),\n",
       " ('Hammerhead Productions', 2),\n",
       " ('MHF Zweite Academy Film', 2),\n",
       " ('Marvel Knights', 2),\n",
       " ('Castel Film Romania', 2),\n",
       " ('Blueprint Pictures', 2),\n",
       " ('Twins Financing', 2),\n",
       " ('Type A Films', 2),\n",
       " ('Castelao Producciones', 2),\n",
       " ('Grosvenor Park Productions', 2),\n",
       " ('Blue Star Pictures', 2),\n",
       " ('Media Magik Entertainment', 2),\n",
       " ('2 Entertain', 2),\n",
       " ('Guy Walks into a Bar Productions', 2),\n",
       " ('Deep River Productions', 2),\n",
       " ('Odyssey Entertainment', 2),\n",
       " ('Management 360', 2),\n",
       " ('Emperor Motion Pictures', 2),\n",
       " ('Nu Image Entertainment GmbH', 2),\n",
       " ('Vendome Pictures', 2),\n",
       " ('France 3 CinÃ©ma', 2),\n",
       " ('Studio 37', 2),\n",
       " ('Jouror Productions', 2),\n",
       " ('Nouvelles Ã‰ditions de Films (NEF)', 2),\n",
       " ('New Legacy', 2),\n",
       " ('Playtone Productions', 2),\n",
       " ('Big Talk Productions', 2),\n",
       " ('The Jacobson Company', 2),\n",
       " ('Participant Productions', 2),\n",
       " ('LD Entertainment', 2),\n",
       " ('Kerner Entertainment Company', 2),\n",
       " ('Indochina Productions', 2),\n",
       " ('Fierce Entertainment', 2),\n",
       " ('Runteldat Entertainment', 2),\n",
       " ('China Film Group Corporation (CFGC)', 2),\n",
       " ('DJ Films', 2),\n",
       " ('Bac Films', 2),\n",
       " ('Blue Tulip Productions', 2),\n",
       " ('Imaginary Forces', 2),\n",
       " ('Out of the Blue... Entertainment', 2),\n",
       " ('Lion Rock Productions', 2),\n",
       " ('Material', 2),\n",
       " ('Walt Disney Television Animation', 2),\n",
       " ('Walt Disney Animation Australia', 2),\n",
       " ('Storyline Entertainment', 2),\n",
       " ('Monarch Pictures', 2),\n",
       " ('David Ladd Films', 2),\n",
       " ('Allied Filmmakers', 2),\n",
       " ('Sony Pictures Classics', 2),\n",
       " ('Leverage Management', 2),\n",
       " ('Film i VÃ¤st', 2),\n",
       " ('Tim Burton Animation Company', 2),\n",
       " ('British Film Institute (BFI)', 2),\n",
       " ('Wessler Entertainment', 2),\n",
       " ('Pariah Entertainment Group', 2),\n",
       " ('Vanguard Films', 2),\n",
       " ('TÃ©lÃ©film Canada', 2),\n",
       " ('Super Cool ManChu', 2),\n",
       " ('C-2 Pictures', 2),\n",
       " ('Angry Films', 2),\n",
       " ('Mediastream Dritte Film GmbH & Co. Beteiligungs KG', 2),\n",
       " ('Samuel Goldwyn Films', 2),\n",
       " ('Birnbaum / Barber Productions', 2),\n",
       " ('Cobalt Media Group', 2),\n",
       " ('Artists Production Group (APG)', 2),\n",
       " ('Tall Trees Productions', 2),\n",
       " ('Boll Kino Beteiligungs GmbH & Co. KG', 2),\n",
       " ('Herold Productions', 2),\n",
       " ('Madacy Entertainment', 2),\n",
       " ('Envision Entertainment Corporation', 2),\n",
       " ('Revolution Films', 2),\n",
       " ('H2F Entertainment', 2),\n",
       " ('Muse Productions', 2),\n",
       " ('Two Ton Films', 2),\n",
       " ('After Dark Films', 2),\n",
       " ('40 Acres & A Mule Filmworks', 2),\n",
       " ('Pathe', 2),\n",
       " ('Kumar Mobiliengesellschaft mbH & Co. Projekt Nr. 1 KG', 2),\n",
       " ('MFPV Film', 2),\n",
       " ('Alberta Film Entertainment', 2),\n",
       " ('VIP 3 Medienfonds', 2),\n",
       " ('MacDonald/Parkes Productions', 2),\n",
       " ('John Wells Productions', 2),\n",
       " ('Babelsberg Film', 2),\n",
       " ('Mars Media Beteiligungs', 2),\n",
       " ('The Ladd Company', 2),\n",
       " ('FilmWorks', 2),\n",
       " ('Biscayne Pictures', 2),\n",
       " ('Kumar Mobiliengesellschaft mbH & Co. Projekt Nr. 2 KG', 2),\n",
       " ('Senator International', 2),\n",
       " ('Second Mate Productions', 2),\n",
       " ('Capitol Films', 2),\n",
       " ('Hard Eight Pictures', 2),\n",
       " ('Playtone Production', 2),\n",
       " ('Michael London Productions', 2),\n",
       " (\"Bull's Eye Entertainment\", 2),\n",
       " ('Nu Image Entertainment', 2),\n",
       " ('Kernos Filmproduktionsgesellschaft & Company', 2),\n",
       " ('Eyetronics', 2),\n",
       " ('Storefront Pictures', 2),\n",
       " ('BIM Distribuzione', 2),\n",
       " ('Jon Shestack Productions', 2),\n",
       " ('Hollywood Pictures', 2),\n",
       " ('Ludlum Entertainment', 2),\n",
       " ('Mediastream Vierte Film GmbH & Co. Vermarktungs KG', 2),\n",
       " ('Blackfriars Bridge Films', 2),\n",
       " ('Clifford Werber Productions', 2),\n",
       " ('Egmond Film & Television', 2),\n",
       " ('Hal Lieberman Company', 2),\n",
       " ('Figment Films', 2),\n",
       " ('Tiger Aspect Productions', 2),\n",
       " ('The Canton Company', 2),\n",
       " ('Truenorth Productions', 1),\n",
       " ('CatchPlay', 1),\n",
       " ('Danjaq', 1),\n",
       " ('B24', 1),\n",
       " ('Universal Pictures International (UPI)', 1),\n",
       " ('Beagle Pug Films', 1),\n",
       " ('Allison Shearmur Productions', 1),\n",
       " ('A113', 1),\n",
       " ('Riche-Ludwig Productions', 1),\n",
       " ('China Movie Channel', 1),\n",
       " ('Cloudy Productions', 1),\n",
       " ('Rocklin / Faust', 1),\n",
       " ('Entertainment One Features', 1),\n",
       " ('Scholastic Entertainment', 1),\n",
       " ('Duperele Films', 1),\n",
       " ('Item 7', 1),\n",
       " ('Parallel Film Productions', 1),\n",
       " ('Broken Chair Flickz', 1),\n",
       " ('Sierra/Affinity', 1),\n",
       " ('Versus Pictures', 1),\n",
       " ('Number 9 Films', 1),\n",
       " ('Ehman Productions', 1),\n",
       " ('PeaPie Films', 1),\n",
       " ('OddLot Entertainment', 1),\n",
       " ('Pretty Pictures', 1),\n",
       " ('ArtÃ©mis Productions', 1),\n",
       " ('Le Tax Shelter du Gouvernement FÃ©dÃ©ral de Belgique', 1),\n",
       " ('Taxshelter. be', 1),\n",
       " ('Black Label Media', 1),\n",
       " ('Constantin Film.', 1),\n",
       " ('Kramer & Sigman Films', 1),\n",
       " ('Zaftig Films', 1),\n",
       " ('Infinite Frameworks Studios', 1),\n",
       " ('K. JAM Media', 1),\n",
       " ('Raindog Films', 1),\n",
       " ('Berlanti Productions', 1),\n",
       " ('The Cantillon Company', 1),\n",
       " ('The Shuman Company', 1),\n",
       " ('STX Entertainment', 1),\n",
       " ('Ahimsa Films', 1),\n",
       " ('Orange Studios', 1),\n",
       " ('CityMation', 1),\n",
       " ('On Entertainment', 1),\n",
       " ('Zippcast Films', 1),\n",
       " ('Amazon Studios', 1),\n",
       " ('Film Art Media', 1),\n",
       " ('Apollo Media', 1),\n",
       " ('Vast Entertainment', 1),\n",
       " ('Head Gear Films', 1),\n",
       " ('Brothers Dowdle Productions', 1),\n",
       " ('Little Stranger', 1),\n",
       " ('Inimitable Pictures', 1),\n",
       " ('ShivHans Pictures', 1),\n",
       " ('Nickelodeon Animation Studios', 1),\n",
       " ('United Plankton Pictures', 1),\n",
       " ('TriStar Productions', 1),\n",
       " ('Metanoia Films', 1),\n",
       " ('Venture Forth', 1),\n",
       " ('Hasbro Studios', 1),\n",
       " ('Allspark Pictures', 1),\n",
       " ('Bulletproof Cupid', 1),\n",
       " ('DefyNite Films', 1),\n",
       " ('MJW Films', 1),\n",
       " ('3Foot7', 1),\n",
       " ('Black Bear Pictures', 1),\n",
       " ('Bristol Automotive', 1),\n",
       " ('Dayday Films', 1),\n",
       " ('Le Grisbi Productions', 1),\n",
       " ('M Productions', 1),\n",
       " ('Sierra / Affinity', 1),\n",
       " ('Avi Arad Productions', 1),\n",
       " ('Matt Tolmach Productions', 1),\n",
       " ('Viz Media', 1),\n",
       " ('Mad Chance Productions', 1),\n",
       " ('Volcano Films', 1),\n",
       " ('Toho Company', 1),\n",
       " ('Irish Dreamtime', 1),\n",
       " ('SPD Films', 1),\n",
       " ('Ex3 Productions', 1),\n",
       " ('Pendle Mountain Productions', 1),\n",
       " ('Lucamar Productions', 1),\n",
       " ('Tonik Productions', 1),\n",
       " ('Asis Productions', 1),\n",
       " ('Cannell Studios', 1),\n",
       " (\"We're Not Brothers Productions\", 1),\n",
       " ('Cinelou Films', 1),\n",
       " ('Kilburn Media', 1),\n",
       " ('Fetisov Teterin Films', 1),\n",
       " ('5150 Action', 1),\n",
       " ('Stoney Lake Entertainment', 1),\n",
       " ('Team Downey', 1),\n",
       " ('Gulfstream Pictures', 1),\n",
       " ('Etalon film', 1),\n",
       " ('Screen Queensland', 1),\n",
       " ('Blacklab Entertainment', 1),\n",
       " ('Wolfhound Pictures', 1),\n",
       " ('Straight Up Films', 1),\n",
       " ('LBI Productions', 1),\n",
       " ('Obelisk Productions', 1),\n",
       " ('Jolie Pas', 1),\n",
       " ('Constantin Film International', 1),\n",
       " ('Goldenlight Films', 1),\n",
       " ('Electronic Arts', 1),\n",
       " ('Silverwood Films', 1),\n",
       " ('Oasis Films', 1),\n",
       " ('Aperture Entertainment', 1),\n",
       " ('Porchlight Films', 1),\n",
       " ('Screen NSW', 1),\n",
       " ('Qwerty Films', 1),\n",
       " ('TF1 Droits Audiovisuels', 1),\n",
       " ('Hopscotch Films', 1),\n",
       " ('D8', 1),\n",
       " ('Snoot Entertainment', 1),\n",
       " ('Seven West Media', 1),\n",
       " ('Fear of God Films', 1),\n",
       " ('Seven Group Holdings', 1),\n",
       " ('Jim Henson Company, The', 1),\n",
       " ('Creative Scotland', 1),\n",
       " ('Warner Bros. Interactive Entertainment', 1),\n",
       " ('Rob Thomas Productions', 1),\n",
       " ('Hearst Entertainment Productions', 1),\n",
       " ('LightWorkers Media', 1),\n",
       " ('Sahara Productions', 1),\n",
       " ('Silvatar Media', 1),\n",
       " ('The Combine', 1),\n",
       " ('Disney', 1),\n",
       " ('Provident Films', 1),\n",
       " ('FourBoys Entertainment', 1),\n",
       " ('Panay Films', 1),\n",
       " ('Max Films Productions', 1),\n",
       " ('Morag Loves Company', 1),\n",
       " ('Zehnte Babelsberg', 1),\n",
       " ('Visiona Romantica', 1),\n",
       " ('UW3 Film Productions', 1),\n",
       " ('MavroCine Pictures GmbH & Co. KG', 1),\n",
       " ('The Halcyon Company', 1),\n",
       " ('Block / Hanson', 1),\n",
       " ('Watermark', 1),\n",
       " ('IFP Westcoast Erste', 1),\n",
       " ('Farewell Productions', 1),\n",
       " ('Panorama Films', 1),\n",
       " ('Left Tackle Pictures', 1),\n",
       " ('Zucker/Netter Productions', 1),\n",
       " ('Internationale Filmproduktion Blackswan', 1),\n",
       " ('Kontsept Film Company', 1),\n",
       " ('Museum Canada Productions', 1),\n",
       " ('Grand Army Entertainment', 1),\n",
       " ('Hachiko', 1),\n",
       " ('Film Department, The', 1),\n",
       " ('Evil Twins', 1),\n",
       " ('Warp Films', 1),\n",
       " ('Darko Entertainment', 1),\n",
       " ('Curse Productions', 1),\n",
       " ('Mystery Clock Cinema', 1),\n",
       " ('Liberty Films UK', 1),\n",
       " ('Lunar Industries', 1),\n",
       " ('Xingu Films', 1),\n",
       " ('Limelight Fund', 1),\n",
       " ('Whamaphram Productions', 1),\n",
       " ('Pan EuropÃ©enne Production', 1),\n",
       " ('Sighvatsson Films', 1),\n",
       " ('Easy There Tiger Productions', 1),\n",
       " ('Outpost Studios', 1),\n",
       " ('Studio Babelsberg StudioBabelsberg Motion Pictures', 1),\n",
       " ('Smokewood Entertainment Group', 1),\n",
       " ('Phantom Four', 1),\n",
       " ('Bernard Gayle Productions', 1),\n",
       " ('Jaffe / Braunstein Enterprise', 1),\n",
       " ('Case 39 Productions', 1),\n",
       " ('Medienproduktion Prometheus Filmgesellschaft', 1),\n",
       " ('Portobello Studios', 1),\n",
       " ('Furst Films', 1),\n",
       " ('Camp / Thompson Pictures', 1),\n",
       " ('Infinity Features Entertainment', 1),\n",
       " ('Langley Productions', 1),\n",
       " ('Thunder Road Productions', 1),\n",
       " ('Fuqua Films', 1),\n",
       " ('Tooley Productions', 1),\n",
       " ('20th Century Fox Home Entertainment', 1),\n",
       " ('Midnight Sun Pictures', 1),\n",
       " ('Vidhu Vinod Chopra Productions', 1),\n",
       " ('Smoke House', 1),\n",
       " ('Goldsmith-Thomas Productions', 1),\n",
       " ('Sid & Marty Krofft Pictures', 1),\n",
       " ('Revelations Entertainment', 1),\n",
       " ('Ilion Animation Studios', 1),\n",
       " ('Hand Made Films', 1),\n",
       " ('Ocean Pictures', 1),\n",
       " ('HimenÃ³ptero', 1),\n",
       " ('Mod Producciones', 1),\n",
       " ('Chris Brinker Productions', 1),\n",
       " ('Polsky Films', 1),\n",
       " ('Farah Films & Management', 1),\n",
       " ('Tezuka Production Company Ltd.', 1),\n",
       " ('Dentsu Inc.', 1),\n",
       " ('Trancas International Films', 1),\n",
       " (\"It's a Laugh Productions\", 1),\n",
       " ('Millar Gough Ink', 1),\n",
       " ('New Upstairs Productions', 1),\n",
       " ('Upstairs Canada Productions', 1),\n",
       " ('Saga Film', 1),\n",
       " ('Chambara Pictures', 1),\n",
       " ('Smartest Man Productions', 1),\n",
       " ('Laura Bickford Productions', 1),\n",
       " ('Medienproduktion Poseidon Filmgesellschaft', 1),\n",
       " ('Mark Johnson Productions', 1),\n",
       " ('Curmudgeon Films', 1),\n",
       " ('Top Shelf Productions', 1),\n",
       " ('Czech Anglo Productions', 1),\n",
       " ('Wandering Star Pictures', 1),\n",
       " ('Edmonds Entertainment Group (EEG)', 1),\n",
       " ('Epidemic Pictures', 1),\n",
       " ('Freestyle Releasing', 1),\n",
       " ('Echo Lake Productions', 1),\n",
       " ('Premiere Picture', 1),\n",
       " (\"Butcher's Run Films\", 1),\n",
       " ('Informant Media', 1),\n",
       " ('Banter', 1),\n",
       " ('Ozla Pictures', 1),\n",
       " ('Great Scott Productions Pty. Ltd.', 1),\n",
       " ('Sean Bailey Productions', 1),\n",
       " ('Darlow Smithson Productions', 1),\n",
       " ('Italian Tax Credit', 1),\n",
       " ('Dreamworks Pictures', 1),\n",
       " ('Prospect Park', 1),\n",
       " ('Millbrook Farm Productions', 1),\n",
       " ('Industrial Light & Magic (ILM)', 1),\n",
       " ('Bedlam Productions', 1),\n",
       " ('See-Saw Films', 1),\n",
       " ('Polish Film Institute', 1),\n",
       " ('Exclusive Films', 1),\n",
       " ('Monolith Films', 1),\n",
       " ('On the Road', 1),\n",
       " ('Pink Machine', 1),\n",
       " ('Red Om Films', 1),\n",
       " ('Octagon Films', 1),\n",
       " ('Birnbaum/Barber', 1),\n",
       " ('Rice Films', 1),\n",
       " ('Necropia', 1),\n",
       " ('Tequila Gang', 1),\n",
       " ('Serendipity Productions', 1),\n",
       " ('China Film Group', 1),\n",
       " ('Matador Pictures', 1),\n",
       " ('Magic Light Pictures', 1),\n",
       " ('Cinema Four', 1),\n",
       " ('Runteam Ltd.', 1),\n",
       " ('R.P. Productions', 1),\n",
       " ('FidÃ©litÃ© Films', 1),\n",
       " ('Hwy61', 1),\n",
       " ('Aversano Films', 1),\n",
       " ('Oops Doughnuts Productions', 1),\n",
       " ('Frontier Pictures', 1),\n",
       " ('New Crime Productions', 1),\n",
       " ('EFTI', 1),\n",
       " ('Battle Mountain Films', 1),\n",
       " ('Village Roadshow Pictures Asia', 1),\n",
       " ('Stone Productions', 1),\n",
       " ('Mimran Schur Pictures', 1),\n",
       " ('Chako Film Company', 1),\n",
       " ('Oceana Media Finance', 1),\n",
       " ('Pantheon Entertainment Corporation', 1),\n",
       " ('Innocence Productions', 1),\n",
       " ('Omega Entertainment', 1),\n",
       " ('Twentieth Century Fox', 1),\n",
       " ('Hydraulx', 1),\n",
       " ('Transmission Pictures', 1),\n",
       " ('Pioneer Pictures', 1),\n",
       " ('Spy Next Door', 1),\n",
       " ('Mosaic', 1),\n",
       " ('Henceforth', 1),\n",
       " ('Projection Pictures', 1),\n",
       " ('London Boulevard', 1),\n",
       " ('American Film Company', 1),\n",
       " ('Parabolic Pictures', 1),\n",
       " ('Birdsong Pictures', 1),\n",
       " ('Lions Gate Family Entertainment', 1),\n",
       " ('Crest Animation Productions', 1),\n",
       " ('Rhythm and Hues', 1),\n",
       " ('Picnic Basket', 1),\n",
       " ('Night Chronicles', 1),\n",
       " ('Furry Vengeance Productions', 1),\n",
       " ('Long Distance Films', 1),\n",
       " ('HighRoad Entertainment', 1),\n",
       " ('Prelude Pictures', 1),\n",
       " ('Lone Runner Entertainment', 1),\n",
       " ('Kenio Films', 1),\n",
       " ('Perfect Game, The', 1),\n",
       " ('Boram Entertainment Inc.', 1),\n",
       " ('Ealing Studios', 1),\n",
       " ('Fragile Films', 1),\n",
       " ('Quickfire Films', 1),\n",
       " ('The Tyler Perry Company', 1),\n",
       " ('PVR Cinemas', 1),\n",
       " ('Hari Om Entertainment Co.', 1),\n",
       " ('Blockbuster Movie Entertainers', 1),\n",
       " ('Fast Track Productions', 1),\n",
       " ('Asymmetrical Productions', 1),\n",
       " ('Les Films Alain Sarde', 1),\n",
       " ('Babbo Inc.', 1),\n",
       " ('The Picture Factory', 1),\n",
       " ('Stanley Kubrick Productions', 1),\n",
       " ('Imhotep Productions', 1),\n",
       " ('Liveplanet', 1),\n",
       " ('BrownHouse Productions', 1),\n",
       " ('Bottom of the Ninth Productions', 1),\n",
       " ('Swanford Films', 1),\n",
       " ('KC Medien', 1),\n",
       " ('Black and Blu Entertainment', 1),\n",
       " ('Finestkind', 1),\n",
       " ('Red Hour Productions', 1),\n",
       " ('Neal H. Moritz Productions', 1),\n",
       " ('Outlaw Productions (I)', 1),\n",
       " ('Sogecine', 1),\n",
       " ('Las Producciones del Escorpion', 1),\n",
       " ...]"
      ]
     },
     "execution_count": 282,
     "metadata": {},
     "output_type": "execute_result"
    }
   ],
   "source": [
    "prod_counter = Counter()\n",
    "\n",
    "for companies in new_data.production_companies:\n",
    "    for company in companies:\n",
    "        prod_counter[company] += 1\n",
    "        \n",
    "prod_counter.most_common()"
   ]
  },
  {
   "cell_type": "markdown",
   "metadata": {},
   "source": [
    "# 22. Какая студия заработала больше всего денег в жанре комедий за все время?\n",
    "Варианты ответа:\n",
    "1. Warner Bros\n",
    "2. Universal Pictures (Universal)\n",
    "3. Columbia Pictures\n",
    "4. Paramount Pictures\n",
    "5. Walt Disney"
   ]
  },
  {
   "cell_type": "code",
   "execution_count": 58,
   "metadata": {},
   "outputs": [
    {
     "data": {
      "text/plain": [
       "[('Universal Pictures', 8961545581)]"
      ]
     },
     "execution_count": 58,
     "metadata": {},
     "output_type": "execute_result"
    }
   ],
   "source": [
    "comedy_profit = Counter()\n",
    "i = 0\n",
    "\n",
    "\n",
    "for companies in data.production_companies:\n",
    "    if 'Comedy' in data.genres.iloc[i]:\n",
    "        for company in companies:\n",
    "            comedy_profit[company] += data.profit.iloc[i]\n",
    "    i += 1\n",
    "\n",
    "comedy_profit.most_common(1)"
   ]
  },
  {
   "cell_type": "markdown",
   "metadata": {},
   "source": [
    "# 23. Какая студия заработала больше всего денег в 2012 году?\n",
    "Варианты ответа:\n",
    "1. Universal Pictures (Universal)\n",
    "2. Warner Bros\n",
    "3. Columbia Pictures\n",
    "4. Paramount Pictures\n",
    "5. Lucasfilm"
   ]
  },
  {
   "cell_type": "code",
   "execution_count": 59,
   "metadata": {},
   "outputs": [],
   "source": [
    "new_data = data.query('release_year == 2012')"
   ]
  },
  {
   "cell_type": "code",
   "execution_count": 60,
   "metadata": {},
   "outputs": [
    {
     "data": {
      "text/plain": [
       "[('Columbia Pictures', 2501406608)]"
      ]
     },
     "execution_count": 60,
     "metadata": {},
     "output_type": "execute_result"
    }
   ],
   "source": [
    "company_profit = Counter()\n",
    "i = 0\n",
    "\n",
    "for companies in new_data.production_companies:\n",
    "    for company in companies:\n",
    "        company_profit[company] += new_data.profit.iloc[i]\n",
    "    i += 1\n",
    "    \n",
    "company_profit.most_common(1)"
   ]
  },
  {
   "cell_type": "markdown",
   "metadata": {},
   "source": [
    "# 24. Самый убыточный фильм от Paramount Pictures\n",
    "Варианты ответа:\n",
    "\n",
    "1. K-19: The Widowmaker tt0267626\n",
    "2. Next tt0435705\n",
    "3. Twisted tt0315297\n",
    "4. The Love Guru tt0811138\n",
    "5. The Fighter tt0964517"
   ]
  },
  {
   "cell_type": "code",
   "execution_count": 61,
   "metadata": {},
   "outputs": [
    {
     "data": {
      "text/plain": [
       "('K-19: The Widowmaker', -64831034)"
      ]
     },
     "execution_count": 61,
     "metadata": {},
     "output_type": "execute_result"
    }
   ],
   "source": [
    "pp_loss = Counter()\n",
    "i = 0\n",
    "\n",
    "for film in data.original_title:\n",
    "    if 'Paramount Pictures' in data.production_companies.iloc[i]:\n",
    "        pp_loss[film] += data.profit.iloc[i]\n",
    "    i += 1\n",
    "\n",
    "pp_loss.most_common()[-1]"
   ]
  },
  {
   "cell_type": "code",
   "execution_count": 62,
   "metadata": {},
   "outputs": [],
   "source": [
    "answer_ls.append(1)"
   ]
  },
  {
   "cell_type": "markdown",
   "metadata": {},
   "source": [
    "# 25. Какой Самый прибыльный год (заработали больше всего)?\n",
    "Варианты ответа:\n",
    "1. 2014\n",
    "2. 2008\n",
    "3. 2012\n",
    "4. 2002\n",
    "5. 2015"
   ]
  },
  {
   "cell_type": "code",
   "execution_count": 63,
   "metadata": {},
   "outputs": [
    {
     "data": {
      "text/plain": [
       "release_year\n",
       "2015    18668572378\n",
       "Name: profit, dtype: int64"
      ]
     },
     "execution_count": 63,
     "metadata": {},
     "output_type": "execute_result"
    }
   ],
   "source": [
    "data.groupby('release_year').profit.sum().sort_values(ascending=False).head(1)"
   ]
  },
  {
   "cell_type": "code",
   "execution_count": 64,
   "metadata": {},
   "outputs": [],
   "source": [
    "answer_ls.append(5)"
   ]
  },
  {
   "cell_type": "markdown",
   "metadata": {},
   "source": [
    "# 26. Какой Самый прибыльный год для студии Warner Bros?\n",
    "Варианты ответа:\n",
    "1. 2014\n",
    "2. 2008\n",
    "3. 2012\n",
    "4. 2010\n",
    "5. 2015"
   ]
  },
  {
   "cell_type": "code",
   "execution_count": 126,
   "metadata": {},
   "outputs": [],
   "source": [
    "wb_films = data[data.production_companies.apply(lambda x: 'Warner Bros.' in x)]"
   ]
  },
  {
   "cell_type": "code",
   "execution_count": 127,
   "metadata": {
    "scrolled": false
   },
   "outputs": [
    {
     "data": {
      "text/plain": [
       "release_year\n",
       "2014    2295464519\n",
       "Name: profit, dtype: int64"
      ]
     },
     "execution_count": 127,
     "metadata": {},
     "output_type": "execute_result"
    }
   ],
   "source": [
    "wb_films.groupby(['release_year']).profit.sum().sort_values(ascending=False).head(1)"
   ]
  },
  {
   "cell_type": "code",
   "execution_count": 119,
   "metadata": {},
   "outputs": [],
   "source": [
    "answer_ls.append(1)"
   ]
  },
  {
   "cell_type": "markdown",
   "metadata": {},
   "source": [
    "# 27. В каком месяце за все годы суммарно вышло больше всего фильмов?\n",
    "Варианты ответа:\n",
    "1. Январь\n",
    "2. Июнь\n",
    "3. Декабрь\n",
    "4. Сентябрь\n",
    "5. Май"
   ]
  },
  {
   "cell_type": "code",
   "execution_count": 215,
   "metadata": {},
   "outputs": [],
   "source": [
    "data.release_date = pd.to_datetime(data.release_date)"
   ]
  },
  {
   "cell_type": "code",
   "execution_count": 145,
   "metadata": {},
   "outputs": [
    {
     "data": {
      "text/plain": [
       "[(9, 227)]"
      ]
     },
     "execution_count": 145,
     "metadata": {},
     "output_type": "execute_result"
    }
   ],
   "source": [
    "month_counter = Counter()\n",
    "\n",
    "for month in data.release_date.dt.month:\n",
    "    month_counter[month] += 1\n",
    "\n",
    "month_counter.most_common(1)"
   ]
  },
  {
   "cell_type": "code",
   "execution_count": 146,
   "metadata": {},
   "outputs": [],
   "source": [
    "answer_ls.append(4)"
   ]
  },
  {
   "cell_type": "markdown",
   "metadata": {},
   "source": [
    "# 28. Сколько суммарно вышло фильмов летом? (за июнь, июль, август)\n",
    "Варианты ответа:\n",
    "1. 345\n",
    "2. 450\n",
    "3. 478\n",
    "4. 523\n",
    "5. 381"
   ]
  },
  {
   "cell_type": "code",
   "execution_count": 147,
   "metadata": {},
   "outputs": [
    {
     "data": {
      "text/plain": [
       "Counter({'summer': 450})"
      ]
     },
     "execution_count": 147,
     "metadata": {},
     "output_type": "execute_result"
    }
   ],
   "source": [
    "summer_counter = Counter()\n",
    "\n",
    "for month in data.release_date.dt.month:\n",
    "    if 6 <= month <= 8:\n",
    "        summer_counter['summer'] += 1\n",
    "        \n",
    "summer_counter"
   ]
  },
  {
   "cell_type": "markdown",
   "metadata": {},
   "source": [
    "# 29. Какой режисер выпускает (суммарно по годам) больше всего фильмов зимой?\n",
    "Варианты ответов:\n",
    "1. Steven Soderbergh\n",
    "2. Christopher Nolan\n",
    "3. Clint Eastwood\n",
    "4. Ridley Scott\n",
    "5. Peter Jackson"
   ]
  },
  {
   "cell_type": "code",
   "execution_count": 151,
   "metadata": {},
   "outputs": [],
   "source": [
    "winter_directors = data[data.release_date.dt.month.isin([12, 1, 2])]"
   ]
  },
  {
   "cell_type": "code",
   "execution_count": 154,
   "metadata": {},
   "outputs": [
    {
     "data": {
      "text/plain": [
       "Peter Jackson            7\n",
       "Clint Eastwood           6\n",
       "Steven Soderbergh        6\n",
       "Martin Scorsese          4\n",
       "Shawn Levy               4\n",
       "                        ..\n",
       "Sergey Bodrov            1\n",
       "Asger Leth               1\n",
       "Daniel Espinosa          1\n",
       "Kevin Rodney Sullivan    1\n",
       "Danny Boyle              1\n",
       "Name: director, Length: 333, dtype: int64"
      ]
     },
     "execution_count": 154,
     "metadata": {},
     "output_type": "execute_result"
    }
   ],
   "source": [
    "winter_directors.director.value_counts()"
   ]
  },
  {
   "cell_type": "code",
   "execution_count": 155,
   "metadata": {},
   "outputs": [],
   "source": [
    "answer_ls.append(5)"
   ]
  },
  {
   "cell_type": "markdown",
   "metadata": {},
   "source": [
    "# 30. Какой месяц чаще всего по годам самый прибыльный?\n",
    "Варианты ответа:\n",
    "1. Январь\n",
    "2. Июнь\n",
    "3. Декабрь\n",
    "4. Сентябрь\n",
    "5. Май"
   ]
  },
  {
   "cell_type": "code",
   "execution_count": 218,
   "metadata": {},
   "outputs": [],
   "source": [
    "data['release_month'] = data.release_date.dt.month"
   ]
  },
  {
   "cell_type": "code",
   "execution_count": 259,
   "metadata": {
    "scrolled": true
   },
   "outputs": [
    {
     "data": {
      "text/html": [
       "<div>\n",
       "<style scoped>\n",
       "    .dataframe tbody tr th:only-of-type {\n",
       "        vertical-align: middle;\n",
       "    }\n",
       "\n",
       "    .dataframe tbody tr th {\n",
       "        vertical-align: top;\n",
       "    }\n",
       "\n",
       "    .dataframe thead th {\n",
       "        text-align: right;\n",
       "    }\n",
       "</style>\n",
       "<table border=\"1\" class=\"dataframe\">\n",
       "  <thead>\n",
       "    <tr style=\"text-align: right;\">\n",
       "      <th>release_year</th>\n",
       "      <th>2000</th>\n",
       "      <th>2001</th>\n",
       "      <th>2002</th>\n",
       "      <th>2003</th>\n",
       "      <th>2004</th>\n",
       "      <th>2005</th>\n",
       "      <th>2006</th>\n",
       "      <th>2007</th>\n",
       "      <th>2008</th>\n",
       "      <th>2009</th>\n",
       "      <th>2010</th>\n",
       "      <th>2011</th>\n",
       "      <th>2012</th>\n",
       "      <th>2013</th>\n",
       "      <th>2014</th>\n",
       "      <th>2015</th>\n",
       "    </tr>\n",
       "    <tr>\n",
       "      <th>release_month</th>\n",
       "      <th></th>\n",
       "      <th></th>\n",
       "      <th></th>\n",
       "      <th></th>\n",
       "      <th></th>\n",
       "      <th></th>\n",
       "      <th></th>\n",
       "      <th></th>\n",
       "      <th></th>\n",
       "      <th></th>\n",
       "      <th></th>\n",
       "      <th></th>\n",
       "      <th></th>\n",
       "      <th></th>\n",
       "      <th></th>\n",
       "      <th></th>\n",
       "    </tr>\n",
       "  </thead>\n",
       "  <tbody>\n",
       "    <tr>\n",
       "      <th>1</th>\n",
       "      <td>-26344591</td>\n",
       "      <td>127876758</td>\n",
       "      <td>13657034</td>\n",
       "      <td>145423503</td>\n",
       "      <td>223449403</td>\n",
       "      <td>419099490</td>\n",
       "      <td>138996816</td>\n",
       "      <td>91188025</td>\n",
       "      <td>440344541</td>\n",
       "      <td>996529660</td>\n",
       "      <td>233051923</td>\n",
       "      <td>591644835</td>\n",
       "      <td>381045653</td>\n",
       "      <td>449051535</td>\n",
       "      <td>541637085</td>\n",
       "      <td>630233784</td>\n",
       "    </tr>\n",
       "    <tr>\n",
       "      <th>2</th>\n",
       "      <td>310137593</td>\n",
       "      <td>178360689</td>\n",
       "      <td>557847442</td>\n",
       "      <td>422979087</td>\n",
       "      <td>727540831</td>\n",
       "      <td>506931359</td>\n",
       "      <td>317624889</td>\n",
       "      <td>500661304</td>\n",
       "      <td>987454669</td>\n",
       "      <td>326413800</td>\n",
       "      <td>671341193</td>\n",
       "      <td>642751509</td>\n",
       "      <td>573073426</td>\n",
       "      <td>509981099</td>\n",
       "      <td>736685970</td>\n",
       "      <td>884789565</td>\n",
       "    </tr>\n",
       "    <tr>\n",
       "      <th>3</th>\n",
       "      <td>490709929</td>\n",
       "      <td>396218262</td>\n",
       "      <td>832386092</td>\n",
       "      <td>160261385</td>\n",
       "      <td>307233119</td>\n",
       "      <td>440128754</td>\n",
       "      <td>799504296</td>\n",
       "      <td>714586308</td>\n",
       "      <td>251671904</td>\n",
       "      <td>1276096794</td>\n",
       "      <td>1471122239</td>\n",
       "      <td>1443419914</td>\n",
       "      <td>1459834347</td>\n",
       "      <td>970223425</td>\n",
       "      <td>1768873778</td>\n",
       "      <td>937945994</td>\n",
       "    </tr>\n",
       "    <tr>\n",
       "      <th>4</th>\n",
       "      <td>124362846</td>\n",
       "      <td>659725033</td>\n",
       "      <td>343737203</td>\n",
       "      <td>479653942</td>\n",
       "      <td>275005057</td>\n",
       "      <td>178673498</td>\n",
       "      <td>361121653</td>\n",
       "      <td>143245753</td>\n",
       "      <td>720571689</td>\n",
       "      <td>651749767</td>\n",
       "      <td>841530415</td>\n",
       "      <td>1507477958</td>\n",
       "      <td>1767272417</td>\n",
       "      <td>1423545114</td>\n",
       "      <td>795767674</td>\n",
       "      <td>2602565518</td>\n",
       "    </tr>\n",
       "    <tr>\n",
       "      <th>5</th>\n",
       "      <td>1382722190</td>\n",
       "      <td>767934975</td>\n",
       "      <td>1421928692</td>\n",
       "      <td>2000292657</td>\n",
       "      <td>2412578839</td>\n",
       "      <td>1575566228</td>\n",
       "      <td>985092012</td>\n",
       "      <td>2042169546</td>\n",
       "      <td>1744305931</td>\n",
       "      <td>1435747314</td>\n",
       "      <td>1105092975</td>\n",
       "      <td>1917491757</td>\n",
       "      <td>1140614925</td>\n",
       "      <td>1724496337</td>\n",
       "      <td>2279978281</td>\n",
       "      <td>1103503482</td>\n",
       "    </tr>\n",
       "    <tr>\n",
       "      <th>6</th>\n",
       "      <td>517315528</td>\n",
       "      <td>780612105</td>\n",
       "      <td>747704475</td>\n",
       "      <td>406445507</td>\n",
       "      <td>1294266591</td>\n",
       "      <td>1193230558</td>\n",
       "      <td>2098059770</td>\n",
       "      <td>2764341802</td>\n",
       "      <td>1943384763</td>\n",
       "      <td>1520284741</td>\n",
       "      <td>2449561498</td>\n",
       "      <td>1524706926</td>\n",
       "      <td>2965481705</td>\n",
       "      <td>2411922008</td>\n",
       "      <td>1176264662</td>\n",
       "      <td>3757679861</td>\n",
       "    </tr>\n",
       "    <tr>\n",
       "      <th>7</th>\n",
       "      <td>563809888</td>\n",
       "      <td>873718941</td>\n",
       "      <td>629306797</td>\n",
       "      <td>1356384641</td>\n",
       "      <td>834850950</td>\n",
       "      <td>870215460</td>\n",
       "      <td>242337901</td>\n",
       "      <td>747619985</td>\n",
       "      <td>1791301749</td>\n",
       "      <td>1202339588</td>\n",
       "      <td>1567485183</td>\n",
       "      <td>2331661017</td>\n",
       "      <td>940512033</td>\n",
       "      <td>1192996016</td>\n",
       "      <td>1611081683</td>\n",
       "      <td>1552273188</td>\n",
       "    </tr>\n",
       "    <tr>\n",
       "      <th>8</th>\n",
       "      <td>264018332</td>\n",
       "      <td>726979609</td>\n",
       "      <td>579318434</td>\n",
       "      <td>444992536</td>\n",
       "      <td>332763539</td>\n",
       "      <td>266644459</td>\n",
       "      <td>429249082</td>\n",
       "      <td>881421482</td>\n",
       "      <td>325382603</td>\n",
       "      <td>803565587</td>\n",
       "      <td>971023396</td>\n",
       "      <td>667283164</td>\n",
       "      <td>702588445</td>\n",
       "      <td>590070005</td>\n",
       "      <td>1163610627</td>\n",
       "      <td>491699146</td>\n",
       "    </tr>\n",
       "    <tr>\n",
       "      <th>9</th>\n",
       "      <td>175306761</td>\n",
       "      <td>21874909</td>\n",
       "      <td>417267245</td>\n",
       "      <td>503313816</td>\n",
       "      <td>475369751</td>\n",
       "      <td>995622427</td>\n",
       "      <td>451456811</td>\n",
       "      <td>435838557</td>\n",
       "      <td>339476350</td>\n",
       "      <td>393041320</td>\n",
       "      <td>1091274243</td>\n",
       "      <td>733166385</td>\n",
       "      <td>1308166465</td>\n",
       "      <td>1165693297</td>\n",
       "      <td>596366679</td>\n",
       "      <td>1775686025</td>\n",
       "    </tr>\n",
       "    <tr>\n",
       "      <th>10</th>\n",
       "      <td>399938512</td>\n",
       "      <td>146204533</td>\n",
       "      <td>420527680</td>\n",
       "      <td>837090991</td>\n",
       "      <td>593314410</td>\n",
       "      <td>154493344</td>\n",
       "      <td>826087838</td>\n",
       "      <td>516228592</td>\n",
       "      <td>1145762453</td>\n",
       "      <td>836577088</td>\n",
       "      <td>1080204976</td>\n",
       "      <td>968743489</td>\n",
       "      <td>1320250459</td>\n",
       "      <td>1042812263</td>\n",
       "      <td>1764509467</td>\n",
       "      <td>942161764</td>\n",
       "    </tr>\n",
       "    <tr>\n",
       "      <th>11</th>\n",
       "      <td>487934818</td>\n",
       "      <td>1567240927</td>\n",
       "      <td>1190606216</td>\n",
       "      <td>609390731</td>\n",
       "      <td>1050846495</td>\n",
       "      <td>1027204825</td>\n",
       "      <td>1106305898</td>\n",
       "      <td>896805244</td>\n",
       "      <td>847289768</td>\n",
       "      <td>558158975</td>\n",
       "      <td>736020890</td>\n",
       "      <td>859313689</td>\n",
       "      <td>2412991475</td>\n",
       "      <td>2047380217</td>\n",
       "      <td>2043956761</td>\n",
       "      <td>1212708544</td>\n",
       "    </tr>\n",
       "    <tr>\n",
       "      <th>12</th>\n",
       "      <td>1411487999</td>\n",
       "      <td>1703868124</td>\n",
       "      <td>1848074177</td>\n",
       "      <td>1862594516</td>\n",
       "      <td>1106961735</td>\n",
       "      <td>1354115156</td>\n",
       "      <td>935240354</td>\n",
       "      <td>1831805203</td>\n",
       "      <td>1126935570</td>\n",
       "      <td>3423239738</td>\n",
       "      <td>899583599</td>\n",
       "      <td>1542580698</td>\n",
       "      <td>1105170337</td>\n",
       "      <td>1715008475</td>\n",
       "      <td>1919080286</td>\n",
       "      <td>2777325507</td>\n",
       "    </tr>\n",
       "  </tbody>\n",
       "</table>\n",
       "</div>"
      ],
      "text/plain": [
       "release_year         2000        2001        2002        2003        2004  \\\n",
       "release_month                                                               \n",
       "1               -26344591   127876758    13657034   145423503   223449403   \n",
       "2               310137593   178360689   557847442   422979087   727540831   \n",
       "3               490709929   396218262   832386092   160261385   307233119   \n",
       "4               124362846   659725033   343737203   479653942   275005057   \n",
       "5              1382722190   767934975  1421928692  2000292657  2412578839   \n",
       "6               517315528   780612105   747704475   406445507  1294266591   \n",
       "7               563809888   873718941   629306797  1356384641   834850950   \n",
       "8               264018332   726979609   579318434   444992536   332763539   \n",
       "9               175306761    21874909   417267245   503313816   475369751   \n",
       "10              399938512   146204533   420527680   837090991   593314410   \n",
       "11              487934818  1567240927  1190606216   609390731  1050846495   \n",
       "12             1411487999  1703868124  1848074177  1862594516  1106961735   \n",
       "\n",
       "release_year         2005        2006        2007        2008        2009  \\\n",
       "release_month                                                               \n",
       "1               419099490   138996816    91188025   440344541   996529660   \n",
       "2               506931359   317624889   500661304   987454669   326413800   \n",
       "3               440128754   799504296   714586308   251671904  1276096794   \n",
       "4               178673498   361121653   143245753   720571689   651749767   \n",
       "5              1575566228   985092012  2042169546  1744305931  1435747314   \n",
       "6              1193230558  2098059770  2764341802  1943384763  1520284741   \n",
       "7               870215460   242337901   747619985  1791301749  1202339588   \n",
       "8               266644459   429249082   881421482   325382603   803565587   \n",
       "9               995622427   451456811   435838557   339476350   393041320   \n",
       "10              154493344   826087838   516228592  1145762453   836577088   \n",
       "11             1027204825  1106305898   896805244   847289768   558158975   \n",
       "12             1354115156   935240354  1831805203  1126935570  3423239738   \n",
       "\n",
       "release_year         2010        2011        2012        2013        2014  \\\n",
       "release_month                                                               \n",
       "1               233051923   591644835   381045653   449051535   541637085   \n",
       "2               671341193   642751509   573073426   509981099   736685970   \n",
       "3              1471122239  1443419914  1459834347   970223425  1768873778   \n",
       "4               841530415  1507477958  1767272417  1423545114   795767674   \n",
       "5              1105092975  1917491757  1140614925  1724496337  2279978281   \n",
       "6              2449561498  1524706926  2965481705  2411922008  1176264662   \n",
       "7              1567485183  2331661017   940512033  1192996016  1611081683   \n",
       "8               971023396   667283164   702588445   590070005  1163610627   \n",
       "9              1091274243   733166385  1308166465  1165693297   596366679   \n",
       "10             1080204976   968743489  1320250459  1042812263  1764509467   \n",
       "11              736020890   859313689  2412991475  2047380217  2043956761   \n",
       "12              899583599  1542580698  1105170337  1715008475  1919080286   \n",
       "\n",
       "release_year         2015  \n",
       "release_month              \n",
       "1               630233784  \n",
       "2               884789565  \n",
       "3               937945994  \n",
       "4              2602565518  \n",
       "5              1103503482  \n",
       "6              3757679861  \n",
       "7              1552273188  \n",
       "8               491699146  \n",
       "9              1775686025  \n",
       "10              942161764  \n",
       "11             1212708544  \n",
       "12             2777325507  "
      ]
     },
     "execution_count": 259,
     "metadata": {},
     "output_type": "execute_result"
    }
   ],
   "source": [
    "pvt = pd.pivot_table(data, columns='release_year', index='release_month', values='profit', aggfunc='sum')\n",
    "pvt"
   ]
  },
  {
   "cell_type": "code",
   "execution_count": 272,
   "metadata": {},
   "outputs": [
    {
     "data": {
      "text/plain": [
       "6     7\n",
       "12    4\n",
       "5     4\n",
       "7     1\n",
       "dtype: int64"
      ]
     },
     "execution_count": 272,
     "metadata": {},
     "output_type": "execute_result"
    }
   ],
   "source": [
    "pvt.idxmax(axis=0).value_counts()"
   ]
  },
  {
   "cell_type": "code",
   "execution_count": 268,
   "metadata": {},
   "outputs": [],
   "source": [
    "answer_ls.append(2)"
   ]
  },
  {
   "cell_type": "markdown",
   "metadata": {},
   "source": [
    "# 31. Названия фильмов какой студии в среднем самые длинные по количеству символов?\n",
    "Варианты ответа:\n",
    "1. Universal Pictures (Universal)\n",
    "2. Warner Bros\n",
    "3. Jim Henson Company, The\n",
    "4. Paramount Pictures\n",
    "5. Four By Two Productions"
   ]
  },
  {
   "cell_type": "code",
   "execution_count": 295,
   "metadata": {
    "scrolled": true
   },
   "outputs": [],
   "source": [
    "length = Counter()\n",
    "i = 0\n",
    "\n",
    "for companies in data.production_companies:\n",
    "    for company in companies:\n",
    "        length[company] += len(data.original_title.iloc[i])\n",
    "    i += 1"
   ]
  },
  {
   "cell_type": "code",
   "execution_count": 299,
   "metadata": {},
   "outputs": [],
   "source": [
    "film_amount = pd.Series([x[1] for x in prod_counter.most_common()], index=[x[0] for x in prod_counter.most_common()])\n",
    "title_length = pd.Series([x[1] for x in length.most_common()], index=[x[0] for x in length.most_common()])"
   ]
  },
  {
   "cell_type": "code",
   "execution_count": 303,
   "metadata": {},
   "outputs": [
    {
     "data": {
      "text/plain": [
       "Global Entertainment Group     2.0\n",
       "Ixtlan Productions             2.0\n",
       "XM2 Productions                2.0\n",
       "Berlanti Productions           3.0\n",
       "Everest Entertainment          3.0\n",
       "                              ... \n",
       "Museum Canada Productions     46.0\n",
       "Polsky Films                  46.0\n",
       "Dos Corazones                 47.0\n",
       "Jim Henson Company, The       59.0\n",
       "Four By Two Productions       83.0\n",
       "Length: 1772, dtype: float64"
      ]
     },
     "execution_count": 303,
     "metadata": {},
     "output_type": "execute_result"
    }
   ],
   "source": [
    "(title_length / film_amount).sort_values()"
   ]
  },
  {
   "cell_type": "code",
   "execution_count": 308,
   "metadata": {},
   "outputs": [],
   "source": [
    "answer_ls.append(5)"
   ]
  },
  {
   "cell_type": "markdown",
   "metadata": {},
   "source": [
    "# 32. Названия фильмов какой студии в среднем самые длинные по количеству слов?\n",
    "Варианты ответа:\n",
    "1. Universal Pictures (Universal)\n",
    "2. Warner Bros\n",
    "3. Jim Henson Company, The\n",
    "4. Paramount Pictures\n",
    "5. Four By Two Productions"
   ]
  },
  {
   "cell_type": "code",
   "execution_count": 320,
   "metadata": {},
   "outputs": [],
   "source": [
    "title_words = Counter()\n",
    "i = 0\n",
    "\n",
    "for companies in data.production_companies:\n",
    "    for company in companies:\n",
    "        title_words[company] += len(data.original_title.iloc[i].split())\n",
    "    i += 1"
   ]
  },
  {
   "cell_type": "code",
   "execution_count": 323,
   "metadata": {},
   "outputs": [],
   "source": [
    "title_length = pd.Series([x[1] for x in title_words.most_common()], index=[x[0] for x in title_words.most_common()])\n",
    "film_amount = pd.Series([x[1] for x in prod_counter.most_common()], index=[x[0] for x in prod_counter.most_common()])"
   ]
  },
  {
   "cell_type": "code",
   "execution_count": 325,
   "metadata": {},
   "outputs": [
    {
     "data": {
      "text/plain": [
       "Great Wight Productions/ Osford Films     1.0\n",
       "Blue Sea Productions                      1.0\n",
       "Blue Productions                          1.0\n",
       "Maple Shade Films                         1.0\n",
       "Many Rivers Productions                   1.0\n",
       "                                         ... \n",
       "Dos Corazones                             9.0\n",
       "The Saul Zaentz Company                   9.0\n",
       "Polsky Films                              9.0\n",
       "Jim Henson Company, The                  10.0\n",
       "Four By Two Productions                  12.0\n",
       "Length: 1772, dtype: float64"
      ]
     },
     "execution_count": 325,
     "metadata": {},
     "output_type": "execute_result"
    }
   ],
   "source": [
    "(title_length / film_amount).sort_values()"
   ]
  },
  {
   "cell_type": "code",
   "execution_count": 326,
   "metadata": {},
   "outputs": [],
   "source": [
    "answer_ls.append(5)"
   ]
  },
  {
   "cell_type": "markdown",
   "metadata": {},
   "source": [
    "# 33. Сколько разных слов используется в названиях фильмов?(без учета регистра)\n",
    "Варианты ответа:\n",
    "1. 6540\n",
    "2. 1002\n",
    "3. 2461\n",
    "4. 28304\n",
    "5. 3432"
   ]
  },
  {
   "cell_type": "code",
   "execution_count": 328,
   "metadata": {},
   "outputs": [],
   "source": [
    "unique_words = []\n",
    "\n",
    "for title in data.original_title:\n",
    "    for word in title.lower().split():\n",
    "        if word not in unique_words:\n",
    "            unique_words.append(word)\n",
    "            "
   ]
  },
  {
   "cell_type": "code",
   "execution_count": 330,
   "metadata": {},
   "outputs": [
    {
     "data": {
      "text/plain": [
       "2461"
      ]
     },
     "execution_count": 330,
     "metadata": {},
     "output_type": "execute_result"
    }
   ],
   "source": [
    "len(unique_words)"
   ]
  },
  {
   "cell_type": "code",
   "execution_count": 331,
   "metadata": {},
   "outputs": [],
   "source": [
    "answer_ls.append(3)"
   ]
  },
  {
   "cell_type": "markdown",
   "metadata": {},
   "source": [
    "# 34. Какие фильмы входят в 1 процент лучших по рейтингу?\n",
    "Варианты ответа:\n",
    "1. Inside Out, Gone Girl, 12 Years a Slave\n",
    "2. BloodRayne, The Adventures of Rocky and Bullwinkle\n",
    "3. The Lord of the Rings: The Return of the King, Upside Down\n",
    "4. 300, Lucky Number Slevin\n",
    "5. Upside Down, 300, Inside Out, The Lord of the Rings: The Return of the King"
   ]
  },
  {
   "cell_type": "code",
   "execution_count": 344,
   "metadata": {
    "scrolled": true
   },
   "outputs": [
    {
     "data": {
      "text/html": [
       "<div>\n",
       "<style scoped>\n",
       "    .dataframe tbody tr th:only-of-type {\n",
       "        vertical-align: middle;\n",
       "    }\n",
       "\n",
       "    .dataframe tbody tr th {\n",
       "        vertical-align: top;\n",
       "    }\n",
       "\n",
       "    .dataframe thead th {\n",
       "        text-align: right;\n",
       "    }\n",
       "</style>\n",
       "<table border=\"1\" class=\"dataframe\">\n",
       "  <thead>\n",
       "    <tr style=\"text-align: right;\">\n",
       "      <th></th>\n",
       "      <th>original_title</th>\n",
       "      <th>vote_average</th>\n",
       "    </tr>\n",
       "  </thead>\n",
       "  <tbody>\n",
       "    <tr>\n",
       "      <th>600</th>\n",
       "      <td>The Dark Knight</td>\n",
       "      <td>8.1</td>\n",
       "    </tr>\n",
       "    <tr>\n",
       "      <th>125</th>\n",
       "      <td>The Imitation Game</td>\n",
       "      <td>8.0</td>\n",
       "    </tr>\n",
       "    <tr>\n",
       "      <th>9</th>\n",
       "      <td>Inside Out</td>\n",
       "      <td>8.0</td>\n",
       "    </tr>\n",
       "    <tr>\n",
       "      <th>118</th>\n",
       "      <td>Interstellar</td>\n",
       "      <td>8.0</td>\n",
       "    </tr>\n",
       "    <tr>\n",
       "      <th>34</th>\n",
       "      <td>Room</td>\n",
       "      <td>8.0</td>\n",
       "    </tr>\n",
       "    <tr>\n",
       "      <th>1082</th>\n",
       "      <td>The Lord of the Rings: The Return of the King</td>\n",
       "      <td>7.9</td>\n",
       "    </tr>\n",
       "    <tr>\n",
       "      <th>873</th>\n",
       "      <td>The Pianist</td>\n",
       "      <td>7.9</td>\n",
       "    </tr>\n",
       "    <tr>\n",
       "      <th>1801</th>\n",
       "      <td>Memento</td>\n",
       "      <td>7.9</td>\n",
       "    </tr>\n",
       "    <tr>\n",
       "      <th>1192</th>\n",
       "      <td>12 Years a Slave</td>\n",
       "      <td>7.9</td>\n",
       "    </tr>\n",
       "    <tr>\n",
       "      <th>128</th>\n",
       "      <td>Gone Girl</td>\n",
       "      <td>7.9</td>\n",
       "    </tr>\n",
       "    <tr>\n",
       "      <th>138</th>\n",
       "      <td>The Grand Budapest Hotel</td>\n",
       "      <td>7.9</td>\n",
       "    </tr>\n",
       "    <tr>\n",
       "      <th>119</th>\n",
       "      <td>Guardians of the Galaxy</td>\n",
       "      <td>7.9</td>\n",
       "    </tr>\n",
       "    <tr>\n",
       "      <th>1184</th>\n",
       "      <td>The Wolf of Wall Street</td>\n",
       "      <td>7.9</td>\n",
       "    </tr>\n",
       "    <tr>\n",
       "      <th>370</th>\n",
       "      <td>Inception</td>\n",
       "      <td>7.9</td>\n",
       "    </tr>\n",
       "    <tr>\n",
       "      <th>316</th>\n",
       "      <td>3 Idiots</td>\n",
       "      <td>7.8</td>\n",
       "    </tr>\n",
       "    <tr>\n",
       "      <th>1564</th>\n",
       "      <td>Eternal Sunshine of the Spotless Mind</td>\n",
       "      <td>7.8</td>\n",
       "    </tr>\n",
       "    <tr>\n",
       "      <th>497</th>\n",
       "      <td>The Lord of the Rings: The Fellowship of the Ring</td>\n",
       "      <td>7.8</td>\n",
       "    </tr>\n",
       "    <tr>\n",
       "      <th>28</th>\n",
       "      <td>Spotlight</td>\n",
       "      <td>7.8</td>\n",
       "    </tr>\n",
       "    <tr>\n",
       "      <th>1214</th>\n",
       "      <td>Dallas Buyers Club</td>\n",
       "      <td>7.8</td>\n",
       "    </tr>\n",
       "  </tbody>\n",
       "</table>\n",
       "</div>"
      ],
      "text/plain": [
       "                                         original_title  vote_average\n",
       "600                                     The Dark Knight           8.1\n",
       "125                                  The Imitation Game           8.0\n",
       "9                                            Inside Out           8.0\n",
       "118                                        Interstellar           8.0\n",
       "34                                                 Room           8.0\n",
       "1082      The Lord of the Rings: The Return of the King           7.9\n",
       "873                                         The Pianist           7.9\n",
       "1801                                            Memento           7.9\n",
       "1192                                   12 Years a Slave           7.9\n",
       "128                                           Gone Girl           7.9\n",
       "138                            The Grand Budapest Hotel           7.9\n",
       "119                             Guardians of the Galaxy           7.9\n",
       "1184                            The Wolf of Wall Street           7.9\n",
       "370                                           Inception           7.9\n",
       "316                                            3 Idiots           7.8\n",
       "1564              Eternal Sunshine of the Spotless Mind           7.8\n",
       "497   The Lord of the Rings: The Fellowship of the Ring           7.8\n",
       "28                                            Spotlight           7.8\n",
       "1214                                 Dallas Buyers Club           7.8"
      ]
     },
     "execution_count": 344,
     "metadata": {},
     "output_type": "execute_result"
    }
   ],
   "source": [
    "data[['original_title', 'vote_average']].sort_values(by='vote_average', ascending=False)[:19]"
   ]
  },
  {
   "cell_type": "code",
   "execution_count": 345,
   "metadata": {},
   "outputs": [],
   "source": [
    "answer_ls.append(1)"
   ]
  },
  {
   "cell_type": "markdown",
   "metadata": {},
   "source": [
    "# 35. Какие актеры чаще всего снимаются в одном фильме вместе\n",
    "Варианты ответа:\n",
    "1. Johnny Depp & Helena Bonham Carter\n",
    "2. Hugh Jackman & Ian McKellen\n",
    "3. Vin Diesel & Paul Walker\n",
    "4. Adam Sandler & Kevin James\n",
    "5. Daniel Radcliffe & Rupert Grint"
   ]
  },
  {
   "cell_type": "code",
   "execution_count": 365,
   "metadata": {
    "scrolled": true
   },
   "outputs": [],
   "source": [
    "actor_pairs = Counter()\n",
    "\n",
    "for actors in data.cast:\n",
    "    for pair in itertools.combinations(actors, 2):\n",
    "        actor_pairs[pair] += 1"
   ]
  },
  {
   "cell_type": "code",
   "execution_count": 366,
   "metadata": {
    "scrolled": true
   },
   "outputs": [
    {
     "data": {
      "text/plain": [
       "[(('Daniel Radcliffe', 'Rupert Grint'), 8),\n",
       " (('Daniel Radcliffe', 'Emma Watson'), 8),\n",
       " (('Rupert Grint', 'Emma Watson'), 7),\n",
       " (('Ben Stiller', 'Owen Wilson'), 6),\n",
       " (('Johnny Depp', 'Helena Bonham Carter'), 6),\n",
       " (('Adam Sandler', 'Kevin James'), 5),\n",
       " (('Hugh Jackman', 'Ian McKellen'), 5),\n",
       " (('Kristen Stewart', 'Robert Pattinson'), 5),\n",
       " (('Kristen Stewart', 'Taylor Lautner'), 5),\n",
       " (('Robert Pattinson', 'Taylor Lautner'), 5)]"
      ]
     },
     "execution_count": 366,
     "metadata": {},
     "output_type": "execute_result"
    }
   ],
   "source": [
    "actor_pairs.most_common(10)"
   ]
  },
  {
   "cell_type": "code",
   "execution_count": 364,
   "metadata": {},
   "outputs": [],
   "source": [
    "answer_ls.append(5)"
   ]
  },
  {
   "cell_type": "markdown",
   "metadata": {},
   "source": [
    "# 36. У какого из режиссеров выше вероятность выпустить фильм в прибыли? (5 баллов)\n",
    "Варианты ответа:\n",
    "1. Quentin Tarantino\n",
    "2. Steven Soderbergh\n",
    "3. Robert Rodriguez\n",
    "4. Christopher Nolan\n",
    "5. Clint Eastwood"
   ]
  },
  {
   "cell_type": "code",
   "execution_count": 409,
   "metadata": {},
   "outputs": [],
   "source": [
    "data.director = data.director.apply(spliter)"
   ]
  },
  {
   "cell_type": "code",
   "execution_count": 414,
   "metadata": {
    "scrolled": true
   },
   "outputs": [
    {
     "data": {
      "text/plain": [
       "[('Steven Soderbergh', 13),\n",
       " ('Ridley Scott', 12),\n",
       " ('Clint Eastwood', 12),\n",
       " ('Robert Rodriguez', 11),\n",
       " ('Steven Spielberg', 10)]"
      ]
     },
     "execution_count": 414,
     "metadata": {},
     "output_type": "execute_result"
    }
   ],
   "source": [
    "d_all = Counter()\n",
    "\n",
    "for directors in data.director:\n",
    "    for director in directors:\n",
    "        d_all[director] += 1\n",
    "\n",
    "d_all.most_common(5)"
   ]
  },
  {
   "cell_type": "code",
   "execution_count": 415,
   "metadata": {},
   "outputs": [
    {
     "data": {
      "text/plain": [
       "[('Ridley Scott', 12),\n",
       " ('Steven Spielberg', 10),\n",
       " ('Clint Eastwood', 10),\n",
       " ('Steven Soderbergh', 10),\n",
       " ('Shawn Levy', 9)]"
      ]
     },
     "execution_count": 415,
     "metadata": {},
     "output_type": "execute_result"
    }
   ],
   "source": [
    "d_plus = Counter()\n",
    "\n",
    "for directors in data[data.profit > 0].director:\n",
    "    for director in directors:\n",
    "        d_plus[director] += 1\n",
    "\n",
    "d_plus.most_common(5)"
   ]
  },
  {
   "cell_type": "code",
   "execution_count": 428,
   "metadata": {},
   "outputs": [],
   "source": [
    "film_amount = pd.Series([x[1] for x in d_all.most_common()], index=[x[0] for x in d_all.most_common()])\n",
    "profitable_films = pd.Series([x[1] for x in d_plus.most_common()], index=[x[0] for x in d_plus.most_common()])\n",
    "probability = (profitable_films / film_amount)"
   ]
  },
  {
   "cell_type": "code",
   "execution_count": 429,
   "metadata": {},
   "outputs": [
    {
     "data": {
      "text/plain": [
       "Christopher Nolan    1.000000\n",
       "Quentin Tarantino    0.857143\n",
       "Clint Eastwood       0.833333\n",
       "Steven Soderbergh    0.769231\n",
       "Robert Rodriguez     0.727273\n",
       "dtype: float64"
      ]
     },
     "execution_count": 429,
     "metadata": {},
     "output_type": "execute_result"
    }
   ],
   "source": [
    "probability.loc[['Quentin Tarantino',\n",
    "                 'Steven Soderbergh',\n",
    "                 'Robert Rodriguez',\n",
    "                 'Christopher Nolan',\n",
    "                 'Clint Eastwood']].sort_values(ascending=False)"
   ]
  },
  {
   "cell_type": "code",
   "execution_count": 430,
   "metadata": {},
   "outputs": [],
   "source": [
    "answer_ls.append(4)"
   ]
  },
  {
   "cell_type": "markdown",
   "metadata": {},
   "source": [
    "# Submission"
   ]
  },
  {
   "cell_type": "code",
   "execution_count": 431,
   "metadata": {},
   "outputs": [
    {
     "data": {
      "text/plain": [
       "32"
      ]
     },
     "execution_count": 431,
     "metadata": {},
     "output_type": "execute_result"
    }
   ],
   "source": [
    "len(answer_ls)"
   ]
  },
  {
   "cell_type": "code",
   "execution_count": 432,
   "metadata": {},
   "outputs": [
    {
     "data": {
      "text/html": [
       "<div>\n",
       "<style scoped>\n",
       "    .dataframe tbody tr th:only-of-type {\n",
       "        vertical-align: middle;\n",
       "    }\n",
       "\n",
       "    .dataframe tbody tr th {\n",
       "        vertical-align: top;\n",
       "    }\n",
       "\n",
       "    .dataframe thead th {\n",
       "        text-align: right;\n",
       "    }\n",
       "</style>\n",
       "<table border=\"1\" class=\"dataframe\">\n",
       "  <thead>\n",
       "    <tr style=\"text-align: right;\">\n",
       "      <th></th>\n",
       "      <th>Id</th>\n",
       "      <th>Answer</th>\n",
       "    </tr>\n",
       "  </thead>\n",
       "  <tbody>\n",
       "    <tr>\n",
       "      <th>0</th>\n",
       "      <td>1</td>\n",
       "      <td>4</td>\n",
       "    </tr>\n",
       "    <tr>\n",
       "      <th>1</th>\n",
       "      <td>2</td>\n",
       "      <td>2</td>\n",
       "    </tr>\n",
       "    <tr>\n",
       "      <th>2</th>\n",
       "      <td>3</td>\n",
       "      <td>3</td>\n",
       "    </tr>\n",
       "    <tr>\n",
       "      <th>3</th>\n",
       "      <td>4</td>\n",
       "      <td>2</td>\n",
       "    </tr>\n",
       "    <tr>\n",
       "      <th>4</th>\n",
       "      <td>5</td>\n",
       "      <td>1</td>\n",
       "    </tr>\n",
       "    <tr>\n",
       "      <th>5</th>\n",
       "      <td>6</td>\n",
       "      <td>5</td>\n",
       "    </tr>\n",
       "    <tr>\n",
       "      <th>6</th>\n",
       "      <td>7</td>\n",
       "      <td>2</td>\n",
       "    </tr>\n",
       "    <tr>\n",
       "      <th>7</th>\n",
       "      <td>8</td>\n",
       "      <td>1</td>\n",
       "    </tr>\n",
       "    <tr>\n",
       "      <th>8</th>\n",
       "      <td>9</td>\n",
       "      <td>4</td>\n",
       "    </tr>\n",
       "    <tr>\n",
       "      <th>9</th>\n",
       "      <td>10</td>\n",
       "      <td>5</td>\n",
       "    </tr>\n",
       "    <tr>\n",
       "      <th>10</th>\n",
       "      <td>11</td>\n",
       "      <td>3</td>\n",
       "    </tr>\n",
       "    <tr>\n",
       "      <th>11</th>\n",
       "      <td>12</td>\n",
       "      <td>1</td>\n",
       "    </tr>\n",
       "    <tr>\n",
       "      <th>12</th>\n",
       "      <td>13</td>\n",
       "      <td>3</td>\n",
       "    </tr>\n",
       "    <tr>\n",
       "      <th>13</th>\n",
       "      <td>14</td>\n",
       "      <td>4</td>\n",
       "    </tr>\n",
       "    <tr>\n",
       "      <th>14</th>\n",
       "      <td>15</td>\n",
       "      <td>5</td>\n",
       "    </tr>\n",
       "    <tr>\n",
       "      <th>15</th>\n",
       "      <td>16</td>\n",
       "      <td>1</td>\n",
       "    </tr>\n",
       "    <tr>\n",
       "      <th>16</th>\n",
       "      <td>17</td>\n",
       "      <td>3</td>\n",
       "    </tr>\n",
       "    <tr>\n",
       "      <th>17</th>\n",
       "      <td>18</td>\n",
       "      <td>2</td>\n",
       "    </tr>\n",
       "    <tr>\n",
       "      <th>18</th>\n",
       "      <td>19</td>\n",
       "      <td>1</td>\n",
       "    </tr>\n",
       "    <tr>\n",
       "      <th>19</th>\n",
       "      <td>20</td>\n",
       "      <td>1</td>\n",
       "    </tr>\n",
       "    <tr>\n",
       "      <th>20</th>\n",
       "      <td>21</td>\n",
       "      <td>5</td>\n",
       "    </tr>\n",
       "    <tr>\n",
       "      <th>21</th>\n",
       "      <td>22</td>\n",
       "      <td>1</td>\n",
       "    </tr>\n",
       "    <tr>\n",
       "      <th>22</th>\n",
       "      <td>23</td>\n",
       "      <td>4</td>\n",
       "    </tr>\n",
       "    <tr>\n",
       "      <th>23</th>\n",
       "      <td>24</td>\n",
       "      <td>5</td>\n",
       "    </tr>\n",
       "    <tr>\n",
       "      <th>24</th>\n",
       "      <td>25</td>\n",
       "      <td>2</td>\n",
       "    </tr>\n",
       "    <tr>\n",
       "      <th>25</th>\n",
       "      <td>26</td>\n",
       "      <td>5</td>\n",
       "    </tr>\n",
       "    <tr>\n",
       "      <th>26</th>\n",
       "      <td>27</td>\n",
       "      <td>5</td>\n",
       "    </tr>\n",
       "    <tr>\n",
       "      <th>27</th>\n",
       "      <td>28</td>\n",
       "      <td>3</td>\n",
       "    </tr>\n",
       "    <tr>\n",
       "      <th>28</th>\n",
       "      <td>29</td>\n",
       "      <td>1</td>\n",
       "    </tr>\n",
       "    <tr>\n",
       "      <th>29</th>\n",
       "      <td>30</td>\n",
       "      <td>5</td>\n",
       "    </tr>\n",
       "    <tr>\n",
       "      <th>30</th>\n",
       "      <td>31</td>\n",
       "      <td>5</td>\n",
       "    </tr>\n",
       "    <tr>\n",
       "      <th>31</th>\n",
       "      <td>32</td>\n",
       "      <td>4</td>\n",
       "    </tr>\n",
       "  </tbody>\n",
       "</table>\n",
       "</div>"
      ],
      "text/plain": [
       "    Id  Answer\n",
       "0    1       4\n",
       "1    2       2\n",
       "2    3       3\n",
       "3    4       2\n",
       "4    5       1\n",
       "5    6       5\n",
       "6    7       2\n",
       "7    8       1\n",
       "8    9       4\n",
       "9   10       5\n",
       "10  11       3\n",
       "11  12       1\n",
       "12  13       3\n",
       "13  14       4\n",
       "14  15       5\n",
       "15  16       1\n",
       "16  17       3\n",
       "17  18       2\n",
       "18  19       1\n",
       "19  20       1\n",
       "20  21       5\n",
       "21  22       1\n",
       "22  23       4\n",
       "23  24       5\n",
       "24  25       2\n",
       "25  26       5\n",
       "26  27       5\n",
       "27  28       3\n",
       "28  29       1\n",
       "29  30       5\n",
       "30  31       5\n",
       "31  32       4"
      ]
     },
     "execution_count": 432,
     "metadata": {},
     "output_type": "execute_result"
    }
   ],
   "source": [
    "pd.DataFrame({'Id':range(1,len(answer_ls)+1), 'Answer':answer_ls})"
   ]
  }
 ],
 "metadata": {
  "kernelspec": {
   "display_name": "Python 3",
   "language": "python",
   "name": "python3"
  },
  "language_info": {
   "codemirror_mode": {
    "name": "ipython",
    "version": 3
   },
   "file_extension": ".py",
   "mimetype": "text/x-python",
   "name": "python",
   "nbconvert_exporter": "python",
   "pygments_lexer": "ipython3",
   "version": "3.7.6"
  }
 },
 "nbformat": 4,
 "nbformat_minor": 4
}
