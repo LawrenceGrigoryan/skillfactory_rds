{
 "cells": [
  {
   "cell_type": "code",
   "execution_count": 1,
   "metadata": {},
   "outputs": [
    {
     "data": {
      "text/plain": [
       "['.git',\n",
       " '.ipynb_checkpoints',\n",
       " 'data.csv',\n",
       " 'Project_1. Who wants to become a millionaire.ipynb']"
      ]
     },
     "execution_count": 1,
     "metadata": {},
     "output_type": "execute_result"
    }
   ],
   "source": [
    "import pandas as pd\n",
    "import os\n",
    "from collections import Counter\n",
    "import itertools\n",
    "os.listdir()"
   ]
  },
  {
   "cell_type": "code",
   "execution_count": 2,
   "metadata": {},
   "outputs": [
    {
     "data": {
      "text/html": [
       "<div>\n",
       "<style scoped>\n",
       "    .dataframe tbody tr th:only-of-type {\n",
       "        vertical-align: middle;\n",
       "    }\n",
       "\n",
       "    .dataframe tbody tr th {\n",
       "        vertical-align: top;\n",
       "    }\n",
       "\n",
       "    .dataframe thead th {\n",
       "        text-align: right;\n",
       "    }\n",
       "</style>\n",
       "<table border=\"1\" class=\"dataframe\">\n",
       "  <thead>\n",
       "    <tr style=\"text-align: right;\">\n",
       "      <th></th>\n",
       "      <th>imdb_id</th>\n",
       "      <th>popularity</th>\n",
       "      <th>budget</th>\n",
       "      <th>revenue</th>\n",
       "      <th>original_title</th>\n",
       "      <th>cast</th>\n",
       "      <th>director</th>\n",
       "      <th>tagline</th>\n",
       "      <th>overview</th>\n",
       "      <th>runtime</th>\n",
       "      <th>genres</th>\n",
       "      <th>production_companies</th>\n",
       "      <th>release_date</th>\n",
       "      <th>vote_count</th>\n",
       "      <th>vote_average</th>\n",
       "      <th>release_year</th>\n",
       "    </tr>\n",
       "  </thead>\n",
       "  <tbody>\n",
       "    <tr>\n",
       "      <th>0</th>\n",
       "      <td>tt0369610</td>\n",
       "      <td>32.985763</td>\n",
       "      <td>150000000</td>\n",
       "      <td>1513528810</td>\n",
       "      <td>Jurassic World</td>\n",
       "      <td>Chris Pratt|Bryce Dallas Howard|Irrfan Khan|Vi...</td>\n",
       "      <td>Colin Trevorrow</td>\n",
       "      <td>The park is open.</td>\n",
       "      <td>Twenty-two years after the events of Jurassic ...</td>\n",
       "      <td>124</td>\n",
       "      <td>Action|Adventure|Science Fiction|Thriller</td>\n",
       "      <td>Universal Studios|Amblin Entertainment|Legenda...</td>\n",
       "      <td>6/9/2015</td>\n",
       "      <td>5562</td>\n",
       "      <td>6.5</td>\n",
       "      <td>2015</td>\n",
       "    </tr>\n",
       "    <tr>\n",
       "      <th>1</th>\n",
       "      <td>tt1392190</td>\n",
       "      <td>28.419936</td>\n",
       "      <td>150000000</td>\n",
       "      <td>378436354</td>\n",
       "      <td>Mad Max: Fury Road</td>\n",
       "      <td>Tom Hardy|Charlize Theron|Hugh Keays-Byrne|Nic...</td>\n",
       "      <td>George Miller</td>\n",
       "      <td>What a Lovely Day.</td>\n",
       "      <td>An apocalyptic story set in the furthest reach...</td>\n",
       "      <td>120</td>\n",
       "      <td>Action|Adventure|Science Fiction|Thriller</td>\n",
       "      <td>Village Roadshow Pictures|Kennedy Miller Produ...</td>\n",
       "      <td>5/13/2015</td>\n",
       "      <td>6185</td>\n",
       "      <td>7.1</td>\n",
       "      <td>2015</td>\n",
       "    </tr>\n",
       "    <tr>\n",
       "      <th>2</th>\n",
       "      <td>tt2908446</td>\n",
       "      <td>13.112507</td>\n",
       "      <td>110000000</td>\n",
       "      <td>295238201</td>\n",
       "      <td>Insurgent</td>\n",
       "      <td>Shailene Woodley|Theo James|Kate Winslet|Ansel...</td>\n",
       "      <td>Robert Schwentke</td>\n",
       "      <td>One Choice Can Destroy You</td>\n",
       "      <td>Beatrice Prior must confront her inner demons ...</td>\n",
       "      <td>119</td>\n",
       "      <td>Adventure|Science Fiction|Thriller</td>\n",
       "      <td>Summit Entertainment|Mandeville Films|Red Wago...</td>\n",
       "      <td>3/18/2015</td>\n",
       "      <td>2480</td>\n",
       "      <td>6.3</td>\n",
       "      <td>2015</td>\n",
       "    </tr>\n",
       "    <tr>\n",
       "      <th>3</th>\n",
       "      <td>tt2488496</td>\n",
       "      <td>11.173104</td>\n",
       "      <td>200000000</td>\n",
       "      <td>2068178225</td>\n",
       "      <td>Star Wars: The Force Awakens</td>\n",
       "      <td>Harrison Ford|Mark Hamill|Carrie Fisher|Adam D...</td>\n",
       "      <td>J.J. Abrams</td>\n",
       "      <td>Every generation has a story.</td>\n",
       "      <td>Thirty years after defeating the Galactic Empi...</td>\n",
       "      <td>136</td>\n",
       "      <td>Action|Adventure|Science Fiction|Fantasy</td>\n",
       "      <td>Lucasfilm|Truenorth Productions|Bad Robot</td>\n",
       "      <td>12/15/2015</td>\n",
       "      <td>5292</td>\n",
       "      <td>7.5</td>\n",
       "      <td>2015</td>\n",
       "    </tr>\n",
       "    <tr>\n",
       "      <th>4</th>\n",
       "      <td>tt2820852</td>\n",
       "      <td>9.335014</td>\n",
       "      <td>190000000</td>\n",
       "      <td>1506249360</td>\n",
       "      <td>Furious 7</td>\n",
       "      <td>Vin Diesel|Paul Walker|Jason Statham|Michelle ...</td>\n",
       "      <td>James Wan</td>\n",
       "      <td>Vengeance Hits Home</td>\n",
       "      <td>Deckard Shaw seeks revenge against Dominic Tor...</td>\n",
       "      <td>137</td>\n",
       "      <td>Action|Crime|Thriller</td>\n",
       "      <td>Universal Pictures|Original Film|Media Rights ...</td>\n",
       "      <td>4/1/2015</td>\n",
       "      <td>2947</td>\n",
       "      <td>7.3</td>\n",
       "      <td>2015</td>\n",
       "    </tr>\n",
       "  </tbody>\n",
       "</table>\n",
       "</div>"
      ],
      "text/plain": [
       "     imdb_id  popularity     budget     revenue                original_title  \\\n",
       "0  tt0369610   32.985763  150000000  1513528810                Jurassic World   \n",
       "1  tt1392190   28.419936  150000000   378436354            Mad Max: Fury Road   \n",
       "2  tt2908446   13.112507  110000000   295238201                     Insurgent   \n",
       "3  tt2488496   11.173104  200000000  2068178225  Star Wars: The Force Awakens   \n",
       "4  tt2820852    9.335014  190000000  1506249360                     Furious 7   \n",
       "\n",
       "                                                cast          director  \\\n",
       "0  Chris Pratt|Bryce Dallas Howard|Irrfan Khan|Vi...   Colin Trevorrow   \n",
       "1  Tom Hardy|Charlize Theron|Hugh Keays-Byrne|Nic...     George Miller   \n",
       "2  Shailene Woodley|Theo James|Kate Winslet|Ansel...  Robert Schwentke   \n",
       "3  Harrison Ford|Mark Hamill|Carrie Fisher|Adam D...       J.J. Abrams   \n",
       "4  Vin Diesel|Paul Walker|Jason Statham|Michelle ...         James Wan   \n",
       "\n",
       "                         tagline  \\\n",
       "0              The park is open.   \n",
       "1             What a Lovely Day.   \n",
       "2     One Choice Can Destroy You   \n",
       "3  Every generation has a story.   \n",
       "4            Vengeance Hits Home   \n",
       "\n",
       "                                            overview  runtime  \\\n",
       "0  Twenty-two years after the events of Jurassic ...      124   \n",
       "1  An apocalyptic story set in the furthest reach...      120   \n",
       "2  Beatrice Prior must confront her inner demons ...      119   \n",
       "3  Thirty years after defeating the Galactic Empi...      136   \n",
       "4  Deckard Shaw seeks revenge against Dominic Tor...      137   \n",
       "\n",
       "                                      genres  \\\n",
       "0  Action|Adventure|Science Fiction|Thriller   \n",
       "1  Action|Adventure|Science Fiction|Thriller   \n",
       "2         Adventure|Science Fiction|Thriller   \n",
       "3   Action|Adventure|Science Fiction|Fantasy   \n",
       "4                      Action|Crime|Thriller   \n",
       "\n",
       "                                production_companies release_date  vote_count  \\\n",
       "0  Universal Studios|Amblin Entertainment|Legenda...     6/9/2015        5562   \n",
       "1  Village Roadshow Pictures|Kennedy Miller Produ...    5/13/2015        6185   \n",
       "2  Summit Entertainment|Mandeville Films|Red Wago...    3/18/2015        2480   \n",
       "3          Lucasfilm|Truenorth Productions|Bad Robot   12/15/2015        5292   \n",
       "4  Universal Pictures|Original Film|Media Rights ...     4/1/2015        2947   \n",
       "\n",
       "   vote_average  release_year  \n",
       "0           6.5          2015  \n",
       "1           7.1          2015  \n",
       "2           6.3          2015  \n",
       "3           7.5          2015  \n",
       "4           7.3          2015  "
      ]
     },
     "execution_count": 2,
     "metadata": {},
     "output_type": "execute_result"
    }
   ],
   "source": [
    "data = pd.read_csv('data.csv')\n",
    "data.head()"
   ]
  },
  {
   "cell_type": "code",
   "execution_count": 3,
   "metadata": {},
   "outputs": [
    {
     "data": {
      "text/html": [
       "<div>\n",
       "<style scoped>\n",
       "    .dataframe tbody tr th:only-of-type {\n",
       "        vertical-align: middle;\n",
       "    }\n",
       "\n",
       "    .dataframe tbody tr th {\n",
       "        vertical-align: top;\n",
       "    }\n",
       "\n",
       "    .dataframe thead th {\n",
       "        text-align: right;\n",
       "    }\n",
       "</style>\n",
       "<table border=\"1\" class=\"dataframe\">\n",
       "  <thead>\n",
       "    <tr style=\"text-align: right;\">\n",
       "      <th></th>\n",
       "      <th>imdb_id</th>\n",
       "      <th>popularity</th>\n",
       "      <th>budget</th>\n",
       "      <th>revenue</th>\n",
       "      <th>original_title</th>\n",
       "      <th>cast</th>\n",
       "      <th>director</th>\n",
       "      <th>tagline</th>\n",
       "      <th>overview</th>\n",
       "      <th>runtime</th>\n",
       "      <th>genres</th>\n",
       "      <th>production_companies</th>\n",
       "      <th>release_date</th>\n",
       "      <th>vote_count</th>\n",
       "      <th>vote_average</th>\n",
       "      <th>release_year</th>\n",
       "    </tr>\n",
       "  </thead>\n",
       "  <tbody>\n",
       "    <tr>\n",
       "      <th>1885</th>\n",
       "      <td>tt0120903</td>\n",
       "      <td>0.182246</td>\n",
       "      <td>75000000</td>\n",
       "      <td>157299717</td>\n",
       "      <td>X-Men</td>\n",
       "      <td>Patrick Stewart|Hugh Jackman|Ian McKellen|Hall...</td>\n",
       "      <td>Bryan Singer</td>\n",
       "      <td>Evolution Begins</td>\n",
       "      <td>Two mutants, Rogue and Wolverine, come to a pr...</td>\n",
       "      <td>104</td>\n",
       "      <td>Adventure|Action|Science Fiction</td>\n",
       "      <td>Twentieth Century Fox Film Corporation|Donners...</td>\n",
       "      <td>7/13/2000</td>\n",
       "      <td>2766</td>\n",
       "      <td>6.6</td>\n",
       "      <td>2000</td>\n",
       "    </tr>\n",
       "    <tr>\n",
       "      <th>1886</th>\n",
       "      <td>tt0192255</td>\n",
       "      <td>0.123920</td>\n",
       "      <td>22000000</td>\n",
       "      <td>13555988</td>\n",
       "      <td>The Little Vampire</td>\n",
       "      <td>Richard E. Grant|Jonathan Lipnicki|Jim Carter|...</td>\n",
       "      <td>Uli Edel</td>\n",
       "      <td>They're not just best friends, they're blood b...</td>\n",
       "      <td>Based on the popular books, the story tells of...</td>\n",
       "      <td>95</td>\n",
       "      <td>Horror|Family|Foreign</td>\n",
       "      <td>New Line Cinema</td>\n",
       "      <td>10/27/2000</td>\n",
       "      <td>42</td>\n",
       "      <td>6.4</td>\n",
       "      <td>2000</td>\n",
       "    </tr>\n",
       "    <tr>\n",
       "      <th>1887</th>\n",
       "      <td>tt0131704</td>\n",
       "      <td>0.104908</td>\n",
       "      <td>76000000</td>\n",
       "      <td>35134820</td>\n",
       "      <td>The Adventures of Rocky &amp; Bullwinkle</td>\n",
       "      <td>Rene Russo|Jason Alexander|Piper Perabo|Randy ...</td>\n",
       "      <td>Des McAnuff</td>\n",
       "      <td>This summer it's not the same old bull.</td>\n",
       "      <td>Rocky and Bullwinkle have been living off the ...</td>\n",
       "      <td>88</td>\n",
       "      <td>Adventure|Animation|Action|Comedy|Family</td>\n",
       "      <td>Universal Pictures|Capella International|KC Me...</td>\n",
       "      <td>6/30/2000</td>\n",
       "      <td>35</td>\n",
       "      <td>4.0</td>\n",
       "      <td>2000</td>\n",
       "    </tr>\n",
       "    <tr>\n",
       "      <th>1888</th>\n",
       "      <td>tt0162983</td>\n",
       "      <td>0.031018</td>\n",
       "      <td>40000000</td>\n",
       "      <td>36037909</td>\n",
       "      <td>Hanging Up</td>\n",
       "      <td>Meg Ryan|Diane Keaton|Lisa Kudrow|Walter Matth...</td>\n",
       "      <td>Diane Keaton</td>\n",
       "      <td>Every family has a few hang-ups.</td>\n",
       "      <td>A trio of sisters bond over their ambivalence ...</td>\n",
       "      <td>94</td>\n",
       "      <td>Comedy|Drama</td>\n",
       "      <td>Laurence Mark Productions|Columbia Pictures Co...</td>\n",
       "      <td>2/16/2000</td>\n",
       "      <td>21</td>\n",
       "      <td>5.2</td>\n",
       "      <td>2000</td>\n",
       "    </tr>\n",
       "    <tr>\n",
       "      <th>1889</th>\n",
       "      <td>tt0163676</td>\n",
       "      <td>0.015997</td>\n",
       "      <td>15000000</td>\n",
       "      <td>5217498</td>\n",
       "      <td>The In Crowd</td>\n",
       "      <td>Susan Ward|Lori Heuring|Matthew Settle|Nathan ...</td>\n",
       "      <td>Mary Lambert</td>\n",
       "      <td>What would you do to get in?</td>\n",
       "      <td>A mentally disturbed young woman takes a job a...</td>\n",
       "      <td>105</td>\n",
       "      <td>Thriller</td>\n",
       "      <td>Warner Bros. Pictures</td>\n",
       "      <td>7/19/2000</td>\n",
       "      <td>12</td>\n",
       "      <td>5.2</td>\n",
       "      <td>2000</td>\n",
       "    </tr>\n",
       "  </tbody>\n",
       "</table>\n",
       "</div>"
      ],
      "text/plain": [
       "        imdb_id  popularity    budget    revenue  \\\n",
       "1885  tt0120903    0.182246  75000000  157299717   \n",
       "1886  tt0192255    0.123920  22000000   13555988   \n",
       "1887  tt0131704    0.104908  76000000   35134820   \n",
       "1888  tt0162983    0.031018  40000000   36037909   \n",
       "1889  tt0163676    0.015997  15000000    5217498   \n",
       "\n",
       "                            original_title  \\\n",
       "1885                                 X-Men   \n",
       "1886                    The Little Vampire   \n",
       "1887  The Adventures of Rocky & Bullwinkle   \n",
       "1888                            Hanging Up   \n",
       "1889                          The In Crowd   \n",
       "\n",
       "                                                   cast      director  \\\n",
       "1885  Patrick Stewart|Hugh Jackman|Ian McKellen|Hall...  Bryan Singer   \n",
       "1886  Richard E. Grant|Jonathan Lipnicki|Jim Carter|...      Uli Edel   \n",
       "1887  Rene Russo|Jason Alexander|Piper Perabo|Randy ...   Des McAnuff   \n",
       "1888  Meg Ryan|Diane Keaton|Lisa Kudrow|Walter Matth...  Diane Keaton   \n",
       "1889  Susan Ward|Lori Heuring|Matthew Settle|Nathan ...  Mary Lambert   \n",
       "\n",
       "                                                tagline  \\\n",
       "1885                                   Evolution Begins   \n",
       "1886  They're not just best friends, they're blood b...   \n",
       "1887            This summer it's not the same old bull.   \n",
       "1888                   Every family has a few hang-ups.   \n",
       "1889                       What would you do to get in?   \n",
       "\n",
       "                                               overview  runtime  \\\n",
       "1885  Two mutants, Rogue and Wolverine, come to a pr...      104   \n",
       "1886  Based on the popular books, the story tells of...       95   \n",
       "1887  Rocky and Bullwinkle have been living off the ...       88   \n",
       "1888  A trio of sisters bond over their ambivalence ...       94   \n",
       "1889  A mentally disturbed young woman takes a job a...      105   \n",
       "\n",
       "                                        genres  \\\n",
       "1885          Adventure|Action|Science Fiction   \n",
       "1886                     Horror|Family|Foreign   \n",
       "1887  Adventure|Animation|Action|Comedy|Family   \n",
       "1888                              Comedy|Drama   \n",
       "1889                                  Thriller   \n",
       "\n",
       "                                   production_companies release_date  \\\n",
       "1885  Twentieth Century Fox Film Corporation|Donners...    7/13/2000   \n",
       "1886                                    New Line Cinema   10/27/2000   \n",
       "1887  Universal Pictures|Capella International|KC Me...    6/30/2000   \n",
       "1888  Laurence Mark Productions|Columbia Pictures Co...    2/16/2000   \n",
       "1889                              Warner Bros. Pictures    7/19/2000   \n",
       "\n",
       "      vote_count  vote_average  release_year  \n",
       "1885        2766           6.6          2000  \n",
       "1886          42           6.4          2000  \n",
       "1887          35           4.0          2000  \n",
       "1888          21           5.2          2000  \n",
       "1889          12           5.2          2000  "
      ]
     },
     "execution_count": 3,
     "metadata": {},
     "output_type": "execute_result"
    }
   ],
   "source": [
    "data.tail()"
   ]
  },
  {
   "cell_type": "markdown",
   "metadata": {},
   "source": [
    "# Dataset preprocessing"
   ]
  },
  {
   "cell_type": "code",
   "execution_count": 4,
   "metadata": {
    "scrolled": true
   },
   "outputs": [
    {
     "name": "stdout",
     "output_type": "stream",
     "text": [
      "Total amount of observations in dataset: 1890\n"
     ]
    }
   ],
   "source": [
    "print(f'Total amount of observations in dataset: {len(data)}')"
   ]
  },
  {
   "cell_type": "code",
   "execution_count": 5,
   "metadata": {
    "scrolled": true
   },
   "outputs": [
    {
     "name": "stdout",
     "output_type": "stream",
     "text": [
      "<class 'pandas.core.frame.DataFrame'>\n",
      "RangeIndex: 1890 entries, 0 to 1889\n",
      "Data columns (total 16 columns):\n",
      " #   Column                Non-Null Count  Dtype  \n",
      "---  ------                --------------  -----  \n",
      " 0   imdb_id               1890 non-null   object \n",
      " 1   popularity            1890 non-null   float64\n",
      " 2   budget                1890 non-null   int64  \n",
      " 3   revenue               1890 non-null   int64  \n",
      " 4   original_title        1890 non-null   object \n",
      " 5   cast                  1890 non-null   object \n",
      " 6   director              1890 non-null   object \n",
      " 7   tagline               1890 non-null   object \n",
      " 8   overview              1890 non-null   object \n",
      " 9   runtime               1890 non-null   int64  \n",
      " 10  genres                1890 non-null   object \n",
      " 11  production_companies  1890 non-null   object \n",
      " 12  release_date          1890 non-null   object \n",
      " 13  vote_count            1890 non-null   int64  \n",
      " 14  vote_average          1890 non-null   float64\n",
      " 15  release_year          1890 non-null   int64  \n",
      "dtypes: float64(2), int64(5), object(9)\n",
      "memory usage: 236.4+ KB\n"
     ]
    }
   ],
   "source": [
    "# Let's see if there are any NaN-Values\n",
    "data.info()"
   ]
  },
  {
   "cell_type": "code",
   "execution_count": 6,
   "metadata": {},
   "outputs": [],
   "source": [
    "# Answer list - we will add every answer to this list\n",
    "answer_ls = []"
   ]
  },
  {
   "cell_type": "markdown",
   "metadata": {},
   "source": [
    "# 1. У какого фильма из списка самый большой бюджет?\n",
    "Варианты ответов:\n",
    "1. The Dark Knight Rises (tt1345836)\n",
    "2. Spider-Man 3 (tt0413300)\n",
    "3. Avengers: Age of Ultron (tt2395427)\n",
    "4. The Warrior's Way\t(tt1032751)\n",
    "5. Pirates of the Caribbean: On Stranger Tides (tt1298650)"
   ]
  },
  {
   "cell_type": "code",
   "execution_count": 7,
   "metadata": {
    "scrolled": false
   },
   "outputs": [
    {
     "data": {
      "text/plain": [
       "491    The Warrior's Way\n",
       "Name: original_title, dtype: object"
      ]
     },
     "execution_count": 7,
     "metadata": {},
     "output_type": "execute_result"
    }
   ],
   "source": [
    "data[data.budget == data.budget.max()].original_title"
   ]
  },
  {
   "cell_type": "code",
   "execution_count": 8,
   "metadata": {},
   "outputs": [],
   "source": [
    "answer_ls.append(4)"
   ]
  },
  {
   "cell_type": "markdown",
   "metadata": {},
   "source": [
    "# 2. Какой из фильмов самый длительный (в минутах)\n",
    "1. The Lord of the Rings: The Return of the King\t(tt0167260)\n",
    "2. Gods and Generals\t(tt0279111)\n",
    "3. King Kong\t(tt0360717)\n",
    "4. Pearl Harbor\t(tt0213149)\n",
    "5. Alexander\t(tt0346491)"
   ]
  },
  {
   "cell_type": "code",
   "execution_count": 9,
   "metadata": {},
   "outputs": [
    {
     "data": {
      "text/plain": [
       "1158    Gods and Generals\n",
       "Name: original_title, dtype: object"
      ]
     },
     "execution_count": 9,
     "metadata": {},
     "output_type": "execute_result"
    }
   ],
   "source": [
    "data[data.runtime == data.runtime.max()].original_title"
   ]
  },
  {
   "cell_type": "code",
   "execution_count": 10,
   "metadata": {},
   "outputs": [],
   "source": [
    "answer_ls.append(2)"
   ]
  },
  {
   "cell_type": "markdown",
   "metadata": {},
   "source": [
    "# 3. Какой из фильмов самый короткий (в минутах)\n",
    "Варианты ответов:\n",
    "\n",
    "1. Home on the Range\ttt0299172\n",
    "2. The Jungle Book 2\ttt0283426\n",
    "3. Winnie the Pooh\ttt1449283\n",
    "4. Corpse Bride\ttt0121164\n",
    "5. Hoodwinked!\ttt0443536"
   ]
  },
  {
   "cell_type": "code",
   "execution_count": 11,
   "metadata": {},
   "outputs": [
    {
     "data": {
      "text/plain": [
       "769    Winnie the Pooh\n",
       "Name: original_title, dtype: object"
      ]
     },
     "execution_count": 11,
     "metadata": {},
     "output_type": "execute_result"
    }
   ],
   "source": [
    "data[data.runtime == data.runtime.min()].original_title"
   ]
  },
  {
   "cell_type": "code",
   "execution_count": 12,
   "metadata": {},
   "outputs": [],
   "source": [
    "answer_ls.append(3)"
   ]
  },
  {
   "cell_type": "markdown",
   "metadata": {},
   "source": [
    "# 4. Средняя длительность фильма?\n",
    "\n",
    "Варианты ответов:\n",
    "1. 115\n",
    "2. 110\n",
    "3. 105\n",
    "4. 120\n",
    "5. 100\n"
   ]
  },
  {
   "cell_type": "code",
   "execution_count": 13,
   "metadata": {},
   "outputs": [
    {
     "data": {
      "text/plain": [
       "110"
      ]
     },
     "execution_count": 13,
     "metadata": {},
     "output_type": "execute_result"
    }
   ],
   "source": [
    "round(data.runtime.mean())"
   ]
  },
  {
   "cell_type": "code",
   "execution_count": 14,
   "metadata": {},
   "outputs": [],
   "source": [
    "answer_ls.append(2)"
   ]
  },
  {
   "cell_type": "markdown",
   "metadata": {},
   "source": [
    "# 5. Средняя длительность фильма по медиане?\n",
    "Варианты ответов:\n",
    "1. 106\n",
    "2. 112\n",
    "3. 101\n",
    "4. 120\n",
    "5. 115\n",
    "\n",
    "\n"
   ]
  },
  {
   "cell_type": "code",
   "execution_count": 15,
   "metadata": {
    "scrolled": true
   },
   "outputs": [
    {
     "data": {
      "text/plain": [
       "106"
      ]
     },
     "execution_count": 15,
     "metadata": {},
     "output_type": "execute_result"
    }
   ],
   "source": [
    "round(data.runtime.median())"
   ]
  },
  {
   "cell_type": "code",
   "execution_count": 16,
   "metadata": {},
   "outputs": [],
   "source": [
    "answer_ls.append(1)"
   ]
  },
  {
   "cell_type": "markdown",
   "metadata": {},
   "source": [
    "# 6. Какой самый прибыльный фильм?\n",
    "Варианты ответов:\n",
    "1. The Avengers\ttt0848228\n",
    "2. Minions\ttt2293640\n",
    "3. Star Wars: The Force Awakens\ttt2488496\n",
    "4. Furious 7\ttt2820852\n",
    "5. Avatar\ttt0499549"
   ]
  },
  {
   "cell_type": "code",
   "execution_count": 17,
   "metadata": {},
   "outputs": [],
   "source": [
    "data['profit'] = data.revenue - data.budget"
   ]
  },
  {
   "cell_type": "code",
   "execution_count": 18,
   "metadata": {},
   "outputs": [
    {
     "data": {
      "text/plain": [
       "239    Avatar\n",
       "Name: original_title, dtype: object"
      ]
     },
     "execution_count": 18,
     "metadata": {},
     "output_type": "execute_result"
    }
   ],
   "source": [
    "data[data.profit == data.profit.max()].original_title"
   ]
  },
  {
   "cell_type": "code",
   "execution_count": 19,
   "metadata": {},
   "outputs": [],
   "source": [
    "answer_ls.append(5)"
   ]
  },
  {
   "cell_type": "markdown",
   "metadata": {},
   "source": [
    "# 7. Какой фильм самый убыточный?\n",
    "Варианты ответов:\n",
    "1. Supernova tt0134983\n",
    "2. The Warrior's Way tt1032751\n",
    "3. Flushed Away\ttt0424095\n",
    "4. The Adventures of Pluto Nash\ttt0180052\n",
    "5. The Lone Ranger\ttt1210819"
   ]
  },
  {
   "cell_type": "code",
   "execution_count": 20,
   "metadata": {},
   "outputs": [
    {
     "data": {
      "text/plain": [
       "491    The Warrior's Way\n",
       "Name: original_title, dtype: object"
      ]
     },
     "execution_count": 20,
     "metadata": {},
     "output_type": "execute_result"
    }
   ],
   "source": [
    "data[data.profit == data.profit.min()].original_title"
   ]
  },
  {
   "cell_type": "code",
   "execution_count": 21,
   "metadata": {},
   "outputs": [],
   "source": [
    "answer_ls.append(2)"
   ]
  },
  {
   "cell_type": "markdown",
   "metadata": {},
   "source": [
    "# 8. Сколько всего фильмов в прибыли?\n",
    "Варианты ответов:\n",
    "1. 1478\n",
    "2. 1520\n",
    "3. 1241\n",
    "4. 1135\n",
    "5. 1398\n"
   ]
  },
  {
   "cell_type": "code",
   "execution_count": 22,
   "metadata": {},
   "outputs": [
    {
     "name": "stdout",
     "output_type": "stream",
     "text": [
      "Total amount of profitable movies: 1478\n"
     ]
    }
   ],
   "source": [
    "profitable = data[data.profit > 0].original_title.count()\n",
    "print(f'Total amount of profitable movies: {profitable}')"
   ]
  },
  {
   "cell_type": "code",
   "execution_count": 23,
   "metadata": {},
   "outputs": [],
   "source": [
    "answer_ls.append(1)"
   ]
  },
  {
   "cell_type": "markdown",
   "metadata": {},
   "source": [
    "# 9. Самый прибыльный фильм в 2008 году?\n",
    "Варианты ответов:\n",
    "1. Madagascar: Escape 2 Africa\ttt0479952\n",
    "2. Iron Man\ttt0371746\n",
    "3. Kung Fu Panda\ttt0441773\n",
    "4. The Dark Knight\ttt0468569\n",
    "5. Mamma Mia!\ttt0795421"
   ]
  },
  {
   "cell_type": "code",
   "execution_count": 24,
   "metadata": {},
   "outputs": [
    {
     "data": {
      "text/plain": [
       "600    The Dark Knight\n",
       "Name: original_title, dtype: object"
      ]
     },
     "execution_count": 24,
     "metadata": {},
     "output_type": "execute_result"
    }
   ],
   "source": [
    "data.query('release_year == 2008').query('profit == profit.max()').original_title"
   ]
  },
  {
   "cell_type": "code",
   "execution_count": 25,
   "metadata": {},
   "outputs": [],
   "source": [
    "answer_ls.append(4)"
   ]
  },
  {
   "cell_type": "markdown",
   "metadata": {},
   "source": [
    "# 10. Самый убыточный фильм за период с 2012 по 2014 (включительно)?\n",
    "Варианты ответов:\n",
    "1. Winter's Tale\ttt1837709\n",
    "2. Stolen\ttt1656186\n",
    "3. Broken City\ttt1235522\n",
    "4. Upside Down\ttt1374992\n",
    "5. The Lone Ranger\ttt1210819\n"
   ]
  },
  {
   "cell_type": "code",
   "execution_count": 26,
   "metadata": {
    "scrolled": true
   },
   "outputs": [
    {
     "data": {
      "text/plain": [
       "1246    The Lone Ranger\n",
       "Name: original_title, dtype: object"
      ]
     },
     "execution_count": 26,
     "metadata": {},
     "output_type": "execute_result"
    }
   ],
   "source": [
    "data.query('2012 <= release_year <= 2014').query('profit == profit.min()').original_title"
   ]
  },
  {
   "cell_type": "code",
   "execution_count": 27,
   "metadata": {},
   "outputs": [],
   "source": [
    "answer_ls.append(5)"
   ]
  },
  {
   "cell_type": "markdown",
   "metadata": {},
   "source": [
    "# 11. Какого жанра фильмов больше всего?\n",
    "Варианты ответов:\n",
    "1. Action\n",
    "2. Adventure\n",
    "3. Drama\n",
    "4. Comedy\n",
    "5. Thriller"
   ]
  },
  {
   "cell_type": "code",
   "execution_count": 28,
   "metadata": {
    "scrolled": true
   },
   "outputs": [],
   "source": [
    "def spliter(column):\n",
    "    return column.split('|')"
   ]
  },
  {
   "cell_type": "code",
   "execution_count": 29,
   "metadata": {
    "scrolled": true
   },
   "outputs": [
    {
     "name": "stdout",
     "output_type": "stream",
     "text": [
      "[('r', 3553)]\n"
     ]
    }
   ],
   "source": [
    "genre_counter = Counter()\n",
    "for genres in data.genres:\n",
    "    for genre in genres:\n",
    "        genre_counter[genre] += 1\n",
    "print(genre_counter.most_common(1))"
   ]
  },
  {
   "cell_type": "code",
   "execution_count": 30,
   "metadata": {
    "scrolled": true
   },
   "outputs": [
    {
     "name": "stderr",
     "output_type": "stream",
     "text": [
      "C:\\ProgramData\\Anaconda3\\lib\\site-packages\\pandas\\core\\frame.py:469: FutureWarning: Columnar iteration over characters will be deprecated in future releases.\n",
      "  data = list(data)\n"
     ]
    },
    {
     "data": {
      "text/plain": [
       "'r'"
      ]
     },
     "execution_count": 30,
     "metadata": {},
     "output_type": "execute_result"
    }
   ],
   "source": [
    "# Another way to solve it\n",
    "pd.DataFrame(data.\n",
    "             genres.str).stack().value_counts().index[0]"
   ]
  },
  {
   "cell_type": "code",
   "execution_count": 31,
   "metadata": {},
   "outputs": [],
   "source": [
    "answer_ls.append(3)"
   ]
  },
  {
   "cell_type": "markdown",
   "metadata": {},
   "source": [
    "# 12. Какого жанра среди прибыльных фильмов больше всего?\n",
    "Варианты ответов:\n",
    "1. Drama\n",
    "2. Comedy\n",
    "3. Action\n",
    "4. Thriller\n",
    "5. Adventure"
   ]
  },
  {
   "cell_type": "code",
   "execution_count": 32,
   "metadata": {},
   "outputs": [],
   "source": [
    "data.genres = data.genres.apply(spliter)"
   ]
  },
  {
   "cell_type": "code",
   "execution_count": 33,
   "metadata": {},
   "outputs": [
    {
     "data": {
      "text/plain": [
       "[('Drama', 560)]"
      ]
     },
     "execution_count": 33,
     "metadata": {},
     "output_type": "execute_result"
    }
   ],
   "source": [
    "profitable = data[data.profit > 0]\n",
    "genre_counter = Counter()\n",
    "for genres in profitable.genres:\n",
    "    for genre in genres:\n",
    "        genre_counter[genre] += 1\n",
    "genre_counter.most_common(1)"
   ]
  },
  {
   "cell_type": "code",
   "execution_count": 34,
   "metadata": {},
   "outputs": [],
   "source": [
    "answer_ls.append(1)"
   ]
  },
  {
   "cell_type": "markdown",
   "metadata": {},
   "source": [
    "# 13. Кто из режиссеров снял больше всего фильмов?\n",
    "Варианты ответов:\n",
    "1. Steven Spielberg\n",
    "2. Ridley Scott \n",
    "3. Steven Soderbergh\n",
    "4. Christopher Nolan\n",
    "5. Clint Eastwood"
   ]
  },
  {
   "cell_type": "code",
   "execution_count": 35,
   "metadata": {},
   "outputs": [
    {
     "data": {
      "text/plain": [
       "0                                         Colin Trevorrow\n",
       "1                                           George Miller\n",
       "2                                        Robert Schwentke\n",
       "3                                             J.J. Abrams\n",
       "4                                               James Wan\n",
       "5                          Alejandro GonzÃ¡lez IÃ±Ã¡rritu\n",
       "6                                             Alan Taylor\n",
       "7                                            Ridley Scott\n",
       "8                                Kyle Balda|Pierre Coffin\n",
       "9                                             Pete Docter\n",
       "10                                             Sam Mendes\n",
       "11                         Lana Wachowski|Lilly Wachowski\n",
       "12                                           Alex Garland\n",
       "13                                         Chris Columbus\n",
       "14                                            Joss Whedon\n",
       "15                                      Quentin Tarantino\n",
       "16                                        Olivier Megaton\n",
       "17                                            Peyton Reed\n",
       "18                                        Kenneth Branagh\n",
       "19                                       Francis Lawrence\n",
       "20                                              Brad Bird\n",
       "21                                          Antoine Fuqua\n",
       "22                                            Brad Peyton\n",
       "23                                     Sam Taylor-Johnson\n",
       "24                                             Adam McKay\n",
       "25                                  Christopher McQuarrie\n",
       "26                                        Seth MacFarlane\n",
       "27                                         Matthew Vaughn\n",
       "28                                           Tom McCarthy\n",
       "29                                               Wes Ball\n",
       "30                                         Neill Blomkamp\n",
       "31                                        Elizabeth Banks\n",
       "32                                       Steven Spielberg\n",
       "33                                          Rob Letterman\n",
       "34                                       Lenny Abrahamson\n",
       "35                                             Peter Sohn\n",
       "36                                     Jaume Collet-Serra\n",
       "37                                           John Crowley\n",
       "38                                           F. Gary Gray\n",
       "39                                           Breck Eisner\n",
       "40                                            Guy Ritchie\n",
       "41                                     Lee Toland Krieger\n",
       "42                                        Ilya Naishuller\n",
       "43                                            Tim Johnson\n",
       "44                                          Jake Schreier\n",
       "45                                            Todd Haynes\n",
       "46                                           Nancy Meyers\n",
       "47                                     Baltasar KormÃ¡kur\n",
       "48                                           Ericson Core\n",
       "49                                             John Wells\n",
       "50                                           Tarsem Singh\n",
       "51                                            David Koepp\n",
       "52                                             Tom Hooper\n",
       "53                                           Michael Mann\n",
       "54                                       Denis Villeneuve\n",
       "55                                             Josh Trank\n",
       "56                                              Paul Feig\n",
       "57                               Glenn Ficarra|John Requa\n",
       "58                                        Aleksander Bach\n",
       "59                                             Ron Howard\n",
       "60                                           Ryan Coogler\n",
       "61                                            Judd Apatow\n",
       "62                                             Gavin Hood\n",
       "63                                        Brian Helgeland\n",
       "64                                             Joe Wright\n",
       "65                                          Steve Martino\n",
       "66                                        Peter Landesman\n",
       "67                                        Jonathan Levine\n",
       "68                                    George Tillman, Jr.\n",
       "69                                     Genndy Tartakovsky\n",
       "70                                          Jessie Nelson\n",
       "71                                        Robert Zemeckis\n",
       "72               John Francis Daley|Jonathan M. Goldstein\n",
       "73                                              Gil Kenan\n",
       "74                                        Daniel Espinosa\n",
       "75                                          Joel Edgerton\n",
       "76                                            Sean Anders\n",
       "77                                           Mark Osborne\n",
       "78                                      Jocelyn Moorhouse\n",
       "79                                             Ari Sandel\n",
       "80                                             Ciaran Foy\n",
       "81                                           Andy Fickman\n",
       "82                                             Doug Ellin\n",
       "83                                        Jeremy Garelick\n",
       "84                                     M. Night Shyamalan\n",
       "85                                           Scott Cooper\n",
       "86                                      Michael Dougherty\n",
       "87                                      John Erick Dowdle\n",
       "88                                           Simon Curtis\n",
       "89                                            Jason Moore\n",
       "90                                         Dean Israelite\n",
       "91                                      Camille Delamarre\n",
       "92                                     Guillermo del Toro\n",
       "93                                         Gregory Jacobs\n",
       "94                                        Gregory Plotkin\n",
       "95                                              Jay Roach\n",
       "96                                              Billy Ray\n",
       "97                                           Paul Tibbitt\n",
       "98                                             Boaz Yakin\n",
       "99                                           Pierre Morel\n",
       "100                                         Anne Fletcher\n",
       "101                                        Leigh Whannell\n",
       "102                                       Nicholas Hytner\n",
       "103                                         Paul McGuigan\n",
       "104                                        Jonathan Demme\n",
       "105                                    David M. Rosenthal\n",
       "106                                         Noah Baumbach\n",
       "107                                            Etan Cohen\n",
       "108                                          Sarah Gavron\n",
       "109                                            Max Joseph\n",
       "110                                  Alejandro Monteverde\n",
       "111                                         Cameron Crowe\n",
       "112                                    David Gordon Green\n",
       "113                                        Barry Levinson\n",
       "114                                            Ken Kwapis\n",
       "115                                             Ken Scott\n",
       "116                                           Mike Binder\n",
       "117                                            Jon M. Chu\n",
       "118                                     Christopher Nolan\n",
       "119                                            James Gunn\n",
       "120                               Joe Russo|Anthony Russo\n",
       "121                           Chad Stahelski|David Leitch\n",
       "122                                      Francis Lawrence\n",
       "123                                         Peter Jackson\n",
       "124                               Don Hall|Chris Williams\n",
       "125                                         Morten Tyldum\n",
       "126                                              Wes Ball\n",
       "127                        Alejandro GonzÃ¡lez IÃ±Ã¡rritu\n",
       "128                                         David Fincher\n",
       "129                                            David Ayer\n",
       "130                                            Shawn Levy\n",
       "131                                           Neil Burger\n",
       "132                                          Bryan Singer\n",
       "133                                            Luc Besson\n",
       "134                                    Jonathan Liebesman\n",
       "135                                           Jake Kasdan\n",
       "136                                            Dan Gilroy\n",
       "137                                           Michael Bay\n",
       "138                                          Wes Anderson\n",
       "139                                           Matt Reeves\n",
       "140                                         Antoine Fuqua\n",
       "141                                           Sean Anders\n",
       "142                                             Marc Webb\n",
       "143                                            Doug Liman\n",
       "144                              Evan Goldberg|Seth Rogen\n",
       "145                                        Clint Eastwood\n",
       "146                                          Ridley Scott\n",
       "147                                        Gareth Edwards\n",
       "148                                      Robert Stromberg\n",
       "149                                       Roger Donaldson\n",
       "150                                          Stiles White\n",
       "151                                          Dean DeBlois\n",
       "152                                        Patrick Hughes\n",
       "153                          Phil Lord|Christopher Miller\n",
       "154                                         Sergey Bodrov\n",
       "155                                           James Marsh\n",
       "156                                       Luke Greenfield\n",
       "157                                            Gary Shore\n",
       "158                           Simon J. Smith|Eric Darnell\n",
       "159                                          Rob Marshall\n",
       "160                                            Noam Murro\n",
       "161                                         Phillip Noyce\n",
       "162                          Phil Lord|Christopher Miller\n",
       "163                                           Scott Frank\n",
       "164                                             Paul King\n",
       "165                                          Daniel Barnz\n",
       "166                                           Jon Favreau\n",
       "167                                        James DeMonaco\n",
       "168                                         Vic Armstrong\n",
       "169                                          J.C. Chandor\n",
       "170                                          Brett Ratner\n",
       "171                                      Darren Aronofsky\n",
       "172                                          David Dobkin\n",
       "173                                          Frank Coraci\n",
       "174                                      Nicholas Stoller\n",
       "175                                           R.J. Cutler\n",
       "176                                             Trish Sie\n",
       "177                                            Josh Boone\n",
       "178                                             Tim Story\n",
       "179                                  Paul Thomas Anderson\n",
       "180                                       Kenneth Branagh\n",
       "181                                    Jaume Collet-Serra\n",
       "182                         Michael Spierig|Peter Spierig\n",
       "183                                         JosÃ© Padilha\n",
       "184                                         Wally Pfister\n",
       "185                                       Nick Cassavetes\n",
       "186                                           Rob Minkoff\n",
       "187                         Frank Miller|Robert Rodriguez\n",
       "188                                       Carlos Saldanha\n",
       "189                         Bobby Farrelly|Peter Farrelly\n",
       "190                                        George Clooney\n",
       "191                                        Angelina Jolie\n",
       "192                                          Ava DuVernay\n",
       "193                                    Paul W.S. Anderson\n",
       "194                                       Michael Hoffman\n",
       "195                                            Will Gluck\n",
       "196                                        Theodore Melfi\n",
       "197                                           Scott Waugh\n",
       "198                                      Lasse HallstrÃ¶m\n",
       "199                        Graham Annable|Anthony Stacchi\n",
       "200                                            Tim Burton\n",
       "201                                        Brian A Miller\n",
       "202                                          Steven Quale\n",
       "203                                      Roberts Gannaway\n",
       "204                                            David Ayer\n",
       "205                                            Sam Miller\n",
       "206                                     John Erick Dowdle\n",
       "207                                        Bennett Miller\n",
       "208                                           Shana Feste\n",
       "209                                         David MichÃ´d\n",
       "210                                             Saul Dibb\n",
       "211                                      John R. Leonetti\n",
       "212                                        Stuart Beattie\n",
       "213                                          Tom Gormican\n",
       "214                                     Camille Delamarre\n",
       "215                                           Ben Falcone\n",
       "216                                        Akiva Goldsman\n",
       "217                                          Adam Wingard\n",
       "218                                         Russell Crowe\n",
       "219                                         Miguel Arteta\n",
       "220                                            Shawn Levy\n",
       "221                                            Steve Pink\n",
       "222                                       Craig Gillespie\n",
       "223                                       Jonathan Glazer\n",
       "224                                            Rob Thomas\n",
       "225                                   Christopher Spencer\n",
       "226                                         Thomas Carter\n",
       "227                                    GrÃ©gory Levasseur\n",
       "228                                        Michael Cuesta\n",
       "229                                  Charles Martin Smith\n",
       "230                                           James Bobin\n",
       "231                                       Randall Wallace\n",
       "232                                          Renny Harlin\n",
       "233                                Andrew Erwin|Jon Erwin\n",
       "234                                            Dave Green\n",
       "235                                          Rupert Wyatt\n",
       "236                                          Don McKellar\n",
       "237                                          Harold Cronk\n",
       "238                   Matt Bettinelli-Olpin|Tyler Gillett\n",
       "239                                         James Cameron\n",
       "240                                     Quentin Tarantino\n",
       "241                                    Patrick Tatopoulos\n",
       "242                                           David Yates\n",
       "243                              Bob Peterson|Pete Docter\n",
       "244                                           J.J. Abrams\n",
       "245                                                   McG\n",
       "246                                        Neill Blomkamp\n",
       "247                                           Guy Ritchie\n",
       "248                                             Marc Webb\n",
       "249                                         Todd Phillips\n",
       "250                                           Zack Snyder\n",
       "251                                       Roland Emmerich\n",
       "252                                           Shane Acker\n",
       "253                                            Ron Howard\n",
       "254                              Ron Clements|John Musker\n",
       "255                                      John Lee Hancock\n",
       "256                                       Ruben Fleischer\n",
       "257                                           Chris Weitz\n",
       "258                                            Ken Kwapis\n",
       "259                                       Stephen Sommers\n",
       "260                                         Anne Fletcher\n",
       "261                                        Robert Luketic\n",
       "262                          Phil Lord|Christopher Miller\n",
       "263                                          Wes Anderson\n",
       "264                                          Henry Selick\n",
       "265                                            Shawn Levy\n",
       "266                                           Burr Steers\n",
       "267                                       Robert Zemeckis\n",
       "268                                         Peter Jackson\n",
       "269                                            Steve Carr\n",
       "270                                      Lasse HallstrÃ¶m\n",
       "271                                          F. Gary Gray\n",
       "272                                         Richard Kelly\n",
       "273                           Mark Neveldine|Brian Taylor\n",
       "274                                      Christian Alvart\n",
       "275                                             Sam Raimi\n",
       "276                                           Alex Proyas\n",
       "277                                          Duncan Jones\n",
       "278                                          Hoyt Yeatman\n",
       "279                                            Tony Scott\n",
       "280                        Ricky Gervais|Matthew Robinson\n",
       "281                                            P.J. Hogan\n",
       "282                           Mark Neveldine|Brian Taylor\n",
       "283                                      Jaco Van Dormael\n",
       "284                                     Peter Billingsley\n",
       "285                                          Jim Sheridan\n",
       "286                                         John Hillcoat\n",
       "287                           Rob Letterman|Conrad Vernon\n",
       "288                                           Nora Ephron\n",
       "289                                           Atom Egoyan\n",
       "290                                          Michael Mann\n",
       "291                                          Karyn Kusama\n",
       "292                                    Jaume Collet-Serra\n",
       "293                                           Phil Traill\n",
       "294                                        David R. Ellis\n",
       "295                                          Betty Thomas\n",
       "296                                           Gary Winick\n",
       "297                                           Lee Daniels\n",
       "298                                       Kevin Macdonald\n",
       "299                                        David S. Goyer\n",
       "300                                          John Hamburg\n",
       "301                                     Steven Soderbergh\n",
       "302                                          Andy Fickman\n",
       "303                                      Christian Alvart\n",
       "304                                        Richard Curtis\n",
       "305                         Michael Spierig|Peter Spierig\n",
       "306                                          Brandon Camp\n",
       "307                                         Paul McGuigan\n",
       "308                                         Antoine Fuqua\n",
       "309                                        Kevin Greutert\n",
       "310                                     Jean-Marc VallÃ©e\n",
       "311                                  Ethan Coen|Joel Coen\n",
       "312                                           David Twohy\n",
       "313                                          Dominic Sena\n",
       "314                              Glenn Ficarra|John Requa\n",
       "315                                          Renny Harlin\n",
       "316                                       Rajkumar Hirani\n",
       "317                                           Michael Bay\n",
       "318                                          Grant Heslov\n",
       "319                                        James McTeigue\n",
       "320                                            Todd Graff\n",
       "321                                          Nancy Meyers\n",
       "322                                       Brad Silberling\n",
       "323                                        Clint Eastwood\n",
       "324             Jorge Blanco|Javier Abad|Marcos MartÃ­nez\n",
       "325                                          Harold Ramis\n",
       "326                                       Patrick Lussier\n",
       "327                                           Walt Becker\n",
       "328                                   Alejandro AmenÃ¡bar\n",
       "329                                            Troy Duffy\n",
       "330                                         Werner Herzog\n",
       "331                                         NimrÃ³d Antal\n",
       "332                                            Paul Weitz\n",
       "333                                         Lone Scherfig\n",
       "334                                           Judd Apatow\n",
       "335                                         Jason Reitman\n",
       "336                                          David Bowers\n",
       "337                                            Tom Tykwer\n",
       "338                                            Justin Lin\n",
       "339                                         Michael Moore\n",
       "340                                            Rob Zombie\n",
       "341                                         Peter Chelsom\n",
       "342                                          John Schultz\n",
       "343                                    Olatunde Osunsanmi\n",
       "344                          Brian Koppelman|David Levien\n",
       "345                                           Tony Gilroy\n",
       "346                                          Jane Campion\n",
       "347                                          Greg Mottola\n",
       "348                                            Mike Judge\n",
       "349                                         Donald Petrie\n",
       "350                                       Nick Cassavetes\n",
       "351                                            Joe Wright\n",
       "352                                         Marcus Nispel\n",
       "353                                         Daniel Barber\n",
       "354                                       Jonathan Mostow\n",
       "355                                    Andrzej Bartkowiak\n",
       "356                                      Thor Freudenthal\n",
       "357                                           Steve Shill\n",
       "358                                    Michael J. Bassett\n",
       "359                                            Gavin Hood\n",
       "360                                           Jonas Elmer\n",
       "361                                     Richard Linklater\n",
       "362                                      Robert Rodriguez\n",
       "363                                       Stewart Hendler\n",
       "364                                         Derrick Borte\n",
       "365                                          Vicky Jenson\n",
       "366                                          Scott Cooper\n",
       "367                                         Marc Lawrence\n",
       "368                                          Toby Wilkins\n",
       "369                                       Bruce Beresford\n",
       "370                                     Christopher Nolan\n",
       "371                                           Jon Favreau\n",
       "372                                            Tim Burton\n",
       "373                                      Darren Aronofsky\n",
       "374                                           David Yates\n",
       "375                            Pierre Coffin|Chris Renaud\n",
       "376                                    Sylvester Stallone\n",
       "377                            Dean DeBlois|Chris Sanders\n",
       "378                                       Martin Scorsese\n",
       "379                                       Joseph Kosinski\n",
       "380                             Nathan Greno|Byron Howard\n",
       "381                                           Lee Unkrich\n",
       "382                                         Phillip Noyce\n",
       "383                                           Danny Boyle\n",
       "384                                            Will Gluck\n",
       "385                                         Michael Apted\n",
       "386                                        Matthew Vaughn\n",
       "387                      Florian Henckel von Donnersmarck\n",
       "388                                           Mike Newell\n",
       "389                                          Ridley Scott\n",
       "390                                  Ethan Coen|Joel Coen\n",
       "391                                       Louis Leterrier\n",
       "392                                        Jon Turteltaub\n",
       "393                                         David Fincher\n",
       "394                                          Edgar Wright\n",
       "395                                            Paul Weitz\n",
       "396                                         NimrÃ³d Antal\n",
       "397                                        Chris Columbus\n",
       "398                                            Tony Scott\n",
       "399                                         Mike Mitchell\n",
       "400                                      Lasse HallstrÃ¶m\n",
       "401                                          Joe Carnahan\n",
       "402                                      Robert Schwentke\n",
       "403                       Robert Rodriguez|Ethan Maniquis\n",
       "404                                          Dennis Dugan\n",
       "405                            Albert Hughes|Allen Hughes\n",
       "406                                            Shawn Levy\n",
       "407                                           Ben Affleck\n",
       "408                                           David Slade\n",
       "409                                           Tom McGrath\n",
       "410                                    M. Night Shyamalan\n",
       "411                                            Adam McKay\n",
       "412                                            Jon M. Chu\n",
       "413                                            Tom Hooper\n",
       "414                                          Edward Zwick\n",
       "415                                            Peter Weir\n",
       "416                                      Miguel Sapochnik\n",
       "417                                         James Mangold\n",
       "418                                           Ryan Murphy\n",
       "419                                          Andy Tennant\n",
       "420                                          Anand Tucker\n",
       "421                                       Paul Greengrass\n",
       "422                                         Rob Letterman\n",
       "423                                             Alan Poul\n",
       "424                                           Burr Steers\n",
       "425                                Josh Gordon|Will Speck\n",
       "426                                     Floria Sigismondi\n",
       "427                                        Garry Marshall\n",
       "428                                            Troy Nixey\n",
       "429                                        Kevin Greutert\n",
       "430                                          Harald Zwart\n",
       "431                                         Todd Phillips\n",
       "432                                         Jonathan Lynn\n",
       "433                                        Roman Polanski\n",
       "434                                           Paul Haggis\n",
       "435                                          Samuel Bayer\n",
       "436                                      David O. Russell\n",
       "437                                      Nicholas Stoller\n",
       "438                                         Jimmy Hayward\n",
       "439                         Jason Friedberg|Aaron Seltzer\n",
       "440                                        Robert Luketic\n",
       "441                                         Scott Stewart\n",
       "442                                  Michael Patrick King\n",
       "443                                          Andy Fickman\n",
       "444                                         Susanna White\n",
       "445                                            Steve Pink\n",
       "446                                           Matt Reeves\n",
       "447                                           Zack Snyder\n",
       "448                                       John Luessenhop\n",
       "449                                           Steve Antin\n",
       "450                                            John Wells\n",
       "451                                      Nanette Burstein\n",
       "452                                          Mark Romanek\n",
       "453                                           Kevin Smith\n",
       "454                                         Greg Berlanti\n",
       "455                                         Neil Marshall\n",
       "456                                           John Curran\n",
       "457                                      Thor Freudenthal\n",
       "458                                         Alexandre Aja\n",
       "459                                         Roger Michell\n",
       "460                                          Tony Goldwyn\n",
       "461                                       Michael Lembeck\n",
       "462                                            Doug Liman\n",
       "463                                             Jay Roach\n",
       "464                            Colin Strause|Greg Strause\n",
       "465                                           John Madden\n",
       "466                                           Brad Peyton\n",
       "467                                         Jorma Taccone\n",
       "468                                       James L. Brooks\n",
       "469                                          Brian Levant\n",
       "470                                       Jim Field Smith\n",
       "471                                       William Monahan\n",
       "472                                        Clint Eastwood\n",
       "473                                            Wes Craven\n",
       "474                                        Robert Redford\n",
       "475                                           Neil LaBute\n",
       "476                                               Tom Dey\n",
       "477                                          Oliver Stone\n",
       "478                                              Dan Rush\n",
       "479                                          Breck Eisner\n",
       "480                                Anthony Bell|Ben Gluck\n",
       "481                                           Eric Brevig\n",
       "482                                           Shana Feste\n",
       "483                                        Stuart Beattie\n",
       "484                                           Tom Vaughan\n",
       "485                                     John Erick Dowdle\n",
       "486                                      Richard J. Lewis\n",
       "487                                       Martin Campbell\n",
       "488                                          Roger Kumble\n",
       "489                                          Kevin Munroe\n",
       "490                                          William Dear\n",
       "491                                            Sngmoo Lee\n",
       "492                                           John Landis\n",
       "493                                           Tyler Perry\n",
       "494                                    Paul W.S. Anderson\n",
       "495                                   Vipul Amrutlal Shah\n",
       "496                                       Randall Wallace\n",
       "497                                         Peter Jackson\n",
       "498                                        Chris Columbus\n",
       "499                                           David Lynch\n",
       "500               Lee Unkrich|David Silverman|Pete Docter\n",
       "501                                      Steven Spielberg\n",
       "502                           Andrew Adamson|Vicky Jenson\n",
       "503                                        Sharon Maguire\n",
       "504                                     Steven Soderbergh\n",
       "505                                           Michael Bay\n",
       "506                                       Stephen Sommers\n",
       "507                              Gary Trousdale|Kirk Wise\n",
       "508                                            Simon West\n",
       "509                                            Ron Howard\n",
       "510                                           J.B. Rogers\n",
       "511                                        Garry Marshall\n",
       "512                                          Baz Luhrmann\n",
       "513                                            Tim Burton\n",
       "514                                          Wes Anderson\n",
       "515                                             Ted Demme\n",
       "516                                   Jean-Jacques Annaud\n",
       "517                                          Ridley Scott\n",
       "518                                        Robert Luketic\n",
       "519                                       Brian Helgeland\n",
       "520                                           Ben Stiller\n",
       "521                                           Joel Gallen\n",
       "522                                   Keenen Ivory Wayans\n",
       "523                                          Brett Ratner\n",
       "524                                         Antoine Fuqua\n",
       "525                                   Alejandro AmenÃ¡bar\n",
       "526                                         John A. Davis\n",
       "527                                           Kevin Smith\n",
       "528                                         Peter Chelsom\n",
       "529                                     Lawrence Guterman\n",
       "530                                         Cameron Crowe\n",
       "531                                           Chris Nahon\n",
       "532                                            Tony Scott\n",
       "533                                          Dominic Sena\n",
       "534                         Bobby Farrelly|Peter Farrelly\n",
       "535                                          Peter Howitt\n",
       "536                Hironobu Sakaguchi|Motonori Sakakibara\n",
       "537                                     Michael Cristofer\n",
       "538                                            Steve Carr\n",
       "539                                            John Moore\n",
       "540                                          Victor Salva\n",
       "541                            Albert Hughes|Allen Hughes\n",
       "542                                             Rod Lurie\n",
       "543                                          Lee Tamahori\n",
       "544                                         Adam Shankman\n",
       "545                                          Jerry Zucker\n",
       "546                                         Robert Altman\n",
       "547                                           James Isaac\n",
       "548                                        Gore Verbinski\n",
       "549                                             John Dahl\n",
       "550                                         Jessie Nelson\n",
       "551                                         Stephen Herek\n",
       "552                                          Iain Softley\n",
       "553                                           Gary Fleder\n",
       "554                                          Simon Wincer\n",
       "555                                           Bill Paxton\n",
       "556                                          Luis Mandoki\n",
       "557                                           Scott Hicks\n",
       "558                                       Daniel Sackheim\n",
       "559                                         John Herzfeld\n",
       "560                                         Brian Robbins\n",
       "561                                          Ivan Reitman\n",
       "562                                          Michael Mann\n",
       "563                                              Frank Oz\n",
       "564                                         Dennie Gordon\n",
       "565                                    Andrzej Bartkowiak\n",
       "566                                          John Boorman\n",
       "567                                          Pat O'Connor\n",
       "568                                           Jesse Dylan\n",
       "569                                       Gregory Poirier\n",
       "570                                        Frank Darabont\n",
       "571                                   Demian Lichtenstein\n",
       "572                                        John Carpenter\n",
       "573                                          Dennis Dugan\n",
       "574                                        Penny Marshall\n",
       "575                         Bobby Farrelly|Peter Farrelly\n",
       "576                                           Mark Waters\n",
       "577                                             Rob Cohen\n",
       "578                                         Thomas Carter\n",
       "579                                      Robert Rodriguez\n",
       "580                                        Barry Levinson\n",
       "581                                       Luke Greenfield\n",
       "582                          Brian Koppelman|David Levien\n",
       "583                                        John Stockwell\n",
       "584                                          Renny Harlin\n",
       "585                          Brendan Malloy|Emmett Malloy\n",
       "586                                          Les Mayfield\n",
       "587                                          Ridley Scott\n",
       "588                                         Harold Becker\n",
       "589                                           Mike Tollin\n",
       "590                                              Tim Hill\n",
       "591                                          Henry Selick\n",
       "592                                            Rob Pritts\n",
       "593                                          Joe Johnston\n",
       "594                                           Peter Hyams\n",
       "595                                     Peter Bogdanovich\n",
       "596                                    Francine McDougall\n",
       "597                                   Ernest R. Dickerson\n",
       "598                                               DJ Pooh\n",
       "599                                        John Singleton\n",
       "600                                     Christopher Nolan\n",
       "601                                        Andrew Stanton\n",
       "602                                           Jon Favreau\n",
       "603                                          Pierre Morel\n",
       "604                                      Steven Spielberg\n",
       "605                                   Catherine Hardwicke\n",
       "606                                          Marc Forster\n",
       "607                           Mark Osborne|John Stevenson\n",
       "608                                        Phyllida Lloyd\n",
       "609                                         David Fincher\n",
       "610                                             Rob Cohen\n",
       "611                                       Louis Leterrier\n",
       "612                                        Clint Eastwood\n",
       "613                              Eric Darnell|Tom McGrath\n",
       "614                                    Guillermo del Toro\n",
       "615                                            Doug Liman\n",
       "616                                           Eric Brevig\n",
       "617                                     Timur Bekmambetov\n",
       "618                           Danny Boyle|Loveleen Tandan\n",
       "619                                       Olivier Megaton\n",
       "620                                          Bryan Singer\n",
       "621                                       Roland Emmerich\n",
       "622                                            Peter Berg\n",
       "623                                       Kathryn Bigelow\n",
       "624                                           Tom Vaughan\n",
       "625                                        Andrew Adamson\n",
       "626                                           Ben Stiller\n",
       "627                                           D.J. Caruso\n",
       "628                                           Mark Herman\n",
       "629                                    Sylvester Stallone\n",
       "630                                    Paul W.S. Anderson\n",
       "631                                            Jon M. Chu\n",
       "632                                      Scott Derrickson\n",
       "633                                      Gabriele Muccino\n",
       "634                                           Matt Reeves\n",
       "635                           Chris Williams|Byron Howard\n",
       "636                                      Nicholas Stoller\n",
       "637                                          Baz Luhrmann\n",
       "638                                           Peyton Reed\n",
       "639                                         David Frankel\n",
       "640                                          Ridley Scott\n",
       "641                                  Ethan Coen|Joel Coen\n",
       "642                                         Anne Fletcher\n",
       "643                                          Iain Softley\n",
       "644                                        Robert Luketic\n",
       "645                                            Adam McKay\n",
       "646                                          Andy Tennant\n",
       "647                                           Jeff Wadlow\n",
       "648                                    David Gordon Green\n",
       "649                                      Darren Aronofsky\n",
       "650                                         Adam Shankman\n",
       "651                                        Lexi Alexander\n",
       "652                                            John Moore\n",
       "653                                         Alexandre Aja\n",
       "654                                           Pete Travis\n",
       "655                                           Kevin Smith\n",
       "656                                           Peter Segal\n",
       "657                                            David Wain\n",
       "658                                     Mathieu Kassovitz\n",
       "659                                       Martin McDonagh\n",
       "660                                        Clint Eastwood\n",
       "661                                           Mark Waters\n",
       "662                        Jon Hurwitz|Hayden Schlossberg\n",
       "663                                            David Ayer\n",
       "664                                         Peter Sollett\n",
       "665                                           Seth Gordon\n",
       "666                                             Fred Wolf\n",
       "667                                           David Hackl\n",
       "668                                        Marco Schnabel\n",
       "669                        Lana Wachowski|Lilly Wachowski\n",
       "670                                           Woody Allen\n",
       "671                           Jimmy Hayward|Steve Martino\n",
       "672                                           Rob Minkoff\n",
       "673                                             Jon Avnet\n",
       "674                                         Brad Anderson\n",
       "675                                          Dennis Dugan\n",
       "676                                          Edward Zwick\n",
       "677                                        Gregory Hoblit\n",
       "678                                         Bryan Bertino\n",
       "679                                          Gus Van Sant\n",
       "680                                         Howard McCain\n",
       "681                                          Chris Carter\n",
       "682                                  John Patrick Shanley\n",
       "683                                             Gil Kenan\n",
       "684                                          Paul Weiland\n",
       "685                                    Marcel Langenegger\n",
       "686                                           Guy Ritchie\n",
       "687                             David Moreau|Xavier Palud\n",
       "688                            Oxide Pang Chun|Danny Pang\n",
       "689                         Jason Friedberg|Aaron Seltzer\n",
       "690                                          Frank Miller\n",
       "691                                    M. Night Shyamalan\n",
       "692                                         Neil Marshall\n",
       "693                                         GÃ¡bor CsupÃ³\n",
       "694                                  Michael Patrick King\n",
       "695                                        Peter Cattaneo\n",
       "696                           Robert Stevenhagen|Sam Fell\n",
       "697                                           Craig Mazin\n",
       "698                                 Gina Prince-Bythewood\n",
       "699                                          Raja Gosnell\n",
       "700                                            Sam Mendes\n",
       "701                                     Michael McCullers\n",
       "702                                        Julian Jarrold\n",
       "703                                          Rian Johnson\n",
       "704                                         Brian Robbins\n",
       "705                                     John Erick Dowdle\n",
       "706                                           Gary Fleder\n",
       "707                                         Kirk De Micco\n",
       "708                                           Neil LaBute\n",
       "709                                        Barry Levinson\n",
       "710                         Jason Friedberg|Aaron Seltzer\n",
       "711                                         Howard Deutch\n",
       "712                                      RyÃ»hei Kitamura\n",
       "713                                          Simon Hunter\n",
       "714                                  Joshua Michael Stern\n",
       "715                                          Oliver Stone\n",
       "716                                            Noam Murro\n",
       "717                          Jennifer Flackett|Mark Levin\n",
       "718                                       Anthony Leondis\n",
       "719                                       Robert B. Weide\n",
       "720                                        Malcolm D. Lee\n",
       "721                                          Joe Johnston\n",
       "722                                  Nicolas Winding Refn\n",
       "723                                           David Yates\n",
       "724                                          Rob Marshall\n",
       "725                                          Rupert Wyatt\n",
       "726                                       Kenneth Branagh\n",
       "727                                         Andrew Niccol\n",
       "728                                       Patrick Lussier\n",
       "729                                            Simon West\n",
       "730                                          Duncan Jones\n",
       "731                                             Brad Bird\n",
       "732                              Glenn Ficarra|John Requa\n",
       "733                                         David Fincher\n",
       "734                                           Neil Burger\n",
       "735                                          Jennifer Yuh\n",
       "736                                          Dennis Dugan\n",
       "737                                           Seth Gordon\n",
       "738                                            Shawn Levy\n",
       "739                                            Will Gluck\n",
       "740                                           Jake Kasdan\n",
       "741                                           Guy Ritchie\n",
       "742                              John Lasseter|Brad Lewis\n",
       "743                                       Martin Campbell\n",
       "744                                         Todd Phillips\n",
       "745                                          Ivan Reitman\n",
       "746                                      Steven Spielberg\n",
       "747                                             Paul Feig\n",
       "748                         Bobby Farrelly|Peter Farrelly\n",
       "749                                           J.J. Abrams\n",
       "750                                           Zack Snyder\n",
       "751                                   Catherine Hardwicke\n",
       "752                                           Bill Condon\n",
       "753                                       Terrence Malick\n",
       "754                                           D.J. Caruso\n",
       "755                                       Carlos Saldanha\n",
       "756                                   Michel Hazanavicius\n",
       "757                                          Frank Coraci\n",
       "758                                           Jon Favreau\n",
       "759                                      Steven Spielberg\n",
       "760                                       Jonathan Levine\n",
       "761                                        Gore Verbinski\n",
       "762                                          David Dobkin\n",
       "763                                       Martin Scorsese\n",
       "764                                           Brad Furman\n",
       "765                           Mark Neveldine|Brian Taylor\n",
       "766                                         Lone Scherfig\n",
       "767                                         Gary McKendry\n",
       "768                                     Mikael HÃ¥fstrÃ¶m\n",
       "769                             Stephen Anderson|Don Hall\n",
       "770                                    Paul W.S. Anderson\n",
       "771                                         Scott Stewart\n",
       "772                                         Jason Reitman\n",
       "773                                        John Singleton\n",
       "774                                    Jaume Collet-Serra\n",
       "775                                          George Nolfi\n",
       "776                                          Tarsem Singh\n",
       "777                                             Tom Hanks\n",
       "778                                          Greg Mottola\n",
       "779                                       Olivier Megaton\n",
       "780                                    Jonathan Liebesman\n",
       "781                                          Steven Quale\n",
       "782                                          Marc Forster\n",
       "783                                          Dennis Dugan\n",
       "784                                            Mark Mylod\n",
       "785                                          Dominic Sena\n",
       "786                                          Simon Curtis\n",
       "787                                         Cameron Crowe\n",
       "788                                           Chris Gorak\n",
       "789                                           Tate Taylor\n",
       "790                                          Joe Carnahan\n",
       "791                                        Bennett Miller\n",
       "792                             Christian E. Christiansen\n",
       "793                                          Chris Miller\n",
       "794                                         Michel Gondry\n",
       "795                                       Luke Greenfield\n",
       "796                                         Marcus Nispel\n",
       "797                                         Oliver Parker\n",
       "798                                     Steven Soderbergh\n",
       "799                                         David Frankel\n",
       "800                                          Daniel Barnz\n",
       "801                                 Todd Strauss-Schulson\n",
       "802                           Matthijs van Heijningen Jr.\n",
       "803                                          Brett Ratner\n",
       "804                                        Garry Marshall\n",
       "805                                    David Gordon Green\n",
       "806                                Gonzalo LÃ³pez-Gallego\n",
       "807                                       Craig Gillespie\n",
       "808                                         George Miller\n",
       "809                                            Wes Craven\n",
       "810                                           Simon Wells\n",
       "811                                           Joe Cornish\n",
       "812                                          David Bowers\n",
       "813                                        Stephen Daldry\n",
       "814                                         Mike Mitchell\n",
       "815                                             Rod Lurie\n",
       "816                                           John Madden\n",
       "817                                          Raja Gosnell\n",
       "818                                            Joe Wright\n",
       "819                                          Kelly Asbury\n",
       "820                                       Alexander Payne\n",
       "821                                              Tim Hill\n",
       "822                                        Bruce Robinson\n",
       "823                                 John Michael McDonagh\n",
       "824                                          Jesse Peretz\n",
       "825                                          Craig Brewer\n",
       "826                                       Joel Schumacher\n",
       "827                                        Roman Polanski\n",
       "828                                        George Clooney\n",
       "829                                           Michael Bay\n",
       "830                            Henry Joost|Ariel Schulman\n",
       "831                                            Ron Howard\n",
       "832                                         Michael Dowse\n",
       "833                                           James Bobin\n",
       "834                                       Roger Donaldson\n",
       "835                                           Jason Winer\n",
       "836                                       Kevin Macdonald\n",
       "837                                    David Gordon Green\n",
       "838                                        Clint Eastwood\n",
       "839                                      Alister Grierson\n",
       "840                                       Douglas McGrath\n",
       "841                                      David Cronenberg\n",
       "842                                         Sean McNamara\n",
       "843                                       Ruben Fleischer\n",
       "844                                             Mike Disa\n",
       "845                                      Francis Lawrence\n",
       "846                                          Jim Sheridan\n",
       "847                                          Joe Nussbaum\n",
       "848                                      William Friedkin\n",
       "849                                        John Whitesell\n",
       "850                                  Charles Martin Smith\n",
       "851                                            Benny Chan\n",
       "852                                            Justin Lin\n",
       "853                                            Salim Akil\n",
       "854                                        Thomas Bezucha\n",
       "855                                        Phyllida Lloyd\n",
       "856                                          Lee Tamahori\n",
       "857                                        David R. Ellis\n",
       "858                                        Paul Johansson\n",
       "859                                      Paolo Sorrentino\n",
       "860                                       Rodrigo GarcÃ­a\n",
       "861                                            Jon M. Chu\n",
       "862                              Mark Duplass|Jay Duplass\n",
       "863                                        Matthew Vaughn\n",
       "864                                         Peter Jackson\n",
       "865                                        Chris Columbus\n",
       "866                           Chris Wedge|Carlos Saldanha\n",
       "867                                            Doug Liman\n",
       "868                                    Paul W.S. Anderson\n",
       "869                                             Sam Raimi\n",
       "870                                          George Lucas\n",
       "871                                      Steven Spielberg\n",
       "872                                      Barry Sonnenfeld\n",
       "873                                        Roman Polanski\n",
       "874                                      Steven Spielberg\n",
       "875                            Dean DeBlois|Chris Sanders\n",
       "876                       Louis Leterrier|Corey Yuen Kwai\n",
       "877                                             Rob Cohen\n",
       "878                              Ron Clements|John Musker\n",
       "879                                          Lee Tamahori\n",
       "880                                           Danny Boyle\n",
       "881                                            Wayne Wang\n",
       "882                                    Guillermo del Toro\n",
       "883                                       Martin Scorsese\n",
       "884                                         David Fincher\n",
       "885                                           Rob Minkoff\n",
       "886                                           Walt Becker\n",
       "887                                         Curtis Hanson\n",
       "888                                          Steven Brill\n",
       "889                                         Marc Lawrence\n",
       "890                                    M. Night Shyamalan\n",
       "891                                        Gore Verbinski\n",
       "892                                         Adam Shankman\n",
       "893                                            Joel Zwick\n",
       "894                                Chris Weitz|Paul Weitz\n",
       "895                                          Andrew Davis\n",
       "896                                       Joel Schumacher\n",
       "897                                          Stuart Baird\n",
       "898                                           Kurt Wimmer\n",
       "899                                         Miguel Arteta\n",
       "900                                        Stephen Daldry\n",
       "901                                            Sam Mendes\n",
       "902                                             Jay Roach\n",
       "903                                       Michael Lembeck\n",
       "904                                     Christopher Nolan\n",
       "905                                            Steve Beck\n",
       "906                                          Raja Gosnell\n",
       "907                               Kelly Asbury|Lorna Cook\n",
       "908                                         Jim Gillespie\n",
       "909                                         Chuck Russell\n",
       "910                                          Betty Thomas\n",
       "911                                       Randall Wallace\n",
       "912                                         Jeff Tremaine\n",
       "913                                          Julie Taymor\n",
       "914                                      Barbet Schroeder\n",
       "915                                           Spike Jonze\n",
       "916                                          Andy Tennant\n",
       "917                                             Tim Story\n",
       "918                                           Ron Shelton\n",
       "919                                           Simon Wells\n",
       "920                                           Walter Hill\n",
       "921                                          Roger Kumble\n",
       "922                                              John Woo\n",
       "923                                       Nick Cassavetes\n",
       "924                                           Adrian Lyne\n",
       "925                                         Roger Michell\n",
       "926                                       Kathryn Bigelow\n",
       "927                                         Michael Rymer\n",
       "928                                      Robert Rodriguez\n",
       "929                                         Michael Apted\n",
       "930                                          Marcus Raboy\n",
       "931                               Robin Budd|Donovan Cook\n",
       "932                                           Dewey Nicks\n",
       "933                                          Rob Marshall\n",
       "934                                          Mark Romanek\n",
       "935                                        Brian De Palma\n",
       "936                                   Michael Caton-Jones\n",
       "937                                            Rob Bowman\n",
       "938                                               Tom Dey\n",
       "939                                         Carl Franklin\n",
       "940                                        Gregory Hoblit\n",
       "941                                       Alexander Payne\n",
       "942                                        John Stockwell\n",
       "943                                        Clint Eastwood\n",
       "944                                     Steven Soderbergh\n",
       "945                                         Shekhar Kapur\n",
       "946                                       Mark Pellington\n",
       "947                                           Todd Haynes\n",
       "948                                      John Lee Hancock\n",
       "949                                       Joel Schumacher\n",
       "950                                        George Clooney\n",
       "951                                          Luis Mandoki\n",
       "952                                       Jonathan Frakes\n",
       "953                                        Rick Rosenthal\n",
       "954                                            Shawn Levy\n",
       "955                                     Denzel Washington\n",
       "956                                           Burr Steers\n",
       "957                                           Mort Nathan\n",
       "958                                           Tamra Davis\n",
       "959                                         Ron Underwood\n",
       "960                                        Stephen Gaghan\n",
       "961                                          Brett Ratner\n",
       "962                                       Reginald Hudlin\n",
       "963                                           Tom Shadyac\n",
       "964                                     Charles Stone III\n",
       "965                                            Kevin Bray\n",
       "966                                        William Malone\n",
       "967                                         Paul Schrader\n",
       "968                                           Neil LaBute\n",
       "969                                      Barry Sonnenfeld\n",
       "970                                        Malcolm D. Lee\n",
       "971                                           Joss Whedon\n",
       "972                           MÃ¥ns MÃ¥rlind|BjÃ¶rn Stein\n",
       "973                                     Christopher Nolan\n",
       "974                                     Quentin Tarantino\n",
       "975                                            Sam Mendes\n",
       "976                                           Tony Gilroy\n",
       "977                                         Peter Jackson\n",
       "978                                          Ridley Scott\n",
       "979                                      David O. Russell\n",
       "980                                             Marc Webb\n",
       "981             Mark Andrews|Steve Purcell|Brenda Chapman\n",
       "982                                        Rupert Sanders\n",
       "983                          Phil Lord|Christopher Miller\n",
       "984                                               Ang Lee\n",
       "985                          Steve Martino|Mike Thurmeier\n",
       "986                                       Seth MacFarlane\n",
       "987                                 Christopher McQuarrie\n",
       "988                                   Juan Antonio Bayona\n",
       "989                                            Rich Moore\n",
       "990                                           Jason Moore\n",
       "991                                      Barry Sonnenfeld\n",
       "992                                             Gary Ross\n",
       "993                                           Len Wiseman\n",
       "994             Lilly Wachowski|Lana Wachowski|Tom Tykwer\n",
       "995                                            Simon West\n",
       "996                                       Olivier Megaton\n",
       "997                                            Tim Burton\n",
       "998                                       Stephen Chbosky\n",
       "999                                           Ben Affleck\n",
       "1000                       Jon Hurwitz|Hayden Schlossberg\n",
       "1001                                    Steven Soderbergh\n",
       "1002                                         Drew Goddard\n",
       "1003                                         Peter Ramsey\n",
       "1004                                        Michael Sucsy\n",
       "1005                                          Brad Peyton\n",
       "1006                                           Boaz Yakin\n",
       "1007                                    Timur Bekmambetov\n",
       "1008                                   Juan Diego Solanas\n",
       "1009                              Chris Renaud|Kyle Balda\n",
       "1010                                         Wes Anderson\n",
       "1011                                          Pete Travis\n",
       "1012                                           Peter Berg\n",
       "1013                                           Tom Hooper\n",
       "1014                                         Tarsem Singh\n",
       "1015                                       Andrew Stanton\n",
       "1016                                         Rian Johnson\n",
       "1017                                          Bill Condon\n",
       "1018                                      Kathryn Bigelow\n",
       "1019                                    Steven Soderbergh\n",
       "1020                                   Jonathan Liebesman\n",
       "1021                                          Scott Speer\n",
       "1022                                           Josh Trank\n",
       "1023                               Mike McCoy|Scott Waugh\n",
       "1024                                   Genndy Tartakovsky\n",
       "1025                                           David Ayer\n",
       "1026                                           Kirk Jones\n",
       "1027                                        Larry Charles\n",
       "1028                                      Nima Nourizadeh\n",
       "1029                                   Baltasar KormÃ¡kur\n",
       "1030               Eric Darnell|Tom McGrath|Conrad Vernon\n",
       "1031                                        John Hillcoat\n",
       "1032                                       James McTeigue\n",
       "1033                                        Adam Shankman\n",
       "1034                                           Simon West\n",
       "1035                               Peter Lord|Jeff Newitt\n",
       "1036                                 Paul Thomas Anderson\n",
       "1037                                     Nicholas Stoller\n",
       "1038                                          Judd Apatow\n",
       "1039                       Stephen St. Leger|James Mather\n",
       "1040                                           David Wain\n",
       "1041                                        James Watkins\n",
       "1042                                           Tim Burton\n",
       "1043                                          Sean Anders\n",
       "1044                                      Daniel Espinosa\n",
       "1045                                         Oliver Stone\n",
       "1046                                           Asger Leth\n",
       "1047                                      Martin McDonagh\n",
       "1048                                           Ken Kwapis\n",
       "1049                                     Henry Alex Rubin\n",
       "1050                                        Alex Kurtzman\n",
       "1051                                         John Gulager\n",
       "1052                                         Ole Bornedal\n",
       "1053                                   Michael J. Bassett\n",
       "1054                                       Andrew Dominik\n",
       "1055                                    Mabrouk El Mechri\n",
       "1056                                     Nicholas Jarecki\n",
       "1057                                          Dan Bradley\n",
       "1058                        Bobby Farrelly|Peter Farrelly\n",
       "1059                                        David Frankel\n",
       "1060                                        Brian Robbins\n",
       "1061                                            Rob Cohen\n",
       "1062                                  Julie Anne Robinson\n",
       "1063                                       Dustin Hoffman\n",
       "1064                                Sam Fell|Chris Butler\n",
       "1065                                         Gus Van Sant\n",
       "1066                                         David Bowers\n",
       "1067                                          Dean Wright\n",
       "1068                                    Anthony Hemingway\n",
       "1069                                        Josh Schwartz\n",
       "1070                                          David Koepp\n",
       "1071                          Brian Klugman|Lee Sternthal\n",
       "1072                           Henry Joost|Ariel Schulman\n",
       "1073                                        Walter Salles\n",
       "1074                                         Andy Fickman\n",
       "1075                                            Tim Story\n",
       "1076                                        David Barrett\n",
       "1077                                        Todd Lincoln \n",
       "1078                                     David Cronenberg\n",
       "1079                                   Paul W.S. Anderson\n",
       "1080                                           Salim Akil\n",
       "1081                            Dan Cutforth|Jane Lipsitz\n",
       "1082                                        Peter Jackson\n",
       "1083                                          Len Wiseman\n",
       "1084                                       Gore Verbinski\n",
       "1085                                    Quentin Tarantino\n",
       "1086                       Lilly Wachowski|Lana Wachowski\n",
       "1087                       Lilly Wachowski|Lana Wachowski\n",
       "1088                           Andrew Stanton|Lee Unkrich\n",
       "1089                                          Tom Shadyac\n",
       "1090                                       Richard Curtis\n",
       "1091                                          Jon Favreau\n",
       "1092                                      Jonathan Mostow\n",
       "1093                                           Tim Burton\n",
       "1094                                  Mark Steven Johnson\n",
       "1095                                          Jesse Dylan\n",
       "1096                                   Stephen Norrington\n",
       "1097                                         F. Gary Gray\n",
       "1098                                      Steve Trenbirth\n",
       "1099                                        Terry Zwigoff\n",
       "1100                                         Peter Howitt\n",
       "1101                                           P.J. Hogan\n",
       "1102                                         David Zucker\n",
       "1103                                       Bille Woodruff\n",
       "1104                                         F. Gary Gray\n",
       "1105                                    Richard Linklater\n",
       "1106                                         Edward Zwick\n",
       "1107                                          Michael Bay\n",
       "1108                                          Jan de Bont\n",
       "1109                                          Rob Schmidt\n",
       "1110                                        James Mangold\n",
       "1111                                           Peter Weir\n",
       "1112                                       Clint Eastwood\n",
       "1113                                          Peter Segal\n",
       "1114                                            Jon Amiel\n",
       "1115                                              Ang Lee\n",
       "1116                                     Robert Rodriguez\n",
       "1117                                        Todd Phillips\n",
       "1118                                        Donald Petrie\n",
       "1119                                         David Dobkin\n",
       "1120                                        Clark Johnson\n",
       "1121                                        Antoine Fuqua\n",
       "1122                              Charles Herman-Wurmfeld\n",
       "1123                                          Mark Waters\n",
       "1124                                       Richard Donner\n",
       "1125                                             John Woo\n",
       "1126                                                  McG\n",
       "1127                                         Nancy Meyers\n",
       "1128                                          Rob Minkoff\n",
       "1129                                    Mathieu Kassovitz\n",
       "1130                       Alejandro GonzÃ¡lez IÃ±Ã¡rritu\n",
       "1131                                       David R. Ellis\n",
       "1132                                        Marcus Nispel\n",
       "1133                                           Shawn Levy\n",
       "1134                                    Anthony Minghella\n",
       "1135                                             Ronny Yu\n",
       "1136                                   Andrzej Bartkowiak\n",
       "1137                                            Joe Dante\n",
       "1138                                       John McTiernan\n",
       "1139                                           Peter Berg\n",
       "1140                                       John Singleton\n",
       "1141                                        Kevin Costner\n",
       "1142                                           Shawn Levy\n",
       "1143                                           Steve Carr\n",
       "1144                                            Gary Ross\n",
       "1145                                        Carl Franklin\n",
       "1146                                         Victor Salva\n",
       "1147                                             Jim Fall\n",
       "1148                                      Lawrence Kasdan\n",
       "1149                                     Robert Rodriguez\n",
       "1150                                          Peyton Reed\n",
       "1151                                      Brian Helgeland\n",
       "1152                                            Joel Coen\n",
       "1153                                     William Friedkin\n",
       "1154                                          Gary Fleder\n",
       "1155                                        Patty Jenkins\n",
       "1156                                        Adam Shankman\n",
       "1157                                         Martin Brest\n",
       "1158                                    Ronald F. Maxwell\n",
       "1159                                          Troy Miller\n",
       "1160                                           Boaz Yakin\n",
       "1161                                          Alan Parker\n",
       "1162                                             Uwe Boll\n",
       "1163                                           Rob Zombie\n",
       "1164                                           Chris Koch\n",
       "1165                                          Mike Tollin\n",
       "1166                                      David Mackenzie\n",
       "1167                                       FranÃ§ois Ozon\n",
       "1168                                    Christopher Guest\n",
       "1169                                           Nigel Cole\n",
       "1170                                         Harald Zwart\n",
       "1171                                        James Cameron\n",
       "1172                        Bobby Farrelly|Peter Farrelly\n",
       "1173                                         Bryan Singer\n",
       "1174                                            James Cox\n",
       "1175                                           Rob Reiner\n",
       "1176                                        Robert Iscove\n",
       "1177                                      Christine Jeffs\n",
       "1178                              Chris Buck|Jennifer Lee\n",
       "1179                                      Alfonso CuarÃ³n\n",
       "1180                                          Alan Taylor\n",
       "1181                                          Shane Black\n",
       "1182                                      Louis Leterrier\n",
       "1183                                     Francis Lawrence\n",
       "1184                                      Martin Scorsese\n",
       "1185                                   Guillermo del Toro\n",
       "1186                                      Joseph Kosinski\n",
       "1187                                        Peter Jackson\n",
       "1188                                          Zack Snyder\n",
       "1189                                          Spike Jonze\n",
       "1190                           Pierre Coffin|Chris Renaud\n",
       "1191                                          J.J. Abrams\n",
       "1192                                        Steve McQueen\n",
       "1193                                          David Twohy\n",
       "1194                                            James Wan\n",
       "1195                                         Baz Luhrmann\n",
       "1196                                       Neill Blomkamp\n",
       "1197                                           John Moore\n",
       "1198                                          Dan Scanlon\n",
       "1199                                         Marc Forster\n",
       "1200                                          Ben Stiller\n",
       "1201                                           Gavin Hood\n",
       "1202                                   Baltasar KormÃ¡kur\n",
       "1203                                           Ron Howard\n",
       "1204                                        Antoine Fuqua\n",
       "1205                                     Thor Freudenthal\n",
       "1206                                     Denis Villeneuve\n",
       "1207                                     David O. Russell\n",
       "1208                                      Jonathan Levine\n",
       "1209                                        Tommy Wirkola\n",
       "1210                                          Carl Rinsch\n",
       "1211                                         Harald Zwart\n",
       "1212                                          Chris Wedge\n",
       "1213                                           Peter Berg\n",
       "1214                                    Jean-Marc VallÃ©e\n",
       "1215                                     Robert Schwentke\n",
       "1216                                            Klay Hall\n",
       "1217                                       Harmony Korine\n",
       "1218                                        Brad Anderson\n",
       "1219                                         Fede Alvarez\n",
       "1220                                       Jon Turteltaub\n",
       "1221                                           Luc Besson\n",
       "1222                                     Derek Cianfrance\n",
       "1223                                         Dennis Dugan\n",
       "1224                                        Todd Phillips\n",
       "1225                          Kirk De Micco|Chris Sanders\n",
       "1226                                          Gary Fleder\n",
       "1227                                    Mikael HÃ¥fstrÃ¶m\n",
       "1228                                      Kimberly Peirce\n",
       "1229                                      Paul Greengrass\n",
       "1230                                         Ridley Scott\n",
       "1231                                      Roland Emmerich\n",
       "1232                                          John Carney\n",
       "1233                                       Justin Zackham\n",
       "1234                                         Bryan Singer\n",
       "1235                                          Brad Furman\n",
       "1236                                          Walter Hill\n",
       "1237                                        Michael Dowse\n",
       "1238                                            Ken Scott\n",
       "1239                             Seth Rogen|Evan Goldberg\n",
       "1240                                        Jeff Tremaine\n",
       "1241                                      Taylor Hackford\n",
       "1242                                   M. Night Shyamalan\n",
       "1243                                            Paul Feig\n",
       "1244                                     John Lee Hancock\n",
       "1245                                        Mike Flanagan\n",
       "1246                                       Gore Verbinski\n",
       "1247                                      Ruben Fleischer\n",
       "1248                                          Seth Gordon\n",
       "1249                                         J.C. Chandor\n",
       "1250                                      John Luessenhop\n",
       "1251                                          Danny Boyle\n",
       "1252                                           Adam McKay\n",
       "1253                                            Sam Raimi\n",
       "1254                                          David Soren\n",
       "1255                                        Steven Knight\n",
       "1256                                          Michael Bay\n",
       "1257                                        Andrew Niccol\n",
       "1258                                            Spike Lee\n",
       "1259                                      Andy Muschietti\n",
       "1260                                           Paul Weitz\n",
       "1261                                          Lee Daniels\n",
       "1262    Steven Brill|Elizabeth Banks|Steve Carr|Rusty ...\n",
       "1263                                Scott Moore|Jon Lucas\n",
       "1264                                       Callan Brunker\n",
       "1265                                          Peter Segal\n",
       "1266                                          Amma Asante\n",
       "1267                                     Robert Rodriguez\n",
       "1268                                     Lasse HallstrÃ¶m\n",
       "1269                                        Sofia Coppola\n",
       "1270                                         Dito Montiel\n",
       "1271                                    Steven Soderbergh\n",
       "1272                              Cody Cameron|Kris Pearn\n",
       "1273                                          Woody Allen\n",
       "1274                                    Steven Soderbergh\n",
       "1275                                   Giuseppe Tornatore\n",
       "1276                                         Don Scardino\n",
       "1277                                         Jeff Nichols\n",
       "1278                                   Jonathan Teplitzky\n",
       "1279                                         Allen Hughes\n",
       "1280                          Neil Nightingale|Barry Cook\n",
       "1281                                         Scott Walker\n",
       "1282                                         Raja Gosnell\n",
       "1283                                      Brian Helgeland\n",
       "1284                                          Bill Condon\n",
       "1285                                      Guillaume Canet\n",
       "1286                                        James Mangold\n",
       "1287                                      Ric Roman Waugh\n",
       "1288                                        Jimmy Hayward\n",
       "1289                                      Alexander Payne\n",
       "1290                                       Malcolm D. Lee\n",
       "1291                                         Keanu Reeves\n",
       "1292                                     David E. Talbert\n",
       "1293                                           John Wells\n",
       "1294                                Christopher B. Landon\n",
       "1295                                 Joshua Michael Stern\n",
       "1296                                       Robert Luketic\n",
       "1297                                         Scott Cooper\n",
       "1298                                           Justin Lin\n",
       "1299                                           Benson Lee\n",
       "1300                                   Anthony Silverston\n",
       "1301                                         Kasi Lemmons\n",
       "1302                                        NimrÃ³d Antal\n",
       "1303                                       Dan St. Pierre\n",
       "1304                                       Zal Batmanglij\n",
       "1305                                       Malcolm D. Lee\n",
       "1306                                     Ed Gass-Donnelly\n",
       "1307                                      Justin Chadwick\n",
       "1308                                       Stephen Frears\n",
       "1309                                  Oliver Hirschbiegel\n",
       "1310                                     Courtney Solomon\n",
       "1311                                           Shawn Levy\n",
       "1312                                    Fyodor Bondarchuk\n",
       "1313                                          Mike Newell\n",
       "1314                                    Christopher Nolan\n",
       "1315                                       Andrew Adamson\n",
       "1316                                       James McTeigue\n",
       "1317      Robert Rodriguez|Frank Miller|Quentin Tarantino\n",
       "1318                                           Tim Burton\n",
       "1319                                         George Lucas\n",
       "1320                                       Garth Jennings\n",
       "1321                                          Michael Bay\n",
       "1322                             Eric Darnell|Tom McGrath\n",
       "1323                                            Tim Story\n",
       "1324                                     Francis Lawrence\n",
       "1325                                         David Dobkin\n",
       "1326                                         Karyn Kusama\n",
       "1327                                        Adam Shankman\n",
       "1328                                     Steven Spielberg\n",
       "1329                                         Rob Marshall\n",
       "1330                                          Judd Apatow\n",
       "1331                                          Mark Dindal\n",
       "1332                                         Andy Tennant\n",
       "1333                                      Louis Leterrier\n",
       "1334                                           Kirk Jones\n",
       "1335                                         Ridley Scott\n",
       "1336                                       Robert Luketic\n",
       "1337                                        Peter Jackson\n",
       "1338                                         F. Gary Gray\n",
       "1339                                       John Stockwell\n",
       "1340                                           Joe Wright\n",
       "1341                                              Ang Lee\n",
       "1342                          Chris Wedge|Carlos Saldanha\n",
       "1343                                         Lee Tamahori\n",
       "1344                                           Ken Kwapis\n",
       "1345                                           Doug Liman\n",
       "1346                                      Martin Campbell\n",
       "1347                                        Andrew Niccol\n",
       "1348                                           Rob Bowman\n",
       "1349                              Tim Burton|Mike Johnson\n",
       "1350                                  Steve Box|Nick Park\n",
       "1351                                           Rob Reiner\n",
       "1352                                         John Maybury\n",
       "1353                                           Sam Mendes\n",
       "1354                                          Mark Waters\n",
       "1355                                      Angela Robinson\n",
       "1356                                        Cameron Crowe\n",
       "1357                                       John Singleton\n",
       "1358                                           Ron Howard\n",
       "1359                                          Woody Allen\n",
       "1360                 Cory Edwards|Todd Edwards|Tony Leech\n",
       "1361                                          John Polson\n",
       "1362                                          Nora Ephron\n",
       "1363                                   Andrzej Bartkowiak\n",
       "1364                                        Adam Shankman\n",
       "1365                        Bobby Farrelly|Peter Farrelly\n",
       "1366                                          John Madden\n",
       "1367                                       Sydney Pollack\n",
       "1368                                        Terry Gilliam\n",
       "1369                                     Lasse HallstrÃ¶m\n",
       "1370                                  Florent-Emilio Siri\n",
       "1371                                    Jay Chandrasekhar\n",
       "1372                                     Steven Spielberg\n",
       "1373                                     Scott Derrickson\n",
       "1374                                        Jason Reitman\n",
       "1375                                       Stephen Gaghan\n",
       "1376                                    Mikael HÃ¥fstrÃ¶m\n",
       "1377                                         Iain Softley\n",
       "1378                                     Frederik Du Chau\n",
       "1379                                       George Clooney\n",
       "1380                                        Thomas Carter\n",
       "1381                                     David Cronenberg\n",
       "1382                                       Andrew Douglas\n",
       "1383                                         Dean Parisot\n",
       "1384                                      Louis Leterrier\n",
       "1385                                           Steve Carr\n",
       "1386                                Kevin Rodney Sullivan\n",
       "1387                                          D.J. Caruso\n",
       "1388                                     Robert Schwentke\n",
       "1389                                Jean-FranÃ§ois Richet\n",
       "1390                                         Jim Jarmusch\n",
       "1391                                       Gore Verbinski\n",
       "1392                                     George A. Romero\n",
       "1393                                        James Mangold\n",
       "1394                                           Nigel Cole\n",
       "1395                                         Jim Sheridan\n",
       "1396                                          Jesse Dylan\n",
       "1397                                           Wes Craven\n",
       "1398                                         Marc Forster\n",
       "1399                                          Peter Segal\n",
       "1400                                         Brian Levant\n",
       "1401                                          Peter Hyams\n",
       "1402                                    Rupert Wainwright\n",
       "1403                                            Rob Cohen\n",
       "1404                                         Clare Kilner\n",
       "1405                                             Uwe Boll\n",
       "1406                                         Breck Eisner\n",
       "1407                                      Richard Shepard\n",
       "1408                                       Bennett Miller\n",
       "1409                                         Gary Chapman\n",
       "1410                                   Fernando Meirelles\n",
       "1411                                   Jaume Collet-Serra\n",
       "1412                                            John Dahl\n",
       "1413                                           Tony Scott\n",
       "1414                                       Bille Woodruff\n",
       "1415                                     Robert Rodriguez\n",
       "1416                                          Bill Paxton\n",
       "1417                                      Tommy Lee Jones\n",
       "1418                                         Danny Cannon\n",
       "1419                                         Geoffrey Sax\n",
       "1420                                        Mike Mitchell\n",
       "1421                                           Wes Craven\n",
       "1422                                       Liev Schreiber\n",
       "1423                                         Raja Gosnell\n",
       "1424                                         Craig Brewer\n",
       "1425                                             Uwe Boll\n",
       "1426                                          Stephen Kay\n",
       "1427                                           Bruce Hunt\n",
       "1428                                       Chris Columbus\n",
       "1429                                            Niki Caro\n",
       "1430                                    Richard Linklater\n",
       "1431                                           Wayne Wang\n",
       "1432                                  Catherine Hardwicke\n",
       "1433                                        Walter Salles\n",
       "1434                                          Len Wiseman\n",
       "1435                                       Gore Verbinski\n",
       "1436                              John Lasseter|Joe Ranft\n",
       "1437                                      Martin Campbell\n",
       "1438                                           Ron Howard\n",
       "1439                                        Anne Fletcher\n",
       "1440                                      Carlos Saldanha\n",
       "1441                                          J.J. Abrams\n",
       "1442                                        David Frankel\n",
       "1443                                      Martin Scorsese\n",
       "1444                                         Nancy Meyers\n",
       "1445                                    Christopher Nolan\n",
       "1446                                           Shawn Levy\n",
       "1447                       Alejandro GonzÃ¡lez IÃ±Ã¡rritu\n",
       "1448                                      Alfonso CuarÃ³n\n",
       "1449                                        Larry Charles\n",
       "1450                                         Frank Coraci\n",
       "1451                                          Peyton Reed\n",
       "1452                                            Spike Lee\n",
       "1453                        Tim Johnson|Karey Kirkpatrick\n",
       "1454                                           Tom Tykwer\n",
       "1455                                         Edward Zwick\n",
       "1456                          Brian Taylor|Mark Neveldine\n",
       "1457                                        Paul McGuigan\n",
       "1458                                       Frank Marshall\n",
       "1459                                           James Wong\n",
       "1460                                      Christophe Gans\n",
       "1461                                         Andy Fickman\n",
       "1462                                     Darren Aronofsky\n",
       "1463                                        George Miller\n",
       "1464                                   Sylvester Stallone\n",
       "1465                                David Bowers|Sam Fell\n",
       "1466                                Steve 'Spaz' Williams\n",
       "1467                                           Tony Scott\n",
       "1468                                     Stefen Fangmeier\n",
       "1469                                    Alejandro Agresti\n",
       "1470                                         David Zucker\n",
       "1471                                            Gil Kenan\n",
       "1472                                              Tom Dey\n",
       "1473                                           Mel Gibson\n",
       "1474                                        John A. Davis\n",
       "1475                                        Alexandre Aja\n",
       "1476                                        Donald Petrie\n",
       "1477                                       Robert De Niro\n",
       "1478                                         Michael Mann\n",
       "1479                                         Betty Thomas\n",
       "1480                                       Kevin Reynolds\n",
       "1481                                       Clint Eastwood\n",
       "1482                                  Matthew O'Callaghan\n",
       "1483                                         Joe Carnahan\n",
       "1484                                     Barry Sonnenfeld\n",
       "1485                                                  McG\n",
       "1486                                          Neil Burger\n",
       "1487                                      Bruce Beresford\n",
       "1488                                      Steven Zaillian\n",
       "1489                                       John Whitesell\n",
       "1490                                  Michael Caton-Jones\n",
       "1491                                          Kevin Smith\n",
       "1492                                           Adam McKay\n",
       "1493                                     Gabriele Muccino\n",
       "1494                                        Sofia Coppola\n",
       "1495                                             Joe Roth\n",
       "1496                                      Kevin Macdonald\n",
       "1497                                  Darren Lynn Bousman\n",
       "1498                                           Jared Hess\n",
       "1499                                    Wolfgang Petersen\n",
       "1500                                           Paul Weitz\n",
       "1501                                     Steven Shainberg\n",
       "1502                              Anthony Russo|Joe Russo\n",
       "1503                        Jonathan Dayton|Valerie Faris\n",
       "1504                                  Keenen Ivory Wayans\n",
       "1505                                        Greg Coolidge\n",
       "1506                                           John Moore\n",
       "1507                                       Clint Eastwood\n",
       "1508                                    Richard Linklater\n",
       "1509                                         Marc Forster\n",
       "1510                                         Oliver Stone\n",
       "1511                                         Ridley Scott\n",
       "1512                                          Nick Hurran\n",
       "1513                        Aaron Seltzer|Jason Friedberg\n",
       "1514                                           Steve Pink\n",
       "1515             Roger Allers|Jill Culton|Anthony Stacchi\n",
       "1516                                       Steve Oedekerk\n",
       "1517                                          Bill Condon\n",
       "1518                                       David R. Ellis\n",
       "1519                                        Jeff Tremaine\n",
       "1520                                         Andrew Davis\n",
       "1521                                           Justin Lin\n",
       "1522                                         Chris Noonan\n",
       "1523                                          Jim Sonzero\n",
       "1524                                         Craig Brewer\n",
       "1525                                     Lasse HallstrÃ¶m\n",
       "1526                                          John Bonito\n",
       "1527                                        Brian Robbins\n",
       "1528                                         Geoffrey Sax\n",
       "1529                                      Liz Friedlander\n",
       "1530                                         Peter Hewitt\n",
       "1531                            Elizabeth Allen Rosenbaum\n",
       "1532                                        Werner Herzog\n",
       "1533                                       Richard Donner\n",
       "1534                                           Wayne Wang\n",
       "1535                                         Richard Eyre\n",
       "1536                                      Paul Greengrass\n",
       "1537                                       Stephen Frears\n",
       "1538                                        Clark Johnson\n",
       "1539                                    Steven Soderbergh\n",
       "1540                                            Tony Bill\n",
       "1541                                         Wayne Kramer\n",
       "1542                                       Susannah Grant\n",
       "1543                                      Takashi Shimizu\n",
       "1544                                    Richard Loncraine\n",
       "1545                                           Liam Lynch\n",
       "1546                                       Barry Levinson\n",
       "1547                                         Renny Harlin\n",
       "1548                                           Simon West\n",
       "1549                                        Sanjay Gadhvi\n",
       "1550                                          Glen Morgan\n",
       "1551                                   M. Night Shyamalan\n",
       "1552                                          Phil Joanou\n",
       "1553                                            Mira Nair\n",
       "1554                                        Todd Phillips\n",
       "1555                                           Justin Lin\n",
       "1556                                     Rachid Bouchareb\n",
       "1557                                   William Brent Bell\n",
       "1558                                         Asif Kapadia\n",
       "1559                                         Brett Ratner\n",
       "1560                                        Doug Atchison\n",
       "1561                                      Alfonso CuarÃ³n\n",
       "1562                                    Quentin Tarantino\n",
       "1563                                        Beeban Kidron\n",
       "1564                                        Michel Gondry\n",
       "1565                                      Nick Cassavetes\n",
       "1566                                            Brad Bird\n",
       "1567                                      Paul Greengrass\n",
       "1568                                    Wolfgang Petersen\n",
       "1569                                       Jon Turteltaub\n",
       "1570                                          Alex Proyas\n",
       "1571                                          Peter Segal\n",
       "1572                                          Mark Waters\n",
       "1573                                      Stephen Sommers\n",
       "1574                                   Guillermo del Toro\n",
       "1575                                      Robert Zemeckis\n",
       "1576            Andrew Adamson|Kelly Asbury|Conrad Vernon\n",
       "1577                          Eric Bress|J. Mackye Gruber\n",
       "1578                                       Alexander Witt\n",
       "1579                                    Steven Soderbergh\n",
       "1580                                            Jay Roach\n",
       "1581                                      Roland Emmerich\n",
       "1582                                      Martin Scorsese\n",
       "1583                                         Michael Mann\n",
       "1584                                       David S. Goyer\n",
       "1585                                     Steven Spielberg\n",
       "1586                                      Brad Silberling\n",
       "1587                                       Clint Eastwood\n",
       "1588                                         Peter Hewitt\n",
       "1589             Bibo Bergeron|Vicky Jenson|Rob Letterman\n",
       "1590                                         Kerry Conran\n",
       "1591                                   Stephen Hillenburg\n",
       "1592                                          Paul Haggis\n",
       "1593                                           Adam McKay\n",
       "1594                                          Gary Winick\n",
       "1595                                        Tommy O'Haver\n",
       "1596                                      Luke Greenfield\n",
       "1597                                         Marc Forster\n",
       "1598                                          Mark Rosman\n",
       "1599                                   Paul W.S. Anderson\n",
       "1600                              Rawson Marshall Thurber\n",
       "1601                                         Pierre Morel\n",
       "1602                                         Oliver Stone\n",
       "1603                                         Danny Leiner\n",
       "1604                                            Sam Raimi\n",
       "1605                                        Jeff Schaffer\n",
       "1606                                           Tony Scott\n",
       "1607                                         John Hamburg\n",
       "1608                                         Mike Nichols\n",
       "1609                                   Jonathan Hensleigh\n",
       "1610                                                Pitof\n",
       "1611                                          Zack Snyder\n",
       "1612                                        Antoine Fuqua\n",
       "1613                                          David Twohy\n",
       "1614                                      James L. Brooks\n",
       "1615                                          David Koepp\n",
       "1616                                       Garry Marshall\n",
       "1617                                     John Lee Hancock\n",
       "1618                                      Takashi Shimizu\n",
       "1619                                       David R. Ellis\n",
       "1620                                       Jonathan Demme\n",
       "1621                                        Brad Anderson\n",
       "1622                                          Don Mancini\n",
       "1623                                            Tim Story\n",
       "1624                                        Charles Shyer\n",
       "1625                                        Peter Chelsom\n",
       "1626                                             Frank Oz\n",
       "1627                               Will Finn|John Sanford\n",
       "1628                                         Joe Johnston\n",
       "1629                                        Michael Moore\n",
       "1630                                  Keenen Ivory Wayans\n",
       "1631                                         Terry George\n",
       "1632                                       Philip Kaufman\n",
       "1633                                          Trey Parker\n",
       "1634                                      Alexander Payne\n",
       "1635                                         Steven Brill\n",
       "1636                                        Todd Phillips\n",
       "1637                                        Sara Sugarman\n",
       "1638                                   M. Night Shyamalan\n",
       "1639                                        Howard Deutch\n",
       "1640                                           Mel Gibson\n",
       "1641                                      Taylor Hackford\n",
       "1642                                          Guy Ferland\n",
       "1643                                    Richard Loncraine\n",
       "1644                                          D.J. Caruso\n",
       "1645                                      Joel Schumacher\n",
       "1646                                        Paul McGuigan\n",
       "1647                                         Wes Anderson\n",
       "1648                                         Frank Coraci\n",
       "1649                                Kevin Rodney Sullivan\n",
       "1650                                         Joseph Ruben\n",
       "1651                                           John Moore\n",
       "1652                                            Nick Hamm\n",
       "1653                                           Peter Berg\n",
       "1654                                         Paul Abascal\n",
       "1655                                            Mira Nair\n",
       "1656                                  Jean-Jacques Annaud\n",
       "1657                                          Joseph Kahn\n",
       "1658                                       Gavin O'Connor\n",
       "1659                                         Renny Harlin\n",
       "1660                                    Jay Chandrasekhar\n",
       "1661                                     E. Elias Merhige\n",
       "1662                                      George Armitage\n",
       "1663                                    Charles Stone III\n",
       "1664                                      Michael Lembeck\n",
       "1665                                          David Mamet\n",
       "1666                                          Kevin Allen\n",
       "1667                                   Christopher Erskin\n",
       "1668                                          Nick Hurran\n",
       "1669                                          Jay Russell\n",
       "1670                                       Gore Verbinski\n",
       "1671                                          David Yates\n",
       "1672                                Brad Bird|Jan Pinkava\n",
       "1673                                      Paul Greengrass\n",
       "1674                                 Joel Coen|Ethan Coen\n",
       "1675                                     Francis Lawrence\n",
       "1676                                       Jon Turteltaub\n",
       "1677                                            Sam Raimi\n",
       "1678                                       Frank Darabont\n",
       "1679                                       Matthew Vaughn\n",
       "1680                                          Len Wiseman\n",
       "1681                                         Brett Ratner\n",
       "1682                                            Sean Penn\n",
       "1683                                          Zack Snyder\n",
       "1684                                  Mark Steven Johnson\n",
       "1685                                        Jason Reitman\n",
       "1686                                        GÃ¡bor CsupÃ³\n",
       "1687                                        Antoine Fuqua\n",
       "1688                                           Joe Wright\n",
       "1689                                 Paul Thomas Anderson\n",
       "1690                                         Ridley Scott\n",
       "1691                               Chris Miller|Raman Hui\n",
       "1692                                           Tim Burton\n",
       "1693                                         Greg Mottola\n",
       "1694                                             Tim Hill\n",
       "1695                         Steve Hickner|Simon J. Smith\n",
       "1696                                  Stephen J. Anderson\n",
       "1697                                  Richard LaGravenese\n",
       "1698                                          Judd Apatow\n",
       "1699                                      Joel Schumacher\n",
       "1700                                            Tim Story\n",
       "1701                                           Kevin Lima\n",
       "1702                                        David Fincher\n",
       "1703                                    Steven Soderbergh\n",
       "1704                                         Kevin Munroe\n",
       "1705                                      David Silverman\n",
       "1706                                         Mike Nichols\n",
       "1707                              Juan Carlos Fresnadillo\n",
       "1708                                           Peter Berg\n",
       "1709                                          Danny Boyle\n",
       "1710                                      Steve Bendelack\n",
       "1711                                       Bruce A. Evans\n",
       "1712                                          David Slade\n",
       "1713                                          Chris Weitz\n",
       "1714                                            Jon Avnet\n",
       "1715                                          D.J. Caruso\n",
       "1716                                       Robert Redford\n",
       "1717                                        James Mangold\n",
       "1718                                     Kirsten Sheridan\n",
       "1719                                          Joby Harold\n",
       "1720                                     Philip G. Atwell\n",
       "1721                                          Tom Shadyac\n",
       "1722                                         Dennis Dugan\n",
       "1723                                         Lee Tamahori\n",
       "1724                                          Mennan Yapo\n",
       "1725                                  Darren Lynn Bousman\n",
       "1726                                         David Dobkin\n",
       "1727                                        Adam Shankman\n",
       "1728                                        Michael Davis\n",
       "1729                                     David Cronenberg\n",
       "1730                                      Robert Zemeckis\n",
       "1731                                          Scott Hicks\n",
       "1732                        Bobby Farrelly|Peter Farrelly\n",
       "1733                               Ash Brannon|Chris Buck\n",
       "1734                                    Mikael HÃ¥fstrÃ¶m\n",
       "1735                                          Xavier Gens\n",
       "1736                                         Andy Fickman\n",
       "1737    Robert Rodriguez|Eli Roth|Quentin Tarantino|Ed...\n",
       "1738                                      David Schwimmer\n",
       "1739                                          Michael Bay\n",
       "1740                                           Rob Reiner\n",
       "1741                                             Eli Roth\n",
       "1742                                          Dave Meyers\n",
       "1743                                      Chris Sivertson\n",
       "1744                                           Rob Zombie\n",
       "1745                                       Julian Jarrold\n",
       "1746                                       Michael Haneke\n",
       "1747                                        Shekhar Kapur\n",
       "1748                   Oliver Hirschbiegel|James McTeigue\n",
       "1749                                         Sidney Lumet\n",
       "1750                                          Fred Savage\n",
       "1751                                      Russell Mulcahy\n",
       "1752                                       Andrew Dominik\n",
       "1753                                 Michael Winterbottom\n",
       "1754                                      Stephen Hopkins\n",
       "1755                                          James Foley\n",
       "1756                                        Brian Robbins\n",
       "1757                                        Marc Lawrence\n",
       "1758                                           Gavin Hood\n",
       "1759                                          Paul Haggis\n",
       "1760                                        Mark Helfrich\n",
       "1761                        Jason Friedberg|Aaron Seltzer\n",
       "1762                                           Jon Kasdan\n",
       "1763                 Shari Springer Berman|Robert Pulcini\n",
       "1764                                    Denzel Washington\n",
       "1765                                  Richard LaGravenese\n",
       "1766                                       David S. Goyer\n",
       "1767                                           James Gray\n",
       "1768                                         Marc Forster\n",
       "1769                                        NimrÃ³d Antal\n",
       "1770                                         Peter Hedges\n",
       "1771                                         Joe Nussbaum\n",
       "1772                                        Roland JoffÃ©\n",
       "1773                                           Ken Kwapis\n",
       "1774                                       Amy Heckerling\n",
       "1775                                          Tony Gilroy\n",
       "1776                                          Jay Russell\n",
       "1777                                            James Wan\n",
       "1778                                          Scott Frank\n",
       "1779                                        Michael Moore\n",
       "1780                                        Marcus Nispel\n",
       "1781                                          Ben Affleck\n",
       "1782                                          Jake Kasdan\n",
       "1783                                         Susanne Bier\n",
       "1784                                          Mike Binder\n",
       "1785                                          Mike Newell\n",
       "1786                                          Todd Haynes\n",
       "1787                    Alastair Fothergill|Mark Linfield\n",
       "1788                                          Doug Lefler\n",
       "1789                                      Stewart Hendler\n",
       "1790                                         Wong Kar-wai\n",
       "1791                                        Sylvain White\n",
       "1792                                         David Leland\n",
       "1793                                            James Wan\n",
       "1794                                           Chris Rock\n",
       "1795                                         Peter Webber\n",
       "1796                                          Tyler Perry\n",
       "1797                                        Feng Xiaogang\n",
       "1798                                          Tyler Perry\n",
       "1799                                           Ben Garant\n",
       "1800                                         Ridley Scott\n",
       "1801                                    Christopher Nolan\n",
       "1802                                           Ron Howard\n",
       "1803                                      Robert Zemeckis\n",
       "1804                                          Guy Ritchie\n",
       "1805                                             John Woo\n",
       "1806                                         Harold Ramis\n",
       "1807                                  Keenen Ivory Wayans\n",
       "1808                                          Mark Dindal\n",
       "1809                                         Nancy Meyers\n",
       "1810                           Ralph Zondag|Eric Leighton\n",
       "1811                                                  McG\n",
       "1812                                 Peter Lord|Nick Park\n",
       "1813                                      Roland Emmerich\n",
       "1814                                           James Wong\n",
       "1815                                        David McNally\n",
       "1816                                   Andrzej Bartkowiak\n",
       "1817                                      Jonathan Mostow\n",
       "1818                                       Stephen Daldry\n",
       "1819                                         Dominic Sena\n",
       "1820                                    Steven Soderbergh\n",
       "1821                                            Jay Roach\n",
       "1822                                            Joel Coen\n",
       "1823                                          David Twohy\n",
       "1824                                          Ben Younger\n",
       "1825                       Don Michael Paul|Bibo Bergeron\n",
       "1826                                        Donald Petrie\n",
       "1827                                       Gregory Hoblit\n",
       "1828                                           Mimi Leder\n",
       "1829                                       Paul Verhoeven\n",
       "1830                                         Raja Gosnell\n",
       "1831                                          Mary Harron\n",
       "1832                                       Lars von Trier\n",
       "1833                                        Todd Phillips\n",
       "1834                                           Boaz Yakin\n",
       "1835                                            Sam Raimi\n",
       "1836                                       Robert Redford\n",
       "1837                                    Steven Soderbergh\n",
       "1838                                         Danny Leiner\n",
       "1839                                         Brett Ratner\n",
       "1840                                   Roger Spottiswoode\n",
       "1841                                            Rob Cohen\n",
       "1842                        Peter Farrelly|Bobby Farrelly\n",
       "1843                                   M. Night Shyamalan\n",
       "1844                                       Clint Eastwood\n",
       "1845                                        Jonathan Lynn\n",
       "1846                                        Cameron Crowe\n",
       "1847                                          Peyton Reed\n",
       "1848                                     Lasse HallstrÃ¶m\n",
       "1849                                       Stephen Frears\n",
       "1850                                       Antony Hoffman\n",
       "1851                                       Brian De Palma\n",
       "1852                                         Tarsem Singh\n",
       "1853                                       John Singleton\n",
       "1854                                       Stephen T. Kay\n",
       "1855                                         Brian Levant\n",
       "1856                                      Roger Donaldson\n",
       "1857                                          Danny Boyle\n",
       "1858                                    Wolfgang Petersen\n",
       "1859                               Don Bluth|Gary Goldman\n",
       "1860                                           Wes Craven\n",
       "1861                                      Martin Campbell\n",
       "1862                                   John Frankenheimer\n",
       "1863                                           Steve Carr\n",
       "1864                                      Patrick Lussier\n",
       "1865                                  George Tillman, Jr.\n",
       "1866                                      Robert Zemeckis\n",
       "1867                                     William Friedkin\n",
       "1868                                         Gus Van Sant\n",
       "1869                                        Robert Iscove\n",
       "1870                                           Kevin Lima\n",
       "1871                                          Peter Segal\n",
       "1872                                        Edward Norton\n",
       "1873                             Walter Hill|Jack Sholder\n",
       "1874                                     Christian Duguay\n",
       "1875                                          David Raynr\n",
       "1876                                       Jon Turteltaub\n",
       "1877                                  Douglas Aarniokoski\n",
       "1878                                Gina Prince-Bythewood\n",
       "1879                                     Davis Guggenheim\n",
       "1880                                       Philip Kaufman\n",
       "1881                                     Courtney Solomon\n",
       "1882                                      Reginald Hudlin\n",
       "1883                                        Brian Robbins\n",
       "1884                                          Bonnie Hunt\n",
       "1885                                         Bryan Singer\n",
       "1886                                             Uli Edel\n",
       "1887                                          Des McAnuff\n",
       "1888                                         Diane Keaton\n",
       "1889                                         Mary Lambert\n",
       "Name: director, dtype: object"
      ]
     },
     "metadata": {},
     "output_type": "display_data"
    }
   ],
   "source": [
    "# Let's take a glimpse and see that some movies have several directors\n",
    "with pd.option_context('display.max_rows', None, 'display.max_columns', None):\n",
    "    display(data.director)"
   ]
  },
  {
   "cell_type": "code",
   "execution_count": 36,
   "metadata": {},
   "outputs": [],
   "source": [
    "data.director = data.director.apply(spliter)"
   ]
  },
  {
   "cell_type": "code",
   "execution_count": 37,
   "metadata": {},
   "outputs": [
    {
     "data": {
      "text/plain": [
       "[('Steven Soderbergh', 13)]"
      ]
     },
     "execution_count": 37,
     "metadata": {},
     "output_type": "execute_result"
    }
   ],
   "source": [
    "director_counter = Counter()\n",
    "for directors in data.director:\n",
    "    for director in directors:\n",
    "        director_counter[director] += 1\n",
    "director_counter.most_common(1)"
   ]
  },
  {
   "cell_type": "code",
   "execution_count": 38,
   "metadata": {},
   "outputs": [
    {
     "data": {
      "text/plain": [
       "'Steven Soderbergh'"
      ]
     },
     "execution_count": 38,
     "metadata": {},
     "output_type": "execute_result"
    }
   ],
   "source": [
    "# Another option\n",
    "pd.DataFrame(data.director.str).stack().value_counts().index[0]"
   ]
  },
  {
   "cell_type": "code",
   "execution_count": 39,
   "metadata": {},
   "outputs": [],
   "source": [
    "answer_ls.append(3)"
   ]
  },
  {
   "cell_type": "markdown",
   "metadata": {},
   "source": [
    "# 14. Кто из режиссеров снял больше всего прибыльных фильмов?\n",
    "Варианты ответов:\n",
    "1. Steven Soderbergh\n",
    "2. Clint Eastwood\n",
    "3. Steven Spielberg\n",
    "4. Ridley Scott\n",
    "5. Christopher Nolan"
   ]
  },
  {
   "cell_type": "code",
   "execution_count": 40,
   "metadata": {},
   "outputs": [],
   "source": [
    "profitable = data[data.profit > 0]"
   ]
  },
  {
   "cell_type": "code",
   "execution_count": 41,
   "metadata": {},
   "outputs": [
    {
     "data": {
      "text/plain": [
       "[('Ridley Scott', 12)]"
      ]
     },
     "execution_count": 41,
     "metadata": {},
     "output_type": "execute_result"
    }
   ],
   "source": [
    "director_counter = Counter()\n",
    "for directors in profitable.director:\n",
    "    for director in directors:\n",
    "        director_counter[director] += 1\n",
    "director_counter.most_common(1)"
   ]
  },
  {
   "cell_type": "code",
   "execution_count": 42,
   "metadata": {
    "scrolled": true
   },
   "outputs": [
    {
     "data": {
      "text/plain": [
       "Ridley Scott    12\n",
       "dtype: int64"
      ]
     },
     "execution_count": 42,
     "metadata": {},
     "output_type": "execute_result"
    }
   ],
   "source": [
    "# Another option\n",
    "pd.DataFrame(profitable.director.str).stack().value_counts().iloc[[0]]"
   ]
  },
  {
   "cell_type": "code",
   "execution_count": 43,
   "metadata": {},
   "outputs": [],
   "source": [
    "answer_ls.append(4)"
   ]
  },
  {
   "cell_type": "markdown",
   "metadata": {},
   "source": [
    "# 15. Кто из режиссеров принес больше всего прибыли?\n",
    "Варианты ответов:\n",
    "1. Steven Spielberg\n",
    "2. Christopher Nolan\n",
    "3. David Yates\n",
    "4. James Cameron\n",
    "5. Peter Jackson\n"
   ]
  },
  {
   "cell_type": "code",
   "execution_count": 48,
   "metadata": {},
   "outputs": [
    {
     "data": {
      "text/plain": [
       "[('Peter Jackson', 5202593685)]"
      ]
     },
     "execution_count": 48,
     "metadata": {},
     "output_type": "execute_result"
    }
   ],
   "source": [
    "dir_profit = Counter()\n",
    "i = 0\n",
    "for directors in data.director:\n",
    "    for director in directors:\n",
    "        dir_profit[director] += data.profit.iloc[i]\n",
    "    i += 1\n",
    "dir_profit.most_common(1)"
   ]
  },
  {
   "cell_type": "code",
   "execution_count": 49,
   "metadata": {},
   "outputs": [],
   "source": [
    "answer_ls.append(5)"
   ]
  },
  {
   "cell_type": "markdown",
   "metadata": {},
   "source": [
    "# 16. Какой актер принес больше всего прибыли?\n",
    "Варианты ответов:\n",
    "1. Emma Watson\n",
    "2. Johnny Depp\n",
    "3. Michelle Rodriguez\n",
    "4. Orlando Bloom\n",
    "5. Rupert Grint"
   ]
  },
  {
   "cell_type": "code",
   "execution_count": 50,
   "metadata": {
    "scrolled": true
   },
   "outputs": [],
   "source": [
    "data.cast = data.cast.apply(spliter)"
   ]
  },
  {
   "cell_type": "code",
   "execution_count": 60,
   "metadata": {
    "scrolled": false
   },
   "outputs": [
    {
     "data": {
      "text/plain": [
       "[('Emma Watson', 6666245597)]"
      ]
     },
     "execution_count": 60,
     "metadata": {},
     "output_type": "execute_result"
    }
   ],
   "source": [
    "actor_profit = Counter()\n",
    "i = 0\n",
    "for actors in data.cast:\n",
    "    for actor in actors:\n",
    "        actor_profit[actor] += data.profit.iloc[i]\n",
    "    i += 1\n",
    "actor_profit.most_common(1)"
   ]
  },
  {
   "cell_type": "code",
   "execution_count": 53,
   "metadata": {},
   "outputs": [],
   "source": [
    "answer_ls.append(1)"
   ]
  },
  {
   "cell_type": "markdown",
   "metadata": {},
   "source": [
    "# 17. Какой актер принес меньше всего прибыли в 2012 году?\n",
    "Варианты ответов:\n",
    "1. Nicolas Cage\n",
    "2. Danny Huston\n",
    "3. Kirsten Dunst\n",
    "4. Jim Sturgess\n",
    "5. Sami Gayle"
   ]
  },
  {
   "cell_type": "code",
   "execution_count": 59,
   "metadata": {},
   "outputs": [
    {
     "data": {
      "text/plain": [
       "('Kirsten Dunst', -68109207)"
      ]
     },
     "execution_count": 59,
     "metadata": {},
     "output_type": "execute_result"
    }
   ],
   "source": [
    "actor_loss = Counter()\n",
    "new_data = data.query('release_year == 2012')\n",
    "i = 0\n",
    "for actors in new_data.cast:\n",
    "    for actor in actors:\n",
    "        actor_loss[actor] += new_data.profit.iloc[i]\n",
    "    i += 1\n",
    "actor_loss.most_common()[-1]"
   ]
  },
  {
   "cell_type": "code",
   "execution_count": 58,
   "metadata": {
    "scrolled": true
   },
   "outputs": [],
   "source": [
    "answer_ls.append(3)"
   ]
  },
  {
   "cell_type": "markdown",
   "metadata": {},
   "source": [
    "# 18. Какой актер снялся в большем количестве высокобюджетных фильмов? (в фильмах где бюджет выше среднего по данной выборке)\n",
    "Варианты ответов:\n",
    "1. Tom Cruise\n",
    "2. Mark Wahlberg \n",
    "3. Matt Damon\n",
    "4. Angelina Jolie\n",
    "5. Adam Sandler"
   ]
  },
  {
   "cell_type": "code",
   "execution_count": 61,
   "metadata": {},
   "outputs": [
    {
     "data": {
      "text/plain": [
       "54506961.474603176"
      ]
     },
     "execution_count": 61,
     "metadata": {},
     "output_type": "execute_result"
    }
   ],
   "source": [
    "budget_mean = data.budget.mean()\n",
    "budget_mean"
   ]
  },
  {
   "cell_type": "code",
   "execution_count": 62,
   "metadata": {
    "scrolled": true
   },
   "outputs": [
    {
     "data": {
      "text/plain": [
       "[('Matt Damon', 18)]"
      ]
     },
     "execution_count": 62,
     "metadata": {},
     "output_type": "execute_result"
    }
   ],
   "source": [
    "actor_counter = Counter()\n",
    "high_budget = data[data.budget > budget_mean]\n",
    "for actors in high_budget.cast:\n",
    "    for actor in actors:\n",
    "        actor_counter[actor] += 1\n",
    "actor_counter.most_common(1)"
   ]
  },
  {
   "cell_type": "code",
   "execution_count": 65,
   "metadata": {
    "scrolled": false
   },
   "outputs": [
    {
     "data": {
      "text/plain": [
       "Matt Damon    18\n",
       "dtype: int64"
      ]
     },
     "execution_count": 65,
     "metadata": {},
     "output_type": "execute_result"
    }
   ],
   "source": [
    "# Another option\n",
    "pd.DataFrame(high_budget.cast.str).stack().value_counts().iloc[[0]]"
   ]
  },
  {
   "cell_type": "code",
   "execution_count": 66,
   "metadata": {},
   "outputs": [],
   "source": [
    "answer_ls.append(3)"
   ]
  },
  {
   "cell_type": "markdown",
   "metadata": {},
   "source": [
    "# 19. В фильмах какого жанра больше всего снимался Nicolas Cage?  \n",
    "Варианты ответа:\n",
    "1. Drama\n",
    "2. Action\n",
    "3. Thriller\n",
    "4. Adventure\n",
    "5. Crime"
   ]
  },
  {
   "cell_type": "code",
   "execution_count": 67,
   "metadata": {
    "scrolled": true
   },
   "outputs": [
    {
     "data": {
      "text/plain": [
       "[('Action', 17)]"
      ]
     },
     "execution_count": 67,
     "metadata": {},
     "output_type": "execute_result"
    }
   ],
   "source": [
    "cage_genre = Counter()\n",
    "i = 0\n",
    "for genres in data.genres:\n",
    "    for genre in genres:\n",
    "        if 'Nicolas Cage' in data.cast.iloc[i]:\n",
    "            cage_genre[genre] += 1\n",
    "    i += 1\n",
    "cage_genre.most_common(1)"
   ]
  },
  {
   "cell_type": "code",
   "execution_count": 68,
   "metadata": {
    "scrolled": true
   },
   "outputs": [],
   "source": [
    "answer_ls.append(2)"
   ]
  },
  {
   "cell_type": "markdown",
   "metadata": {},
   "source": [
    "# 20. Какая студия сняла больше всего фильмов?\n",
    "Варианты ответа:\n",
    "1. Universal Pictures (Universal)\n",
    "2. Paramount Pictures\n",
    "3. Columbia Pictures\n",
    "4. Warner Bros\n",
    "5. Twentieth Century Fox Film Corporation"
   ]
  },
  {
   "cell_type": "code",
   "execution_count": 69,
   "metadata": {},
   "outputs": [],
   "source": [
    "data.production_companies = data.production_companies.apply(spliter)"
   ]
  },
  {
   "cell_type": "code",
   "execution_count": 73,
   "metadata": {
    "scrolled": true
   },
   "outputs": [
    {
     "data": {
      "text/plain": [
       "[('Universal Pictures', 173)]"
      ]
     },
     "execution_count": 73,
     "metadata": {},
     "output_type": "execute_result"
    }
   ],
   "source": [
    "prod_counter = Counter()\n",
    "for companies in data.production_companies:\n",
    "    for company in companies:\n",
    "        prod_counter[company] += 1  \n",
    "prod_counter.most_common(1)"
   ]
  },
  {
   "cell_type": "code",
   "execution_count": 74,
   "metadata": {},
   "outputs": [],
   "source": [
    "answer_ls.append(1)"
   ]
  },
  {
   "cell_type": "markdown",
   "metadata": {},
   "source": [
    "# 21. Какая студия сняла больше всего фильмов в 2015 году?\n",
    "Варианты ответа:\n",
    "1. Universal Pictures\n",
    "2. Paramount Pictures\n",
    "3. Columbia Pictures\n",
    "4. Warner Bros\n",
    "5. Twentieth Century Fox Film Corporation"
   ]
  },
  {
   "cell_type": "code",
   "execution_count": 75,
   "metadata": {},
   "outputs": [],
   "source": [
    "new_data = data.query('release_year == 2015')"
   ]
  },
  {
   "cell_type": "code",
   "execution_count": 77,
   "metadata": {},
   "outputs": [
    {
     "data": {
      "text/plain": [
       "[('Warner Bros.', 12)]"
      ]
     },
     "execution_count": 77,
     "metadata": {},
     "output_type": "execute_result"
    }
   ],
   "source": [
    "prod_counter = Counter()\n",
    "for companies in new_data.production_companies:\n",
    "    for company in companies:\n",
    "        prod_counter[company] += 1   \n",
    "prod_counter.most_common(1)"
   ]
  },
  {
   "cell_type": "code",
   "execution_count": 78,
   "metadata": {},
   "outputs": [],
   "source": [
    "answer_ls.append(4)"
   ]
  },
  {
   "cell_type": "markdown",
   "metadata": {},
   "source": [
    "# 22. Какая студия заработала больше всего денег в жанре комедий за все время?\n",
    "Варианты ответа:\n",
    "1. Warner Bros\n",
    "2. Universal Pictures (Universal)\n",
    "3. Columbia Pictures\n",
    "4. Paramount Pictures\n",
    "5. Walt Disney"
   ]
  },
  {
   "cell_type": "code",
   "execution_count": 82,
   "metadata": {},
   "outputs": [
    {
     "data": {
      "text/plain": [
       "[('Universal Pictures', 8961545581)]"
      ]
     },
     "execution_count": 82,
     "metadata": {},
     "output_type": "execute_result"
    }
   ],
   "source": [
    "comedy_profit = Counter()\n",
    "i = 0\n",
    "for companies in data.production_companies:\n",
    "    if 'Comedy' in data.genres.iloc[i]:\n",
    "        for company in companies:\n",
    "            comedy_profit[company] += data.profit.iloc[i]\n",
    "    i += 1\n",
    "comedy_profit.most_common(1)"
   ]
  },
  {
   "cell_type": "code",
   "execution_count": 83,
   "metadata": {},
   "outputs": [],
   "source": [
    "answer_ls.append(2)"
   ]
  },
  {
   "cell_type": "markdown",
   "metadata": {},
   "source": [
    "# 23. Какая студия заработала больше всего денег в 2012 году?\n",
    "Варианты ответа:\n",
    "1. Universal Pictures (Universal)\n",
    "2. Warner Bros\n",
    "3. Columbia Pictures\n",
    "4. Paramount Pictures\n",
    "5. Lucasfilm"
   ]
  },
  {
   "cell_type": "code",
   "execution_count": 84,
   "metadata": {},
   "outputs": [],
   "source": [
    "new_data = data.query('release_year == 2012')"
   ]
  },
  {
   "cell_type": "code",
   "execution_count": 85,
   "metadata": {},
   "outputs": [
    {
     "data": {
      "text/plain": [
       "[('Columbia Pictures', 2501406608)]"
      ]
     },
     "execution_count": 85,
     "metadata": {},
     "output_type": "execute_result"
    }
   ],
   "source": [
    "company_profit = Counter()\n",
    "i = 0\n",
    "for companies in new_data.production_companies:\n",
    "    for company in companies:\n",
    "        company_profit[company] += new_data.profit.iloc[i]\n",
    "    i += 1\n",
    "company_profit.most_common(1)"
   ]
  },
  {
   "cell_type": "code",
   "execution_count": 86,
   "metadata": {},
   "outputs": [],
   "source": [
    "answer_ls.append(3)"
   ]
  },
  {
   "cell_type": "markdown",
   "metadata": {},
   "source": [
    "# 24. Самый убыточный фильм от Paramount Pictures\n",
    "Варианты ответа:\n",
    "\n",
    "1. K-19: The Widowmaker tt0267626\n",
    "2. Next tt0435705\n",
    "3. Twisted tt0315297\n",
    "4. The Love Guru tt0811138\n",
    "5. The Fighter tt0964517"
   ]
  },
  {
   "cell_type": "code",
   "execution_count": 87,
   "metadata": {},
   "outputs": [
    {
     "data": {
      "text/plain": [
       "('K-19: The Widowmaker', -64831034)"
      ]
     },
     "execution_count": 87,
     "metadata": {},
     "output_type": "execute_result"
    }
   ],
   "source": [
    "pp_loss = Counter()\n",
    "i = 0\n",
    "for film in data.original_title:\n",
    "    if 'Paramount Pictures' in data.production_companies.iloc[i]:\n",
    "        pp_loss[film] += data.profit.iloc[i]\n",
    "    i += 1\n",
    "pp_loss.most_common()[-1]"
   ]
  },
  {
   "cell_type": "code",
   "execution_count": 88,
   "metadata": {},
   "outputs": [],
   "source": [
    "answer_ls.append(1)"
   ]
  },
  {
   "cell_type": "markdown",
   "metadata": {},
   "source": [
    "# 25. Какой Самый прибыльный год (заработали больше всего)?\n",
    "Варианты ответа:\n",
    "1. 2014\n",
    "2. 2008\n",
    "3. 2012\n",
    "4. 2002\n",
    "5. 2015"
   ]
  },
  {
   "cell_type": "code",
   "execution_count": null,
   "metadata": {},
   "outputs": [],
   "source": [
    "data.groupby('release_year').profit.sum().sort_values(ascending=False).head(1)"
   ]
  },
  {
   "cell_type": "code",
   "execution_count": null,
   "metadata": {},
   "outputs": [],
   "source": [
    "answer_ls.append(5)"
   ]
  },
  {
   "cell_type": "markdown",
   "metadata": {},
   "source": [
    "# 26. Какой Самый прибыльный год для студии Warner Bros?\n",
    "Варианты ответа:\n",
    "1. 2014\n",
    "2. 2008\n",
    "3. 2012\n",
    "4. 2010\n",
    "5. 2015"
   ]
  },
  {
   "cell_type": "code",
   "execution_count": null,
   "metadata": {},
   "outputs": [],
   "source": [
    "wb_films = data[data.production_companies.apply(lambda x: 'Warner Bros.' in x)]"
   ]
  },
  {
   "cell_type": "code",
   "execution_count": null,
   "metadata": {
    "scrolled": false
   },
   "outputs": [],
   "source": [
    "wb_films.groupby(['release_year']).profit.sum().sort_values(ascending=False).head(1)"
   ]
  },
  {
   "cell_type": "code",
   "execution_count": null,
   "metadata": {},
   "outputs": [],
   "source": [
    "answer_ls.append(1)"
   ]
  },
  {
   "cell_type": "markdown",
   "metadata": {},
   "source": [
    "# 27. В каком месяце за все годы суммарно вышло больше всего фильмов?\n",
    "Варианты ответа:\n",
    "1. Январь\n",
    "2. Июнь\n",
    "3. Декабрь\n",
    "4. Сентябрь\n",
    "5. Май"
   ]
  },
  {
   "cell_type": "code",
   "execution_count": null,
   "metadata": {},
   "outputs": [],
   "source": [
    "data.release_date = pd.to_datetime(data.release_date)"
   ]
  },
  {
   "cell_type": "code",
   "execution_count": null,
   "metadata": {},
   "outputs": [],
   "source": [
    "month_counter = Counter()\n",
    "\n",
    "for month in data.release_date.dt.month:\n",
    "    month_counter[month] += 1\n",
    "\n",
    "month_counter.most_common(1)"
   ]
  },
  {
   "cell_type": "code",
   "execution_count": null,
   "metadata": {},
   "outputs": [],
   "source": [
    "answer_ls.append(4)"
   ]
  },
  {
   "cell_type": "markdown",
   "metadata": {},
   "source": [
    "# 28. Сколько суммарно вышло фильмов летом? (за июнь, июль, август)\n",
    "Варианты ответа:\n",
    "1. 345\n",
    "2. 450\n",
    "3. 478\n",
    "4. 523\n",
    "5. 381"
   ]
  },
  {
   "cell_type": "code",
   "execution_count": null,
   "metadata": {},
   "outputs": [],
   "source": [
    "summer_counter = Counter()\n",
    "\n",
    "for month in data.release_date.dt.month:\n",
    "    if 6 <= month <= 8:\n",
    "        summer_counter['summer'] += 1\n",
    "        \n",
    "summer_counter"
   ]
  },
  {
   "cell_type": "markdown",
   "metadata": {},
   "source": [
    "# 29. Какой режисер выпускает (суммарно по годам) больше всего фильмов зимой?\n",
    "Варианты ответов:\n",
    "1. Steven Soderbergh\n",
    "2. Christopher Nolan\n",
    "3. Clint Eastwood\n",
    "4. Ridley Scott\n",
    "5. Peter Jackson"
   ]
  },
  {
   "cell_type": "code",
   "execution_count": null,
   "metadata": {},
   "outputs": [],
   "source": [
    "winter_directors = data[data.release_date.dt.month.isin([12, 1, 2])]"
   ]
  },
  {
   "cell_type": "code",
   "execution_count": null,
   "metadata": {},
   "outputs": [],
   "source": [
    "winter_directors.director.value_counts()"
   ]
  },
  {
   "cell_type": "code",
   "execution_count": null,
   "metadata": {},
   "outputs": [],
   "source": [
    "answer_ls.append(5)"
   ]
  },
  {
   "cell_type": "markdown",
   "metadata": {},
   "source": [
    "# 30. Какой месяц чаще всего по годам самый прибыльный?\n",
    "Варианты ответа:\n",
    "1. Январь\n",
    "2. Июнь\n",
    "3. Декабрь\n",
    "4. Сентябрь\n",
    "5. Май"
   ]
  },
  {
   "cell_type": "code",
   "execution_count": null,
   "metadata": {},
   "outputs": [],
   "source": [
    "data['release_month'] = data.release_date.dt.month"
   ]
  },
  {
   "cell_type": "code",
   "execution_count": null,
   "metadata": {
    "scrolled": true
   },
   "outputs": [],
   "source": [
    "pvt = pd.pivot_table(data, columns='release_year', index='release_month', values='profit', aggfunc='sum')\n",
    "pvt"
   ]
  },
  {
   "cell_type": "code",
   "execution_count": null,
   "metadata": {},
   "outputs": [],
   "source": [
    "pvt.idxmax(axis=0).value_counts()"
   ]
  },
  {
   "cell_type": "code",
   "execution_count": null,
   "metadata": {},
   "outputs": [],
   "source": [
    "answer_ls.append(2)"
   ]
  },
  {
   "cell_type": "markdown",
   "metadata": {},
   "source": [
    "# 31. Названия фильмов какой студии в среднем самые длинные по количеству символов?\n",
    "Варианты ответа:\n",
    "1. Universal Pictures (Universal)\n",
    "2. Warner Bros\n",
    "3. Jim Henson Company, The\n",
    "4. Paramount Pictures\n",
    "5. Four By Two Productions"
   ]
  },
  {
   "cell_type": "code",
   "execution_count": null,
   "metadata": {
    "scrolled": true
   },
   "outputs": [],
   "source": [
    "length = Counter()\n",
    "i = 0\n",
    "\n",
    "for companies in data.production_companies:\n",
    "    for company in companies:\n",
    "        length[company] += len(data.original_title.iloc[i])\n",
    "    i += 1"
   ]
  },
  {
   "cell_type": "code",
   "execution_count": null,
   "metadata": {},
   "outputs": [],
   "source": [
    "film_amount = pd.Series([x[1] for x in prod_counter.most_common()], index=[x[0] for x in prod_counter.most_common()])\n",
    "title_length = pd.Series([x[1] for x in length.most_common()], index=[x[0] for x in length.most_common()])"
   ]
  },
  {
   "cell_type": "code",
   "execution_count": null,
   "metadata": {},
   "outputs": [],
   "source": [
    "(title_length / film_amount).sort_values()"
   ]
  },
  {
   "cell_type": "code",
   "execution_count": null,
   "metadata": {},
   "outputs": [],
   "source": [
    "answer_ls.append(5)"
   ]
  },
  {
   "cell_type": "markdown",
   "metadata": {},
   "source": [
    "# 32. Названия фильмов какой студии в среднем самые длинные по количеству слов?\n",
    "Варианты ответа:\n",
    "1. Universal Pictures (Universal)\n",
    "2. Warner Bros\n",
    "3. Jim Henson Company, The\n",
    "4. Paramount Pictures\n",
    "5. Four By Two Productions"
   ]
  },
  {
   "cell_type": "code",
   "execution_count": null,
   "metadata": {},
   "outputs": [],
   "source": [
    "title_words = Counter()\n",
    "i = 0\n",
    "\n",
    "for companies in data.production_companies:\n",
    "    for company in companies:\n",
    "        title_words[company] += len(data.original_title.iloc[i].split())\n",
    "    i += 1"
   ]
  },
  {
   "cell_type": "code",
   "execution_count": null,
   "metadata": {},
   "outputs": [],
   "source": [
    "title_length = pd.Series([x[1] for x in title_words.most_common()], index=[x[0] for x in title_words.most_common()])\n",
    "film_amount = pd.Series([x[1] for x in prod_counter.most_common()], index=[x[0] for x in prod_counter.most_common()])"
   ]
  },
  {
   "cell_type": "code",
   "execution_count": null,
   "metadata": {},
   "outputs": [],
   "source": [
    "(title_length / film_amount).sort_values()"
   ]
  },
  {
   "cell_type": "code",
   "execution_count": null,
   "metadata": {},
   "outputs": [],
   "source": [
    "answer_ls.append(5)"
   ]
  },
  {
   "cell_type": "markdown",
   "metadata": {},
   "source": [
    "# 33. Сколько разных слов используется в названиях фильмов?(без учета регистра)\n",
    "Варианты ответа:\n",
    "1. 6540\n",
    "2. 1002\n",
    "3. 2461\n",
    "4. 28304\n",
    "5. 3432"
   ]
  },
  {
   "cell_type": "code",
   "execution_count": null,
   "metadata": {},
   "outputs": [],
   "source": [
    "unique_words = []\n",
    "\n",
    "for title in data.original_title:\n",
    "    for word in title.lower().split():\n",
    "        if word not in unique_words:\n",
    "            unique_words.append(word)\n",
    "            "
   ]
  },
  {
   "cell_type": "code",
   "execution_count": null,
   "metadata": {},
   "outputs": [],
   "source": [
    "len(unique_words)"
   ]
  },
  {
   "cell_type": "code",
   "execution_count": null,
   "metadata": {},
   "outputs": [],
   "source": [
    "answer_ls.append(3)"
   ]
  },
  {
   "cell_type": "markdown",
   "metadata": {},
   "source": [
    "# 34. Какие фильмы входят в 1 процент лучших по рейтингу?\n",
    "Варианты ответа:\n",
    "1. Inside Out, Gone Girl, 12 Years a Slave\n",
    "2. BloodRayne, The Adventures of Rocky and Bullwinkle\n",
    "3. The Lord of the Rings: The Return of the King, Upside Down\n",
    "4. 300, Lucky Number Slevin\n",
    "5. Upside Down, 300, Inside Out, The Lord of the Rings: The Return of the King"
   ]
  },
  {
   "cell_type": "code",
   "execution_count": null,
   "metadata": {
    "scrolled": true
   },
   "outputs": [],
   "source": [
    "data[['original_title', 'vote_average']].sort_values(by='vote_average', ascending=False)[:19]"
   ]
  },
  {
   "cell_type": "code",
   "execution_count": null,
   "metadata": {},
   "outputs": [],
   "source": [
    "answer_ls.append(1)"
   ]
  },
  {
   "cell_type": "markdown",
   "metadata": {},
   "source": [
    "# 35. Какие актеры чаще всего снимаются в одном фильме вместе\n",
    "Варианты ответа:\n",
    "1. Johnny Depp & Helena Bonham Carter\n",
    "2. Hugh Jackman & Ian McKellen\n",
    "3. Vin Diesel & Paul Walker\n",
    "4. Adam Sandler & Kevin James\n",
    "5. Daniel Radcliffe & Rupert Grint"
   ]
  },
  {
   "cell_type": "code",
   "execution_count": null,
   "metadata": {
    "scrolled": true
   },
   "outputs": [],
   "source": [
    "actor_pairs = Counter()\n",
    "\n",
    "for actors in data.cast:\n",
    "    for pair in itertools.combinations(actors, 2):\n",
    "        actor_pairs[pair] += 1"
   ]
  },
  {
   "cell_type": "code",
   "execution_count": null,
   "metadata": {
    "scrolled": true
   },
   "outputs": [],
   "source": [
    "actor_pairs.most_common(10)"
   ]
  },
  {
   "cell_type": "code",
   "execution_count": null,
   "metadata": {},
   "outputs": [],
   "source": [
    "answer_ls.append(5)"
   ]
  },
  {
   "cell_type": "markdown",
   "metadata": {},
   "source": [
    "# 36. У какого из режиссеров выше вероятность выпустить фильм в прибыли? (5 баллов)\n",
    "Варианты ответа:\n",
    "1. Quentin Tarantino\n",
    "2. Steven Soderbergh\n",
    "3. Robert Rodriguez\n",
    "4. Christopher Nolan\n",
    "5. Clint Eastwood"
   ]
  },
  {
   "cell_type": "code",
   "execution_count": null,
   "metadata": {},
   "outputs": [],
   "source": [
    "data.director = data.director.apply(spliter)"
   ]
  },
  {
   "cell_type": "code",
   "execution_count": null,
   "metadata": {
    "scrolled": true
   },
   "outputs": [],
   "source": [
    "d_all = Counter()\n",
    "\n",
    "for directors in data.director:\n",
    "    for director in directors:\n",
    "        d_all[director] += 1\n",
    "\n",
    "d_all.most_common(5)"
   ]
  },
  {
   "cell_type": "code",
   "execution_count": null,
   "metadata": {},
   "outputs": [],
   "source": [
    "d_plus = Counter()\n",
    "\n",
    "for directors in data[data.profit > 0].director:\n",
    "    for director in directors:\n",
    "        d_plus[director] += 1\n",
    "\n",
    "d_plus.most_common(5)"
   ]
  },
  {
   "cell_type": "code",
   "execution_count": null,
   "metadata": {},
   "outputs": [],
   "source": [
    "film_amount = pd.Series([x[1] for x in d_all.most_common()], index=[x[0] for x in d_all.most_common()])\n",
    "profitable_films = pd.Series([x[1] for x in d_plus.most_common()], index=[x[0] for x in d_plus.most_common()])\n",
    "probability = (profitable_films / film_amount)"
   ]
  },
  {
   "cell_type": "code",
   "execution_count": null,
   "metadata": {},
   "outputs": [],
   "source": [
    "probability.loc[['Quentin Tarantino',\n",
    "                 'Steven Soderbergh',\n",
    "                 'Robert Rodriguez',\n",
    "                 'Christopher Nolan',\n",
    "                 'Clint Eastwood']].sort_values(ascending=False)"
   ]
  },
  {
   "cell_type": "code",
   "execution_count": null,
   "metadata": {},
   "outputs": [],
   "source": [
    "answer_ls.append(4)"
   ]
  },
  {
   "cell_type": "markdown",
   "metadata": {},
   "source": [
    "# Submission"
   ]
  },
  {
   "cell_type": "code",
   "execution_count": null,
   "metadata": {},
   "outputs": [],
   "source": [
    "len(answer_ls)"
   ]
  },
  {
   "cell_type": "code",
   "execution_count": null,
   "metadata": {},
   "outputs": [],
   "source": [
    "pd.DataFrame({'Id':range(1,len(answer_ls)+1), 'Answer':answer_ls})"
   ]
  }
 ],
 "metadata": {
  "kernelspec": {
   "display_name": "Python 3",
   "language": "python",
   "name": "python3"
  },
  "language_info": {
   "codemirror_mode": {
    "name": "ipython",
    "version": 3
   },
   "file_extension": ".py",
   "mimetype": "text/x-python",
   "name": "python",
   "nbconvert_exporter": "python",
   "pygments_lexer": "ipython3",
   "version": "3.7.6"
  }
 },
 "nbformat": 4,
 "nbformat_minor": 4
}
