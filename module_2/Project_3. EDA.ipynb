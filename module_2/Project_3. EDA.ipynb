{
 "cells": [
  {
   "cell_type": "markdown",
   "metadata": {},
   "source": [
    "# Importing modules"
   ]
  },
  {
   "cell_type": "code",
   "execution_count": 1,
   "metadata": {
    "ExecuteTime": {
     "end_time": "2020-07-07T09:03:56.186719Z",
     "start_time": "2020-07-07T09:03:54.104517Z"
    }
   },
   "outputs": [],
   "source": [
    "import pandas as pd\n",
    "import numpy as np\n",
    "import matplotlib.pyplot as plt\n",
    "import seaborn as sns\n",
    "from scipy import stats\n",
    "from itertools import combinations"
   ]
  },
  {
   "cell_type": "markdown",
   "metadata": {},
   "source": [
    "# Data preprocessing"
   ]
  },
  {
   "cell_type": "markdown",
   "metadata": {},
   "source": [
    "## Data types"
   ]
  },
  {
   "cell_type": "markdown",
   "metadata": {},
   "source": [
    "The dataset conatins the folowing columns:\n",
    "\n",
    ">* Bar id - identification number of a certain bar\n",
    "* Company (Maker-if known) — name of the producer\n",
    "* Specific Bean Origin or Bar Name — where cacao beans come from\n",
    "* Broad Bean Origin — where cacao beans were grown\n",
    "* Company Location — where the bar producer is located\n",
    "* Bean Type — cacao bean type used in bar production\n",
    "* REF — relevance of a review (the higher the score is, the more relevant the review is)\n",
    "* Review Date — year of review publication\n",
    "* Cocoa Percent — cacao percent in a bar\n",
    "* Rating — bar assessment by a focus-group"
   ]
  },
  {
   "cell_type": "code",
   "execution_count": 2,
   "metadata": {
    "ExecuteTime": {
     "end_time": "2020-07-07T09:03:56.221853Z",
     "start_time": "2020-07-07T09:03:56.186719Z"
    }
   },
   "outputs": [],
   "source": [
    "pd.set_option('display.max_rows', 50)\n",
    "pd.set_option('display.max_columns', 50)\n",
    "sns.set()\n",
    "\n",
    "cacao = pd.read_csv('cacao_flavors.xls')"
   ]
  },
  {
   "cell_type": "code",
   "execution_count": 3,
   "metadata": {
    "ExecuteTime": {
     "end_time": "2020-07-07T09:03:56.283517Z",
     "start_time": "2020-07-07T09:03:56.227105Z"
    }
   },
   "outputs": [
    {
     "data": {
      "text/html": [
       "<div>\n",
       "<style scoped>\n",
       "    .dataframe tbody tr th:only-of-type {\n",
       "        vertical-align: middle;\n",
       "    }\n",
       "\n",
       "    .dataframe tbody tr th {\n",
       "        vertical-align: top;\n",
       "    }\n",
       "\n",
       "    .dataframe thead th {\n",
       "        text-align: right;\n",
       "    }\n",
       "</style>\n",
       "<table border=\"1\" class=\"dataframe\">\n",
       "  <thead>\n",
       "    <tr style=\"text-align: right;\">\n",
       "      <th></th>\n",
       "      <th>Bar id</th>\n",
       "      <th>Company \\n(Maker-if known)</th>\n",
       "      <th>Specific Bean Origin\\nor Bar Name</th>\n",
       "      <th>REF</th>\n",
       "      <th>Review\\nDate</th>\n",
       "      <th>Cocoa\\nPercent</th>\n",
       "      <th>Company\\nLocation</th>\n",
       "      <th>Rating</th>\n",
       "      <th>Bean\\nType</th>\n",
       "      <th>Broad Bean\\nOrigin</th>\n",
       "    </tr>\n",
       "  </thead>\n",
       "  <tbody>\n",
       "    <tr>\n",
       "      <th>0</th>\n",
       "      <td>1</td>\n",
       "      <td>A. Morin</td>\n",
       "      <td>Agua Grande</td>\n",
       "      <td>1876</td>\n",
       "      <td>2016</td>\n",
       "      <td>63%</td>\n",
       "      <td>France</td>\n",
       "      <td>11.50</td>\n",
       "      <td></td>\n",
       "      <td>Sao Tome</td>\n",
       "    </tr>\n",
       "    <tr>\n",
       "      <th>1</th>\n",
       "      <td>2</td>\n",
       "      <td>A. Morin</td>\n",
       "      <td>Kpime</td>\n",
       "      <td>1676</td>\n",
       "      <td>2015</td>\n",
       "      <td>70%</td>\n",
       "      <td>France</td>\n",
       "      <td>2.75</td>\n",
       "      <td></td>\n",
       "      <td>Togo</td>\n",
       "    </tr>\n",
       "    <tr>\n",
       "      <th>2</th>\n",
       "      <td>3</td>\n",
       "      <td>A. Morin</td>\n",
       "      <td>Atsane</td>\n",
       "      <td>1676</td>\n",
       "      <td>2015</td>\n",
       "      <td>670%</td>\n",
       "      <td>France</td>\n",
       "      <td>3.00</td>\n",
       "      <td></td>\n",
       "      <td>Togo</td>\n",
       "    </tr>\n",
       "    <tr>\n",
       "      <th>3</th>\n",
       "      <td>4</td>\n",
       "      <td>A. Morin</td>\n",
       "      <td>Akata</td>\n",
       "      <td>1680</td>\n",
       "      <td>2015</td>\n",
       "      <td>70%</td>\n",
       "      <td>France</td>\n",
       "      <td>3.50</td>\n",
       "      <td></td>\n",
       "      <td>Togo</td>\n",
       "    </tr>\n",
       "    <tr>\n",
       "      <th>4</th>\n",
       "      <td>5</td>\n",
       "      <td>A. Morin</td>\n",
       "      <td>Quilla</td>\n",
       "      <td>1704</td>\n",
       "      <td>2015</td>\n",
       "      <td>70%</td>\n",
       "      <td>France</td>\n",
       "      <td>3.50</td>\n",
       "      <td></td>\n",
       "      <td>Peru</td>\n",
       "    </tr>\n",
       "    <tr>\n",
       "      <th>5</th>\n",
       "      <td>6</td>\n",
       "      <td>A. Morin</td>\n",
       "      <td>Carenero</td>\n",
       "      <td>1315</td>\n",
       "      <td>2014</td>\n",
       "      <td>70%</td>\n",
       "      <td>France</td>\n",
       "      <td>2.75</td>\n",
       "      <td>Criollo</td>\n",
       "      <td>Venezuela</td>\n",
       "    </tr>\n",
       "    <tr>\n",
       "      <th>6</th>\n",
       "      <td>7</td>\n",
       "      <td>A. Morin</td>\n",
       "      <td>Cuba</td>\n",
       "      <td>1315</td>\n",
       "      <td>2014</td>\n",
       "      <td>70%</td>\n",
       "      <td>France</td>\n",
       "      <td>3.50</td>\n",
       "      <td></td>\n",
       "      <td>Cuba</td>\n",
       "    </tr>\n",
       "    <tr>\n",
       "      <th>7</th>\n",
       "      <td>8</td>\n",
       "      <td>A. Morin</td>\n",
       "      <td>Sur del Lago</td>\n",
       "      <td>1315</td>\n",
       "      <td>2014</td>\n",
       "      <td>70%</td>\n",
       "      <td>France</td>\n",
       "      <td>11.50</td>\n",
       "      <td>Criollo</td>\n",
       "      <td>Venezuela</td>\n",
       "    </tr>\n",
       "    <tr>\n",
       "      <th>8</th>\n",
       "      <td>9</td>\n",
       "      <td></td>\n",
       "      <td>Puerto Cabello</td>\n",
       "      <td>1319</td>\n",
       "      <td>2014</td>\n",
       "      <td>70%</td>\n",
       "      <td>France</td>\n",
       "      <td>3.75</td>\n",
       "      <td>Criollo</td>\n",
       "      <td>Venezuela</td>\n",
       "    </tr>\n",
       "    <tr>\n",
       "      <th>9</th>\n",
       "      <td>10</td>\n",
       "      <td>A. Morin</td>\n",
       "      <td>Pablino</td>\n",
       "      <td>1319</td>\n",
       "      <td>2014</td>\n",
       "      <td>70%</td>\n",
       "      <td>France</td>\n",
       "      <td>4.00</td>\n",
       "      <td></td>\n",
       "      <td>Peru</td>\n",
       "    </tr>\n",
       "  </tbody>\n",
       "</table>\n",
       "</div>"
      ],
      "text/plain": [
       "   Bar id Company \\n(Maker-if known) Specific Bean Origin\\nor Bar Name   REF  \\\n",
       "0       1                   A. Morin                       Agua Grande  1876   \n",
       "1       2                   A. Morin                             Kpime  1676   \n",
       "2       3                   A. Morin                            Atsane  1676   \n",
       "3       4                   A. Morin                             Akata  1680   \n",
       "4       5                   A. Morin                            Quilla  1704   \n",
       "5       6                   A. Morin                          Carenero  1315   \n",
       "6       7                   A. Morin                              Cuba  1315   \n",
       "7       8                   A. Morin                      Sur del Lago  1315   \n",
       "8       9                                               Puerto Cabello  1319   \n",
       "9      10                   A. Morin                           Pablino  1319   \n",
       "\n",
       "   Review\\nDate Cocoa\\nPercent Company\\nLocation  Rating Bean\\nType  \\\n",
       "0          2016            63%            France   11.50              \n",
       "1          2015            70%            France    2.75              \n",
       "2          2015           670%            France    3.00              \n",
       "3          2015            70%            France    3.50              \n",
       "4          2015            70%            France    3.50              \n",
       "5          2014            70%            France    2.75    Criollo   \n",
       "6          2014            70%            France    3.50              \n",
       "7          2014            70%            France   11.50    Criollo   \n",
       "8          2014            70%            France    3.75    Criollo   \n",
       "9          2014            70%            France    4.00              \n",
       "\n",
       "  Broad Bean\\nOrigin  \n",
       "0           Sao Tome  \n",
       "1               Togo  \n",
       "2               Togo  \n",
       "3               Togo  \n",
       "4               Peru  \n",
       "5          Venezuela  \n",
       "6               Cuba  \n",
       "7          Venezuela  \n",
       "8          Venezuela  \n",
       "9               Peru  "
      ]
     },
     "metadata": {},
     "output_type": "display_data"
    }
   ],
   "source": [
    "display(cacao.head(10))"
   ]
  },
  {
   "cell_type": "code",
   "execution_count": 4,
   "metadata": {
    "ExecuteTime": {
     "end_time": "2020-07-07T09:03:56.315523Z",
     "start_time": "2020-07-07T09:03:56.287500Z"
    },
    "scrolled": false
   },
   "outputs": [
    {
     "name": "stdout",
     "output_type": "stream",
     "text": [
      "<class 'pandas.core.frame.DataFrame'>\n",
      "RangeIndex: 1795 entries, 0 to 1794\n",
      "Data columns (total 10 columns):\n",
      " #   Column                            Non-Null Count  Dtype  \n",
      "---  ------                            --------------  -----  \n",
      " 0   Bar id                            1795 non-null   int64  \n",
      " 1   Company \n",
      "(Maker-if known)         1795 non-null   object \n",
      " 2   Specific Bean Origin\n",
      "or Bar Name  1795 non-null   object \n",
      " 3   REF                               1795 non-null   int64  \n",
      " 4   Review\n",
      "Date                       1795 non-null   int64  \n",
      " 5   Cocoa\n",
      "Percent                     1795 non-null   object \n",
      " 6   Company\n",
      "Location                  1795 non-null   object \n",
      " 7   Rating                            1795 non-null   float64\n",
      " 8   Bean\n",
      "Type                         1794 non-null   object \n",
      " 9   Broad Bean\n",
      "Origin                 1794 non-null   object \n",
      "dtypes: float64(1), int64(3), object(6)\n",
      "memory usage: 140.4+ KB\n"
     ]
    },
    {
     "data": {
      "text/plain": [
       "None"
      ]
     },
     "metadata": {},
     "output_type": "display_data"
    }
   ],
   "source": [
    "display(cacao.info())"
   ]
  },
  {
   "cell_type": "markdown",
   "metadata": {},
   "source": [
    "## Renaming columns"
   ]
  },
  {
   "cell_type": "code",
   "execution_count": 5,
   "metadata": {
    "ExecuteTime": {
     "end_time": "2020-07-07T09:03:56.355512Z",
     "start_time": "2020-07-07T09:03:56.319525Z"
    }
   },
   "outputs": [
    {
     "data": {
      "text/html": [
       "<div>\n",
       "<style scoped>\n",
       "    .dataframe tbody tr th:only-of-type {\n",
       "        vertical-align: middle;\n",
       "    }\n",
       "\n",
       "    .dataframe tbody tr th {\n",
       "        vertical-align: top;\n",
       "    }\n",
       "\n",
       "    .dataframe thead th {\n",
       "        text-align: right;\n",
       "    }\n",
       "</style>\n",
       "<table border=\"1\" class=\"dataframe\">\n",
       "  <thead>\n",
       "    <tr style=\"text-align: right;\">\n",
       "      <th></th>\n",
       "      <th>bar_id</th>\n",
       "      <th>company</th>\n",
       "      <th>specific_origin</th>\n",
       "      <th>ref</th>\n",
       "      <th>review_date</th>\n",
       "      <th>cocoa_percent</th>\n",
       "      <th>company_location</th>\n",
       "      <th>rating</th>\n",
       "      <th>bean_type</th>\n",
       "      <th>broad_origin</th>\n",
       "    </tr>\n",
       "  </thead>\n",
       "  <tbody>\n",
       "    <tr>\n",
       "      <th>0</th>\n",
       "      <td>1</td>\n",
       "      <td>A. Morin</td>\n",
       "      <td>Agua Grande</td>\n",
       "      <td>1876</td>\n",
       "      <td>2016</td>\n",
       "      <td>63%</td>\n",
       "      <td>France</td>\n",
       "      <td>11.5</td>\n",
       "      <td></td>\n",
       "      <td>Sao Tome</td>\n",
       "    </tr>\n",
       "  </tbody>\n",
       "</table>\n",
       "</div>"
      ],
      "text/plain": [
       "   bar_id   company specific_origin   ref  review_date cocoa_percent  \\\n",
       "0       1  A. Morin     Agua Grande  1876         2016           63%   \n",
       "\n",
       "  company_location  rating bean_type broad_origin  \n",
       "0           France    11.5               Sao Tome  "
      ]
     },
     "execution_count": 5,
     "metadata": {},
     "output_type": "execute_result"
    }
   ],
   "source": [
    "cacao.columns = ['bar_id', 'company', 'specific_origin', 'ref', 'review_date',\n",
    "                 'cocoa_percent', 'company_location', 'rating', 'bean_type',\n",
    "                 'broad_origin']\n",
    "cacao.head(1)"
   ]
  },
  {
   "cell_type": "markdown",
   "metadata": {},
   "source": [
    "## Column review"
   ]
  },
  {
   "cell_type": "code",
   "execution_count": 6,
   "metadata": {
    "ExecuteTime": {
     "end_time": "2020-07-07T09:03:56.749015Z",
     "start_time": "2020-07-07T09:03:56.359514Z"
    }
   },
   "outputs": [
    {
     "data": {
      "text/plain": [
       "[<matplotlib.lines.Line2D at 0x233b0179448>]"
      ]
     },
     "execution_count": 6,
     "metadata": {},
     "output_type": "execute_result"
    },
    {
     "data": {
      "image/png": "[encoded data removed]",
      "text/plain": [
       "<Figure size 432x288 with 1 Axes>"
      ]
     },
     "metadata": {},
     "output_type": "display_data"
    }
   ],
   "source": [
    "plt.plot(cacao.bar_id)"
   ]
  },
  {
   "cell_type": "code",
   "execution_count": 7,
   "metadata": {
    "ExecuteTime": {
     "end_time": "2020-07-07T09:03:56.761312Z",
     "start_time": "2020-07-07T09:03:56.752996Z"
    }
   },
   "outputs": [],
   "source": [
    "# No need in such data -> delete it\n",
    "cacao.drop(['bar_id'], inplace=True, axis=1)"
   ]
  },
  {
   "cell_type": "code",
   "execution_count": 8,
   "metadata": {
    "ExecuteTime": {
     "end_time": "2020-07-07T09:03:56.820694Z",
     "start_time": "2020-07-07T09:03:56.765522Z"
    }
   },
   "outputs": [
    {
     "data": {
      "text/html": [
       "<div>\n",
       "<style scoped>\n",
       "    .dataframe tbody tr th:only-of-type {\n",
       "        vertical-align: middle;\n",
       "    }\n",
       "\n",
       "    .dataframe tbody tr th {\n",
       "        vertical-align: top;\n",
       "    }\n",
       "\n",
       "    .dataframe thead th {\n",
       "        text-align: right;\n",
       "    }\n",
       "</style>\n",
       "<table border=\"1\" class=\"dataframe\">\n",
       "  <thead>\n",
       "    <tr style=\"text-align: right;\">\n",
       "      <th></th>\n",
       "      <th>company</th>\n",
       "    </tr>\n",
       "  </thead>\n",
       "  <tbody>\n",
       "    <tr>\n",
       "      <th></th>\n",
       "      <td>99</td>\n",
       "    </tr>\n",
       "    <tr>\n",
       "      <th>Soma</th>\n",
       "      <td>45</td>\n",
       "    </tr>\n",
       "    <tr>\n",
       "      <th>Fresco</th>\n",
       "      <td>26</td>\n",
       "    </tr>\n",
       "    <tr>\n",
       "      <th>Bonnat</th>\n",
       "      <td>26</td>\n",
       "    </tr>\n",
       "    <tr>\n",
       "      <th>Pralus</th>\n",
       "      <td>25</td>\n",
       "    </tr>\n",
       "    <tr>\n",
       "      <th>...</th>\n",
       "      <td>...</td>\n",
       "    </tr>\n",
       "    <tr>\n",
       "      <th>Cacaosuyo (Theobroma Inversiones)</th>\n",
       "      <td>1</td>\n",
       "    </tr>\n",
       "    <tr>\n",
       "      <th>Tan Ban Skrati</th>\n",
       "      <td>1</td>\n",
       "    </tr>\n",
       "    <tr>\n",
       "      <th>Lindt &amp; Sprungli</th>\n",
       "      <td>1</td>\n",
       "    </tr>\n",
       "    <tr>\n",
       "      <th>Bronx Grrl Chocolate</th>\n",
       "      <td>1</td>\n",
       "    </tr>\n",
       "    <tr>\n",
       "      <th>Oialla by Bojessen (Malmo)</th>\n",
       "      <td>1</td>\n",
       "    </tr>\n",
       "  </tbody>\n",
       "</table>\n",
       "<p>408 rows × 1 columns</p>\n",
       "</div>"
      ],
      "text/plain": [
       "                                   company\n",
       "                                        99\n",
       "Soma                                    45\n",
       "Fresco                                  26\n",
       "Bonnat                                  26\n",
       "Pralus                                  25\n",
       "...                                    ...\n",
       "Cacaosuyo (Theobroma Inversiones)        1\n",
       "Tan Ban Skrati                           1\n",
       "Lindt & Sprungli                         1\n",
       "Bronx Grrl Chocolate                     1\n",
       "Oialla by Bojessen (Malmo)               1\n",
       "\n",
       "[408 rows x 1 columns]"
      ]
     },
     "execution_count": 8,
     "metadata": {},
     "output_type": "execute_result"
    }
   ],
   "source": [
    "pd.DataFrame(cacao.company.value_counts())"
   ]
  },
  {
   "cell_type": "code",
   "execution_count": 9,
   "metadata": {
    "ExecuteTime": {
     "end_time": "2020-07-07T09:03:56.836697Z",
     "start_time": "2020-07-07T09:03:56.820694Z"
    }
   },
   "outputs": [
    {
     "name": "stdout",
     "output_type": "stream",
     "text": [
      "Number of unique companies in dataset: 407\n"
     ]
    }
   ],
   "source": [
    "cacao.company = cacao.company.apply(lambda x: None if x.strip() == '' else x)\n",
    "print(f'Number of unique companies in dataset: {cacao.company.nunique()}')"
   ]
  },
  {
   "cell_type": "code",
   "execution_count": 10,
   "metadata": {
    "ExecuteTime": {
     "end_time": "2020-07-07T09:03:56.856684Z",
     "start_time": "2020-07-07T09:03:56.840678Z"
    },
    "scrolled": true
   },
   "outputs": [
    {
     "name": "stdout",
     "output_type": "stream",
     "text": [
      "Number of companies that have 20+ products in dataset: 14\n"
     ]
    }
   ],
   "source": [
    "companies = cacao.company.value_counts()\n",
    "print(f'Number of companies that have 20+ products in dataset: {companies[companies > 10].nunique()}')"
   ]
  },
  {
   "cell_type": "code",
   "execution_count": 11,
   "metadata": {
    "ExecuteTime": {
     "end_time": "2020-07-07T09:03:56.872688Z",
     "start_time": "2020-07-07T09:03:56.860684Z"
    }
   },
   "outputs": [
    {
     "name": "stdout",
     "output_type": "stream",
     "text": [
      "Number of unique regions: 1737\n"
     ]
    }
   ],
   "source": [
    "cacao.specific_origin = cacao.specific_origin.apply(lambda x: None if x.strip() == '' else x)\n",
    "print(f'Number of unique regions: {cacao.specific_origin.count()}')"
   ]
  },
  {
   "cell_type": "code",
   "execution_count": 12,
   "metadata": {
    "ExecuteTime": {
     "end_time": "2020-07-07T09:03:56.888689Z",
     "start_time": "2020-07-07T09:03:56.876685Z"
    }
   },
   "outputs": [
    {
     "name": "stdout",
     "output_type": "stream",
     "text": [
      "Number of regions with 10+ products: 15\n"
     ]
    }
   ],
   "source": [
    "origin = cacao.specific_origin.value_counts()\n",
    "print(f'Number of regions with 10+ products: {origin[origin > 10].count()}')"
   ]
  },
  {
   "cell_type": "code",
   "execution_count": 13,
   "metadata": {
    "ExecuteTime": {
     "end_time": "2020-07-07T09:03:57.280145Z",
     "start_time": "2020-07-07T09:03:56.888689Z"
    },
    "scrolled": false
   },
   "outputs": [
    {
     "data": {
      "text/plain": [
       "count    1795.000000\n",
       "mean     1035.904735\n",
       "std       552.886365\n",
       "min         5.000000\n",
       "25%       576.000000\n",
       "50%      1069.000000\n",
       "75%      1502.000000\n",
       "max      1952.000000\n",
       "Name: ref, dtype: float64"
      ]
     },
     "execution_count": 13,
     "metadata": {},
     "output_type": "execute_result"
    },
    {
     "data": {
      "image/png": "[encoded data removed]",
      "text/plain": [
       "<Figure size 432x288 with 1 Axes>"
      ]
     },
     "metadata": {},
     "output_type": "display_data"
    }
   ],
   "source": [
    "sns.distplot(cacao.ref, color='m')\n",
    "cacao.ref.describe()"
   ]
  },
  {
   "cell_type": "code",
   "execution_count": 14,
   "metadata": {
    "ExecuteTime": {
     "end_time": "2020-07-07T09:03:57.657651Z",
     "start_time": "2020-07-07T09:03:57.284129Z"
    }
   },
   "outputs": [
    {
     "data": {
      "text/plain": [
       "<matplotlib.axes._subplots.AxesSubplot at 0x233afba6b48>"
      ]
     },
     "execution_count": 14,
     "metadata": {},
     "output_type": "execute_result"
    },
    {
     "data": {
      "image/png": "[encoded data removed]",
      "text/plain": [
       "<Figure size 432x288 with 1 Axes>"
      ]
     },
     "metadata": {},
     "output_type": "display_data"
    }
   ],
   "source": [
    "sns.boxplot(cacao.ref, color='m')"
   ]
  },
  {
   "cell_type": "markdown",
   "metadata": {},
   "source": [
    "So we can see:\n",
    "\n",
    "* Normal distribution (close to it)\n",
    "* No outliers\n",
    "* Uptrend"
   ]
  },
  {
   "cell_type": "code",
   "execution_count": 15,
   "metadata": {
    "ExecuteTime": {
     "end_time": "2020-07-07T09:03:58.086338Z",
     "start_time": "2020-07-07T09:03:57.661665Z"
    }
   },
   "outputs": [
    {
     "data": {
      "text/plain": [
       "count    1795.000000\n",
       "mean     2012.325348\n",
       "std         2.927210\n",
       "min      2006.000000\n",
       "25%      2010.000000\n",
       "50%      2013.000000\n",
       "75%      2015.000000\n",
       "max      2017.000000\n",
       "Name: review_date, dtype: float64"
      ]
     },
     "execution_count": 15,
     "metadata": {},
     "output_type": "execute_result"
    },
    {
     "data": {
      "image/png": "[encoded data removed]",
      "text/plain": [
       "<Figure size 432x288 with 1 Axes>"
      ]
     },
     "metadata": {},
     "output_type": "display_data"
    }
   ],
   "source": [
    "sns.distplot(cacao.review_date, color='m', bins=10)\n",
    "cacao.review_date.describe()"
   ]
  },
  {
   "cell_type": "code",
   "execution_count": 16,
   "metadata": {
    "ExecuteTime": {
     "end_time": "2020-07-07T09:03:58.402030Z",
     "start_time": "2020-07-07T09:03:58.090339Z"
    },
    "scrolled": true
   },
   "outputs": [
    {
     "data": {
      "text/plain": [
       "<matplotlib.axes._subplots.AxesSubplot at 0x233afdb3688>"
      ]
     },
     "execution_count": 16,
     "metadata": {},
     "output_type": "execute_result"
    },
    {
     "data": {
      "image/png": "[encoded data removed]",
      "text/plain": [
       "<Figure size 432x288 with 1 Axes>"
      ]
     },
     "metadata": {},
     "output_type": "display_data"
    }
   ],
   "source": [
    "sns.boxplot(cacao.review_date, color='m')"
   ]
  },
  {
   "cell_type": "markdown",
   "metadata": {},
   "source": [
    ">* No outliers\n",
    ">* Uptrend"
   ]
  },
  {
   "cell_type": "code",
   "execution_count": 17,
   "metadata": {
    "ExecuteTime": {
     "end_time": "2020-07-07T09:03:58.418016Z",
     "start_time": "2020-07-07T09:03:58.406012Z"
    }
   },
   "outputs": [],
   "source": [
    "cacao.cocoa_percent = cacao.cocoa_percent.apply(lambda x: float(x.replace('%', '')))"
   ]
  },
  {
   "cell_type": "code",
   "execution_count": 18,
   "metadata": {
    "ExecuteTime": {
     "end_time": "2020-07-07T09:03:58.866860Z",
     "start_time": "2020-07-07T09:03:58.422031Z"
    }
   },
   "outputs": [
    {
     "data": {
      "text/plain": [
       "<matplotlib.axes._subplots.AxesSubplot at 0x233afe086c8>"
      ]
     },
     "execution_count": 18,
     "metadata": {},
     "output_type": "execute_result"
    },
    {
     "data": {
      "image/png": "[encoded data removed]",
      "text/plain": [
       "<Figure size 432x288 with 1 Axes>"
      ]
     },
     "metadata": {},
     "output_type": "display_data"
    }
   ],
   "source": [
    "sns.distplot(cacao.cocoa_percent, bins=10, color='m')"
   ]
  },
  {
   "cell_type": "code",
   "execution_count": 19,
   "metadata": {
    "ExecuteTime": {
     "end_time": "2020-07-07T09:03:59.204963Z",
     "start_time": "2020-07-07T09:03:58.866860Z"
    }
   },
   "outputs": [
    {
     "data": {
      "text/plain": [
       "<matplotlib.axes._subplots.AxesSubplot at 0x233afe90208>"
      ]
     },
     "execution_count": 19,
     "metadata": {},
     "output_type": "execute_result"
    },
    {
     "data": {
      "image/png": "[encoded data removed]",
      "text/plain": [
       "<Figure size 432x288 with 1 Axes>"
      ]
     },
     "metadata": {},
     "output_type": "display_data"
    }
   ],
   "source": [
    "sns.boxplot(cacao.cocoa_percent, width=0.9)"
   ]
  },
  {
   "cell_type": "markdown",
   "metadata": {},
   "source": [
    "* Outliers (values > 100)"
   ]
  },
  {
   "cell_type": "code",
   "execution_count": 20,
   "metadata": {
    "ExecuteTime": {
     "end_time": "2020-07-07T09:03:59.702007Z",
     "start_time": "2020-07-07T09:03:59.208954Z"
    }
   },
   "outputs": [
    {
     "name": "stdout",
     "output_type": "stream",
     "text": [
      "25th percentile: 70.0, 75th percentile: 75.0, IQR: 5.0, Outliers limits: [62.5, 82.5]\n"
     ]
    },
    {
     "data": {
      "text/plain": [
       "<matplotlib.legend.Legend at 0x233aff0ea88>"
      ]
     },
     "execution_count": 20,
     "metadata": {},
     "output_type": "execute_result"
    },
    {
     "data": {
      "image/png": "[encoded data removed]",
      "text/plain": [
       "<Figure size 432x288 with 1 Axes>"
      ]
     },
     "metadata": {},
     "output_type": "display_data"
    }
   ],
   "source": [
    "median = cacao.cocoa_percent.median()\n",
    "IQR = cacao.cocoa_percent.quantile(0.75) - cacao.cocoa_percent.quantile(0.25)\n",
    "perc25 = cacao.cocoa_percent.quantile(0.25)\n",
    "perc75 = cacao.cocoa_percent.quantile(0.75)\n",
    "left_lim = perc25 - 1.5*IQR\n",
    "right_lim = perc75 + 1.5*IQR\n",
    "print(f\"25th percentile: {perc25}, 75th percentile: {perc75}, IQR: {IQR}, Outliers limits: [{left_lim}, {right_lim}]\")\n",
    "sns.distplot(cacao.cocoa_percent[cacao.cocoa_percent <= 100], bins=16, color='m',\n",
    "             hist_kws={'alpha': 0.7, 'range': (40, 100)}, label='Common sense')\n",
    "sns.distplot(cacao.cocoa_percent[cacao.cocoa_percent.between(left_lim, right_lim)],\n",
    "             bins=16, hist_kws={'alpha': 0.7, 'range': (40, 100)}, label='IQR', color='r')\n",
    "plt.legend()"
   ]
  },
  {
   "cell_type": "markdown",
   "metadata": {},
   "source": [
    "> We will obviously appeal to the common sense and use all values up to 100% "
   ]
  },
  {
   "cell_type": "code",
   "execution_count": 21,
   "metadata": {
    "ExecuteTime": {
     "end_time": "2020-07-07T09:03:59.718404Z",
     "start_time": "2020-07-07T09:03:59.705989Z"
    }
   },
   "outputs": [],
   "source": [
    "cacao = cacao.loc[cacao.cocoa_percent <= 100]"
   ]
  },
  {
   "cell_type": "code",
   "execution_count": 22,
   "metadata": {
    "ExecuteTime": {
     "end_time": "2020-07-07T09:03:59.762154Z",
     "start_time": "2020-07-07T09:03:59.732466Z"
    }
   },
   "outputs": [
    {
     "name": "stdout",
     "output_type": "stream",
     "text": [
      "Number of unique countries: 60\n"
     ]
    }
   ],
   "source": [
    "print(f'Number of unique countries: {cacao.company_location.nunique()}')"
   ]
  },
  {
   "cell_type": "code",
   "execution_count": 23,
   "metadata": {
    "ExecuteTime": {
     "end_time": "2020-07-07T09:03:59.790161Z",
     "start_time": "2020-07-07T09:03:59.766156Z"
    }
   },
   "outputs": [
    {
     "name": "stdout",
     "output_type": "stream",
     "text": [
      "Number of locations with 10+ products: 22\n"
     ]
    },
    {
     "data": {
      "text/html": [
       "<div>\n",
       "<style scoped>\n",
       "    .dataframe tbody tr th:only-of-type {\n",
       "        vertical-align: middle;\n",
       "    }\n",
       "\n",
       "    .dataframe tbody tr th {\n",
       "        vertical-align: top;\n",
       "    }\n",
       "\n",
       "    .dataframe thead th {\n",
       "        text-align: right;\n",
       "    }\n",
       "</style>\n",
       "<table border=\"1\" class=\"dataframe\">\n",
       "  <thead>\n",
       "    <tr style=\"text-align: right;\">\n",
       "      <th></th>\n",
       "      <th>company_location</th>\n",
       "    </tr>\n",
       "  </thead>\n",
       "  <tbody>\n",
       "    <tr>\n",
       "      <th>U.S.A.</th>\n",
       "      <td>756</td>\n",
       "    </tr>\n",
       "    <tr>\n",
       "      <th>France</th>\n",
       "      <td>155</td>\n",
       "    </tr>\n",
       "    <tr>\n",
       "      <th>Canada</th>\n",
       "      <td>124</td>\n",
       "    </tr>\n",
       "    <tr>\n",
       "      <th>U.K.</th>\n",
       "      <td>94</td>\n",
       "    </tr>\n",
       "    <tr>\n",
       "      <th>Italy</th>\n",
       "      <td>63</td>\n",
       "    </tr>\n",
       "    <tr>\n",
       "      <th>...</th>\n",
       "      <td>...</td>\n",
       "    </tr>\n",
       "    <tr>\n",
       "      <th>Russia</th>\n",
       "      <td>1</td>\n",
       "    </tr>\n",
       "    <tr>\n",
       "      <th>India</th>\n",
       "      <td>1</td>\n",
       "    </tr>\n",
       "    <tr>\n",
       "      <th>Czech Republic</th>\n",
       "      <td>1</td>\n",
       "    </tr>\n",
       "    <tr>\n",
       "      <th>Suriname</th>\n",
       "      <td>1</td>\n",
       "    </tr>\n",
       "    <tr>\n",
       "      <th>Wales</th>\n",
       "      <td>1</td>\n",
       "    </tr>\n",
       "  </tbody>\n",
       "</table>\n",
       "<p>60 rows × 1 columns</p>\n",
       "</div>"
      ],
      "text/plain": [
       "                company_location\n",
       "U.S.A.                       756\n",
       "France                       155\n",
       "Canada                       124\n",
       "U.K.                          94\n",
       "Italy                         63\n",
       "...                          ...\n",
       "Russia                         1\n",
       "India                          1\n",
       "Czech Republic                 1\n",
       "Suriname                       1\n",
       "Wales                          1\n",
       "\n",
       "[60 rows x 1 columns]"
      ]
     },
     "metadata": {},
     "output_type": "display_data"
    }
   ],
   "source": [
    "location = cacao.company_location.value_counts()\n",
    "print(f'Number of locations with 10+ products: {location[location > 10].count()}')\n",
    "display(pd.DataFrame(location))"
   ]
  },
  {
   "cell_type": "code",
   "execution_count": 24,
   "metadata": {
    "ExecuteTime": {
     "end_time": "2020-07-07T09:03:59.810187Z",
     "start_time": "2020-07-07T09:03:59.794166Z"
    }
   },
   "outputs": [
    {
     "name": "stdout",
     "output_type": "stream",
     "text": [
      "<class 'pandas.core.frame.DataFrame'>\n",
      "Int64Index: 1776 entries, 0 to 1794\n",
      "Data columns (total 1 columns):\n",
      " #   Column            Non-Null Count  Dtype \n",
      "---  ------            --------------  ----- \n",
      " 0   company_location  1776 non-null   object\n",
      "dtypes: object(1)\n",
      "memory usage: 27.8+ KB\n"
     ]
    }
   ],
   "source": [
    "cacao.loc[:, ['company_location']].info()"
   ]
  },
  {
   "cell_type": "code",
   "execution_count": 25,
   "metadata": {
    "ExecuteTime": {
     "end_time": "2020-07-07T09:03:59.838191Z",
     "start_time": "2020-07-07T09:03:59.814170Z"
    }
   },
   "outputs": [
    {
     "data": {
      "text/html": [
       "<div>\n",
       "<style scoped>\n",
       "    .dataframe tbody tr th:only-of-type {\n",
       "        vertical-align: middle;\n",
       "    }\n",
       "\n",
       "    .dataframe tbody tr th {\n",
       "        vertical-align: top;\n",
       "    }\n",
       "\n",
       "    .dataframe thead th {\n",
       "        text-align: right;\n",
       "    }\n",
       "</style>\n",
       "<table border=\"1\" class=\"dataframe\">\n",
       "  <thead>\n",
       "    <tr style=\"text-align: right;\">\n",
       "      <th></th>\n",
       "      <th>rating</th>\n",
       "    </tr>\n",
       "  </thead>\n",
       "  <tbody>\n",
       "    <tr>\n",
       "      <th>0</th>\n",
       "      <td>11.50</td>\n",
       "    </tr>\n",
       "    <tr>\n",
       "      <th>1</th>\n",
       "      <td>2.75</td>\n",
       "    </tr>\n",
       "    <tr>\n",
       "      <th>3</th>\n",
       "      <td>3.50</td>\n",
       "    </tr>\n",
       "    <tr>\n",
       "      <th>4</th>\n",
       "      <td>3.50</td>\n",
       "    </tr>\n",
       "    <tr>\n",
       "      <th>5</th>\n",
       "      <td>2.75</td>\n",
       "    </tr>\n",
       "    <tr>\n",
       "      <th>...</th>\n",
       "      <td>...</td>\n",
       "    </tr>\n",
       "    <tr>\n",
       "      <th>1790</th>\n",
       "      <td>3.75</td>\n",
       "    </tr>\n",
       "    <tr>\n",
       "      <th>1791</th>\n",
       "      <td>3.00</td>\n",
       "    </tr>\n",
       "    <tr>\n",
       "      <th>1792</th>\n",
       "      <td>3.50</td>\n",
       "    </tr>\n",
       "    <tr>\n",
       "      <th>1793</th>\n",
       "      <td>3.25</td>\n",
       "    </tr>\n",
       "    <tr>\n",
       "      <th>1794</th>\n",
       "      <td>3.00</td>\n",
       "    </tr>\n",
       "  </tbody>\n",
       "</table>\n",
       "<p>1776 rows × 1 columns</p>\n",
       "</div>"
      ],
      "text/plain": [
       "      rating\n",
       "0      11.50\n",
       "1       2.75\n",
       "3       3.50\n",
       "4       3.50\n",
       "5       2.75\n",
       "...      ...\n",
       "1790    3.75\n",
       "1791    3.00\n",
       "1792    3.50\n",
       "1793    3.25\n",
       "1794    3.00\n",
       "\n",
       "[1776 rows x 1 columns]"
      ]
     },
     "execution_count": 25,
     "metadata": {},
     "output_type": "execute_result"
    }
   ],
   "source": [
    "cacao.loc[:, ['rating']]"
   ]
  },
  {
   "cell_type": "code",
   "execution_count": 26,
   "metadata": {
    "ExecuteTime": {
     "end_time": "2020-07-07T09:04:00.383738Z",
     "start_time": "2020-07-07T09:03:59.842174Z"
    }
   },
   "outputs": [
    {
     "data": {
      "text/plain": [
       "<matplotlib.axes._subplots.AxesSubplot at 0x233affe3f48>"
      ]
     },
     "execution_count": 26,
     "metadata": {},
     "output_type": "execute_result"
    },
    {
     "data": {
      "image/png": "[encoded data removed]",
      "text/plain": [
       "<Figure size 432x288 with 1 Axes>"
      ]
     },
     "metadata": {},
     "output_type": "display_data"
    }
   ],
   "source": [
    "sns.distplot(cacao.rating, bins=30, color='m', hist_kws={'range': (0, 20)})"
   ]
  },
  {
   "cell_type": "markdown",
   "metadata": {},
   "source": [
    "* Most of the values lie between 2 and 5 points (apparently a 5-point rating scale is used)\n",
    "* There are outliers"
   ]
  },
  {
   "cell_type": "code",
   "execution_count": 27,
   "metadata": {
    "ExecuteTime": {
     "end_time": "2020-07-07T09:04:00.797033Z",
     "start_time": "2020-07-07T09:04:00.387739Z"
    }
   },
   "outputs": [
    {
     "name": "stdout",
     "output_type": "stream",
     "text": [
      "25th percentile: 3.0, 75th percentile: 3.5, IQR: 0.5, Outliers limits: [2.25, 4.25]\n"
     ]
    },
    {
     "data": {
      "text/plain": [
       "<matplotlib.legend.Legend at 0x233afc44248>"
      ]
     },
     "execution_count": 27,
     "metadata": {},
     "output_type": "execute_result"
    },
    {
     "data": {
      "image/png": "[encoded data removed]",
      "text/plain": [
       "<Figure size 432x288 with 1 Axes>"
      ]
     },
     "metadata": {},
     "output_type": "display_data"
    }
   ],
   "source": [
    "median = cacao.rating.median()\n",
    "perc75 = cacao.rating.quantile(0.75) \n",
    "perc25 = cacao.rating.quantile(0.25)\n",
    "IQR = perc75 - perc25\n",
    "left_lim = perc25 - 1.5*IQR\n",
    "right_lim = perc75 + 1.5*IQR\n",
    "print(f\"25th percentile: {perc25}, 75th percentile: {perc75}, IQR: {IQR}, Outliers limits: [{left_lim}, {right_lim}]\")\n",
    "sns.distplot(cacao.rating[cacao.rating.between(left_lim, right_lim)], bins=8, label='IQR', color='m',\n",
    "             hist_kws={'range': (left_lim, right_lim)})\n",
    "plt.legend()"
   ]
  },
  {
   "cell_type": "code",
   "execution_count": 28,
   "metadata": {
    "ExecuteTime": {
     "end_time": "2020-07-07T09:04:00.833041Z",
     "start_time": "2020-07-07T09:04:00.797033Z"
    }
   },
   "outputs": [
    {
     "data": {
      "text/html": [
       "<div>\n",
       "<style scoped>\n",
       "    .dataframe tbody tr th:only-of-type {\n",
       "        vertical-align: middle;\n",
       "    }\n",
       "\n",
       "    .dataframe tbody tr th {\n",
       "        vertical-align: top;\n",
       "    }\n",
       "\n",
       "    .dataframe thead th {\n",
       "        text-align: right;\n",
       "    }\n",
       "</style>\n",
       "<table border=\"1\" class=\"dataframe\">\n",
       "  <thead>\n",
       "    <tr style=\"text-align: right;\">\n",
       "      <th></th>\n",
       "      <th>company</th>\n",
       "      <th>specific_origin</th>\n",
       "      <th>ref</th>\n",
       "      <th>review_date</th>\n",
       "      <th>cocoa_percent</th>\n",
       "      <th>company_location</th>\n",
       "      <th>rating</th>\n",
       "      <th>bean_type</th>\n",
       "      <th>broad_origin</th>\n",
       "    </tr>\n",
       "  </thead>\n",
       "  <tbody>\n",
       "    <tr>\n",
       "      <th>1</th>\n",
       "      <td>A. Morin</td>\n",
       "      <td>Kpime</td>\n",
       "      <td>1676</td>\n",
       "      <td>2015</td>\n",
       "      <td>70.0</td>\n",
       "      <td>France</td>\n",
       "      <td>2.75</td>\n",
       "      <td></td>\n",
       "      <td>Togo</td>\n",
       "    </tr>\n",
       "    <tr>\n",
       "      <th>3</th>\n",
       "      <td>A. Morin</td>\n",
       "      <td>Akata</td>\n",
       "      <td>1680</td>\n",
       "      <td>2015</td>\n",
       "      <td>70.0</td>\n",
       "      <td>France</td>\n",
       "      <td>3.50</td>\n",
       "      <td></td>\n",
       "      <td>Togo</td>\n",
       "    </tr>\n",
       "    <tr>\n",
       "      <th>4</th>\n",
       "      <td>A. Morin</td>\n",
       "      <td>Quilla</td>\n",
       "      <td>1704</td>\n",
       "      <td>2015</td>\n",
       "      <td>70.0</td>\n",
       "      <td>France</td>\n",
       "      <td>3.50</td>\n",
       "      <td></td>\n",
       "      <td>Peru</td>\n",
       "    </tr>\n",
       "    <tr>\n",
       "      <th>5</th>\n",
       "      <td>A. Morin</td>\n",
       "      <td>Carenero</td>\n",
       "      <td>1315</td>\n",
       "      <td>2014</td>\n",
       "      <td>70.0</td>\n",
       "      <td>France</td>\n",
       "      <td>2.75</td>\n",
       "      <td>Criollo</td>\n",
       "      <td>Venezuela</td>\n",
       "    </tr>\n",
       "    <tr>\n",
       "      <th>6</th>\n",
       "      <td>A. Morin</td>\n",
       "      <td>Cuba</td>\n",
       "      <td>1315</td>\n",
       "      <td>2014</td>\n",
       "      <td>70.0</td>\n",
       "      <td>France</td>\n",
       "      <td>3.50</td>\n",
       "      <td></td>\n",
       "      <td>Cuba</td>\n",
       "    </tr>\n",
       "  </tbody>\n",
       "</table>\n",
       "</div>"
      ],
      "text/plain": [
       "    company specific_origin   ref  review_date  cocoa_percent  \\\n",
       "1  A. Morin           Kpime  1676         2015           70.0   \n",
       "3  A. Morin           Akata  1680         2015           70.0   \n",
       "4  A. Morin          Quilla  1704         2015           70.0   \n",
       "5  A. Morin        Carenero  1315         2014           70.0   \n",
       "6  A. Morin            Cuba  1315         2014           70.0   \n",
       "\n",
       "  company_location  rating bean_type broad_origin  \n",
       "1           France    2.75                   Togo  \n",
       "3           France    3.50                   Togo  \n",
       "4           France    3.50                   Peru  \n",
       "5           France    2.75   Criollo    Venezuela  \n",
       "6           France    3.50                   Cuba  "
      ]
     },
     "execution_count": 28,
     "metadata": {},
     "output_type": "execute_result"
    }
   ],
   "source": [
    "cacao = cacao.loc[cacao.rating.between(left_lim, right_lim)]\n",
    "cacao.head()"
   ]
  },
  {
   "cell_type": "code",
   "execution_count": 29,
   "metadata": {
    "ExecuteTime": {
     "end_time": "2020-07-07T09:04:00.849041Z",
     "start_time": "2020-07-07T09:04:00.833041Z"
    }
   },
   "outputs": [
    {
     "data": {
      "text/plain": [
       "1            None\n",
       "3            None\n",
       "4            None\n",
       "5         Criollo\n",
       "6            None\n",
       "          ...    \n",
       "1790         None\n",
       "1791    Forastero\n",
       "1792    Forastero\n",
       "1793         None\n",
       "1794         None\n",
       "Name: bean_type, Length: 1690, dtype: object"
      ]
     },
     "execution_count": 29,
     "metadata": {},
     "output_type": "execute_result"
    }
   ],
   "source": [
    "cacao.bean_type = cacao.bean_type.astype(str).apply(lambda x: None if x.strip() == '' else x)\n",
    "cacao.bean_type"
   ]
  },
  {
   "cell_type": "code",
   "execution_count": 30,
   "metadata": {
    "ExecuteTime": {
     "end_time": "2020-07-07T09:04:00.865045Z",
     "start_time": "2020-07-07T09:04:00.853046Z"
    },
    "scrolled": true
   },
   "outputs": [
    {
     "data": {
      "text/plain": [
       "Trinitario               401\n",
       "Criollo                  147\n",
       "Forastero                 81\n",
       "Forastero (Nacional)      50\n",
       "Criollo, Trinitario       37\n",
       "Blend                     36\n",
       "Forastero (Arriba)        30\n",
       "Criollo (Porcelana)       10\n",
       "Trinitario, Criollo        9\n",
       "Forastero (Parazinho)      8\n",
       "Name: bean_type, dtype: int64"
      ]
     },
     "execution_count": 30,
     "metadata": {},
     "output_type": "execute_result"
    }
   ],
   "source": [
    "cacao.bean_type.value_counts(dropna=True).head(10)"
   ]
  },
  {
   "cell_type": "code",
   "execution_count": 31,
   "metadata": {
    "ExecuteTime": {
     "end_time": "2020-07-07T09:04:00.877050Z",
     "start_time": "2020-07-07T09:04:00.865045Z"
    }
   },
   "outputs": [
    {
     "name": "stdout",
     "output_type": "stream",
     "text": [
      "Number of unique bean types: 41\n"
     ]
    }
   ],
   "source": [
    "print(f'Number of unique bean types: {cacao.bean_type.nunique(dropna=True)}')"
   ]
  },
  {
   "cell_type": "code",
   "execution_count": 32,
   "metadata": {
    "ExecuteTime": {
     "end_time": "2020-07-07T09:04:00.897053Z",
     "start_time": "2020-07-07T09:04:00.877050Z"
    }
   },
   "outputs": [
    {
     "name": "stdout",
     "output_type": "stream",
     "text": [
      "Number of bean types with 10+ products: 7\n",
      "<class 'pandas.core.frame.DataFrame'>\n",
      "Int64Index: 1690 entries, 1 to 1794\n",
      "Data columns (total 1 columns):\n",
      " #   Column     Non-Null Count  Dtype \n",
      "---  ------     --------------  ----- \n",
      " 0   bean_type  861 non-null    object\n",
      "dtypes: object(1)\n",
      "memory usage: 26.4+ KB\n",
      "None\n"
     ]
    }
   ],
   "source": [
    "beans = cacao.bean_type.value_counts()\n",
    "print(f'Number of bean types with 10+ products: {beans[beans > 10].count()}')\n",
    "print(cacao.loc[:, ['bean_type']].info())"
   ]
  },
  {
   "cell_type": "code",
   "execution_count": 33,
   "metadata": {
    "ExecuteTime": {
     "end_time": "2020-07-07T09:04:00.909056Z",
     "start_time": "2020-07-07T09:04:00.897053Z"
    }
   },
   "outputs": [
    {
     "data": {
      "text/plain": [
       "array([None, 'Criollo', 'Trinitario', 'Forastero (Arriba)', 'Forastero',\n",
       "       'Forastero (Nacional)', 'Criollo, Trinitario',\n",
       "       'Criollo (Porcelana)', 'Blend', 'Trinitario (85% Criollo)',\n",
       "       'Forastero (Catongo)', 'Forastero (Parazinho)',\n",
       "       'Trinitario, Criollo', 'CCN51', 'Criollo (Ocumare)', 'Nacional',\n",
       "       'Criollo (Ocumare 61)', 'Criollo (Ocumare 77)',\n",
       "       'Criollo (Ocumare 67)', 'Criollo (Wild)', 'Beniano', 'Amazon mix',\n",
       "       'Trinitario, Forastero', 'Forastero (Arriba) ASS', 'Criollo, +',\n",
       "       'Amazon', 'Amazon, ICS', 'EET', 'Blend-Forastero,Criollo',\n",
       "       'Trinitario (Scavina)', 'Criollo, Forastero', 'Matina',\n",
       "       'Forastero(Arriba, CCN)', 'Nacional (Arriba)',\n",
       "       'Forastero (Arriba) ASSS', 'Forastero, Trinitario',\n",
       "       'Forastero (Amelonado)', 'nan', 'Trinitario, Nacional',\n",
       "       'Trinitario (Amelonado)', 'Trinitario, TCGA', 'Criollo (Amarru)'],\n",
       "      dtype=object)"
      ]
     },
     "execution_count": 33,
     "metadata": {},
     "output_type": "execute_result"
    }
   ],
   "source": [
    "cacao.bean_type.unique()"
   ]
  },
  {
   "cell_type": "markdown",
   "metadata": {},
   "source": [
    "* There are nan-values\n",
    "* Some values consist of a combination of bean types"
   ]
  },
  {
   "cell_type": "code",
   "execution_count": 34,
   "metadata": {
    "ExecuteTime": {
     "end_time": "2020-07-07T09:04:00.925059Z",
     "start_time": "2020-07-07T09:04:00.909056Z"
    }
   },
   "outputs": [
    {
     "data": {
      "text/plain": [
       "array([None, 'Criollo', 'Trinitario', 'Forastero', 'Criollo, Trinitario',\n",
       "       'Blend', 'Trinitario, Criollo', 'CCN51', 'Nacional', 'Beniano',\n",
       "       'Amazon mix', 'Trinitario, Forastero', 'Criollo, +', 'Amazon',\n",
       "       'Amazon, ICS', 'EET', 'Blend-Forastero,Criollo',\n",
       "       'Criollo, Forastero', 'Matina', 'Forastero, Trinitario',\n",
       "       'Trinitario, Nacional', 'Trinitario, TCGA'], dtype=object)"
      ]
     },
     "execution_count": 34,
     "metadata": {},
     "output_type": "execute_result"
    }
   ],
   "source": [
    "cacao.bean_type = cacao.bean_type.apply(lambda x: None if pd.isna(x) \n",
    "                                        else None if x.strip() == 'nan'\n",
    "                                        else x if '(' not in x \n",
    "                                        else x[:x.find('(')].strip())\n",
    "cacao.bean_type.unique()"
   ]
  },
  {
   "cell_type": "code",
   "execution_count": 35,
   "metadata": {
    "ExecuteTime": {
     "end_time": "2020-07-07T09:04:00.945065Z",
     "start_time": "2020-07-07T09:04:00.925059Z"
    },
    "scrolled": true
   },
   "outputs": [
    {
     "name": "stdout",
     "output_type": "stream",
     "text": [
      "Number of unique bean types: 21\n",
      "Number of unique bean types with 10+ frequency: 5\n",
      "\n",
      "<class 'pandas.core.frame.DataFrame'>\n",
      "Int64Index: 1690 entries, 1 to 1794\n",
      "Data columns (total 1 columns):\n",
      " #   Column     Non-Null Count  Dtype \n",
      "---  ------     --------------  ----- \n",
      " 0   bean_type  860 non-null    object\n",
      "dtypes: object(1)\n",
      "memory usage: 26.4+ KB\n"
     ]
    },
    {
     "data": {
      "text/plain": [
       "None"
      ]
     },
     "metadata": {},
     "output_type": "display_data"
    }
   ],
   "source": [
    "print(f'Number of unique bean types: {cacao.bean_type.nunique()}')\n",
    "print(f'Number of unique bean types with 10+ frequency: {(cacao.bean_type.value_counts() > 10).sum()}', end='\\n\\n')\n",
    "display(cacao.loc[:, ['bean_type']].info())"
   ]
  },
  {
   "cell_type": "code",
   "execution_count": 36,
   "metadata": {
    "ExecuteTime": {
     "end_time": "2020-07-07T09:04:00.957068Z",
     "start_time": "2020-07-07T09:04:00.945065Z"
    }
   },
   "outputs": [
    {
     "data": {
      "text/plain": [
       "array(['Togo', 'Peru', 'Venezuela', 'Cuba', 'Panama', 'Madagascar',\n",
       "       'Brazil', 'Ecuador', 'Colombia', 'Burma', 'Papua New Guinea',\n",
       "       'Bolivia', 'Fiji', 'Mexico', 'Indonesia', 'Trinidad', 'Vietnam',\n",
       "       'Nicaragua', 'Tanzania', 'Dominican Republic', 'Ghana', 'Belize',\n",
       "       '\\xa0', 'Jamaica', 'Honduras', 'Costa Rica', 'Guatemala', 'Haiti',\n",
       "       'Congo', 'Philippines', 'Domincan Republic', 'Malaysia',\n",
       "       'Dominican Rep., Bali', 'Venez,Africa,Brasil,Peru,Mex', 'Gabon',\n",
       "       'Ivory Coast', 'Carribean', 'Sri Lanka', 'Puerto Rico', 'Grenada',\n",
       "       'Sao Tome', 'Uganda', 'Martinique', 'Sao Tome & Principe',\n",
       "       'Vanuatu', 'Australia', 'Liberia', 'Ecuador, Costa Rica',\n",
       "       'West Africa', 'Hawaii', 'St. Lucia', 'Cost Rica, Ven',\n",
       "       'Peru, Madagascar', 'Venezuela, Trinidad', 'Trinidad, Tobago',\n",
       "       'Ven, Trinidad, Ecuador', 'South America, Africa', 'India',\n",
       "       'Africa, Carribean, C. Am.', 'Trinidad-Tobago',\n",
       "       'Peru, Ecuador, Venezuela', 'Venezuela, Dom. Rep.',\n",
       "       'Colombia, Ecuador', 'Solomon Islands', 'Nigeria', 'Peru, Belize',\n",
       "       'Peru, Mad., Dom. Rep.', nan, 'PNG, Vanuatu, Mad', 'El Salvador',\n",
       "       'South America', 'Samoa', 'Ghana, Domin. Rep', 'Trinidad, Ecuador',\n",
       "       'Cameroon', 'Venezuela, Java', 'Venezuela/ Ghana',\n",
       "       'Venezuela, Ghana', 'Indonesia, Ghana',\n",
       "       'Peru(SMartin,Pangoa,nacional)', 'Principe',\n",
       "       'Central and S. America', 'Ven., Trinidad, Mad.',\n",
       "       'Carribean(DR/Jam/Tri)', 'Ven.,Ecu.,Peru,Nic.',\n",
       "       'Madagascar & Ecuador', 'Guat., D.R., Peru, Mad., PNG',\n",
       "       'Peru, Dom. Rep', 'Dom. Rep., Madagascar',\n",
       "       'Gre., PNG, Haw., Haiti, Mad', 'Mad., Java, PNG',\n",
       "       'Ven, Bolivia, D.R.', 'DR, Ecuador, Peru', 'Suriname',\n",
       "       'Peru, Ecuador', 'Ecuador, Mad., PNG', 'Tobago',\n",
       "       'Venezuela, Carribean'], dtype=object)"
      ]
     },
     "execution_count": 36,
     "metadata": {},
     "output_type": "execute_result"
    }
   ],
   "source": [
    "cacao.broad_origin.unique()"
   ]
  },
  {
   "cell_type": "code",
   "execution_count": 38,
   "metadata": {
    "ExecuteTime": {
     "end_time": "2020-07-07T09:08:35.502121Z",
     "start_time": "2020-07-07T09:08:35.481427Z"
    }
   },
   "outputs": [
    {
     "name": "stdout",
     "output_type": "stream",
     "text": [
      "Number of unique origins: 97\n",
      "Number of origins with 10+ frequency: 25\n",
      "\n",
      "<class 'pandas.core.frame.DataFrame'>\n",
      "Int64Index: 1690 entries, 1 to 1794\n",
      "Data columns (total 1 columns):\n",
      " #   Column        Non-Null Count  Dtype \n",
      "---  ------        --------------  ----- \n",
      " 0   broad_origin  1630 non-null   object\n",
      "dtypes: object(1)\n",
      "memory usage: 26.4+ KB\n"
     ]
    },
    {
     "data": {
      "text/plain": [
       "None"
      ]
     },
     "metadata": {},
     "output_type": "display_data"
    }
   ],
   "source": [
    "cacao.broad_origin = cacao.broad_origin.apply(lambda x: None if str(x).strip() == '' else x)\n",
    "\n",
    "print(f'Number of unique origins: {cacao.broad_origin.nunique()}')\n",
    "print(f'Number of origins with 10+ frequency: {(cacao.broad_origin.value_counts() > 10).sum()}', end='\\n\\n')\n",
    "display(cacao.loc[:, ['broad_origin']].info())"
   ]
  },
  {
   "cell_type": "code",
   "execution_count": 48,
   "metadata": {
    "ExecuteTime": {
     "end_time": "2020-07-07T09:25:20.073851Z",
     "start_time": "2020-07-07T09:25:20.061748Z"
    },
    "scrolled": true
   },
   "outputs": [
    {
     "data": {
      "text/plain": [
       "['Africa, Carribean, C. Am.',\n",
       " 'Australia',\n",
       " 'Belize',\n",
       " 'Bolivia',\n",
       " 'Brazil',\n",
       " 'Burma',\n",
       " 'Cameroon',\n",
       " 'Carribean',\n",
       " 'Carribean(DR/Jam/Tri)',\n",
       " 'Central and S. America',\n",
       " 'Colombia',\n",
       " 'Colombia, Ecuador',\n",
       " 'Congo',\n",
       " 'Cost Rica, Ven',\n",
       " 'Costa Rica',\n",
       " 'Cuba',\n",
       " 'DR, Ecuador, Peru',\n",
       " 'Dom. Rep., Madagascar',\n",
       " 'Domincan Republic',\n",
       " 'Dominican Rep., Bali',\n",
       " 'Dominican Republic',\n",
       " 'Ecuador',\n",
       " 'Ecuador, Costa Rica',\n",
       " 'Ecuador, Mad., PNG',\n",
       " 'El Salvador',\n",
       " 'Fiji',\n",
       " 'Gabon',\n",
       " 'Ghana',\n",
       " 'Ghana, Domin. Rep',\n",
       " 'Gre., PNG, Haw., Haiti, Mad',\n",
       " 'Grenada',\n",
       " 'Guat., D.R., Peru, Mad., PNG',\n",
       " 'Guatemala',\n",
       " 'Haiti',\n",
       " 'Hawaii',\n",
       " 'Honduras',\n",
       " 'India',\n",
       " 'Indonesia',\n",
       " 'Indonesia, Ghana',\n",
       " 'Ivory Coast',\n",
       " 'Jamaica',\n",
       " 'Liberia',\n",
       " 'Mad., Java, PNG',\n",
       " 'Madagascar',\n",
       " 'Madagascar & Ecuador',\n",
       " 'Malaysia',\n",
       " 'Martinique',\n",
       " 'Mexico',\n",
       " 'Nicaragua',\n",
       " 'Nigeria',\n",
       " 'None',\n",
       " 'PNG, Vanuatu, Mad',\n",
       " 'Panama',\n",
       " 'Papua New Guinea',\n",
       " 'Peru',\n",
       " 'Peru(SMartin,Pangoa,nacional)',\n",
       " 'Peru, Belize',\n",
       " 'Peru, Dom. Rep',\n",
       " 'Peru, Ecuador',\n",
       " 'Peru, Ecuador, Venezuela',\n",
       " 'Peru, Mad., Dom. Rep.',\n",
       " 'Peru, Madagascar',\n",
       " 'Philippines',\n",
       " 'Principe',\n",
       " 'Puerto Rico',\n",
       " 'Samoa',\n",
       " 'Sao Tome',\n",
       " 'Sao Tome & Principe',\n",
       " 'Solomon Islands',\n",
       " 'South America',\n",
       " 'South America, Africa',\n",
       " 'Sri Lanka',\n",
       " 'St. Lucia',\n",
       " 'Suriname',\n",
       " 'Tanzania',\n",
       " 'Tobago',\n",
       " 'Togo',\n",
       " 'Trinidad',\n",
       " 'Trinidad, Ecuador',\n",
       " 'Trinidad, Tobago',\n",
       " 'Trinidad-Tobago',\n",
       " 'Uganda',\n",
       " 'Vanuatu',\n",
       " 'Ven, Bolivia, D.R.',\n",
       " 'Ven, Trinidad, Ecuador',\n",
       " 'Ven., Trinidad, Mad.',\n",
       " 'Ven.,Ecu.,Peru,Nic.',\n",
       " 'Venez,Africa,Brasil,Peru,Mex',\n",
       " 'Venezuela',\n",
       " 'Venezuela, Carribean',\n",
       " 'Venezuela, Dom. Rep.',\n",
       " 'Venezuela, Ghana',\n",
       " 'Venezuela, Java',\n",
       " 'Venezuela, Trinidad',\n",
       " 'Venezuela/ Ghana',\n",
       " 'Vietnam',\n",
       " 'West Africa',\n",
       " 'nan']"
      ]
     },
     "execution_count": 48,
     "metadata": {},
     "output_type": "execute_result"
    }
   ],
   "source": [
    "sorted(cacao.broad_origin.astype(str).unique())"
   ]
  },
  {
   "cell_type": "markdown",
   "metadata": {
    "ExecuteTime": {
     "end_time": "2020-07-07T09:02:29.870500Z",
     "start_time": "2020-07-07T09:02:29.852583Z"
    }
   },
   "source": [
    "* NaN-values\n",
    "* Duplicate values"
   ]
  },
  {
   "cell_type": "code",
   "execution_count": null,
   "metadata": {},
   "outputs": [],
   "source": [
    "def fix_countries(x):\n",
    "    if pd.isnull(x):\n",
    "        return x\n",
    "    if x.lower().strip() == 'nan':\n",
    "        return None\n",
    "    x = x.replace(' ', '')\n",
    "    x = x.replace('/', ',')\n",
    "    x = x.replace('&', ',')\n",
    "    if '(' in x:\n",
    "        x = x[:x.find('(')]\n",
    "        \n",
    "    x = x.replace('Dom.Rep.', 'DominicanRepublic')\n",
    "    x = x.replace('DR', 'DominicanRepublic')\n",
    "    x = x.replace('DomincanRepublic', 'DominicanRepublic')\n",
    "    x = x.replace('DominicanRep.', 'DominicanRepublic')\n",
    "    x = x.replace('Domin.Rep', 'DominicanRepublic')\n",
    "    x = x.replace('D.R.', 'DominicanRepublic')\n",
    "    x = x.replace('Domin.Re', 'DominicanRepublic')\n",
    "    \n",
    "    "
   ]
  },
  {
   "cell_type": "code",
   "execution_count": 58,
   "metadata": {
    "ExecuteTime": {
     "end_time": "2020-07-07T09:46:40.458707Z",
     "start_time": "2020-07-07T09:46:40.446931Z"
    }
   },
   "outputs": [
    {
     "data": {
      "text/plain": [
       "False"
      ]
     },
     "execution_count": 58,
     "metadata": {},
     "output_type": "execute_result"
    }
   ],
   "source": []
  },
  {
   "cell_type": "code",
   "execution_count": null,
   "metadata": {},
   "outputs": [],
   "source": []
  },
  {
   "cell_type": "code",
   "execution_count": null,
   "metadata": {},
   "outputs": [],
   "source": []
  },
  {
   "cell_type": "code",
   "execution_count": null,
   "metadata": {},
   "outputs": [],
   "source": []
  },
  {
   "cell_type": "code",
   "execution_count": null,
   "metadata": {},
   "outputs": [],
   "source": []
  },
  {
   "cell_type": "code",
   "execution_count": null,
   "metadata": {},
   "outputs": [],
   "source": []
  },
  {
   "cell_type": "code",
   "execution_count": null,
   "metadata": {},
   "outputs": [],
   "source": []
  },
  {
   "cell_type": "code",
   "execution_count": null,
   "metadata": {},
   "outputs": [],
   "source": []
  },
  {
   "cell_type": "code",
   "execution_count": null,
   "metadata": {},
   "outputs": [],
   "source": []
  },
  {
   "cell_type": "code",
   "execution_count": null,
   "metadata": {},
   "outputs": [],
   "source": []
  },
  {
   "cell_type": "code",
   "execution_count": null,
   "metadata": {},
   "outputs": [],
   "source": []
  },
  {
   "cell_type": "code",
   "execution_count": null,
   "metadata": {},
   "outputs": [],
   "source": []
  }
 ],
 "metadata": {
  "kernelspec": {
   "display_name": "Python 3",
   "language": "python",
   "name": "python3"
  },
  "language_info": {
   "codemirror_mode": {
    "name": "ipython",
    "version": 3
   },
   "file_extension": ".py",
   "mimetype": "text/x-python",
   "name": "python",
   "nbconvert_exporter": "python",
   "pygments_lexer": "ipython3",
   "version": "3.7.6"
  },
  "toc": {
   "base_numbering": 1,
   "nav_menu": {},
   "number_sections": true,
   "sideBar": true,
   "skip_h1_title": false,
   "title_cell": "Table of Contents",
   "title_sidebar": "Contents",
   "toc_cell": false,
   "toc_position": {},
   "toc_section_display": true,
   "toc_window_display": false
  },
  "varInspector": {
   "cols": {
    "lenName": 16,
    "lenType": 16,
    "lenVar": 40
   },
   "kernels_config": {
    "python": {
     "delete_cmd_postfix": "",
     "delete_cmd_prefix": "del ",
     "library": "var_list.py",
     "varRefreshCmd": "print(var_dic_list())"
    },
    "r": {
     "delete_cmd_postfix": ") ",
     "delete_cmd_prefix": "rm(",
     "library": "var_list.r",
     "varRefreshCmd": "cat(var_dic_list()) "
    }
   },
   "types_to_exclude": [
    "module",
    "function",
    "builtin_function_or_method",
    "instance",
    "_Feature"
   ],
   "window_display": true
  }
 },
 "nbformat": 4,
 "nbformat_minor": 4
}
