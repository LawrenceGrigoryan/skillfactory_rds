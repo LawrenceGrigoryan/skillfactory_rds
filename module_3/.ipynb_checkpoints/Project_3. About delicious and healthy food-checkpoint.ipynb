{
 "cells": [
  {
   "cell_type": "markdown",
   "metadata": {},
   "source": [
    "# Description of variables"
   ]
  },
  {
   "cell_type": "markdown",
   "metadata": {},
   "source": [
    "The initial version of dataset consists of 10 columns containing next information:\n",
    "\n",
    "* Restaurant_id — id of a restaurant / restaurant chain;\n",
    "\n",
    "\n",
    "* City — restaurant's location (city);\n",
    "\n",
    "\n",
    "* Cuisine Style — cuisine which a dish can be related to;\n",
    "\n",
    "\n",
    "* Ranking — restaurant's place in the ranking of all the cities' restaurants;\n",
    "\n",
    "\n",
    "* Rating — the rating of a restaurant according to TripAdvisor **(this is the target variable)**;\n",
    "\n",
    "\n",
    "* Price Range — the price range of the restaurant;\n",
    "\n",
    "\n",
    "* Number of Reviews — number of reviews for a restaurant on TripAdvisor;\n",
    "\n",
    "\n",
    "* Reviews — info about two first reviews that are displayed on TripAdvisor;\n",
    "\n",
    "\n",
    "* URL_TA — URL of restaurant's web-page on TripAdvosor;\n",
    "\n",
    "\n",
    "* ID_TA — restaurant's id in TripAdvisor's Database."
   ]
  },
  {
   "cell_type": "markdown",
   "metadata": {},
   "source": [
    "# Import of modules"
   ]
  },
  {
   "cell_type": "code",
   "execution_count": 111,
   "metadata": {
    "ExecuteTime": {
     "end_time": "2020-08-21T16:21:55.117111Z",
     "start_time": "2020-08-21T16:21:55.093070Z"
    }
   },
   "outputs": [],
   "source": [
    "import pandas as pd\n",
    "import numpy as np\n",
    "import scipy\n",
    "import matplotlib.pyplot as plt\n",
    "import statsmodels.api as sm\n",
    "import scipy.stats as stats\n",
    "import seaborn as sns\n",
    "import missingno as msno\n",
    "import chardet\n",
    "import os\n",
    "import ast\n",
    "import warnings\n",
    "import re\n",
    "import requests\n",
    "import urllib.request\n",
    "from bs4 import BeautifulSoup as BS\n",
    "from itertools import combinations\n",
    "from collections import Counter\n",
    "\n",
    "from sklearn.model_selection import train_test_split  # A tool for splitting a dataset into training and testing samples\n",
    "from sklearn.ensemble import RandomForestRegressor  # A tool for building a model\n",
    "from sklearn import metrics  # Tools for model's accuracy measurement\n",
    "from sklearn.preprocessing import MinMaxScaler \n",
    "\n",
    "%matplotlib inline\n",
    "sns.set(style='whitegrid')\n",
    "warnings.simplefilter('ignore')"
   ]
  },
  {
   "cell_type": "code",
   "execution_count": 2,
   "metadata": {
    "ExecuteTime": {
     "end_time": "2020-08-21T14:47:33.945820Z",
     "start_time": "2020-08-21T14:47:33.930337Z"
    }
   },
   "outputs": [
    {
     "data": {
      "text/plain": [
       "['main_task.xls']"
      ]
     },
     "execution_count": 2,
     "metadata": {},
     "output_type": "execute_result"
    }
   ],
   "source": [
    "[file for file in os.listdir() if file.endswith('xls')]"
   ]
  },
  {
   "cell_type": "markdown",
   "metadata": {},
   "source": [
    "It is better to check the encoding of the file first:"
   ]
  },
  {
   "cell_type": "code",
   "execution_count": 3,
   "metadata": {
    "ExecuteTime": {
     "end_time": "2020-08-21T14:48:10.075403Z",
     "start_time": "2020-08-21T14:47:33.950044Z"
    }
   },
   "outputs": [
    {
     "name": "stdout",
     "output_type": "stream",
     "text": [
      "main_task.xls: Windows-1254 with confidence 0.5716726188555824\n"
     ]
    }
   ],
   "source": [
    "!chardetect main_task.xls"
   ]
  },
  {
   "cell_type": "markdown",
   "metadata": {},
   "source": [
    "# Simple model\n",
    "\n",
    "At first, let's try to remove all the 'object' columns and fill NaN-values with some central tendency measure in order to create a basic model."
   ]
  },
  {
   "cell_type": "code",
   "execution_count": 4,
   "metadata": {
    "ExecuteTime": {
     "end_time": "2020-08-21T14:48:10.392759Z",
     "start_time": "2020-08-21T14:48:10.075403Z"
    }
   },
   "outputs": [
    {
     "data": {
      "text/html": [
       "<div>\n",
       "<style scoped>\n",
       "    .dataframe tbody tr th:only-of-type {\n",
       "        vertical-align: middle;\n",
       "    }\n",
       "\n",
       "    .dataframe tbody tr th {\n",
       "        vertical-align: top;\n",
       "    }\n",
       "\n",
       "    .dataframe thead th {\n",
       "        text-align: right;\n",
       "    }\n",
       "</style>\n",
       "<table border=\"1\" class=\"dataframe\">\n",
       "  <thead>\n",
       "    <tr style=\"text-align: right;\">\n",
       "      <th></th>\n",
       "      <th>Restaurant_id</th>\n",
       "      <th>City</th>\n",
       "      <th>Cuisine Style</th>\n",
       "      <th>Ranking</th>\n",
       "      <th>Rating</th>\n",
       "      <th>Price Range</th>\n",
       "      <th>Number of Reviews</th>\n",
       "      <th>Reviews</th>\n",
       "      <th>URL_TA</th>\n",
       "      <th>ID_TA</th>\n",
       "    </tr>\n",
       "  </thead>\n",
       "  <tbody>\n",
       "    <tr>\n",
       "      <th>0</th>\n",
       "      <td>id_5569</td>\n",
       "      <td>Paris</td>\n",
       "      <td>['European', 'French', 'International']</td>\n",
       "      <td>5570.0</td>\n",
       "      <td>3.5</td>\n",
       "      <td>$$ - $$$</td>\n",
       "      <td>194.0</td>\n",
       "      <td>[['Good food at your doorstep', 'A good hotel ...</td>\n",
       "      <td>/Restaurant_Review-g187147-d1912643-Reviews-R_...</td>\n",
       "      <td>d1912643</td>\n",
       "    </tr>\n",
       "    <tr>\n",
       "      <th>1</th>\n",
       "      <td>id_1535</td>\n",
       "      <td>Stockholm</td>\n",
       "      <td>NaN</td>\n",
       "      <td>1537.0</td>\n",
       "      <td>4.0</td>\n",
       "      <td>NaN</td>\n",
       "      <td>10.0</td>\n",
       "      <td>[['Unique cuisine', 'Delicious Nepalese food']...</td>\n",
       "      <td>/Restaurant_Review-g189852-d7992032-Reviews-Bu...</td>\n",
       "      <td>d7992032</td>\n",
       "    </tr>\n",
       "  </tbody>\n",
       "</table>\n",
       "</div>"
      ],
      "text/plain": [
       "  Restaurant_id       City                            Cuisine Style  Ranking  \\\n",
       "0       id_5569      Paris  ['European', 'French', 'International']   5570.0   \n",
       "1       id_1535  Stockholm                                      NaN   1537.0   \n",
       "\n",
       "   Rating Price Range  Number of Reviews  \\\n",
       "0     3.5    $$ - $$$              194.0   \n",
       "1     4.0         NaN               10.0   \n",
       "\n",
       "                                             Reviews  \\\n",
       "0  [['Good food at your doorstep', 'A good hotel ...   \n",
       "1  [['Unique cuisine', 'Delicious Nepalese food']...   \n",
       "\n",
       "                                              URL_TA     ID_TA  \n",
       "0  /Restaurant_Review-g187147-d1912643-Reviews-R_...  d1912643  \n",
       "1  /Restaurant_Review-g189852-d7992032-Reviews-Bu...  d7992032  "
      ]
     },
     "execution_count": 4,
     "metadata": {},
     "output_type": "execute_result"
    }
   ],
   "source": [
    "df = pd.read_csv('main_task.xls')\n",
    "df.head(2)"
   ]
  },
  {
   "cell_type": "code",
   "execution_count": 5,
   "metadata": {
    "ExecuteTime": {
     "end_time": "2020-08-21T14:48:10.468133Z",
     "start_time": "2020-08-21T14:48:10.392759Z"
    },
    "scrolled": true
   },
   "outputs": [
    {
     "data": {
      "text/html": [
       "<div>\n",
       "<style scoped>\n",
       "    .dataframe tbody tr th:only-of-type {\n",
       "        vertical-align: middle;\n",
       "    }\n",
       "\n",
       "    .dataframe tbody tr th {\n",
       "        vertical-align: top;\n",
       "    }\n",
       "\n",
       "    .dataframe thead th {\n",
       "        text-align: right;\n",
       "    }\n",
       "</style>\n",
       "<table border=\"1\" class=\"dataframe\">\n",
       "  <thead>\n",
       "    <tr style=\"text-align: right;\">\n",
       "      <th></th>\n",
       "      <th>Ranking</th>\n",
       "      <th>Rating</th>\n",
       "      <th>Number of Reviews</th>\n",
       "    </tr>\n",
       "  </thead>\n",
       "  <tbody>\n",
       "    <tr>\n",
       "      <th>0</th>\n",
       "      <td>5570.0</td>\n",
       "      <td>3.5</td>\n",
       "      <td>194.0</td>\n",
       "    </tr>\n",
       "    <tr>\n",
       "      <th>1</th>\n",
       "      <td>1537.0</td>\n",
       "      <td>4.0</td>\n",
       "      <td>10.0</td>\n",
       "    </tr>\n",
       "    <tr>\n",
       "      <th>2</th>\n",
       "      <td>353.0</td>\n",
       "      <td>4.5</td>\n",
       "      <td>688.0</td>\n",
       "    </tr>\n",
       "    <tr>\n",
       "      <th>3</th>\n",
       "      <td>3458.0</td>\n",
       "      <td>5.0</td>\n",
       "      <td>3.0</td>\n",
       "    </tr>\n",
       "    <tr>\n",
       "      <th>4</th>\n",
       "      <td>621.0</td>\n",
       "      <td>4.0</td>\n",
       "      <td>84.0</td>\n",
       "    </tr>\n",
       "  </tbody>\n",
       "</table>\n",
       "</div>"
      ],
      "text/plain": [
       "   Ranking  Rating  Number of Reviews\n",
       "0   5570.0     3.5              194.0\n",
       "1   1537.0     4.0               10.0\n",
       "2    353.0     4.5              688.0\n",
       "3   3458.0     5.0                3.0\n",
       "4    621.0     4.0               84.0"
      ]
     },
     "execution_count": 5,
     "metadata": {},
     "output_type": "execute_result"
    }
   ],
   "source": [
    "simple = df.copy(deep=True)\n",
    "\n",
    "for column in df.columns:\n",
    "    if df[column].dtype == 'O':\n",
    "        simple.drop([column], axis=1, inplace=True)\n",
    "        \n",
    "simple.head()"
   ]
  },
  {
   "cell_type": "code",
   "execution_count": 6,
   "metadata": {
    "ExecuteTime": {
     "end_time": "2020-08-21T14:48:10.492140Z",
     "start_time": "2020-08-21T14:48:10.468133Z"
    },
    "scrolled": false
   },
   "outputs": [
    {
     "name": "stdout",
     "output_type": "stream",
     "text": [
      "<class 'pandas.core.frame.DataFrame'>\n",
      "RangeIndex: 40000 entries, 0 to 39999\n",
      "Data columns (total 3 columns):\n",
      " #   Column             Non-Null Count  Dtype  \n",
      "---  ------             --------------  -----  \n",
      " 0   Ranking            40000 non-null  float64\n",
      " 1   Rating             40000 non-null  float64\n",
      " 2   Number of Reviews  37457 non-null  float64\n",
      "dtypes: float64(3)\n",
      "memory usage: 937.6 KB\n"
     ]
    }
   ],
   "source": [
    "simple.info()"
   ]
  },
  {
   "cell_type": "code",
   "execution_count": 7,
   "metadata": {
    "ExecuteTime": {
     "end_time": "2020-08-21T14:48:10.516164Z",
     "start_time": "2020-08-21T14:48:10.492140Z"
    },
    "scrolled": true
   },
   "outputs": [
    {
     "data": {
      "text/html": [
       "<div>\n",
       "<style scoped>\n",
       "    .dataframe tbody tr th:only-of-type {\n",
       "        vertical-align: middle;\n",
       "    }\n",
       "\n",
       "    .dataframe tbody tr th {\n",
       "        vertical-align: top;\n",
       "    }\n",
       "\n",
       "    .dataframe thead th {\n",
       "        text-align: right;\n",
       "    }\n",
       "</style>\n",
       "<table border=\"1\" class=\"dataframe\">\n",
       "  <thead>\n",
       "    <tr style=\"text-align: right;\">\n",
       "      <th></th>\n",
       "      <th>Ranking</th>\n",
       "      <th>Rating</th>\n",
       "      <th>Number of Reviews</th>\n",
       "    </tr>\n",
       "  </thead>\n",
       "  <tbody>\n",
       "    <tr>\n",
       "      <th>0</th>\n",
       "      <td>5570.0</td>\n",
       "      <td>3.5</td>\n",
       "      <td>194.0</td>\n",
       "    </tr>\n",
       "    <tr>\n",
       "      <th>1</th>\n",
       "      <td>1537.0</td>\n",
       "      <td>4.0</td>\n",
       "      <td>10.0</td>\n",
       "    </tr>\n",
       "    <tr>\n",
       "      <th>2</th>\n",
       "      <td>353.0</td>\n",
       "      <td>4.5</td>\n",
       "      <td>688.0</td>\n",
       "    </tr>\n",
       "    <tr>\n",
       "      <th>3</th>\n",
       "      <td>3458.0</td>\n",
       "      <td>5.0</td>\n",
       "      <td>3.0</td>\n",
       "    </tr>\n",
       "    <tr>\n",
       "      <th>4</th>\n",
       "      <td>621.0</td>\n",
       "      <td>4.0</td>\n",
       "      <td>84.0</td>\n",
       "    </tr>\n",
       "  </tbody>\n",
       "</table>\n",
       "</div>"
      ],
      "text/plain": [
       "   Ranking  Rating  Number of Reviews\n",
       "0   5570.0     3.5              194.0\n",
       "1   1537.0     4.0               10.0\n",
       "2    353.0     4.5              688.0\n",
       "3   3458.0     5.0                3.0\n",
       "4    621.0     4.0               84.0"
      ]
     },
     "execution_count": 7,
     "metadata": {},
     "output_type": "execute_result"
    }
   ],
   "source": [
    "simple['Number of Reviews'] = simple['Number of Reviews'].fillna(method='bfill')\n",
    "simple.head()"
   ]
  },
  {
   "cell_type": "code",
   "execution_count": 8,
   "metadata": {
    "ExecuteTime": {
     "end_time": "2020-08-21T14:48:10.532161Z",
     "start_time": "2020-08-21T14:48:10.516164Z"
    }
   },
   "outputs": [
    {
     "name": "stdout",
     "output_type": "stream",
     "text": [
      "<class 'pandas.core.frame.DataFrame'>\n",
      "RangeIndex: 40000 entries, 0 to 39999\n",
      "Data columns (total 3 columns):\n",
      " #   Column             Non-Null Count  Dtype  \n",
      "---  ------             --------------  -----  \n",
      " 0   Ranking            40000 non-null  float64\n",
      " 1   Rating             40000 non-null  float64\n",
      " 2   Number of Reviews  40000 non-null  float64\n",
      "dtypes: float64(3)\n",
      "memory usage: 937.6 KB\n"
     ]
    }
   ],
   "source": [
    "simple.info()"
   ]
  },
  {
   "cell_type": "markdown",
   "metadata": {},
   "source": [
    "Now let's build a **RandomForestRegression** model:"
   ]
  },
  {
   "cell_type": "code",
   "execution_count": 9,
   "metadata": {
    "ExecuteTime": {
     "end_time": "2020-08-21T14:48:10.548173Z",
     "start_time": "2020-08-21T14:48:10.532161Z"
    }
   },
   "outputs": [],
   "source": [
    "X = simple.drop(['Rating'], axis = 1)\n",
    "y = simple['Rating']"
   ]
  },
  {
   "cell_type": "code",
   "execution_count": 10,
   "metadata": {
    "ExecuteTime": {
     "end_time": "2020-08-21T14:48:10.572186Z",
     "start_time": "2020-08-21T14:48:10.548173Z"
    }
   },
   "outputs": [],
   "source": [
    "X_train, X_test, y_train, y_test = train_test_split(X, y, test_size=0.25)"
   ]
  },
  {
   "cell_type": "code",
   "execution_count": 11,
   "metadata": {
    "ExecuteTime": {
     "end_time": "2020-08-21T14:48:19.426143Z",
     "start_time": "2020-08-21T14:48:10.572186Z"
    }
   },
   "outputs": [],
   "source": [
    "# Creating a model\n",
    "regr = RandomForestRegressor(n_estimators=100)\n",
    "\n",
    "regr.fit(X_train, y_train)\n",
    "\n",
    "y_pred = regr.predict(X_test)"
   ]
  },
  {
   "cell_type": "code",
   "execution_count": 12,
   "metadata": {
    "ExecuteTime": {
     "end_time": "2020-08-21T14:48:19.447428Z",
     "start_time": "2020-08-21T14:48:19.426143Z"
    },
    "scrolled": true
   },
   "outputs": [
    {
     "name": "stdout",
     "output_type": "stream",
     "text": [
      "MAE: 0.4618648714285715\n"
     ]
    }
   ],
   "source": [
    "print('MAE:', metrics.mean_absolute_error(y_test, y_pred))"
   ]
  },
  {
   "cell_type": "markdown",
   "metadata": {},
   "source": [
    "The result is not the best but at least something. Now let's proceed to data preprocessing which will perhaps allow to get better MAE."
   ]
  },
  {
   "cell_type": "markdown",
   "metadata": {},
   "source": [
    "# Data preprocessing\n"
   ]
  },
  {
   "cell_type": "markdown",
   "metadata": {},
   "source": [
    "Lets get some basic info about the dataset:"
   ]
  },
  {
   "cell_type": "code",
   "execution_count": 13,
   "metadata": {
    "ExecuteTime": {
     "end_time": "2020-08-21T14:48:19.520721Z",
     "start_time": "2020-08-21T14:48:19.450538Z"
    },
    "scrolled": false
   },
   "outputs": [
    {
     "name": "stdout",
     "output_type": "stream",
     "text": [
      "<class 'pandas.core.frame.DataFrame'>\n",
      "RangeIndex: 40000 entries, 0 to 39999\n",
      "Data columns (total 10 columns):\n",
      " #   Column             Non-Null Count  Dtype  \n",
      "---  ------             --------------  -----  \n",
      " 0   Restaurant_id      40000 non-null  object \n",
      " 1   City               40000 non-null  object \n",
      " 2   Cuisine Style      30717 non-null  object \n",
      " 3   Ranking            40000 non-null  float64\n",
      " 4   Rating             40000 non-null  float64\n",
      " 5   Price Range        26114 non-null  object \n",
      " 6   Number of Reviews  37457 non-null  float64\n",
      " 7   Reviews            40000 non-null  object \n",
      " 8   URL_TA             40000 non-null  object \n",
      " 9   ID_TA              40000 non-null  object \n",
      "dtypes: float64(3), object(7)\n",
      "memory usage: 3.1+ MB\n"
     ]
    }
   ],
   "source": [
    "df.info()"
   ]
  },
  {
   "cell_type": "code",
   "execution_count": 14,
   "metadata": {
    "ExecuteTime": {
     "end_time": "2020-08-21T14:48:20.496636Z",
     "start_time": "2020-08-21T14:48:19.520721Z"
    }
   },
   "outputs": [
    {
     "data": {
      "text/plain": [
       "<matplotlib.axes._subplots.AxesSubplot at 0x21102dc0808>"
      ]
     },
     "execution_count": 14,
     "metadata": {},
     "output_type": "execute_result"
    },
    {
     "data": {
      "image/png": "[encoded data removed]",
      "text/plain": [
       "<Figure size 1800x720 with 2 Axes>"
      ]
     },
     "metadata": {},
     "output_type": "display_data"
    }
   ],
   "source": [
    "msno.matrix(df)"
   ]
  },
  {
   "cell_type": "markdown",
   "metadata": {},
   "source": [
    "**Are the any duplicated rows in the dataset?**"
   ]
  },
  {
   "cell_type": "code",
   "execution_count": 15,
   "metadata": {
    "ExecuteTime": {
     "end_time": "2020-08-21T14:48:20.599381Z",
     "start_time": "2020-08-21T14:48:20.496636Z"
    }
   },
   "outputs": [
    {
     "name": "stdout",
     "output_type": "stream",
     "text": [
      "Fortunately, no duplicates exist\n"
     ]
    }
   ],
   "source": [
    "print('Fortunately, no duplicates exist' if df.duplicated().sum() == 0 else 'Yes, there are')"
   ]
  },
  {
   "cell_type": "markdown",
   "metadata": {},
   "source": [
    "Descriptive statistics:"
   ]
  },
  {
   "cell_type": "code",
   "execution_count": 16,
   "metadata": {
    "ExecuteTime": {
     "end_time": "2020-08-21T14:48:20.639390Z",
     "start_time": "2020-08-21T14:48:20.599381Z"
    }
   },
   "outputs": [
    {
     "data": {
      "text/html": [
       "<div>\n",
       "<style scoped>\n",
       "    .dataframe tbody tr th:only-of-type {\n",
       "        vertical-align: middle;\n",
       "    }\n",
       "\n",
       "    .dataframe tbody tr th {\n",
       "        vertical-align: top;\n",
       "    }\n",
       "\n",
       "    .dataframe thead th {\n",
       "        text-align: right;\n",
       "    }\n",
       "</style>\n",
       "<table border=\"1\" class=\"dataframe\">\n",
       "  <thead>\n",
       "    <tr style=\"text-align: right;\">\n",
       "      <th></th>\n",
       "      <th>Ranking</th>\n",
       "      <th>Rating</th>\n",
       "      <th>Number of Reviews</th>\n",
       "    </tr>\n",
       "  </thead>\n",
       "  <tbody>\n",
       "    <tr>\n",
       "      <th>count</th>\n",
       "      <td>40000.000000</td>\n",
       "      <td>40000.000000</td>\n",
       "      <td>37457.000000</td>\n",
       "    </tr>\n",
       "    <tr>\n",
       "      <th>mean</th>\n",
       "      <td>3676.028525</td>\n",
       "      <td>3.993037</td>\n",
       "      <td>124.825480</td>\n",
       "    </tr>\n",
       "    <tr>\n",
       "      <th>std</th>\n",
       "      <td>3708.749567</td>\n",
       "      <td>0.668417</td>\n",
       "      <td>295.666352</td>\n",
       "    </tr>\n",
       "    <tr>\n",
       "      <th>min</th>\n",
       "      <td>1.000000</td>\n",
       "      <td>1.000000</td>\n",
       "      <td>2.000000</td>\n",
       "    </tr>\n",
       "    <tr>\n",
       "      <th>25%</th>\n",
       "      <td>973.000000</td>\n",
       "      <td>3.500000</td>\n",
       "      <td>9.000000</td>\n",
       "    </tr>\n",
       "    <tr>\n",
       "      <th>50%</th>\n",
       "      <td>2285.000000</td>\n",
       "      <td>4.000000</td>\n",
       "      <td>33.000000</td>\n",
       "    </tr>\n",
       "    <tr>\n",
       "      <th>75%</th>\n",
       "      <td>5260.000000</td>\n",
       "      <td>4.500000</td>\n",
       "      <td>115.000000</td>\n",
       "    </tr>\n",
       "    <tr>\n",
       "      <th>max</th>\n",
       "      <td>16444.000000</td>\n",
       "      <td>5.000000</td>\n",
       "      <td>9660.000000</td>\n",
       "    </tr>\n",
       "  </tbody>\n",
       "</table>\n",
       "</div>"
      ],
      "text/plain": [
       "            Ranking        Rating  Number of Reviews\n",
       "count  40000.000000  40000.000000       37457.000000\n",
       "mean    3676.028525      3.993037         124.825480\n",
       "std     3708.749567      0.668417         295.666352\n",
       "min        1.000000      1.000000           2.000000\n",
       "25%      973.000000      3.500000           9.000000\n",
       "50%     2285.000000      4.000000          33.000000\n",
       "75%     5260.000000      4.500000         115.000000\n",
       "max    16444.000000      5.000000        9660.000000"
      ]
     },
     "execution_count": 16,
     "metadata": {},
     "output_type": "execute_result"
    }
   ],
   "source": [
    "df.describe()"
   ]
  },
  {
   "cell_type": "markdown",
   "metadata": {},
   "source": [
    "So at first sight the following columns have no missing values:\n",
    "\n",
    "* Restaurant_id\n",
    "\n",
    "* City\n",
    "\n",
    "* Ranking\n",
    "\n",
    "* Rating\n",
    "\n",
    "* Reviews\n",
    "\n",
    "* URL_TA\n",
    "\n",
    "* ID_TA"
   ]
  },
  {
   "cell_type": "code",
   "execution_count": 17,
   "metadata": {
    "ExecuteTime": {
     "end_time": "2020-08-21T14:48:20.647392Z",
     "start_time": "2020-08-21T14:48:20.639390Z"
    }
   },
   "outputs": [
    {
     "name": "stdout",
     "output_type": "stream",
     "text": [
      "dtype of Restaurant_id column is <class 'str'>\n",
      "dtype of City column is <class 'str'>\n",
      "dtype of Cuisine Style column is <class 'str'>\n",
      "dtype of Ranking column is <class 'numpy.float64'>\n",
      "dtype of Rating column is <class 'numpy.float64'>\n",
      "dtype of Price Range column is <class 'str'>\n",
      "dtype of Number of Reviews column is <class 'numpy.float64'>\n",
      "dtype of Reviews column is <class 'str'>\n",
      "dtype of URL_TA column is <class 'str'>\n",
      "dtype of ID_TA column is <class 'str'>\n"
     ]
    }
   ],
   "source": [
    "for column in df.columns:\n",
    "    print(f'dtype of {column} column is {type(df[column].iloc[0])}')"
   ]
  },
  {
   "cell_type": "code",
   "execution_count": 18,
   "metadata": {
    "ExecuteTime": {
     "end_time": "2020-08-21T14:48:20.671398Z",
     "start_time": "2020-08-21T14:48:20.655395Z"
    }
   },
   "outputs": [],
   "source": [
    "data = df.copy(deep=True)\n",
    "data.columns = ['rest_id', 'city', 'cuisine', 'ranking', 'rating',\n",
    "                'price_range', 'reviews_amount', 'reviews', 'url_ta',\n",
    "                'id_ta']"
   ]
  },
  {
   "cell_type": "code",
   "execution_count": 19,
   "metadata": {
    "ExecuteTime": {
     "end_time": "2020-08-21T14:48:20.719414Z",
     "start_time": "2020-08-21T14:48:20.671398Z"
    },
    "scrolled": false
   },
   "outputs": [
    {
     "data": {
      "text/html": [
       "<div>\n",
       "<style scoped>\n",
       "    .dataframe tbody tr th:only-of-type {\n",
       "        vertical-align: middle;\n",
       "    }\n",
       "\n",
       "    .dataframe tbody tr th {\n",
       "        vertical-align: top;\n",
       "    }\n",
       "\n",
       "    .dataframe thead th {\n",
       "        text-align: right;\n",
       "    }\n",
       "</style>\n",
       "<table border=\"1\" class=\"dataframe\">\n",
       "  <thead>\n",
       "    <tr style=\"text-align: right;\">\n",
       "      <th></th>\n",
       "      <th>rest_id</th>\n",
       "      <th>city</th>\n",
       "      <th>cuisine</th>\n",
       "      <th>ranking</th>\n",
       "      <th>rating</th>\n",
       "      <th>price_range</th>\n",
       "      <th>reviews_amount</th>\n",
       "      <th>reviews</th>\n",
       "      <th>url_ta</th>\n",
       "      <th>id_ta</th>\n",
       "    </tr>\n",
       "  </thead>\n",
       "  <tbody>\n",
       "    <tr>\n",
       "      <th>0</th>\n",
       "      <td>id_5569</td>\n",
       "      <td>Paris</td>\n",
       "      <td>['European', 'French', 'International']</td>\n",
       "      <td>5570.0</td>\n",
       "      <td>3.5</td>\n",
       "      <td>$$ - $$$</td>\n",
       "      <td>194.0</td>\n",
       "      <td>[['Good food at your doorstep', 'A good hotel ...</td>\n",
       "      <td>/Restaurant_Review-g187147-d1912643-Reviews-R_...</td>\n",
       "      <td>d1912643</td>\n",
       "    </tr>\n",
       "    <tr>\n",
       "      <th>1</th>\n",
       "      <td>id_1535</td>\n",
       "      <td>Stockholm</td>\n",
       "      <td>NaN</td>\n",
       "      <td>1537.0</td>\n",
       "      <td>4.0</td>\n",
       "      <td>NaN</td>\n",
       "      <td>10.0</td>\n",
       "      <td>[['Unique cuisine', 'Delicious Nepalese food']...</td>\n",
       "      <td>/Restaurant_Review-g189852-d7992032-Reviews-Bu...</td>\n",
       "      <td>d7992032</td>\n",
       "    </tr>\n",
       "    <tr>\n",
       "      <th>2</th>\n",
       "      <td>id_352</td>\n",
       "      <td>London</td>\n",
       "      <td>['Japanese', 'Sushi', 'Asian', 'Grill', 'Veget...</td>\n",
       "      <td>353.0</td>\n",
       "      <td>4.5</td>\n",
       "      <td>$$$$</td>\n",
       "      <td>688.0</td>\n",
       "      <td>[['Catch up with friends', 'Not exceptional'],...</td>\n",
       "      <td>/Restaurant_Review-g186338-d8632781-Reviews-RO...</td>\n",
       "      <td>d8632781</td>\n",
       "    </tr>\n",
       "    <tr>\n",
       "      <th>3</th>\n",
       "      <td>id_3456</td>\n",
       "      <td>Berlin</td>\n",
       "      <td>NaN</td>\n",
       "      <td>3458.0</td>\n",
       "      <td>5.0</td>\n",
       "      <td>NaN</td>\n",
       "      <td>3.0</td>\n",
       "      <td>[[], []]</td>\n",
       "      <td>/Restaurant_Review-g187323-d1358776-Reviews-Es...</td>\n",
       "      <td>d1358776</td>\n",
       "    </tr>\n",
       "    <tr>\n",
       "      <th>4</th>\n",
       "      <td>id_615</td>\n",
       "      <td>Munich</td>\n",
       "      <td>['German', 'Central European', 'Vegetarian Fri...</td>\n",
       "      <td>621.0</td>\n",
       "      <td>4.0</td>\n",
       "      <td>$$ - $$$</td>\n",
       "      <td>84.0</td>\n",
       "      <td>[['Best place to try a Bavarian food', 'Nice b...</td>\n",
       "      <td>/Restaurant_Review-g187309-d6864963-Reviews-Au...</td>\n",
       "      <td>d6864963</td>\n",
       "    </tr>\n",
       "    <tr>\n",
       "      <th>...</th>\n",
       "      <td>...</td>\n",
       "      <td>...</td>\n",
       "      <td>...</td>\n",
       "      <td>...</td>\n",
       "      <td>...</td>\n",
       "      <td>...</td>\n",
       "      <td>...</td>\n",
       "      <td>...</td>\n",
       "      <td>...</td>\n",
       "      <td>...</td>\n",
       "    </tr>\n",
       "    <tr>\n",
       "      <th>39995</th>\n",
       "      <td>id_499</td>\n",
       "      <td>Milan</td>\n",
       "      <td>['Italian', 'Vegetarian Friendly', 'Vegan Opti...</td>\n",
       "      <td>500.0</td>\n",
       "      <td>4.5</td>\n",
       "      <td>$$ - $$$</td>\n",
       "      <td>79.0</td>\n",
       "      <td>[['The real Italian experience!', 'Wonderful f...</td>\n",
       "      <td>/Restaurant_Review-g187849-d2104414-Reviews-Ro...</td>\n",
       "      <td>d2104414</td>\n",
       "    </tr>\n",
       "    <tr>\n",
       "      <th>39996</th>\n",
       "      <td>id_6340</td>\n",
       "      <td>Paris</td>\n",
       "      <td>['French', 'American', 'Bar', 'European', 'Veg...</td>\n",
       "      <td>6341.0</td>\n",
       "      <td>3.5</td>\n",
       "      <td>$$ - $$$</td>\n",
       "      <td>542.0</td>\n",
       "      <td>[['Parisian atmosphere', 'Bit pricey but inter...</td>\n",
       "      <td>/Restaurant_Review-g187147-d1800036-Reviews-La...</td>\n",
       "      <td>d1800036</td>\n",
       "    </tr>\n",
       "    <tr>\n",
       "      <th>39997</th>\n",
       "      <td>id_1649</td>\n",
       "      <td>Stockholm</td>\n",
       "      <td>['Japanese', 'Sushi']</td>\n",
       "      <td>1652.0</td>\n",
       "      <td>4.5</td>\n",
       "      <td>NaN</td>\n",
       "      <td>4.0</td>\n",
       "      <td>[['Good by swedish standards', 'A hidden jewel...</td>\n",
       "      <td>/Restaurant_Review-g189852-d947615-Reviews-Sus...</td>\n",
       "      <td>d947615</td>\n",
       "    </tr>\n",
       "    <tr>\n",
       "      <th>39998</th>\n",
       "      <td>id_640</td>\n",
       "      <td>Warsaw</td>\n",
       "      <td>['Polish', 'European', 'Eastern European', 'Ce...</td>\n",
       "      <td>641.0</td>\n",
       "      <td>4.0</td>\n",
       "      <td>$$ - $$$</td>\n",
       "      <td>70.0</td>\n",
       "      <td>[['Underground restaurant', 'Oldest Restaurant...</td>\n",
       "      <td>/Restaurant_Review-g274856-d1100838-Reviews-Ho...</td>\n",
       "      <td>d1100838</td>\n",
       "    </tr>\n",
       "    <tr>\n",
       "      <th>39999</th>\n",
       "      <td>id_4824</td>\n",
       "      <td>Milan</td>\n",
       "      <td>['Spanish']</td>\n",
       "      <td>4827.0</td>\n",
       "      <td>3.0</td>\n",
       "      <td>$$ - $$$</td>\n",
       "      <td>260.0</td>\n",
       "      <td>[['Average', 'Nice an informal'], ['01/31/2016...</td>\n",
       "      <td>/Restaurant_Review-g187849-d1109020-Reviews-Ta...</td>\n",
       "      <td>d1109020</td>\n",
       "    </tr>\n",
       "  </tbody>\n",
       "</table>\n",
       "<p>40000 rows × 10 columns</p>\n",
       "</div>"
      ],
      "text/plain": [
       "       rest_id       city                                            cuisine  \\\n",
       "0      id_5569      Paris            ['European', 'French', 'International']   \n",
       "1      id_1535  Stockholm                                                NaN   \n",
       "2       id_352     London  ['Japanese', 'Sushi', 'Asian', 'Grill', 'Veget...   \n",
       "3      id_3456     Berlin                                                NaN   \n",
       "4       id_615     Munich  ['German', 'Central European', 'Vegetarian Fri...   \n",
       "...        ...        ...                                                ...   \n",
       "39995   id_499      Milan  ['Italian', 'Vegetarian Friendly', 'Vegan Opti...   \n",
       "39996  id_6340      Paris  ['French', 'American', 'Bar', 'European', 'Veg...   \n",
       "39997  id_1649  Stockholm                              ['Japanese', 'Sushi']   \n",
       "39998   id_640     Warsaw  ['Polish', 'European', 'Eastern European', 'Ce...   \n",
       "39999  id_4824      Milan                                        ['Spanish']   \n",
       "\n",
       "       ranking  rating price_range  reviews_amount  \\\n",
       "0       5570.0     3.5    $$ - $$$           194.0   \n",
       "1       1537.0     4.0         NaN            10.0   \n",
       "2        353.0     4.5        $$$$           688.0   \n",
       "3       3458.0     5.0         NaN             3.0   \n",
       "4        621.0     4.0    $$ - $$$            84.0   \n",
       "...        ...     ...         ...             ...   \n",
       "39995    500.0     4.5    $$ - $$$            79.0   \n",
       "39996   6341.0     3.5    $$ - $$$           542.0   \n",
       "39997   1652.0     4.5         NaN             4.0   \n",
       "39998    641.0     4.0    $$ - $$$            70.0   \n",
       "39999   4827.0     3.0    $$ - $$$           260.0   \n",
       "\n",
       "                                                 reviews  \\\n",
       "0      [['Good food at your doorstep', 'A good hotel ...   \n",
       "1      [['Unique cuisine', 'Delicious Nepalese food']...   \n",
       "2      [['Catch up with friends', 'Not exceptional'],...   \n",
       "3                                               [[], []]   \n",
       "4      [['Best place to try a Bavarian food', 'Nice b...   \n",
       "...                                                  ...   \n",
       "39995  [['The real Italian experience!', 'Wonderful f...   \n",
       "39996  [['Parisian atmosphere', 'Bit pricey but inter...   \n",
       "39997  [['Good by swedish standards', 'A hidden jewel...   \n",
       "39998  [['Underground restaurant', 'Oldest Restaurant...   \n",
       "39999  [['Average', 'Nice an informal'], ['01/31/2016...   \n",
       "\n",
       "                                                  url_ta     id_ta  \n",
       "0      /Restaurant_Review-g187147-d1912643-Reviews-R_...  d1912643  \n",
       "1      /Restaurant_Review-g189852-d7992032-Reviews-Bu...  d7992032  \n",
       "2      /Restaurant_Review-g186338-d8632781-Reviews-RO...  d8632781  \n",
       "3      /Restaurant_Review-g187323-d1358776-Reviews-Es...  d1358776  \n",
       "4      /Restaurant_Review-g187309-d6864963-Reviews-Au...  d6864963  \n",
       "...                                                  ...       ...  \n",
       "39995  /Restaurant_Review-g187849-d2104414-Reviews-Ro...  d2104414  \n",
       "39996  /Restaurant_Review-g187147-d1800036-Reviews-La...  d1800036  \n",
       "39997  /Restaurant_Review-g189852-d947615-Reviews-Sus...   d947615  \n",
       "39998  /Restaurant_Review-g274856-d1100838-Reviews-Ho...  d1100838  \n",
       "39999  /Restaurant_Review-g187849-d1109020-Reviews-Ta...  d1109020  \n",
       "\n",
       "[40000 rows x 10 columns]"
      ]
     },
     "execution_count": 19,
     "metadata": {},
     "output_type": "execute_result"
    }
   ],
   "source": [
    "data"
   ]
  },
  {
   "cell_type": "code",
   "execution_count": 20,
   "metadata": {
    "ExecuteTime": {
     "end_time": "2020-08-21T14:48:20.759450Z",
     "start_time": "2020-08-21T14:48:20.719414Z"
    },
    "scrolled": true
   },
   "outputs": [
    {
     "name": "stdout",
     "output_type": "stream",
     "text": [
      "<class 'pandas.core.frame.DataFrame'>\n",
      "RangeIndex: 40000 entries, 0 to 39999\n",
      "Data columns (total 10 columns):\n",
      " #   Column          Non-Null Count  Dtype  \n",
      "---  ------          --------------  -----  \n",
      " 0   rest_id         40000 non-null  object \n",
      " 1   city            40000 non-null  object \n",
      " 2   cuisine         30717 non-null  object \n",
      " 3   ranking         40000 non-null  float64\n",
      " 4   rating          40000 non-null  float64\n",
      " 5   price_range     26114 non-null  object \n",
      " 6   reviews_amount  37457 non-null  float64\n",
      " 7   reviews         40000 non-null  object \n",
      " 8   url_ta          40000 non-null  object \n",
      " 9   id_ta           40000 non-null  object \n",
      "dtypes: float64(3), object(7)\n",
      "memory usage: 3.1+ MB\n"
     ]
    }
   ],
   "source": [
    "data.info()"
   ]
  },
  {
   "cell_type": "markdown",
   "metadata": {},
   "source": [
    "Let's build basic functions to display information:"
   ]
  },
  {
   "cell_type": "code",
   "execution_count": 21,
   "metadata": {
    "ExecuteTime": {
     "end_time": "2020-08-21T14:48:20.767423Z",
     "start_time": "2020-08-21T14:48:20.759450Z"
    }
   },
   "outputs": [],
   "source": [
    "def show_unique(column):\n",
    "    print(f\"Number of unique values for '{column}' column: {data[column].nunique()}\")\n",
    "    print(f\"\\nUnique values in '{column}' column:\\n {data[column].unique()}\")"
   ]
  },
  {
   "cell_type": "code",
   "execution_count": null,
   "metadata": {},
   "outputs": [],
   "source": []
  },
  {
   "cell_type": "code",
   "execution_count": null,
   "metadata": {},
   "outputs": [],
   "source": []
  },
  {
   "cell_type": "markdown",
   "metadata": {
    "ExecuteTime": {
     "end_time": "2020-08-18T16:46:49.087615Z",
     "start_time": "2020-08-18T16:46:49.049585Z"
    }
   },
   "source": [
    "**Next I will check each variable apart for some missing values, outliers or just incorrect information.**"
   ]
  },
  {
   "cell_type": "markdown",
   "metadata": {},
   "source": [
    "## Restaurant ID"
   ]
  },
  {
   "cell_type": "code",
   "execution_count": 22,
   "metadata": {
    "ExecuteTime": {
     "end_time": "2020-08-21T14:48:20.791447Z",
     "start_time": "2020-08-21T14:48:20.767423Z"
    }
   },
   "outputs": [
    {
     "name": "stdout",
     "output_type": "stream",
     "text": [
      "Number of unique values for 'rest_id' column: 11909\n",
      "\n",
      "Unique values in 'rest_id' column:\n",
      " ['id_5569' 'id_1535' 'id_352' ... 'id_7068' 'id_8887' 'id_6057']\n"
     ]
    }
   ],
   "source": [
    "show_unique('rest_id')"
   ]
  },
  {
   "cell_type": "markdown",
   "metadata": {},
   "source": [
    "There are to many unique ID numbers to check them all. So I will save myself from future headache by choosing only values which match a special regex pattern:"
   ]
  },
  {
   "cell_type": "code",
   "execution_count": 23,
   "metadata": {
    "ExecuteTime": {
     "end_time": "2020-08-21T14:48:20.799430Z",
     "start_time": "2020-08-21T14:48:20.791447Z"
    }
   },
   "outputs": [],
   "source": [
    "def id_check(cell):\n",
    "    import re\n",
    "    ptrn = re.compile(r'id_\\d+')\n",
    "    result = re.search(ptrn, cell)\n",
    "    \n",
    "    return result.group(0)"
   ]
  },
  {
   "cell_type": "code",
   "execution_count": 24,
   "metadata": {
    "ExecuteTime": {
     "end_time": "2020-08-21T14:48:21.032637Z",
     "start_time": "2020-08-21T14:48:20.799430Z"
    }
   },
   "outputs": [],
   "source": [
    "data.rest_id = data.rest_id.apply(id_check)"
   ]
  },
  {
   "cell_type": "markdown",
   "metadata": {},
   "source": [
    "Let's look at values now:"
   ]
  },
  {
   "cell_type": "code",
   "execution_count": 25,
   "metadata": {
    "ExecuteTime": {
     "end_time": "2020-08-21T14:48:21.056691Z",
     "start_time": "2020-08-21T14:48:21.032637Z"
    }
   },
   "outputs": [
    {
     "name": "stdout",
     "output_type": "stream",
     "text": [
      "Number of unique values for 'rest_id' column: 11909\n",
      "\n",
      "Unique values in 'rest_id' column:\n",
      " ['id_5569' 'id_1535' 'id_352' ... 'id_7068' 'id_8887' 'id_6057']\n"
     ]
    }
   ],
   "source": [
    "show_unique('rest_id')"
   ]
  },
  {
   "cell_type": "markdown",
   "metadata": {},
   "source": [
    "Actually, we can see that nothing changed but, at least, there is some confidence now that everything is OK with this column.\n",
    "\n",
    "Now we can drop this column as it plays no role in the future ML model:"
   ]
  },
  {
   "cell_type": "code",
   "execution_count": 26,
   "metadata": {
    "ExecuteTime": {
     "end_time": "2020-08-21T14:48:21.099516Z",
     "start_time": "2020-08-21T14:48:21.058776Z"
    }
   },
   "outputs": [],
   "source": [
    "data.drop(['rest_id'], axis=1, inplace=True)"
   ]
  },
  {
   "cell_type": "markdown",
   "metadata": {},
   "source": [
    "## City"
   ]
  },
  {
   "cell_type": "code",
   "execution_count": 27,
   "metadata": {
    "ExecuteTime": {
     "end_time": "2020-08-21T14:48:21.115540Z",
     "start_time": "2020-08-21T14:48:21.099516Z"
    }
   },
   "outputs": [
    {
     "name": "stdout",
     "output_type": "stream",
     "text": [
      "Number of unique values for 'city' column: 31\n",
      "\n",
      "Unique values in 'city' column:\n",
      " ['Paris' 'Stockholm' 'London' 'Berlin' 'Munich' 'Oporto' 'Milan'\n",
      " 'Bratislava' 'Vienna' 'Rome' 'Barcelona' 'Madrid' 'Dublin' 'Brussels'\n",
      " 'Zurich' 'Warsaw' 'Budapest' 'Copenhagen' 'Amsterdam' 'Lyon' 'Hamburg'\n",
      " 'Lisbon' 'Prague' 'Oslo' 'Helsinki' 'Edinburgh' 'Geneva' 'Ljubljana'\n",
      " 'Athens' 'Luxembourg' 'Krakow']\n"
     ]
    }
   ],
   "source": [
    "show_unique('city')"
   ]
  },
  {
   "cell_type": "markdown",
   "metadata": {},
   "source": [
    "Top-10 cities with the biggest number of reviews:"
   ]
  },
  {
   "cell_type": "code",
   "execution_count": 28,
   "metadata": {
    "ExecuteTime": {
     "end_time": "2020-08-21T14:48:21.580967Z",
     "start_time": "2020-08-21T14:48:21.115540Z"
    },
    "scrolled": false
   },
   "outputs": [
    {
     "data": {
      "text/plain": [
       "Text(0, 0.5, 'Number of reviews')"
      ]
     },
     "execution_count": 28,
     "metadata": {},
     "output_type": "execute_result"
    },
    {
     "data": {
      "image/png": "[encoded data removed]",
      "text/plain": [
       "<Figure size 1008x504 with 1 Axes>"
      ]
     },
     "metadata": {},
     "output_type": "display_data"
    }
   ],
   "source": [
    "fig, ax = plt.subplots(figsize=(14, 7))\n",
    "data.city.value_counts()[:10].plot(kind='bar')\n",
    "\n",
    "plt.xticks(size=15, rotation=45)\n",
    "plt.yticks(size=15)\n",
    "\n",
    "ax.set_title('Top ten cities by number of reviews', size=20)\n",
    "ax.set_xlabel('Cities', size=20)\n",
    "ax.set_ylabel('Number of reviews', size=20)"
   ]
  },
  {
   "cell_type": "markdown",
   "metadata": {},
   "source": [
    "## Cuisine\n"
   ]
  },
  {
   "cell_type": "code",
   "execution_count": 29,
   "metadata": {
    "ExecuteTime": {
     "end_time": "2020-08-21T14:48:21.605202Z",
     "start_time": "2020-08-21T14:48:21.580967Z"
    },
    "scrolled": false
   },
   "outputs": [
    {
     "name": "stdout",
     "output_type": "stream",
     "text": [
      "Number of unique values for 'cuisine' column: 9007\n",
      "\n",
      "Unique values in 'cuisine' column:\n",
      " [\"['European', 'French', 'International']\" nan\n",
      " \"['Japanese', 'Sushi', 'Asian', 'Grill', 'Vegetarian Friendly', 'Vegan Options', 'Gluten Free Options']\"\n",
      " ...\n",
      " \"['Steakhouse', 'Barbecue', 'Australian', 'Argentinean', 'South American']\"\n",
      " \"['French', 'American', 'Cafe', 'Healthy', 'Soups']\"\n",
      " \"['French', 'Contemporary', 'Fusion', 'Gastropub']\"]\n"
     ]
    }
   ],
   "source": [
    "show_unique('cuisine')"
   ]
  },
  {
   "cell_type": "markdown",
   "metadata": {},
   "source": [
    "It would probably be informative to know how many different types of cuisine there are in dataset."
   ]
  },
  {
   "cell_type": "code",
   "execution_count": 30,
   "metadata": {
    "ExecuteTime": {
     "end_time": "2020-08-21T14:48:22.463097Z",
     "start_time": "2020-08-21T14:48:21.608294Z"
    }
   },
   "outputs": [
    {
     "name": "stdout",
     "output_type": "stream",
     "text": [
      "125 different cuisines\n"
     ]
    }
   ],
   "source": [
    "counter = Counter()\n",
    "cuisine_df = df['Cuisine Style'].dropna().apply(ast.literal_eval)\n",
    "\n",
    "for cuisines in cuisine_df:\n",
    "    for cuisine in cuisines:\n",
    "        counter[cuisine] += 1\n",
    "        \n",
    "print(f'{len(counter.keys())} different cuisines')"
   ]
  },
  {
   "cell_type": "markdown",
   "metadata": {},
   "source": [
    "Which of cuisines is the most frequent?"
   ]
  },
  {
   "cell_type": "code",
   "execution_count": 31,
   "metadata": {
    "ExecuteTime": {
     "end_time": "2020-08-21T14:48:22.481152Z",
     "start_time": "2020-08-21T14:48:22.465142Z"
    },
    "scrolled": true
   },
   "outputs": [
    {
     "name": "stdout",
     "output_type": "stream",
     "text": [
      "Vegetarian Friendly - the most popular cuisine style\n"
     ]
    }
   ],
   "source": [
    "print(f'{counter.most_common()[0][0]} - the most popular cuisine style')"
   ]
  },
  {
   "cell_type": "markdown",
   "metadata": {},
   "source": [
    "Mean amount of cuisines by each restaurant?"
   ]
  },
  {
   "cell_type": "code",
   "execution_count": 32,
   "metadata": {
    "ExecuteTime": {
     "end_time": "2020-08-21T14:48:23.187408Z",
     "start_time": "2020-08-21T14:48:22.481152Z"
    }
   },
   "outputs": [
    {
     "name": "stdout",
     "output_type": "stream",
     "text": [
      "Mean amount of cuisines: 2.62\n"
     ]
    }
   ],
   "source": [
    "cuisine = df['Cuisine Style'].apply(lambda x: ast.literal_eval(x) if not pd.isna(x) else '1')\n",
    "print(f'Mean amount of cuisines: {round(cuisine.apply(lambda x: len(x)).mean(), 2)}')"
   ]
  },
  {
   "cell_type": "code",
   "execution_count": 33,
   "metadata": {
    "ExecuteTime": {
     "end_time": "2020-08-21T14:48:23.211629Z",
     "start_time": "2020-08-21T14:48:23.187408Z"
    }
   },
   "outputs": [
    {
     "name": "stdout",
     "output_type": "stream",
     "text": [
      "There are 9283 missing values\n"
     ]
    }
   ],
   "source": [
    "print(f'There are {data.cuisine.isna().sum()} missing values')"
   ]
  },
  {
   "cell_type": "code",
   "execution_count": 34,
   "metadata": {
    "ExecuteTime": {
     "end_time": "2020-08-21T14:48:23.259626Z",
     "start_time": "2020-08-21T14:48:23.214761Z"
    },
    "scrolled": true
   },
   "outputs": [
    {
     "data": {
      "text/html": [
       "<div>\n",
       "<style scoped>\n",
       "    .dataframe tbody tr th:only-of-type {\n",
       "        vertical-align: middle;\n",
       "    }\n",
       "\n",
       "    .dataframe tbody tr th {\n",
       "        vertical-align: top;\n",
       "    }\n",
       "\n",
       "    .dataframe thead th {\n",
       "        text-align: right;\n",
       "    }\n",
       "</style>\n",
       "<table border=\"1\" class=\"dataframe\">\n",
       "  <thead>\n",
       "    <tr style=\"text-align: right;\">\n",
       "      <th></th>\n",
       "      <th>cuisine</th>\n",
       "      <th>city</th>\n",
       "    </tr>\n",
       "  </thead>\n",
       "  <tbody>\n",
       "    <tr>\n",
       "      <th>0</th>\n",
       "      <td>['European', 'French', 'International']</td>\n",
       "      <td>Paris</td>\n",
       "    </tr>\n",
       "    <tr>\n",
       "      <th>1</th>\n",
       "      <td>NaN</td>\n",
       "      <td>Stockholm</td>\n",
       "    </tr>\n",
       "    <tr>\n",
       "      <th>2</th>\n",
       "      <td>['Japanese', 'Sushi', 'Asian', 'Grill', 'Veget...</td>\n",
       "      <td>London</td>\n",
       "    </tr>\n",
       "    <tr>\n",
       "      <th>3</th>\n",
       "      <td>NaN</td>\n",
       "      <td>Berlin</td>\n",
       "    </tr>\n",
       "    <tr>\n",
       "      <th>4</th>\n",
       "      <td>['German', 'Central European', 'Vegetarian Fri...</td>\n",
       "      <td>Munich</td>\n",
       "    </tr>\n",
       "    <tr>\n",
       "      <th>...</th>\n",
       "      <td>...</td>\n",
       "      <td>...</td>\n",
       "    </tr>\n",
       "    <tr>\n",
       "      <th>39995</th>\n",
       "      <td>['Italian', 'Vegetarian Friendly', 'Vegan Opti...</td>\n",
       "      <td>Milan</td>\n",
       "    </tr>\n",
       "    <tr>\n",
       "      <th>39996</th>\n",
       "      <td>['French', 'American', 'Bar', 'European', 'Veg...</td>\n",
       "      <td>Paris</td>\n",
       "    </tr>\n",
       "    <tr>\n",
       "      <th>39997</th>\n",
       "      <td>['Japanese', 'Sushi']</td>\n",
       "      <td>Stockholm</td>\n",
       "    </tr>\n",
       "    <tr>\n",
       "      <th>39998</th>\n",
       "      <td>['Polish', 'European', 'Eastern European', 'Ce...</td>\n",
       "      <td>Warsaw</td>\n",
       "    </tr>\n",
       "    <tr>\n",
       "      <th>39999</th>\n",
       "      <td>['Spanish']</td>\n",
       "      <td>Milan</td>\n",
       "    </tr>\n",
       "  </tbody>\n",
       "</table>\n",
       "<p>40000 rows × 2 columns</p>\n",
       "</div>"
      ],
      "text/plain": [
       "                                                 cuisine       city\n",
       "0                ['European', 'French', 'International']      Paris\n",
       "1                                                    NaN  Stockholm\n",
       "2      ['Japanese', 'Sushi', 'Asian', 'Grill', 'Veget...     London\n",
       "3                                                    NaN     Berlin\n",
       "4      ['German', 'Central European', 'Vegetarian Fri...     Munich\n",
       "...                                                  ...        ...\n",
       "39995  ['Italian', 'Vegetarian Friendly', 'Vegan Opti...      Milan\n",
       "39996  ['French', 'American', 'Bar', 'European', 'Veg...      Paris\n",
       "39997                              ['Japanese', 'Sushi']  Stockholm\n",
       "39998  ['Polish', 'European', 'Eastern European', 'Ce...     Warsaw\n",
       "39999                                        ['Spanish']      Milan\n",
       "\n",
       "[40000 rows x 2 columns]"
      ]
     },
     "execution_count": 34,
     "metadata": {},
     "output_type": "execute_result"
    }
   ],
   "source": [
    "df_cuisine = data[['cuisine', 'city']]\n",
    "df_cuisine"
   ]
  },
  {
   "cell_type": "markdown",
   "metadata": {},
   "source": [
    "When dealing with these NaN-values it makes sense to pay attention to the city where the restaurant is located. Probably, this info will allow to fill those values approximately."
   ]
  },
  {
   "cell_type": "markdown",
   "metadata": {},
   "source": [
    "Now let's get **the most common cuisine** for each city:"
   ]
  },
  {
   "cell_type": "code",
   "execution_count": 35,
   "metadata": {
    "ExecuteTime": {
     "end_time": "2020-08-21T14:48:23.315640Z",
     "start_time": "2020-08-21T14:48:23.259626Z"
    }
   },
   "outputs": [
    {
     "data": {
      "text/plain": [
       "city       cuisine                                                                                           \n",
       "Amsterdam  ['Dutch', 'European']                                                                                 28\n",
       "           ['Asian', 'Indonesian']                                                                               15\n",
       "           ['International']                                                                                     12\n",
       "           ['Turkish']                                                                                           11\n",
       "           ['Italian', 'Mediterranean', 'European', 'Vegetarian Friendly']                                       10\n",
       "                                                                                                                 ..\n",
       "Zurich     ['Swiss', 'Seafood', 'European', 'Central European', 'Vegetarian Friendly', 'Gluten Free Options']     1\n",
       "           ['Swiss']                                                                                              1\n",
       "           ['Turkish', 'Middle Eastern', 'Fast Food', 'Halal']                                                    1\n",
       "           ['Turkish']                                                                                            1\n",
       "           ['Vegetarian Friendly']                                                                                1\n",
       "Name: cuisine, Length: 13851, dtype: int64"
      ]
     },
     "execution_count": 35,
     "metadata": {},
     "output_type": "execute_result"
    }
   ],
   "source": [
    "df_cuisine.groupby(['city']).cuisine.value_counts()"
   ]
  },
  {
   "cell_type": "code",
   "execution_count": 36,
   "metadata": {
    "ExecuteTime": {
     "end_time": "2020-08-21T14:48:23.403679Z",
     "start_time": "2020-08-21T14:48:23.315640Z"
    }
   },
   "outputs": [
    {
     "data": {
      "text/html": [
       "<div>\n",
       "<style scoped>\n",
       "    .dataframe tbody tr th:only-of-type {\n",
       "        vertical-align: middle;\n",
       "    }\n",
       "\n",
       "    .dataframe tbody tr th {\n",
       "        vertical-align: top;\n",
       "    }\n",
       "\n",
       "    .dataframe thead th {\n",
       "        text-align: right;\n",
       "    }\n",
       "</style>\n",
       "<table border=\"1\" class=\"dataframe\">\n",
       "  <thead>\n",
       "    <tr style=\"text-align: right;\">\n",
       "      <th></th>\n",
       "      <th>cuisine</th>\n",
       "    </tr>\n",
       "    <tr>\n",
       "      <th>city</th>\n",
       "      <th></th>\n",
       "    </tr>\n",
       "  </thead>\n",
       "  <tbody>\n",
       "    <tr>\n",
       "      <th>Amsterdam</th>\n",
       "      <td>['Dutch', 'European']</td>\n",
       "    </tr>\n",
       "    <tr>\n",
       "      <th>Athens</th>\n",
       "      <td>['Greek']</td>\n",
       "    </tr>\n",
       "    <tr>\n",
       "      <th>Barcelona</th>\n",
       "      <td>['Spanish']</td>\n",
       "    </tr>\n",
       "    <tr>\n",
       "      <th>Berlin</th>\n",
       "      <td>['Italian']</td>\n",
       "    </tr>\n",
       "    <tr>\n",
       "      <th>Bratislava</th>\n",
       "      <td>['Pub']</td>\n",
       "    </tr>\n",
       "  </tbody>\n",
       "</table>\n",
       "</div>"
      ],
      "text/plain": [
       "                          cuisine\n",
       "city                             \n",
       "Amsterdam   ['Dutch', 'European']\n",
       "Athens                  ['Greek']\n",
       "Barcelona             ['Spanish']\n",
       "Berlin                ['Italian']\n",
       "Bratislava                ['Pub']"
      ]
     },
     "execution_count": 36,
     "metadata": {},
     "output_type": "execute_result"
    }
   ],
   "source": [
    "new_cuisine = df_cuisine.groupby(['city']).agg(lambda x: x.value_counts().index[0])\n",
    "new_cuisine.head()"
   ]
  },
  {
   "cell_type": "code",
   "execution_count": 37,
   "metadata": {
    "ExecuteTime": {
     "end_time": "2020-08-21T14:48:23.419665Z",
     "start_time": "2020-08-21T14:48:23.403679Z"
    }
   },
   "outputs": [],
   "source": [
    "def fill_cuisine(row):\n",
    "    '''\n",
    "    This function substitutes the missing value\n",
    "    with the most common value for a certain city\n",
    "    '''\n",
    "    if pd.isna(row['cuisine']):\n",
    "        row['cuisine'] = new_cuisine.loc[row['city']].iloc[0]\n",
    "    return row"
   ]
  },
  {
   "cell_type": "code",
   "execution_count": 38,
   "metadata": {
    "ExecuteTime": {
     "end_time": "2020-08-21T14:48:34.091022Z",
     "start_time": "2020-08-21T14:48:23.419665Z"
    }
   },
   "outputs": [],
   "source": [
    "new_data = data.apply(fill_cuisine, axis=1)"
   ]
  },
  {
   "cell_type": "code",
   "execution_count": 39,
   "metadata": {
    "ExecuteTime": {
     "end_time": "2020-08-21T14:48:34.112811Z",
     "start_time": "2020-08-21T14:48:34.091022Z"
    }
   },
   "outputs": [
    {
     "name": "stdout",
     "output_type": "stream",
     "text": [
      "Number of missing values: 0\n"
     ]
    }
   ],
   "source": [
    "print(f'Number of missing values: {new_data.cuisine.isna().sum()}')"
   ]
  },
  {
   "cell_type": "markdown",
   "metadata": {},
   "source": [
    "So we filled the values of 'cuisine' column with the most frequent value for each city.\n",
    "\n",
    "Later it will be more obvious whether this helped to **enhance the model quality or not**."
   ]
  },
  {
   "cell_type": "code",
   "execution_count": 40,
   "metadata": {
    "ExecuteTime": {
     "end_time": "2020-08-21T14:48:34.197722Z",
     "start_time": "2020-08-21T14:48:34.115924Z"
    }
   },
   "outputs": [
    {
     "name": "stdout",
     "output_type": "stream",
     "text": [
      "<class 'pandas.core.frame.DataFrame'>\n",
      "RangeIndex: 40000 entries, 0 to 39999\n",
      "Data columns (total 9 columns):\n",
      " #   Column          Non-Null Count  Dtype  \n",
      "---  ------          --------------  -----  \n",
      " 0   city            40000 non-null  object \n",
      " 1   cuisine         40000 non-null  object \n",
      " 2   ranking         40000 non-null  float64\n",
      " 3   rating          40000 non-null  float64\n",
      " 4   price_range     26114 non-null  object \n",
      " 5   reviews_amount  37457 non-null  float64\n",
      " 6   reviews         40000 non-null  object \n",
      " 7   url_ta          40000 non-null  object \n",
      " 8   id_ta           40000 non-null  object \n",
      "dtypes: float64(3), object(6)\n",
      "memory usage: 2.7+ MB\n"
     ]
    }
   ],
   "source": [
    "new_data.info()"
   ]
  },
  {
   "cell_type": "markdown",
   "metadata": {},
   "source": [
    "## Ranking"
   ]
  },
  {
   "cell_type": "code",
   "execution_count": 41,
   "metadata": {
    "ExecuteTime": {
     "end_time": "2020-08-21T14:48:34.213718Z",
     "start_time": "2020-08-21T14:48:34.197722Z"
    },
    "scrolled": true
   },
   "outputs": [
    {
     "name": "stdout",
     "output_type": "stream",
     "text": [
      "Number of unique values for 'ranking' column: 11936\n",
      "\n",
      "Unique values in 'ranking' column:\n",
      " [5570. 1537.  353. ... 8896. 6058. 6341.]\n"
     ]
    }
   ],
   "source": [
    "show_unique('ranking')"
   ]
  },
  {
   "cell_type": "markdown",
   "metadata": {},
   "source": [
    "This variable should be of int type rather than float type:"
   ]
  },
  {
   "cell_type": "code",
   "execution_count": 42,
   "metadata": {
    "ExecuteTime": {
     "end_time": "2020-08-21T14:48:34.229733Z",
     "start_time": "2020-08-21T14:48:34.213718Z"
    }
   },
   "outputs": [],
   "source": [
    "new_data.ranking = new_data.ranking.astype('int')"
   ]
  },
  {
   "cell_type": "code",
   "execution_count": 43,
   "metadata": {
    "ExecuteTime": {
     "end_time": "2020-08-21T14:48:34.269730Z",
     "start_time": "2020-08-21T14:48:34.229733Z"
    }
   },
   "outputs": [
    {
     "data": {
      "text/html": [
       "<div>\n",
       "<style scoped>\n",
       "    .dataframe tbody tr th:only-of-type {\n",
       "        vertical-align: middle;\n",
       "    }\n",
       "\n",
       "    .dataframe tbody tr th {\n",
       "        vertical-align: top;\n",
       "    }\n",
       "\n",
       "    .dataframe thead th {\n",
       "        text-align: right;\n",
       "    }\n",
       "</style>\n",
       "<table border=\"1\" class=\"dataframe\">\n",
       "  <thead>\n",
       "    <tr style=\"text-align: right;\">\n",
       "      <th></th>\n",
       "      <th>city</th>\n",
       "      <th>cuisine</th>\n",
       "      <th>ranking</th>\n",
       "      <th>rating</th>\n",
       "      <th>price_range</th>\n",
       "      <th>reviews_amount</th>\n",
       "      <th>reviews</th>\n",
       "      <th>url_ta</th>\n",
       "      <th>id_ta</th>\n",
       "    </tr>\n",
       "  </thead>\n",
       "  <tbody>\n",
       "    <tr>\n",
       "      <th>0</th>\n",
       "      <td>Paris</td>\n",
       "      <td>['European', 'French', 'International']</td>\n",
       "      <td>5570</td>\n",
       "      <td>3.5</td>\n",
       "      <td>$$ - $$$</td>\n",
       "      <td>194.0</td>\n",
       "      <td>[['Good food at your doorstep', 'A good hotel ...</td>\n",
       "      <td>/Restaurant_Review-g187147-d1912643-Reviews-R_...</td>\n",
       "      <td>d1912643</td>\n",
       "    </tr>\n",
       "    <tr>\n",
       "      <th>1</th>\n",
       "      <td>Stockholm</td>\n",
       "      <td>['European', 'Swedish']</td>\n",
       "      <td>1537</td>\n",
       "      <td>4.0</td>\n",
       "      <td>NaN</td>\n",
       "      <td>10.0</td>\n",
       "      <td>[['Unique cuisine', 'Delicious Nepalese food']...</td>\n",
       "      <td>/Restaurant_Review-g189852-d7992032-Reviews-Bu...</td>\n",
       "      <td>d7992032</td>\n",
       "    </tr>\n",
       "    <tr>\n",
       "      <th>2</th>\n",
       "      <td>London</td>\n",
       "      <td>['Japanese', 'Sushi', 'Asian', 'Grill', 'Veget...</td>\n",
       "      <td>353</td>\n",
       "      <td>4.5</td>\n",
       "      <td>$$$$</td>\n",
       "      <td>688.0</td>\n",
       "      <td>[['Catch up with friends', 'Not exceptional'],...</td>\n",
       "      <td>/Restaurant_Review-g186338-d8632781-Reviews-RO...</td>\n",
       "      <td>d8632781</td>\n",
       "    </tr>\n",
       "    <tr>\n",
       "      <th>3</th>\n",
       "      <td>Berlin</td>\n",
       "      <td>['Italian']</td>\n",
       "      <td>3458</td>\n",
       "      <td>5.0</td>\n",
       "      <td>NaN</td>\n",
       "      <td>3.0</td>\n",
       "      <td>[[], []]</td>\n",
       "      <td>/Restaurant_Review-g187323-d1358776-Reviews-Es...</td>\n",
       "      <td>d1358776</td>\n",
       "    </tr>\n",
       "    <tr>\n",
       "      <th>4</th>\n",
       "      <td>Munich</td>\n",
       "      <td>['German', 'Central European', 'Vegetarian Fri...</td>\n",
       "      <td>621</td>\n",
       "      <td>4.0</td>\n",
       "      <td>$$ - $$$</td>\n",
       "      <td>84.0</td>\n",
       "      <td>[['Best place to try a Bavarian food', 'Nice b...</td>\n",
       "      <td>/Restaurant_Review-g187309-d6864963-Reviews-Au...</td>\n",
       "      <td>d6864963</td>\n",
       "    </tr>\n",
       "    <tr>\n",
       "      <th>...</th>\n",
       "      <td>...</td>\n",
       "      <td>...</td>\n",
       "      <td>...</td>\n",
       "      <td>...</td>\n",
       "      <td>...</td>\n",
       "      <td>...</td>\n",
       "      <td>...</td>\n",
       "      <td>...</td>\n",
       "      <td>...</td>\n",
       "    </tr>\n",
       "    <tr>\n",
       "      <th>39995</th>\n",
       "      <td>Milan</td>\n",
       "      <td>['Italian', 'Vegetarian Friendly', 'Vegan Opti...</td>\n",
       "      <td>500</td>\n",
       "      <td>4.5</td>\n",
       "      <td>$$ - $$$</td>\n",
       "      <td>79.0</td>\n",
       "      <td>[['The real Italian experience!', 'Wonderful f...</td>\n",
       "      <td>/Restaurant_Review-g187849-d2104414-Reviews-Ro...</td>\n",
       "      <td>d2104414</td>\n",
       "    </tr>\n",
       "    <tr>\n",
       "      <th>39996</th>\n",
       "      <td>Paris</td>\n",
       "      <td>['French', 'American', 'Bar', 'European', 'Veg...</td>\n",
       "      <td>6341</td>\n",
       "      <td>3.5</td>\n",
       "      <td>$$ - $$$</td>\n",
       "      <td>542.0</td>\n",
       "      <td>[['Parisian atmosphere', 'Bit pricey but inter...</td>\n",
       "      <td>/Restaurant_Review-g187147-d1800036-Reviews-La...</td>\n",
       "      <td>d1800036</td>\n",
       "    </tr>\n",
       "    <tr>\n",
       "      <th>39997</th>\n",
       "      <td>Stockholm</td>\n",
       "      <td>['Japanese', 'Sushi']</td>\n",
       "      <td>1652</td>\n",
       "      <td>4.5</td>\n",
       "      <td>NaN</td>\n",
       "      <td>4.0</td>\n",
       "      <td>[['Good by swedish standards', 'A hidden jewel...</td>\n",
       "      <td>/Restaurant_Review-g189852-d947615-Reviews-Sus...</td>\n",
       "      <td>d947615</td>\n",
       "    </tr>\n",
       "    <tr>\n",
       "      <th>39998</th>\n",
       "      <td>Warsaw</td>\n",
       "      <td>['Polish', 'European', 'Eastern European', 'Ce...</td>\n",
       "      <td>641</td>\n",
       "      <td>4.0</td>\n",
       "      <td>$$ - $$$</td>\n",
       "      <td>70.0</td>\n",
       "      <td>[['Underground restaurant', 'Oldest Restaurant...</td>\n",
       "      <td>/Restaurant_Review-g274856-d1100838-Reviews-Ho...</td>\n",
       "      <td>d1100838</td>\n",
       "    </tr>\n",
       "    <tr>\n",
       "      <th>39999</th>\n",
       "      <td>Milan</td>\n",
       "      <td>['Spanish']</td>\n",
       "      <td>4827</td>\n",
       "      <td>3.0</td>\n",
       "      <td>$$ - $$$</td>\n",
       "      <td>260.0</td>\n",
       "      <td>[['Average', 'Nice an informal'], ['01/31/2016...</td>\n",
       "      <td>/Restaurant_Review-g187849-d1109020-Reviews-Ta...</td>\n",
       "      <td>d1109020</td>\n",
       "    </tr>\n",
       "  </tbody>\n",
       "</table>\n",
       "<p>40000 rows × 9 columns</p>\n",
       "</div>"
      ],
      "text/plain": [
       "            city                                            cuisine  ranking  \\\n",
       "0          Paris            ['European', 'French', 'International']     5570   \n",
       "1      Stockholm                            ['European', 'Swedish']     1537   \n",
       "2         London  ['Japanese', 'Sushi', 'Asian', 'Grill', 'Veget...      353   \n",
       "3         Berlin                                        ['Italian']     3458   \n",
       "4         Munich  ['German', 'Central European', 'Vegetarian Fri...      621   \n",
       "...          ...                                                ...      ...   \n",
       "39995      Milan  ['Italian', 'Vegetarian Friendly', 'Vegan Opti...      500   \n",
       "39996      Paris  ['French', 'American', 'Bar', 'European', 'Veg...     6341   \n",
       "39997  Stockholm                              ['Japanese', 'Sushi']     1652   \n",
       "39998     Warsaw  ['Polish', 'European', 'Eastern European', 'Ce...      641   \n",
       "39999      Milan                                        ['Spanish']     4827   \n",
       "\n",
       "       rating price_range  reviews_amount  \\\n",
       "0         3.5    $$ - $$$           194.0   \n",
       "1         4.0         NaN            10.0   \n",
       "2         4.5        $$$$           688.0   \n",
       "3         5.0         NaN             3.0   \n",
       "4         4.0    $$ - $$$            84.0   \n",
       "...       ...         ...             ...   \n",
       "39995     4.5    $$ - $$$            79.0   \n",
       "39996     3.5    $$ - $$$           542.0   \n",
       "39997     4.5         NaN             4.0   \n",
       "39998     4.0    $$ - $$$            70.0   \n",
       "39999     3.0    $$ - $$$           260.0   \n",
       "\n",
       "                                                 reviews  \\\n",
       "0      [['Good food at your doorstep', 'A good hotel ...   \n",
       "1      [['Unique cuisine', 'Delicious Nepalese food']...   \n",
       "2      [['Catch up with friends', 'Not exceptional'],...   \n",
       "3                                               [[], []]   \n",
       "4      [['Best place to try a Bavarian food', 'Nice b...   \n",
       "...                                                  ...   \n",
       "39995  [['The real Italian experience!', 'Wonderful f...   \n",
       "39996  [['Parisian atmosphere', 'Bit pricey but inter...   \n",
       "39997  [['Good by swedish standards', 'A hidden jewel...   \n",
       "39998  [['Underground restaurant', 'Oldest Restaurant...   \n",
       "39999  [['Average', 'Nice an informal'], ['01/31/2016...   \n",
       "\n",
       "                                                  url_ta     id_ta  \n",
       "0      /Restaurant_Review-g187147-d1912643-Reviews-R_...  d1912643  \n",
       "1      /Restaurant_Review-g189852-d7992032-Reviews-Bu...  d7992032  \n",
       "2      /Restaurant_Review-g186338-d8632781-Reviews-RO...  d8632781  \n",
       "3      /Restaurant_Review-g187323-d1358776-Reviews-Es...  d1358776  \n",
       "4      /Restaurant_Review-g187309-d6864963-Reviews-Au...  d6864963  \n",
       "...                                                  ...       ...  \n",
       "39995  /Restaurant_Review-g187849-d2104414-Reviews-Ro...  d2104414  \n",
       "39996  /Restaurant_Review-g187147-d1800036-Reviews-La...  d1800036  \n",
       "39997  /Restaurant_Review-g189852-d947615-Reviews-Sus...   d947615  \n",
       "39998  /Restaurant_Review-g274856-d1100838-Reviews-Ho...  d1100838  \n",
       "39999  /Restaurant_Review-g187849-d1109020-Reviews-Ta...  d1109020  \n",
       "\n",
       "[40000 rows x 9 columns]"
      ]
     },
     "execution_count": 43,
     "metadata": {},
     "output_type": "execute_result"
    }
   ],
   "source": [
    "new_data"
   ]
  },
  {
   "cell_type": "markdown",
   "metadata": {},
   "source": [
    "Let's check this variable for some strange values (maybe outliers) by cities:"
   ]
  },
  {
   "cell_type": "code",
   "execution_count": 44,
   "metadata": {
    "ExecuteTime": {
     "end_time": "2020-08-21T14:48:34.309736Z",
     "start_time": "2020-08-21T14:48:34.269730Z"
    }
   },
   "outputs": [
    {
     "data": {
      "text/html": [
       "<div>\n",
       "<style scoped>\n",
       "    .dataframe tbody tr th:only-of-type {\n",
       "        vertical-align: middle;\n",
       "    }\n",
       "\n",
       "    .dataframe tbody tr th {\n",
       "        vertical-align: top;\n",
       "    }\n",
       "\n",
       "    .dataframe thead th {\n",
       "        text-align: right;\n",
       "    }\n",
       "</style>\n",
       "<table border=\"1\" class=\"dataframe\">\n",
       "  <thead>\n",
       "    <tr style=\"text-align: right;\">\n",
       "      <th></th>\n",
       "      <th>city</th>\n",
       "      <th>cuisine</th>\n",
       "      <th>ranking</th>\n",
       "      <th>rating</th>\n",
       "      <th>price_range</th>\n",
       "      <th>reviews_amount</th>\n",
       "      <th>reviews</th>\n",
       "      <th>url_ta</th>\n",
       "      <th>id_ta</th>\n",
       "    </tr>\n",
       "  </thead>\n",
       "  <tbody>\n",
       "    <tr>\n",
       "      <th>0</th>\n",
       "      <td>Paris</td>\n",
       "      <td>['European', 'French', 'International']</td>\n",
       "      <td>5570</td>\n",
       "      <td>3.5</td>\n",
       "      <td>$$ - $$$</td>\n",
       "      <td>194.0</td>\n",
       "      <td>[['Good food at your doorstep', 'A good hotel ...</td>\n",
       "      <td>/Restaurant_Review-g187147-d1912643-Reviews-R_...</td>\n",
       "      <td>d1912643</td>\n",
       "    </tr>\n",
       "    <tr>\n",
       "      <th>1</th>\n",
       "      <td>Stockholm</td>\n",
       "      <td>['European', 'Swedish']</td>\n",
       "      <td>1537</td>\n",
       "      <td>4.0</td>\n",
       "      <td>NaN</td>\n",
       "      <td>10.0</td>\n",
       "      <td>[['Unique cuisine', 'Delicious Nepalese food']...</td>\n",
       "      <td>/Restaurant_Review-g189852-d7992032-Reviews-Bu...</td>\n",
       "      <td>d7992032</td>\n",
       "    </tr>\n",
       "    <tr>\n",
       "      <th>2</th>\n",
       "      <td>London</td>\n",
       "      <td>['Japanese', 'Sushi', 'Asian', 'Grill', 'Veget...</td>\n",
       "      <td>353</td>\n",
       "      <td>4.5</td>\n",
       "      <td>$$$$</td>\n",
       "      <td>688.0</td>\n",
       "      <td>[['Catch up with friends', 'Not exceptional'],...</td>\n",
       "      <td>/Restaurant_Review-g186338-d8632781-Reviews-RO...</td>\n",
       "      <td>d8632781</td>\n",
       "    </tr>\n",
       "    <tr>\n",
       "      <th>3</th>\n",
       "      <td>Berlin</td>\n",
       "      <td>['Italian']</td>\n",
       "      <td>3458</td>\n",
       "      <td>5.0</td>\n",
       "      <td>NaN</td>\n",
       "      <td>3.0</td>\n",
       "      <td>[[], []]</td>\n",
       "      <td>/Restaurant_Review-g187323-d1358776-Reviews-Es...</td>\n",
       "      <td>d1358776</td>\n",
       "    </tr>\n",
       "    <tr>\n",
       "      <th>4</th>\n",
       "      <td>Munich</td>\n",
       "      <td>['German', 'Central European', 'Vegetarian Fri...</td>\n",
       "      <td>621</td>\n",
       "      <td>4.0</td>\n",
       "      <td>$$ - $$$</td>\n",
       "      <td>84.0</td>\n",
       "      <td>[['Best place to try a Bavarian food', 'Nice b...</td>\n",
       "      <td>/Restaurant_Review-g187309-d6864963-Reviews-Au...</td>\n",
       "      <td>d6864963</td>\n",
       "    </tr>\n",
       "    <tr>\n",
       "      <th>...</th>\n",
       "      <td>...</td>\n",
       "      <td>...</td>\n",
       "      <td>...</td>\n",
       "      <td>...</td>\n",
       "      <td>...</td>\n",
       "      <td>...</td>\n",
       "      <td>...</td>\n",
       "      <td>...</td>\n",
       "      <td>...</td>\n",
       "    </tr>\n",
       "    <tr>\n",
       "      <th>39995</th>\n",
       "      <td>Milan</td>\n",
       "      <td>['Italian', 'Vegetarian Friendly', 'Vegan Opti...</td>\n",
       "      <td>500</td>\n",
       "      <td>4.5</td>\n",
       "      <td>$$ - $$$</td>\n",
       "      <td>79.0</td>\n",
       "      <td>[['The real Italian experience!', 'Wonderful f...</td>\n",
       "      <td>/Restaurant_Review-g187849-d2104414-Reviews-Ro...</td>\n",
       "      <td>d2104414</td>\n",
       "    </tr>\n",
       "    <tr>\n",
       "      <th>39996</th>\n",
       "      <td>Paris</td>\n",
       "      <td>['French', 'American', 'Bar', 'European', 'Veg...</td>\n",
       "      <td>6341</td>\n",
       "      <td>3.5</td>\n",
       "      <td>$$ - $$$</td>\n",
       "      <td>542.0</td>\n",
       "      <td>[['Parisian atmosphere', 'Bit pricey but inter...</td>\n",
       "      <td>/Restaurant_Review-g187147-d1800036-Reviews-La...</td>\n",
       "      <td>d1800036</td>\n",
       "    </tr>\n",
       "    <tr>\n",
       "      <th>39997</th>\n",
       "      <td>Stockholm</td>\n",
       "      <td>['Japanese', 'Sushi']</td>\n",
       "      <td>1652</td>\n",
       "      <td>4.5</td>\n",
       "      <td>NaN</td>\n",
       "      <td>4.0</td>\n",
       "      <td>[['Good by swedish standards', 'A hidden jewel...</td>\n",
       "      <td>/Restaurant_Review-g189852-d947615-Reviews-Sus...</td>\n",
       "      <td>d947615</td>\n",
       "    </tr>\n",
       "    <tr>\n",
       "      <th>39998</th>\n",
       "      <td>Warsaw</td>\n",
       "      <td>['Polish', 'European', 'Eastern European', 'Ce...</td>\n",
       "      <td>641</td>\n",
       "      <td>4.0</td>\n",
       "      <td>$$ - $$$</td>\n",
       "      <td>70.0</td>\n",
       "      <td>[['Underground restaurant', 'Oldest Restaurant...</td>\n",
       "      <td>/Restaurant_Review-g274856-d1100838-Reviews-Ho...</td>\n",
       "      <td>d1100838</td>\n",
       "    </tr>\n",
       "    <tr>\n",
       "      <th>39999</th>\n",
       "      <td>Milan</td>\n",
       "      <td>['Spanish']</td>\n",
       "      <td>4827</td>\n",
       "      <td>3.0</td>\n",
       "      <td>$$ - $$$</td>\n",
       "      <td>260.0</td>\n",
       "      <td>[['Average', 'Nice an informal'], ['01/31/2016...</td>\n",
       "      <td>/Restaurant_Review-g187849-d1109020-Reviews-Ta...</td>\n",
       "      <td>d1109020</td>\n",
       "    </tr>\n",
       "  </tbody>\n",
       "</table>\n",
       "<p>40000 rows × 9 columns</p>\n",
       "</div>"
      ],
      "text/plain": [
       "            city                                            cuisine  ranking  \\\n",
       "0          Paris            ['European', 'French', 'International']     5570   \n",
       "1      Stockholm                            ['European', 'Swedish']     1537   \n",
       "2         London  ['Japanese', 'Sushi', 'Asian', 'Grill', 'Veget...      353   \n",
       "3         Berlin                                        ['Italian']     3458   \n",
       "4         Munich  ['German', 'Central European', 'Vegetarian Fri...      621   \n",
       "...          ...                                                ...      ...   \n",
       "39995      Milan  ['Italian', 'Vegetarian Friendly', 'Vegan Opti...      500   \n",
       "39996      Paris  ['French', 'American', 'Bar', 'European', 'Veg...     6341   \n",
       "39997  Stockholm                              ['Japanese', 'Sushi']     1652   \n",
       "39998     Warsaw  ['Polish', 'European', 'Eastern European', 'Ce...      641   \n",
       "39999      Milan                                        ['Spanish']     4827   \n",
       "\n",
       "       rating price_range  reviews_amount  \\\n",
       "0         3.5    $$ - $$$           194.0   \n",
       "1         4.0         NaN            10.0   \n",
       "2         4.5        $$$$           688.0   \n",
       "3         5.0         NaN             3.0   \n",
       "4         4.0    $$ - $$$            84.0   \n",
       "...       ...         ...             ...   \n",
       "39995     4.5    $$ - $$$            79.0   \n",
       "39996     3.5    $$ - $$$           542.0   \n",
       "39997     4.5         NaN             4.0   \n",
       "39998     4.0    $$ - $$$            70.0   \n",
       "39999     3.0    $$ - $$$           260.0   \n",
       "\n",
       "                                                 reviews  \\\n",
       "0      [['Good food at your doorstep', 'A good hotel ...   \n",
       "1      [['Unique cuisine', 'Delicious Nepalese food']...   \n",
       "2      [['Catch up with friends', 'Not exceptional'],...   \n",
       "3                                               [[], []]   \n",
       "4      [['Best place to try a Bavarian food', 'Nice b...   \n",
       "...                                                  ...   \n",
       "39995  [['The real Italian experience!', 'Wonderful f...   \n",
       "39996  [['Parisian atmosphere', 'Bit pricey but inter...   \n",
       "39997  [['Good by swedish standards', 'A hidden jewel...   \n",
       "39998  [['Underground restaurant', 'Oldest Restaurant...   \n",
       "39999  [['Average', 'Nice an informal'], ['01/31/2016...   \n",
       "\n",
       "                                                  url_ta     id_ta  \n",
       "0      /Restaurant_Review-g187147-d1912643-Reviews-R_...  d1912643  \n",
       "1      /Restaurant_Review-g189852-d7992032-Reviews-Bu...  d7992032  \n",
       "2      /Restaurant_Review-g186338-d8632781-Reviews-RO...  d8632781  \n",
       "3      /Restaurant_Review-g187323-d1358776-Reviews-Es...  d1358776  \n",
       "4      /Restaurant_Review-g187309-d6864963-Reviews-Au...  d6864963  \n",
       "...                                                  ...       ...  \n",
       "39995  /Restaurant_Review-g187849-d2104414-Reviews-Ro...  d2104414  \n",
       "39996  /Restaurant_Review-g187147-d1800036-Reviews-La...  d1800036  \n",
       "39997  /Restaurant_Review-g189852-d947615-Reviews-Sus...   d947615  \n",
       "39998  /Restaurant_Review-g274856-d1100838-Reviews-Ho...  d1100838  \n",
       "39999  /Restaurant_Review-g187849-d1109020-Reviews-Ta...  d1109020  \n",
       "\n",
       "[40000 rows x 9 columns]"
      ]
     },
     "execution_count": 44,
     "metadata": {},
     "output_type": "execute_result"
    }
   ],
   "source": [
    "new_data"
   ]
  },
  {
   "cell_type": "code",
   "execution_count": 45,
   "metadata": {
    "ExecuteTime": {
     "end_time": "2020-08-21T14:48:44.891733Z",
     "start_time": "2020-08-21T14:48:34.309736Z"
    }
   },
   "outputs": [
    {
     "data": {
      "image/png": "[encoded data removed]",
      "text/plain": [
       "<Figure size 720x360 with 1 Axes>"
      ]
     },
     "metadata": {},
     "output_type": "display_data"
    },
    {
     "data": {
      "image/png": "[encoded data removed]",
      "text/plain": [
       "<Figure size 720x360 with 1 Axes>"
      ]
     },
     "metadata": {},
     "output_type": "display_data"
    },
    {
     "data": {
      "image/png": "[encoded data removed]",
      "text/plain": [
       "<Figure size 720x360 with 1 Axes>"
      ]
     },
     "metadata": {},
     "output_type": "display_data"
    },
    {
     "data": {
      "image/png": "[encoded data removed]",
      "text/plain": [
       "<Figure size 720x360 with 1 Axes>"
      ]
     },
     "metadata": {},
     "output_type": "display_data"
    },
    {
     "data": {
      "image/png": "[encoded data removed]",
      "text/plain": [
       "<Figure size 720x360 with 1 Axes>"
      ]
     },
     "metadata": {},
     "output_type": "display_data"
    },
    {
     "data": {
      "image/png": "[encoded data removed]",
      "text/plain": [
       "<Figure size 720x360 with 1 Axes>"
      ]
     },
     "metadata": {},
     "output_type": "display_data"
    },
    {
     "data": {
      "image/png": "[encoded data removed]",
      "text/plain": [
       "<Figure size 720x360 with 1 Axes>"
      ]
     },
     "metadata": {},
     "output_type": "display_data"
    },
    {
     "data": {
      "image/png": "[encoded data removed]",
      "text/plain": [
       "<Figure size 720x360 with 1 Axes>"
      ]
     },
     "metadata": {},
     "output_type": "display_data"
    },
    {
     "data": {
      "image/png": "[encoded data removed]",
      "text/plain": [
       "<Figure size 720x360 with 1 Axes>"
      ]
     },
     "metadata": {},
     "output_type": "display_data"
    },
    {
     "data": {
      "image/png": "[encoded data removed]",
      "text/plain": [
       "<Figure size 720x360 with 1 Axes>"
      ]
     },
     "metadata": {},
     "output_type": "display_data"
    },
    {
     "data": {
      "image/png": "[encoded data removed]",
      "text/plain": [
       "<Figure size 720x360 with 1 Axes>"
      ]
     },
     "metadata": {},
     "output_type": "display_data"
    },
    {
     "data": {
      "image/png": "[encoded data removed]",
      "text/plain": [
       "<Figure size 720x360 with 1 Axes>"
      ]
     },
     "metadata": {},
     "output_type": "display_data"
    },
    {
     "data": {
      "image/png": "[encoded data removed]",
      "text/plain": [
       "<Figure size 720x360 with 1 Axes>"
      ]
     },
     "metadata": {},
     "output_type": "display_data"
    },
    {
     "data": {
      "image/png": "[encoded data removed]",
      "text/plain": [
       "<Figure size 720x360 with 1 Axes>"
      ]
     },
     "metadata": {},
     "output_type": "display_data"
    },
    {
     "data": {
      "image/png": "[encoded data removed]",
      "text/plain": [
       "<Figure size 720x360 with 1 Axes>"
      ]
     },
     "metadata": {},
     "output_type": "display_data"
    },
    {
     "data": {
      "image/png": "[encoded data removed]",
      "text/plain": [
       "<Figure size 720x360 with 1 Axes>"
      ]
     },
     "metadata": {},
     "output_type": "display_data"
    },
    {
     "data": {
      "image/png": "[encoded data removed]",
      "text/plain": [
       "<Figure size 720x360 with 1 Axes>"
      ]
     },
     "metadata": {},
     "output_type": "display_data"
    },
    {
     "data": {
      "image/png": "[encoded data removed]",
      "text/plain": [
       "<Figure size 720x360 with 1 Axes>"
      ]
     },
     "metadata": {},
     "output_type": "display_data"
    },
    {
     "data": {
      "image/png": "[encoded data removed]",
      "text/plain": [
       "<Figure size 720x360 with 1 Axes>"
      ]
     },
     "metadata": {},
     "output_type": "display_data"
    },
    {
     "data": {
      "image/png": "[encoded data removed]",
      "text/plain": [
       "<Figure size 720x360 with 1 Axes>"
      ]
     },
     "metadata": {},
     "output_type": "display_data"
    },
    {
     "data": {
      "image/png": "[encoded data removed]",
      "text/plain": [
       "<Figure size 720x360 with 1 Axes>"
      ]
     },
     "metadata": {},
     "output_type": "display_data"
    },
    {
     "data": {
      "image/png": "[encoded data removed]",
      "text/plain": [
       "<Figure size 720x360 with 1 Axes>"
      ]
     },
     "metadata": {},
     "output_type": "display_data"
    },
    {
     "data": {
      "image/png": "[encoded data removed]",
      "text/plain": [
       "<Figure size 720x360 with 1 Axes>"
      ]
     },
     "metadata": {},
     "output_type": "display_data"
    },
    {
     "data": {
      "image/png": "[encoded data removed]",
      "text/plain": [
       "<Figure size 720x360 with 1 Axes>"
      ]
     },
     "metadata": {},
     "output_type": "display_data"
    },
    {
     "data": {
      "image/png": "[encoded data removed]",
      "text/plain": [
       "<Figure size 720x360 with 1 Axes>"
      ]
     },
     "metadata": {},
     "output_type": "display_data"
    },
    {
     "data": {
      "image/png": "[encoded data removed]",
      "text/plain": [
       "<Figure size 720x360 with 1 Axes>"
      ]
     },
     "metadata": {},
     "output_type": "display_data"
    },
    {
     "data": {
      "image/png": "[encoded data removed]",
      "text/plain": [
       "<Figure size 720x360 with 1 Axes>"
      ]
     },
     "metadata": {},
     "output_type": "display_data"
    },
    {
     "data": {
      "image/png": "[encoded data removed]",
      "text/plain": [
       "<Figure size 720x360 with 1 Axes>"
      ]
     },
     "metadata": {},
     "output_type": "display_data"
    },
    {
     "data": {
      "image/png": "[encoded data removed]",
      "text/plain": [
       "<Figure size 720x360 with 1 Axes>"
      ]
     },
     "metadata": {},
     "output_type": "display_data"
    },
    {
     "data": {
      "image/png": "[encoded data removed]",
      "text/plain": [
       "<Figure size 720x360 with 1 Axes>"
      ]
     },
     "metadata": {},
     "output_type": "display_data"
    },
    {
     "data": {
      "image/png": "[encoded data removed]",
      "text/plain": [
       "<Figure size 720x360 with 1 Axes>"
      ]
     },
     "metadata": {},
     "output_type": "display_data"
    }
   ],
   "source": [
    "for city in new_data.city.unique():\n",
    "    fig, ax = plt.subplots(figsize=(10, 5))\n",
    "    sns.boxplot(new_data[new_data['city'] == city]['ranking'])\n",
    "    ax.set_title(f'Boxplot for {city} restaurants ranking', size=15)"
   ]
  },
  {
   "cell_type": "code",
   "execution_count": 46,
   "metadata": {
    "ExecuteTime": {
     "end_time": "2020-08-21T14:48:44.907884Z",
     "start_time": "2020-08-21T14:48:44.891733Z"
    }
   },
   "outputs": [
    {
     "name": "stdout",
     "output_type": "stream",
     "text": [
      "Number of zero ranks: 0\n"
     ]
    }
   ],
   "source": [
    "print(f'Number of zero ranks: {(new_data.ranking == 0).sum()}')"
   ]
  },
  {
   "cell_type": "markdown",
   "metadata": {},
   "source": [
    "So, these are ranks and they seem to be quite adequate."
   ]
  },
  {
   "cell_type": "markdown",
   "metadata": {},
   "source": [
    "## Rating (!)"
   ]
  },
  {
   "cell_type": "code",
   "execution_count": 47,
   "metadata": {
    "ExecuteTime": {
     "end_time": "2020-08-21T14:48:44.967087Z",
     "start_time": "2020-08-21T14:48:44.912167Z"
    }
   },
   "outputs": [
    {
     "name": "stdout",
     "output_type": "stream",
     "text": [
      "<class 'pandas.core.frame.DataFrame'>\n",
      "RangeIndex: 40000 entries, 0 to 39999\n",
      "Data columns (total 9 columns):\n",
      " #   Column          Non-Null Count  Dtype  \n",
      "---  ------          --------------  -----  \n",
      " 0   city            40000 non-null  object \n",
      " 1   cuisine         40000 non-null  object \n",
      " 2   ranking         40000 non-null  int32  \n",
      " 3   rating          40000 non-null  float64\n",
      " 4   price_range     26114 non-null  object \n",
      " 5   reviews_amount  37457 non-null  float64\n",
      " 6   reviews         40000 non-null  object \n",
      " 7   url_ta          40000 non-null  object \n",
      " 8   id_ta           40000 non-null  object \n",
      "dtypes: float64(2), int32(1), object(6)\n",
      "memory usage: 2.6+ MB\n"
     ]
    }
   ],
   "source": [
    "new_data.info()"
   ]
  },
  {
   "cell_type": "code",
   "execution_count": 48,
   "metadata": {
    "ExecuteTime": {
     "end_time": "2020-08-21T14:48:44.983092Z",
     "start_time": "2020-08-21T14:48:44.967087Z"
    },
    "scrolled": true
   },
   "outputs": [
    {
     "name": "stdout",
     "output_type": "stream",
     "text": [
      "Number of unique values for 'rating' column: 9\n",
      "\n",
      "Unique values in 'rating' column:\n",
      " [3.5 4.  4.5 5.  3.  2.5 2.  1.  1.5]\n"
     ]
    }
   ],
   "source": [
    "show_unique('rating')"
   ]
  },
  {
   "cell_type": "code",
   "execution_count": 49,
   "metadata": {
    "ExecuteTime": {
     "end_time": "2020-08-21T14:48:45.536358Z",
     "start_time": "2020-08-21T14:48:44.983092Z"
    }
   },
   "outputs": [
    {
     "data": {
      "text/plain": [
       "Text(0.5, 1.0, 'Rating distribution')"
      ]
     },
     "execution_count": 49,
     "metadata": {},
     "output_type": "execute_result"
    },
    {
     "data": {
      "image/png": "[encoded data removed]",
      "text/plain": [
       "<Figure size 720x288 with 1 Axes>"
      ]
     },
     "metadata": {},
     "output_type": "display_data"
    }
   ],
   "source": [
    "fig, ax = plt.subplots(figsize=(10, 4))\n",
    "new_data.rating.plot(kind='hist')\n",
    "\n",
    "plt.yticks(size=15)\n",
    "plt.xticks(size=15)\n",
    "ax.set_ylabel('Frequency', size=20)\n",
    "ax.set_xlabel('Rating', size=20)\n",
    "ax.set_title('Rating distribution', size=20)"
   ]
  },
  {
   "cell_type": "code",
   "execution_count": 50,
   "metadata": {
    "ExecuteTime": {
     "end_time": "2020-08-21T14:48:46.011760Z",
     "start_time": "2020-08-21T14:48:45.536358Z"
    },
    "scrolled": false
   },
   "outputs": [
    {
     "data": {
      "text/plain": [
       "Text(0.5, 1.0, 'Boxplot for rating')"
      ]
     },
     "execution_count": 50,
     "metadata": {},
     "output_type": "execute_result"
    },
    {
     "data": {
      "image/png": "[encoded data removed]",
      "text/plain": [
       "<Figure size 720x360 with 1 Axes>"
      ]
     },
     "metadata": {},
     "output_type": "display_data"
    }
   ],
   "source": [
    "fig, ax = plt.subplots(figsize=(10, 5))\n",
    "sns.boxplot(new_data.rating)\n",
    "ax.set_title(f'Boxplot for rating', size=15)"
   ]
  },
  {
   "cell_type": "markdown",
   "metadata": {},
   "source": [
    "It is noticable that **rating has approximately normal distribution** provided that there are no values less than **3.0**.\n",
    "\n",
    "Let's check the normality of its distribution using QQ-Plot:"
   ]
  },
  {
   "cell_type": "code",
   "execution_count": 51,
   "metadata": {
    "ExecuteTime": {
     "end_time": "2020-08-21T14:48:46.711561Z",
     "start_time": "2020-08-21T14:48:46.011760Z"
    },
    "scrolled": true
   },
   "outputs": [
    {
     "data": {
      "image/png": "[encoded data removed]",
      "text/plain": [
       "<Figure size 432x288 with 1 Axes>"
      ]
     },
     "metadata": {},
     "output_type": "display_data"
    }
   ],
   "source": [
    "sm.qqplot(new_data[new_data.rating > 2.5].rating, stats.norm, fit=True, line='45')\n",
    "plt.show()"
   ]
  },
  {
   "cell_type": "code",
   "execution_count": 52,
   "metadata": {
    "ExecuteTime": {
     "end_time": "2020-08-21T14:48:46.744036Z",
     "start_time": "2020-08-21T14:48:46.711561Z"
    }
   },
   "outputs": [
    {
     "name": "stdout",
     "output_type": "stream",
     "text": [
      "There are 1721 outliers in \"rating\" column\n"
     ]
    }
   ],
   "source": [
    "print(f'There are {(new_data.rating < 3).sum()} outliers in \"rating\" column')"
   ]
  },
  {
   "cell_type": "markdown",
   "metadata": {},
   "source": [
    "Since the amount of outliers is not huge, we can deal with them by deleting them:"
   ]
  },
  {
   "cell_type": "code",
   "execution_count": 53,
   "metadata": {
    "ExecuteTime": {
     "end_time": "2020-08-21T14:48:46.805643Z",
     "start_time": "2020-08-21T14:48:46.744036Z"
    }
   },
   "outputs": [],
   "source": [
    "new_data.rating = new_data.rating.apply(lambda x: np.nan if x < 3 else x)"
   ]
  },
  {
   "cell_type": "code",
   "execution_count": 54,
   "metadata": {
    "ExecuteTime": {
     "end_time": "2020-08-21T14:48:47.281766Z",
     "start_time": "2020-08-21T14:48:46.821646Z"
    }
   },
   "outputs": [
    {
     "data": {
      "text/plain": [
       "<matplotlib.axes._subplots.AxesSubplot at 0x21106adc108>"
      ]
     },
     "execution_count": 54,
     "metadata": {},
     "output_type": "execute_result"
    },
    {
     "data": {
      "image/png": "[encoded data removed]",
      "text/plain": [
       "<Figure size 432x288 with 1 Axes>"
      ]
     },
     "metadata": {},
     "output_type": "display_data"
    }
   ],
   "source": [
    "new_data.rating.plot(kind='hist', bins=5)"
   ]
  },
  {
   "cell_type": "code",
   "execution_count": 55,
   "metadata": {
    "ExecuteTime": {
     "end_time": "2020-08-21T14:48:47.329788Z",
     "start_time": "2020-08-21T14:48:47.289772Z"
    }
   },
   "outputs": [
    {
     "name": "stdout",
     "output_type": "stream",
     "text": [
      "<class 'pandas.core.frame.DataFrame'>\n",
      "RangeIndex: 40000 entries, 0 to 39999\n",
      "Data columns (total 9 columns):\n",
      " #   Column          Non-Null Count  Dtype  \n",
      "---  ------          --------------  -----  \n",
      " 0   city            40000 non-null  object \n",
      " 1   cuisine         40000 non-null  object \n",
      " 2   ranking         40000 non-null  int32  \n",
      " 3   rating          38279 non-null  float64\n",
      " 4   price_range     26114 non-null  object \n",
      " 5   reviews_amount  37457 non-null  float64\n",
      " 6   reviews         40000 non-null  object \n",
      " 7   url_ta          40000 non-null  object \n",
      " 8   id_ta           40000 non-null  object \n",
      "dtypes: float64(2), int32(1), object(6)\n",
      "memory usage: 2.6+ MB\n"
     ]
    }
   ],
   "source": [
    "new_data.info()"
   ]
  },
  {
   "cell_type": "code",
   "execution_count": null,
   "metadata": {},
   "outputs": [],
   "source": []
  },
  {
   "cell_type": "code",
   "execution_count": null,
   "metadata": {},
   "outputs": [],
   "source": []
  },
  {
   "cell_type": "markdown",
   "metadata": {},
   "source": [
    "Despite the fact that according to IQR values **1** and **1.5** are considered as outliers they are actually not. If we go to [TripAdvisor](https://www.tripadvisor.com/), we can get convinced that these values are absolutely normal, probably, they are just rare."
   ]
  },
  {
   "cell_type": "markdown",
   "metadata": {},
   "source": [
    "## Price range"
   ]
  },
  {
   "cell_type": "code",
   "execution_count": 56,
   "metadata": {
    "ExecuteTime": {
     "end_time": "2020-08-21T14:48:47.345782Z",
     "start_time": "2020-08-21T14:48:47.329788Z"
    }
   },
   "outputs": [
    {
     "name": "stdout",
     "output_type": "stream",
     "text": [
      "Number of unique values for 'price_range' column: 3\n",
      "\n",
      "Unique values in 'price_range' column:\n",
      " ['$$ - $$$' nan '$$$$' '$']\n"
     ]
    }
   ],
   "source": [
    "show_unique('price_range')"
   ]
  },
  {
   "cell_type": "markdown",
   "metadata": {
    "ExecuteTime": {
     "end_time": "2020-08-19T10:35:26.752030Z",
     "start_time": "2020-08-19T10:35:26.744034Z"
    }
   },
   "source": [
    "It is better to create some comprehensible categories like this:"
   ]
  },
  {
   "cell_type": "code",
   "execution_count": 57,
   "metadata": {
    "ExecuteTime": {
     "end_time": "2020-08-21T14:48:47.401795Z",
     "start_time": "2020-08-21T14:48:47.345782Z"
    },
    "scrolled": false
   },
   "outputs": [
    {
     "data": {
      "text/html": [
       "<div>\n",
       "<style scoped>\n",
       "    .dataframe tbody tr th:only-of-type {\n",
       "        vertical-align: middle;\n",
       "    }\n",
       "\n",
       "    .dataframe tbody tr th {\n",
       "        vertical-align: top;\n",
       "    }\n",
       "\n",
       "    .dataframe thead th {\n",
       "        text-align: right;\n",
       "    }\n",
       "</style>\n",
       "<table border=\"1\" class=\"dataframe\">\n",
       "  <thead>\n",
       "    <tr style=\"text-align: right;\">\n",
       "      <th></th>\n",
       "      <th>city</th>\n",
       "      <th>cuisine</th>\n",
       "      <th>ranking</th>\n",
       "      <th>rating</th>\n",
       "      <th>price_range</th>\n",
       "      <th>reviews_amount</th>\n",
       "      <th>reviews</th>\n",
       "      <th>url_ta</th>\n",
       "      <th>id_ta</th>\n",
       "    </tr>\n",
       "  </thead>\n",
       "  <tbody>\n",
       "    <tr>\n",
       "      <th>0</th>\n",
       "      <td>Paris</td>\n",
       "      <td>['European', 'French', 'International']</td>\n",
       "      <td>5570</td>\n",
       "      <td>3.5</td>\n",
       "      <td>medium</td>\n",
       "      <td>194.0</td>\n",
       "      <td>[['Good food at your doorstep', 'A good hotel ...</td>\n",
       "      <td>/Restaurant_Review-g187147-d1912643-Reviews-R_...</td>\n",
       "      <td>d1912643</td>\n",
       "    </tr>\n",
       "    <tr>\n",
       "      <th>1</th>\n",
       "      <td>Stockholm</td>\n",
       "      <td>['European', 'Swedish']</td>\n",
       "      <td>1537</td>\n",
       "      <td>4.0</td>\n",
       "      <td>NaN</td>\n",
       "      <td>10.0</td>\n",
       "      <td>[['Unique cuisine', 'Delicious Nepalese food']...</td>\n",
       "      <td>/Restaurant_Review-g189852-d7992032-Reviews-Bu...</td>\n",
       "      <td>d7992032</td>\n",
       "    </tr>\n",
       "    <tr>\n",
       "      <th>2</th>\n",
       "      <td>London</td>\n",
       "      <td>['Japanese', 'Sushi', 'Asian', 'Grill', 'Veget...</td>\n",
       "      <td>353</td>\n",
       "      <td>4.5</td>\n",
       "      <td>high</td>\n",
       "      <td>688.0</td>\n",
       "      <td>[['Catch up with friends', 'Not exceptional'],...</td>\n",
       "      <td>/Restaurant_Review-g186338-d8632781-Reviews-RO...</td>\n",
       "      <td>d8632781</td>\n",
       "    </tr>\n",
       "    <tr>\n",
       "      <th>3</th>\n",
       "      <td>Berlin</td>\n",
       "      <td>['Italian']</td>\n",
       "      <td>3458</td>\n",
       "      <td>5.0</td>\n",
       "      <td>NaN</td>\n",
       "      <td>3.0</td>\n",
       "      <td>[[], []]</td>\n",
       "      <td>/Restaurant_Review-g187323-d1358776-Reviews-Es...</td>\n",
       "      <td>d1358776</td>\n",
       "    </tr>\n",
       "    <tr>\n",
       "      <th>4</th>\n",
       "      <td>Munich</td>\n",
       "      <td>['German', 'Central European', 'Vegetarian Fri...</td>\n",
       "      <td>621</td>\n",
       "      <td>4.0</td>\n",
       "      <td>medium</td>\n",
       "      <td>84.0</td>\n",
       "      <td>[['Best place to try a Bavarian food', 'Nice b...</td>\n",
       "      <td>/Restaurant_Review-g187309-d6864963-Reviews-Au...</td>\n",
       "      <td>d6864963</td>\n",
       "    </tr>\n",
       "    <tr>\n",
       "      <th>...</th>\n",
       "      <td>...</td>\n",
       "      <td>...</td>\n",
       "      <td>...</td>\n",
       "      <td>...</td>\n",
       "      <td>...</td>\n",
       "      <td>...</td>\n",
       "      <td>...</td>\n",
       "      <td>...</td>\n",
       "      <td>...</td>\n",
       "    </tr>\n",
       "    <tr>\n",
       "      <th>39995</th>\n",
       "      <td>Milan</td>\n",
       "      <td>['Italian', 'Vegetarian Friendly', 'Vegan Opti...</td>\n",
       "      <td>500</td>\n",
       "      <td>4.5</td>\n",
       "      <td>medium</td>\n",
       "      <td>79.0</td>\n",
       "      <td>[['The real Italian experience!', 'Wonderful f...</td>\n",
       "      <td>/Restaurant_Review-g187849-d2104414-Reviews-Ro...</td>\n",
       "      <td>d2104414</td>\n",
       "    </tr>\n",
       "    <tr>\n",
       "      <th>39996</th>\n",
       "      <td>Paris</td>\n",
       "      <td>['French', 'American', 'Bar', 'European', 'Veg...</td>\n",
       "      <td>6341</td>\n",
       "      <td>3.5</td>\n",
       "      <td>medium</td>\n",
       "      <td>542.0</td>\n",
       "      <td>[['Parisian atmosphere', 'Bit pricey but inter...</td>\n",
       "      <td>/Restaurant_Review-g187147-d1800036-Reviews-La...</td>\n",
       "      <td>d1800036</td>\n",
       "    </tr>\n",
       "    <tr>\n",
       "      <th>39997</th>\n",
       "      <td>Stockholm</td>\n",
       "      <td>['Japanese', 'Sushi']</td>\n",
       "      <td>1652</td>\n",
       "      <td>4.5</td>\n",
       "      <td>NaN</td>\n",
       "      <td>4.0</td>\n",
       "      <td>[['Good by swedish standards', 'A hidden jewel...</td>\n",
       "      <td>/Restaurant_Review-g189852-d947615-Reviews-Sus...</td>\n",
       "      <td>d947615</td>\n",
       "    </tr>\n",
       "    <tr>\n",
       "      <th>39998</th>\n",
       "      <td>Warsaw</td>\n",
       "      <td>['Polish', 'European', 'Eastern European', 'Ce...</td>\n",
       "      <td>641</td>\n",
       "      <td>4.0</td>\n",
       "      <td>medium</td>\n",
       "      <td>70.0</td>\n",
       "      <td>[['Underground restaurant', 'Oldest Restaurant...</td>\n",
       "      <td>/Restaurant_Review-g274856-d1100838-Reviews-Ho...</td>\n",
       "      <td>d1100838</td>\n",
       "    </tr>\n",
       "    <tr>\n",
       "      <th>39999</th>\n",
       "      <td>Milan</td>\n",
       "      <td>['Spanish']</td>\n",
       "      <td>4827</td>\n",
       "      <td>3.0</td>\n",
       "      <td>medium</td>\n",
       "      <td>260.0</td>\n",
       "      <td>[['Average', 'Nice an informal'], ['01/31/2016...</td>\n",
       "      <td>/Restaurant_Review-g187849-d1109020-Reviews-Ta...</td>\n",
       "      <td>d1109020</td>\n",
       "    </tr>\n",
       "  </tbody>\n",
       "</table>\n",
       "<p>40000 rows × 9 columns</p>\n",
       "</div>"
      ],
      "text/plain": [
       "            city                                            cuisine  ranking  \\\n",
       "0          Paris            ['European', 'French', 'International']     5570   \n",
       "1      Stockholm                            ['European', 'Swedish']     1537   \n",
       "2         London  ['Japanese', 'Sushi', 'Asian', 'Grill', 'Veget...      353   \n",
       "3         Berlin                                        ['Italian']     3458   \n",
       "4         Munich  ['German', 'Central European', 'Vegetarian Fri...      621   \n",
       "...          ...                                                ...      ...   \n",
       "39995      Milan  ['Italian', 'Vegetarian Friendly', 'Vegan Opti...      500   \n",
       "39996      Paris  ['French', 'American', 'Bar', 'European', 'Veg...     6341   \n",
       "39997  Stockholm                              ['Japanese', 'Sushi']     1652   \n",
       "39998     Warsaw  ['Polish', 'European', 'Eastern European', 'Ce...      641   \n",
       "39999      Milan                                        ['Spanish']     4827   \n",
       "\n",
       "       rating price_range  reviews_amount  \\\n",
       "0         3.5      medium           194.0   \n",
       "1         4.0         NaN            10.0   \n",
       "2         4.5        high           688.0   \n",
       "3         5.0         NaN             3.0   \n",
       "4         4.0      medium            84.0   \n",
       "...       ...         ...             ...   \n",
       "39995     4.5      medium            79.0   \n",
       "39996     3.5      medium           542.0   \n",
       "39997     4.5         NaN             4.0   \n",
       "39998     4.0      medium            70.0   \n",
       "39999     3.0      medium           260.0   \n",
       "\n",
       "                                                 reviews  \\\n",
       "0      [['Good food at your doorstep', 'A good hotel ...   \n",
       "1      [['Unique cuisine', 'Delicious Nepalese food']...   \n",
       "2      [['Catch up with friends', 'Not exceptional'],...   \n",
       "3                                               [[], []]   \n",
       "4      [['Best place to try a Bavarian food', 'Nice b...   \n",
       "...                                                  ...   \n",
       "39995  [['The real Italian experience!', 'Wonderful f...   \n",
       "39996  [['Parisian atmosphere', 'Bit pricey but inter...   \n",
       "39997  [['Good by swedish standards', 'A hidden jewel...   \n",
       "39998  [['Underground restaurant', 'Oldest Restaurant...   \n",
       "39999  [['Average', 'Nice an informal'], ['01/31/2016...   \n",
       "\n",
       "                                                  url_ta     id_ta  \n",
       "0      /Restaurant_Review-g187147-d1912643-Reviews-R_...  d1912643  \n",
       "1      /Restaurant_Review-g189852-d7992032-Reviews-Bu...  d7992032  \n",
       "2      /Restaurant_Review-g186338-d8632781-Reviews-RO...  d8632781  \n",
       "3      /Restaurant_Review-g187323-d1358776-Reviews-Es...  d1358776  \n",
       "4      /Restaurant_Review-g187309-d6864963-Reviews-Au...  d6864963  \n",
       "...                                                  ...       ...  \n",
       "39995  /Restaurant_Review-g187849-d2104414-Reviews-Ro...  d2104414  \n",
       "39996  /Restaurant_Review-g187147-d1800036-Reviews-La...  d1800036  \n",
       "39997  /Restaurant_Review-g189852-d947615-Reviews-Sus...   d947615  \n",
       "39998  /Restaurant_Review-g274856-d1100838-Reviews-Ho...  d1100838  \n",
       "39999  /Restaurant_Review-g187849-d1109020-Reviews-Ta...  d1109020  \n",
       "\n",
       "[40000 rows x 9 columns]"
      ]
     },
     "execution_count": 57,
     "metadata": {},
     "output_type": "execute_result"
    }
   ],
   "source": [
    "new_data.price_range = new_data.price_range.map({'$': 'low', '$$ - $$$': 'medium', '$$$$': 'high'}, na_action='ignore')\n",
    "new_data"
   ]
  },
  {
   "cell_type": "code",
   "execution_count": 58,
   "metadata": {
    "ExecuteTime": {
     "end_time": "2020-08-21T14:48:47.417802Z",
     "start_time": "2020-08-21T14:48:47.401795Z"
    }
   },
   "outputs": [
    {
     "name": "stdout",
     "output_type": "stream",
     "text": [
      "Number of missing values for 'price range' column: 13886\n"
     ]
    }
   ],
   "source": [
    "print(f\"Number of missing values for 'price range' column: {new_data.price_range.isna().sum()}\")"
   ]
  },
  {
   "cell_type": "markdown",
   "metadata": {},
   "source": [
    "What if the price range can be defined by the mean amount of reviews? Let's try to figure out if there are statistically significant differences:"
   ]
  },
  {
   "cell_type": "code",
   "execution_count": 59,
   "metadata": {
    "ExecuteTime": {
     "end_time": "2020-08-21T14:48:47.465842Z",
     "start_time": "2020-08-21T14:48:47.417802Z"
    },
    "scrolled": false
   },
   "outputs": [
    {
     "name": "stdout",
     "output_type": "stream",
     "text": [
      "Mean amount of reviews for category 'high': 310.5995575221239\n",
      "Mean amount of reviews for category 'low': 87.78434268833087\n",
      "Mean amount of reviews for category 'medium': 172.31140568903618\n"
     ]
    }
   ],
   "source": [
    "for value in sorted(new_data.price_range.dropna().unique()):\n",
    "    print(f\"Mean amount of reviews for category '{value}': {new_data[(new_data.price_range == value) & (new_data.reviews_amount < 2000)].reviews_amount.mean()}\")"
   ]
  },
  {
   "cell_type": "markdown",
   "metadata": {},
   "source": [
    "So, probably, the more expensive the restaurant is, the more reviews it has. Let's check amount of reviews for normal distribution:"
   ]
  },
  {
   "cell_type": "code",
   "execution_count": 60,
   "metadata": {
    "ExecuteTime": {
     "end_time": "2020-08-21T14:48:48.148078Z",
     "start_time": "2020-08-21T14:48:47.465842Z"
    }
   },
   "outputs": [
    {
     "data": {
      "text/plain": [
       "Text(0.5, 1.0, 'Reviews amount distribution')"
      ]
     },
     "execution_count": 60,
     "metadata": {},
     "output_type": "execute_result"
    },
    {
     "data": {
      "image/png": "[encoded data removed]",
      "text/plain": [
       "<Figure size 1008x504 with 1 Axes>"
      ]
     },
     "metadata": {},
     "output_type": "display_data"
    }
   ],
   "source": [
    "fig, ax = plt.subplots(figsize=(14, 7))\n",
    "new_data.reviews_amount.plot(kind='hist', bins=100)\n",
    "\n",
    "ax.set_title('Reviews amount distribution', size=15)"
   ]
  },
  {
   "cell_type": "code",
   "execution_count": 61,
   "metadata": {
    "ExecuteTime": {
     "end_time": "2020-08-21T14:48:48.633986Z",
     "start_time": "2020-08-21T14:48:48.148078Z"
    }
   },
   "outputs": [
    {
     "data": {
      "text/plain": [
       "Text(0.5, 1.0, 'Boxplot for amount of reviews')"
      ]
     },
     "execution_count": 61,
     "metadata": {},
     "output_type": "execute_result"
    },
    {
     "data": {
      "image/png": "[encoded data removed]",
      "text/plain": [
       "<Figure size 1008x504 with 1 Axes>"
      ]
     },
     "metadata": {},
     "output_type": "display_data"
    }
   ],
   "source": [
    "fig, ax = plt.subplots(figsize=(14, 7))\n",
    "sns.boxplot(x='reviews_amount', data=new_data)\n",
    "\n",
    "ax.set_title('Boxplot for amount of reviews', size=15)"
   ]
  },
  {
   "cell_type": "code",
   "execution_count": 62,
   "metadata": {
    "ExecuteTime": {
     "end_time": "2020-08-21T14:48:48.649507Z",
     "start_time": "2020-08-21T14:48:48.633986Z"
    }
   },
   "outputs": [
    {
     "name": "stdout",
     "output_type": "stream",
     "text": [
      "Amount of reviews > 2000: 140 observations\n"
     ]
    }
   ],
   "source": [
    "print(f'Amount of reviews > 2000: {new_data[new_data.reviews_amount > 2000].reviews_amount.count()} observations')"
   ]
  },
  {
   "cell_type": "markdown",
   "metadata": {},
   "source": [
    "So this is not even close to normal distribution. That is why it is better to use Mann-Whitney rank test rather than Student's t-test.\n",
    "\n",
    "I will conduct this test two times: one for the whole dataset and another one for those restaurants which have less than 2000 reviews."
   ]
  },
  {
   "cell_type": "code",
   "execution_count": 63,
   "metadata": {
    "ExecuteTime": {
     "end_time": "2020-08-21T14:48:48.747124Z",
     "start_time": "2020-08-21T14:48:48.652626Z"
    },
    "scrolled": true
   },
   "outputs": [
    {
     "name": "stdout",
     "output_type": "stream",
     "text": [
      "Significant differences were found between groups ('high', 'low')\n",
      "Significant differences were found between groups ('high', 'medium')\n",
      "Significant differences were found between groups ('low', 'medium')\n"
     ]
    }
   ],
   "source": [
    "for pair in combinations(sorted(new_data.price_range.dropna().unique()), 2):\n",
    "    p_value = scipy.stats.mannwhitneyu(new_data[new_data.price_range == pair[0]].reviews_amount,\n",
    "                                       new_data[new_data.price_range == pair[1]].reviews_amount).pvalue / 3\n",
    "    if p_value < 0.05:\n",
    "        print(f'Significant differences were found between groups {pair}')"
   ]
  },
  {
   "cell_type": "code",
   "execution_count": 64,
   "metadata": {
    "ExecuteTime": {
     "end_time": "2020-08-21T14:48:48.835131Z",
     "start_time": "2020-08-21T14:48:48.747124Z"
    }
   },
   "outputs": [
    {
     "name": "stdout",
     "output_type": "stream",
     "text": [
      "Significant differences were found between groups ('high', 'low')\n",
      "Significant differences were found between groups ('high', 'medium')\n",
      "Significant differences were found between groups ('low', 'medium')\n"
     ]
    }
   ],
   "source": [
    "no_outliers = new_data[new_data.reviews_amount < 2000]\n",
    "for pair in combinations(sorted(new_data.price_range.dropna().unique()), 2):\n",
    "    p_value = scipy.stats.mannwhitneyu(no_outliers[no_outliers.price_range == pair[0]].reviews_amount,\n",
    "                                       no_outliers[no_outliers.price_range == pair[1]].reviews_amount).pvalue / 3\n",
    "    if p_value < 0.05:\n",
    "        print(f'Significant differences were found between groups {pair}')"
   ]
  },
  {
   "cell_type": "markdown",
   "metadata": {},
   "source": [
    "Since with 95% confidence we can assert that there are statistically significant differences in amount of reviews for different price ranges, let's try to fill missing values in 'price_range' column according to mean amounts of reviews:\n"
   ]
  },
  {
   "cell_type": "code",
   "execution_count": 65,
   "metadata": {
    "ExecuteTime": {
     "end_time": "2020-08-21T14:48:48.859136Z",
     "start_time": "2020-08-21T14:48:48.835131Z"
    }
   },
   "outputs": [],
   "source": [
    "mean_1 = new_data[new_data.price_range == '1'].reviews_amount.mean()\n",
    "mean_2 = new_data[new_data.price_range == '2'].reviews_amount.mean()\n",
    "\n",
    "def fill_price(row):\n",
    "    if pd.isna(row['price_range']) and not pd.isna(row['reviews_amount']):\n",
    "        if row['reviews_amount'] <= mean_1:\n",
    "            row['price_range'] = 'low'\n",
    "        elif row['reviews_amount'] <= mean_2:\n",
    "            row['price_range'] = 'medium'\n",
    "        else:\n",
    "            row['price_range'] = 'high'\n",
    "        \n",
    "    return row"
   ]
  },
  {
   "cell_type": "code",
   "execution_count": 66,
   "metadata": {
    "ExecuteTime": {
     "end_time": "2020-08-21T14:48:57.995186Z",
     "start_time": "2020-08-21T14:48:48.859136Z"
    }
   },
   "outputs": [
    {
     "data": {
      "text/html": [
       "<div>\n",
       "<style scoped>\n",
       "    .dataframe tbody tr th:only-of-type {\n",
       "        vertical-align: middle;\n",
       "    }\n",
       "\n",
       "    .dataframe tbody tr th {\n",
       "        vertical-align: top;\n",
       "    }\n",
       "\n",
       "    .dataframe thead th {\n",
       "        text-align: right;\n",
       "    }\n",
       "</style>\n",
       "<table border=\"1\" class=\"dataframe\">\n",
       "  <thead>\n",
       "    <tr style=\"text-align: right;\">\n",
       "      <th></th>\n",
       "      <th>city</th>\n",
       "      <th>cuisine</th>\n",
       "      <th>ranking</th>\n",
       "      <th>rating</th>\n",
       "      <th>price_range</th>\n",
       "      <th>reviews_amount</th>\n",
       "      <th>reviews</th>\n",
       "      <th>url_ta</th>\n",
       "      <th>id_ta</th>\n",
       "    </tr>\n",
       "  </thead>\n",
       "  <tbody>\n",
       "    <tr>\n",
       "      <th>0</th>\n",
       "      <td>Paris</td>\n",
       "      <td>['European', 'French', 'International']</td>\n",
       "      <td>5570</td>\n",
       "      <td>3.5</td>\n",
       "      <td>medium</td>\n",
       "      <td>194.0</td>\n",
       "      <td>[['Good food at your doorstep', 'A good hotel ...</td>\n",
       "      <td>/Restaurant_Review-g187147-d1912643-Reviews-R_...</td>\n",
       "      <td>d1912643</td>\n",
       "    </tr>\n",
       "    <tr>\n",
       "      <th>1</th>\n",
       "      <td>Stockholm</td>\n",
       "      <td>['European', 'Swedish']</td>\n",
       "      <td>1537</td>\n",
       "      <td>4.0</td>\n",
       "      <td>high</td>\n",
       "      <td>10.0</td>\n",
       "      <td>[['Unique cuisine', 'Delicious Nepalese food']...</td>\n",
       "      <td>/Restaurant_Review-g189852-d7992032-Reviews-Bu...</td>\n",
       "      <td>d7992032</td>\n",
       "    </tr>\n",
       "    <tr>\n",
       "      <th>2</th>\n",
       "      <td>London</td>\n",
       "      <td>['Japanese', 'Sushi', 'Asian', 'Grill', 'Veget...</td>\n",
       "      <td>353</td>\n",
       "      <td>4.5</td>\n",
       "      <td>high</td>\n",
       "      <td>688.0</td>\n",
       "      <td>[['Catch up with friends', 'Not exceptional'],...</td>\n",
       "      <td>/Restaurant_Review-g186338-d8632781-Reviews-RO...</td>\n",
       "      <td>d8632781</td>\n",
       "    </tr>\n",
       "    <tr>\n",
       "      <th>3</th>\n",
       "      <td>Berlin</td>\n",
       "      <td>['Italian']</td>\n",
       "      <td>3458</td>\n",
       "      <td>5.0</td>\n",
       "      <td>high</td>\n",
       "      <td>3.0</td>\n",
       "      <td>[[], []]</td>\n",
       "      <td>/Restaurant_Review-g187323-d1358776-Reviews-Es...</td>\n",
       "      <td>d1358776</td>\n",
       "    </tr>\n",
       "    <tr>\n",
       "      <th>4</th>\n",
       "      <td>Munich</td>\n",
       "      <td>['German', 'Central European', 'Vegetarian Fri...</td>\n",
       "      <td>621</td>\n",
       "      <td>4.0</td>\n",
       "      <td>medium</td>\n",
       "      <td>84.0</td>\n",
       "      <td>[['Best place to try a Bavarian food', 'Nice b...</td>\n",
       "      <td>/Restaurant_Review-g187309-d6864963-Reviews-Au...</td>\n",
       "      <td>d6864963</td>\n",
       "    </tr>\n",
       "  </tbody>\n",
       "</table>\n",
       "</div>"
      ],
      "text/plain": [
       "        city                                            cuisine  ranking  \\\n",
       "0      Paris            ['European', 'French', 'International']     5570   \n",
       "1  Stockholm                            ['European', 'Swedish']     1537   \n",
       "2     London  ['Japanese', 'Sushi', 'Asian', 'Grill', 'Veget...      353   \n",
       "3     Berlin                                        ['Italian']     3458   \n",
       "4     Munich  ['German', 'Central European', 'Vegetarian Fri...      621   \n",
       "\n",
       "   rating price_range  reviews_amount  \\\n",
       "0     3.5      medium           194.0   \n",
       "1     4.0        high            10.0   \n",
       "2     4.5        high           688.0   \n",
       "3     5.0        high             3.0   \n",
       "4     4.0      medium            84.0   \n",
       "\n",
       "                                             reviews  \\\n",
       "0  [['Good food at your doorstep', 'A good hotel ...   \n",
       "1  [['Unique cuisine', 'Delicious Nepalese food']...   \n",
       "2  [['Catch up with friends', 'Not exceptional'],...   \n",
       "3                                           [[], []]   \n",
       "4  [['Best place to try a Bavarian food', 'Nice b...   \n",
       "\n",
       "                                              url_ta     id_ta  \n",
       "0  /Restaurant_Review-g187147-d1912643-Reviews-R_...  d1912643  \n",
       "1  /Restaurant_Review-g189852-d7992032-Reviews-Bu...  d7992032  \n",
       "2  /Restaurant_Review-g186338-d8632781-Reviews-RO...  d8632781  \n",
       "3  /Restaurant_Review-g187323-d1358776-Reviews-Es...  d1358776  \n",
       "4  /Restaurant_Review-g187309-d6864963-Reviews-Au...  d6864963  "
      ]
     },
     "execution_count": 66,
     "metadata": {},
     "output_type": "execute_result"
    }
   ],
   "source": [
    "new_data = new_data.apply(fill_price, axis=1)\n",
    "new_data.head()"
   ]
  },
  {
   "cell_type": "code",
   "execution_count": 67,
   "metadata": {
    "ExecuteTime": {
     "end_time": "2020-08-21T14:48:58.052411Z",
     "start_time": "2020-08-21T14:48:57.995186Z"
    }
   },
   "outputs": [
    {
     "name": "stdout",
     "output_type": "stream",
     "text": [
      "<class 'pandas.core.frame.DataFrame'>\n",
      "RangeIndex: 40000 entries, 0 to 39999\n",
      "Data columns (total 9 columns):\n",
      " #   Column          Non-Null Count  Dtype  \n",
      "---  ------          --------------  -----  \n",
      " 0   city            40000 non-null  object \n",
      " 1   cuisine         40000 non-null  object \n",
      " 2   ranking         40000 non-null  int64  \n",
      " 3   rating          38279 non-null  float64\n",
      " 4   price_range     37877 non-null  object \n",
      " 5   reviews_amount  37457 non-null  float64\n",
      " 6   reviews         40000 non-null  object \n",
      " 7   url_ta          40000 non-null  object \n",
      " 8   id_ta           40000 non-null  object \n",
      "dtypes: float64(2), int64(1), object(6)\n",
      "memory usage: 2.7+ MB\n"
     ]
    }
   ],
   "source": [
    "new_data.info()"
   ]
  },
  {
   "cell_type": "markdown",
   "metadata": {},
   "source": [
    "## Amount of reviews"
   ]
  },
  {
   "cell_type": "code",
   "execution_count": 68,
   "metadata": {
    "ExecuteTime": {
     "end_time": "2020-08-21T14:48:58.068415Z",
     "start_time": "2020-08-21T14:48:58.052411Z"
    }
   },
   "outputs": [
    {
     "name": "stdout",
     "output_type": "stream",
     "text": [
      "Number of unique values for 'reviews_amount' column: 1459\n",
      "\n",
      "Unique values in 'reviews_amount' column:\n",
      " [ 194.   10.  688. ... 2297.  989. 1162.]\n"
     ]
    }
   ],
   "source": [
    "show_unique('reviews_amount')"
   ]
  },
  {
   "cell_type": "markdown",
   "metadata": {},
   "source": [
    "It is interesting that usually if there are no values for 'price_range' or 'reviews_amount' columns, there are also no values for 'reviews' and thus for dates of reviews:"
   ]
  },
  {
   "cell_type": "code",
   "execution_count": 69,
   "metadata": {
    "ExecuteTime": {
     "end_time": "2020-08-21T14:48:58.124787Z",
     "start_time": "2020-08-21T14:48:58.068415Z"
    },
    "scrolled": false
   },
   "outputs": [
    {
     "data": {
      "text/html": [
       "<div>\n",
       "<style scoped>\n",
       "    .dataframe tbody tr th:only-of-type {\n",
       "        vertical-align: middle;\n",
       "    }\n",
       "\n",
       "    .dataframe tbody tr th {\n",
       "        vertical-align: top;\n",
       "    }\n",
       "\n",
       "    .dataframe thead th {\n",
       "        text-align: right;\n",
       "    }\n",
       "</style>\n",
       "<table border=\"1\" class=\"dataframe\">\n",
       "  <thead>\n",
       "    <tr style=\"text-align: right;\">\n",
       "      <th></th>\n",
       "      <th>city</th>\n",
       "      <th>cuisine</th>\n",
       "      <th>ranking</th>\n",
       "      <th>rating</th>\n",
       "      <th>price_range</th>\n",
       "      <th>reviews_amount</th>\n",
       "      <th>reviews</th>\n",
       "      <th>url_ta</th>\n",
       "      <th>id_ta</th>\n",
       "    </tr>\n",
       "  </thead>\n",
       "  <tbody>\n",
       "    <tr>\n",
       "      <th>8</th>\n",
       "      <td>Vienna</td>\n",
       "      <td>['Austrian', 'European']</td>\n",
       "      <td>2692</td>\n",
       "      <td>4.0</td>\n",
       "      <td>NaN</td>\n",
       "      <td>NaN</td>\n",
       "      <td>[[], []]</td>\n",
       "      <td>/Restaurant_Review-g190454-d12845029-Reviews-G...</td>\n",
       "      <td>d12845029</td>\n",
       "    </tr>\n",
       "    <tr>\n",
       "      <th>21</th>\n",
       "      <td>Madrid</td>\n",
       "      <td>['Spanish']</td>\n",
       "      <td>5847</td>\n",
       "      <td>4.0</td>\n",
       "      <td>NaN</td>\n",
       "      <td>NaN</td>\n",
       "      <td>[[], []]</td>\n",
       "      <td>/Restaurant_Review-g187514-d10058810-Reviews-B...</td>\n",
       "      <td>d10058810</td>\n",
       "    </tr>\n",
       "    <tr>\n",
       "      <th>32</th>\n",
       "      <td>Budapest</td>\n",
       "      <td>['European', 'Hungarian']</td>\n",
       "      <td>1328</td>\n",
       "      <td>5.0</td>\n",
       "      <td>NaN</td>\n",
       "      <td>NaN</td>\n",
       "      <td>[['Absolutely amazing, tasty, fresh, cheap Ch....</td>\n",
       "      <td>/Restaurant_Review-g274887-d8791087-Reviews-Bu...</td>\n",
       "      <td>d8791087</td>\n",
       "    </tr>\n",
       "    <tr>\n",
       "      <th>102</th>\n",
       "      <td>Budapest</td>\n",
       "      <td>['French', 'European', 'Hungarian']</td>\n",
       "      <td>1410</td>\n",
       "      <td>5.0</td>\n",
       "      <td>NaN</td>\n",
       "      <td>NaN</td>\n",
       "      <td>[[], []]</td>\n",
       "      <td>/Restaurant_Review-g274887-d13197631-Reviews-L...</td>\n",
       "      <td>d13197631</td>\n",
       "    </tr>\n",
       "    <tr>\n",
       "      <th>108</th>\n",
       "      <td>Prague</td>\n",
       "      <td>['Italian', 'Mediterranean']</td>\n",
       "      <td>2050</td>\n",
       "      <td>5.0</td>\n",
       "      <td>medium</td>\n",
       "      <td>NaN</td>\n",
       "      <td>[[], []]</td>\n",
       "      <td>/Restaurant_Review-g274707-d12243659-Reviews-T...</td>\n",
       "      <td>d12243659</td>\n",
       "    </tr>\n",
       "    <tr>\n",
       "      <th>...</th>\n",
       "      <td>...</td>\n",
       "      <td>...</td>\n",
       "      <td>...</td>\n",
       "      <td>...</td>\n",
       "      <td>...</td>\n",
       "      <td>...</td>\n",
       "      <td>...</td>\n",
       "      <td>...</td>\n",
       "      <td>...</td>\n",
       "    </tr>\n",
       "    <tr>\n",
       "      <th>39965</th>\n",
       "      <td>Rome</td>\n",
       "      <td>['Italian']</td>\n",
       "      <td>5722</td>\n",
       "      <td>5.0</td>\n",
       "      <td>NaN</td>\n",
       "      <td>NaN</td>\n",
       "      <td>[[], []]</td>\n",
       "      <td>/Restaurant_Review-g187791-d793376-Reviews-Wes...</td>\n",
       "      <td>d793376</td>\n",
       "    </tr>\n",
       "    <tr>\n",
       "      <th>39972</th>\n",
       "      <td>Prague</td>\n",
       "      <td>['Cafe', 'Delicatessen', 'Healthy', 'Wine Bar'...</td>\n",
       "      <td>2012</td>\n",
       "      <td>5.0</td>\n",
       "      <td>low</td>\n",
       "      <td>NaN</td>\n",
       "      <td>[['Personal expirence'], ['10/27/2017']]</td>\n",
       "      <td>/Restaurant_Review-g274707-d12981295-Reviews-M...</td>\n",
       "      <td>d12981295</td>\n",
       "    </tr>\n",
       "    <tr>\n",
       "      <th>39986</th>\n",
       "      <td>Madrid</td>\n",
       "      <td>['Spanish']</td>\n",
       "      <td>7279</td>\n",
       "      <td>3.0</td>\n",
       "      <td>NaN</td>\n",
       "      <td>NaN</td>\n",
       "      <td>[[], []]</td>\n",
       "      <td>/Restaurant_Review-g187514-d12182212-Reviews-C...</td>\n",
       "      <td>d12182212</td>\n",
       "    </tr>\n",
       "    <tr>\n",
       "      <th>39988</th>\n",
       "      <td>Berlin</td>\n",
       "      <td>['Italian']</td>\n",
       "      <td>4970</td>\n",
       "      <td>4.0</td>\n",
       "      <td>NaN</td>\n",
       "      <td>NaN</td>\n",
       "      <td>[[], []]</td>\n",
       "      <td>/Restaurant_Review-g187323-d7761701-Reviews-Ar...</td>\n",
       "      <td>d7761701</td>\n",
       "    </tr>\n",
       "    <tr>\n",
       "      <th>39989</th>\n",
       "      <td>London</td>\n",
       "      <td>['International']</td>\n",
       "      <td>8896</td>\n",
       "      <td>5.0</td>\n",
       "      <td>NaN</td>\n",
       "      <td>NaN</td>\n",
       "      <td>[['I love this place!'], ['08/24/2015']]</td>\n",
       "      <td>/Restaurant_Review-g186338-d5550626-Reviews-Th...</td>\n",
       "      <td>d5550626</td>\n",
       "    </tr>\n",
       "  </tbody>\n",
       "</table>\n",
       "<p>2543 rows × 9 columns</p>\n",
       "</div>"
      ],
      "text/plain": [
       "           city                                            cuisine  ranking  \\\n",
       "8        Vienna                           ['Austrian', 'European']     2692   \n",
       "21       Madrid                                        ['Spanish']     5847   \n",
       "32     Budapest                          ['European', 'Hungarian']     1328   \n",
       "102    Budapest                ['French', 'European', 'Hungarian']     1410   \n",
       "108      Prague                       ['Italian', 'Mediterranean']     2050   \n",
       "...         ...                                                ...      ...   \n",
       "39965      Rome                                        ['Italian']     5722   \n",
       "39972    Prague  ['Cafe', 'Delicatessen', 'Healthy', 'Wine Bar'...     2012   \n",
       "39986    Madrid                                        ['Spanish']     7279   \n",
       "39988    Berlin                                        ['Italian']     4970   \n",
       "39989    London                                  ['International']     8896   \n",
       "\n",
       "       rating price_range  reviews_amount  \\\n",
       "8         4.0         NaN             NaN   \n",
       "21        4.0         NaN             NaN   \n",
       "32        5.0         NaN             NaN   \n",
       "102       5.0         NaN             NaN   \n",
       "108       5.0      medium             NaN   \n",
       "...       ...         ...             ...   \n",
       "39965     5.0         NaN             NaN   \n",
       "39972     5.0         low             NaN   \n",
       "39986     3.0         NaN             NaN   \n",
       "39988     4.0         NaN             NaN   \n",
       "39989     5.0         NaN             NaN   \n",
       "\n",
       "                                                 reviews  \\\n",
       "8                                               [[], []]   \n",
       "21                                              [[], []]   \n",
       "32     [['Absolutely amazing, tasty, fresh, cheap Ch....   \n",
       "102                                             [[], []]   \n",
       "108                                             [[], []]   \n",
       "...                                                  ...   \n",
       "39965                                           [[], []]   \n",
       "39972           [['Personal expirence'], ['10/27/2017']]   \n",
       "39986                                           [[], []]   \n",
       "39988                                           [[], []]   \n",
       "39989           [['I love this place!'], ['08/24/2015']]   \n",
       "\n",
       "                                                  url_ta      id_ta  \n",
       "8      /Restaurant_Review-g190454-d12845029-Reviews-G...  d12845029  \n",
       "21     /Restaurant_Review-g187514-d10058810-Reviews-B...  d10058810  \n",
       "32     /Restaurant_Review-g274887-d8791087-Reviews-Bu...   d8791087  \n",
       "102    /Restaurant_Review-g274887-d13197631-Reviews-L...  d13197631  \n",
       "108    /Restaurant_Review-g274707-d12243659-Reviews-T...  d12243659  \n",
       "...                                                  ...        ...  \n",
       "39965  /Restaurant_Review-g187791-d793376-Reviews-Wes...    d793376  \n",
       "39972  /Restaurant_Review-g274707-d12981295-Reviews-M...  d12981295  \n",
       "39986  /Restaurant_Review-g187514-d12182212-Reviews-C...  d12182212  \n",
       "39988  /Restaurant_Review-g187323-d7761701-Reviews-Ar...   d7761701  \n",
       "39989  /Restaurant_Review-g186338-d5550626-Reviews-Th...   d5550626  \n",
       "\n",
       "[2543 rows x 9 columns]"
      ]
     },
     "execution_count": 69,
     "metadata": {},
     "output_type": "execute_result"
    }
   ],
   "source": [
    "new_data[(new_data['price_range'].isna()) | (new_data.reviews_amount.isna())]"
   ]
  },
  {
   "cell_type": "markdown",
   "metadata": {},
   "source": [
    "Maybe it is sensible to remove such rows, so let's do it for now:"
   ]
  },
  {
   "cell_type": "code",
   "execution_count": 70,
   "metadata": {
    "ExecuteTime": {
     "end_time": "2020-08-21T14:48:58.159136Z",
     "start_time": "2020-08-21T14:48:58.124787Z"
    }
   },
   "outputs": [
    {
     "data": {
      "text/html": [
       "<div>\n",
       "<style scoped>\n",
       "    .dataframe tbody tr th:only-of-type {\n",
       "        vertical-align: middle;\n",
       "    }\n",
       "\n",
       "    .dataframe tbody tr th {\n",
       "        vertical-align: top;\n",
       "    }\n",
       "\n",
       "    .dataframe thead th {\n",
       "        text-align: right;\n",
       "    }\n",
       "</style>\n",
       "<table border=\"1\" class=\"dataframe\">\n",
       "  <thead>\n",
       "    <tr style=\"text-align: right;\">\n",
       "      <th></th>\n",
       "      <th>city</th>\n",
       "      <th>cuisine</th>\n",
       "      <th>ranking</th>\n",
       "      <th>rating</th>\n",
       "      <th>price_range</th>\n",
       "      <th>reviews_amount</th>\n",
       "      <th>reviews</th>\n",
       "      <th>url_ta</th>\n",
       "      <th>id_ta</th>\n",
       "    </tr>\n",
       "  </thead>\n",
       "  <tbody>\n",
       "    <tr>\n",
       "      <th>0</th>\n",
       "      <td>Paris</td>\n",
       "      <td>['European', 'French', 'International']</td>\n",
       "      <td>5570</td>\n",
       "      <td>3.5</td>\n",
       "      <td>medium</td>\n",
       "      <td>194.0</td>\n",
       "      <td>[['Good food at your doorstep', 'A good hotel ...</td>\n",
       "      <td>/Restaurant_Review-g187147-d1912643-Reviews-R_...</td>\n",
       "      <td>d1912643</td>\n",
       "    </tr>\n",
       "  </tbody>\n",
       "</table>\n",
       "</div>"
      ],
      "text/plain": [
       "    city                                  cuisine  ranking  rating  \\\n",
       "0  Paris  ['European', 'French', 'International']     5570     3.5   \n",
       "\n",
       "  price_range  reviews_amount  \\\n",
       "0      medium           194.0   \n",
       "\n",
       "                                             reviews  \\\n",
       "0  [['Good food at your doorstep', 'A good hotel ...   \n",
       "\n",
       "                                              url_ta     id_ta  \n",
       "0  /Restaurant_Review-g187147-d1912643-Reviews-R_...  d1912643  "
      ]
     },
     "execution_count": 70,
     "metadata": {},
     "output_type": "execute_result"
    }
   ],
   "source": [
    "new_data.iloc[new_data.iloc[[0]].index]"
   ]
  },
  {
   "cell_type": "code",
   "execution_count": 71,
   "metadata": {
    "ExecuteTime": {
     "end_time": "2020-08-21T14:48:58.215168Z",
     "start_time": "2020-08-21T14:48:58.159136Z"
    },
    "scrolled": true
   },
   "outputs": [
    {
     "name": "stdout",
     "output_type": "stream",
     "text": [
      "<class 'pandas.core.frame.DataFrame'>\n",
      "Int64Index: 37877 entries, 0 to 39999\n",
      "Data columns (total 9 columns):\n",
      " #   Column          Non-Null Count  Dtype  \n",
      "---  ------          --------------  -----  \n",
      " 0   city            37877 non-null  object \n",
      " 1   cuisine         37877 non-null  object \n",
      " 2   ranking         37877 non-null  int64  \n",
      " 3   rating          36389 non-null  float64\n",
      " 4   price_range     37877 non-null  object \n",
      " 5   reviews_amount  37457 non-null  float64\n",
      " 6   reviews         37877 non-null  object \n",
      " 7   url_ta          37877 non-null  object \n",
      " 8   id_ta           37877 non-null  object \n",
      "dtypes: float64(2), int64(1), object(6)\n",
      "memory usage: 2.9+ MB\n"
     ]
    }
   ],
   "source": [
    "new_data = new_data.dropna(subset=['price_range', 'reviews_amount'], how='all')\n",
    "new_data.info()"
   ]
  },
  {
   "cell_type": "code",
   "execution_count": 72,
   "metadata": {
    "ExecuteTime": {
     "end_time": "2020-08-21T14:48:58.223153Z",
     "start_time": "2020-08-21T14:48:58.215168Z"
    }
   },
   "outputs": [
    {
     "name": "stdout",
     "output_type": "stream",
     "text": [
      "There are 420 missing values in \"reviews_amount\" column\n"
     ]
    }
   ],
   "source": [
    "print(f'There are {new_data.reviews_amount.isna().sum()} missing values in \"reviews_amount\" column')"
   ]
  },
  {
   "cell_type": "markdown",
   "metadata": {},
   "source": [
    "Since there are not many missing values, let's try to fill them using the median value:"
   ]
  },
  {
   "cell_type": "code",
   "execution_count": 73,
   "metadata": {
    "ExecuteTime": {
     "end_time": "2020-08-21T14:48:58.239164Z",
     "start_time": "2020-08-21T14:48:58.223153Z"
    }
   },
   "outputs": [],
   "source": [
    "median = new_data.reviews_amount.median()\n",
    "new_data.reviews_amount.fillna(value=median, inplace=True)"
   ]
  },
  {
   "cell_type": "code",
   "execution_count": 74,
   "metadata": {
    "ExecuteTime": {
     "end_time": "2020-08-21T14:48:58.271166Z",
     "start_time": "2020-08-21T14:48:58.239164Z"
    }
   },
   "outputs": [
    {
     "name": "stdout",
     "output_type": "stream",
     "text": [
      "<class 'pandas.core.frame.DataFrame'>\n",
      "Int64Index: 37877 entries, 0 to 39999\n",
      "Data columns (total 9 columns):\n",
      " #   Column          Non-Null Count  Dtype  \n",
      "---  ------          --------------  -----  \n",
      " 0   city            37877 non-null  object \n",
      " 1   cuisine         37877 non-null  object \n",
      " 2   ranking         37877 non-null  int64  \n",
      " 3   rating          36389 non-null  float64\n",
      " 4   price_range     37877 non-null  object \n",
      " 5   reviews_amount  37877 non-null  float64\n",
      " 6   reviews         37877 non-null  object \n",
      " 7   url_ta          37877 non-null  object \n",
      " 8   id_ta           37877 non-null  object \n",
      "dtypes: float64(2), int64(1), object(6)\n",
      "memory usage: 2.9+ MB\n"
     ]
    }
   ],
   "source": [
    "new_data.info()"
   ]
  },
  {
   "cell_type": "markdown",
   "metadata": {},
   "source": [
    "## Reviews"
   ]
  },
  {
   "cell_type": "code",
   "execution_count": 75,
   "metadata": {
    "ExecuteTime": {
     "end_time": "2020-08-21T14:48:58.319177Z",
     "start_time": "2020-08-21T14:48:58.271166Z"
    }
   },
   "outputs": [
    {
     "name": "stdout",
     "output_type": "stream",
     "text": [
      "Number of unique values for 'reviews' column: 33516\n",
      "\n",
      "Unique values in 'reviews' column:\n",
      " [\"[['Good food at your doorstep', 'A good hotel restaurant'], ['12/31/2017', '11/20/2017']]\"\n",
      " \"[['Unique cuisine', 'Delicious Nepalese food'], ['07/06/2017', '06/19/2016']]\"\n",
      " \"[['Catch up with friends', 'Not exceptional'], ['01/08/2018', '01/06/2018']]\"\n",
      " ...\n",
      " \"[['Good by swedish standards', 'A hidden jewel in the middle of Västertorp...'], ['11/03/2016', '04/12/2008']]\"\n",
      " \"[['Underground restaurant', 'Oldest Restaurant in Warsaw'], ['07/11/2017', '06/18/2017']]\"\n",
      " \"[['Average', 'Nice an informal'], ['01/31/2016', '07/04/2012']]\"]\n"
     ]
    }
   ],
   "source": [
    "show_unique('reviews')"
   ]
  },
  {
   "cell_type": "markdown",
   "metadata": {},
   "source": [
    "It makes sense to create a new variable: **Dates of the latest reviews for each restaurant**"
   ]
  },
  {
   "cell_type": "code",
   "execution_count": 76,
   "metadata": {
    "ExecuteTime": {
     "end_time": "2020-08-21T14:48:58.335178Z",
     "start_time": "2020-08-21T14:48:58.319177Z"
    }
   },
   "outputs": [],
   "source": [
    "def get_date(x):\n",
    "    ptrn = r'\\d{2}/\\d{2}/\\d{4}'\n",
    "    result = re.findall(ptrn, x)\n",
    "    x = re.sub(ptrn, '', x)\n",
    "    \n",
    "    if len(result) == 2:\n",
    "        return result[0], result[1]\n",
    "    elif len(result) == 1:\n",
    "        return result[0], None\n",
    "    return None"
   ]
  },
  {
   "cell_type": "code",
   "execution_count": 77,
   "metadata": {
    "ExecuteTime": {
     "end_time": "2020-08-21T14:48:58.808440Z",
     "start_time": "2020-08-21T14:48:58.335178Z"
    }
   },
   "outputs": [
    {
     "data": {
      "text/plain": [
       "0        12/31/2017\n",
       "1        07/06/2017\n",
       "2        01/08/2018\n",
       "3              None\n",
       "4        11/18/2017\n",
       "            ...    \n",
       "39995    12/16/2017\n",
       "39996    12/21/2017\n",
       "39997    11/03/2016\n",
       "39998    07/11/2017\n",
       "39999    01/31/2016\n",
       "Name: reviews, Length: 37877, dtype: object"
      ]
     },
     "execution_count": 77,
     "metadata": {},
     "output_type": "execute_result"
    }
   ],
   "source": [
    "review_dates = new_data.reviews.dropna().apply(get_date)\n",
    "review_date_1 = review_dates.apply(lambda x: x[0] if x else None)\n",
    "review_date_2 = review_dates.apply(lambda x: x[1] if x else None)\n",
    "review_date_1"
   ]
  },
  {
   "cell_type": "code",
   "execution_count": 78,
   "metadata": {
    "ExecuteTime": {
     "end_time": "2020-08-21T14:48:58.884039Z",
     "start_time": "2020-08-21T14:48:58.808440Z"
    }
   },
   "outputs": [
    {
     "name": "stdout",
     "output_type": "stream",
     "text": [
      "Maximal difference between two latest review dates: 3207 days 00:00:00\n"
     ]
    }
   ],
   "source": [
    "new_data['latest_review_1'] = pd.to_datetime(review_date_1)\n",
    "new_data['latest_review_2'] = pd.to_datetime(review_date_2)\n",
    "print(f'Maximal difference between two latest review dates: {(new_data.latest_review_1 - new_data.latest_review_2).max()}')"
   ]
  },
  {
   "cell_type": "code",
   "execution_count": 79,
   "metadata": {
    "ExecuteTime": {
     "end_time": "2020-08-21T14:48:58.900048Z",
     "start_time": "2020-08-21T14:48:58.884039Z"
    },
    "scrolled": true
   },
   "outputs": [
    {
     "name": "stdout",
     "output_type": "stream",
     "text": [
      "The latest review left on: 2018-02-26 00:00:00\n"
     ]
    }
   ],
   "source": [
    "print(f'The latest review left on: {new_data.latest_review_1.max()}')"
   ]
  },
  {
   "cell_type": "code",
   "execution_count": 80,
   "metadata": {
    "ExecuteTime": {
     "end_time": "2020-08-21T14:48:58.948066Z",
     "start_time": "2020-08-21T14:48:58.900048Z"
    }
   },
   "outputs": [
    {
     "data": {
      "text/html": [
       "<div>\n",
       "<style scoped>\n",
       "    .dataframe tbody tr th:only-of-type {\n",
       "        vertical-align: middle;\n",
       "    }\n",
       "\n",
       "    .dataframe tbody tr th {\n",
       "        vertical-align: top;\n",
       "    }\n",
       "\n",
       "    .dataframe thead th {\n",
       "        text-align: right;\n",
       "    }\n",
       "</style>\n",
       "<table border=\"1\" class=\"dataframe\">\n",
       "  <thead>\n",
       "    <tr style=\"text-align: right;\">\n",
       "      <th></th>\n",
       "      <th>city</th>\n",
       "      <th>cuisine</th>\n",
       "      <th>ranking</th>\n",
       "      <th>rating</th>\n",
       "      <th>price_range</th>\n",
       "      <th>reviews_amount</th>\n",
       "      <th>reviews</th>\n",
       "      <th>url_ta</th>\n",
       "      <th>id_ta</th>\n",
       "      <th>latest_review_1</th>\n",
       "      <th>latest_review_2</th>\n",
       "    </tr>\n",
       "  </thead>\n",
       "  <tbody>\n",
       "    <tr>\n",
       "      <th>0</th>\n",
       "      <td>Paris</td>\n",
       "      <td>['European', 'French', 'International']</td>\n",
       "      <td>5570</td>\n",
       "      <td>3.5</td>\n",
       "      <td>medium</td>\n",
       "      <td>194.0</td>\n",
       "      <td>[['Good food at your doorstep', 'A good hotel ...</td>\n",
       "      <td>/Restaurant_Review-g187147-d1912643-Reviews-R_...</td>\n",
       "      <td>d1912643</td>\n",
       "      <td>2017-12-31</td>\n",
       "      <td>2017-11-20</td>\n",
       "    </tr>\n",
       "    <tr>\n",
       "      <th>1</th>\n",
       "      <td>Stockholm</td>\n",
       "      <td>['European', 'Swedish']</td>\n",
       "      <td>1537</td>\n",
       "      <td>4.0</td>\n",
       "      <td>high</td>\n",
       "      <td>10.0</td>\n",
       "      <td>[['Unique cuisine', 'Delicious Nepalese food']...</td>\n",
       "      <td>/Restaurant_Review-g189852-d7992032-Reviews-Bu...</td>\n",
       "      <td>d7992032</td>\n",
       "      <td>2017-07-06</td>\n",
       "      <td>2016-06-19</td>\n",
       "    </tr>\n",
       "    <tr>\n",
       "      <th>2</th>\n",
       "      <td>London</td>\n",
       "      <td>['Japanese', 'Sushi', 'Asian', 'Grill', 'Veget...</td>\n",
       "      <td>353</td>\n",
       "      <td>4.5</td>\n",
       "      <td>high</td>\n",
       "      <td>688.0</td>\n",
       "      <td>[['Catch up with friends', 'Not exceptional'],...</td>\n",
       "      <td>/Restaurant_Review-g186338-d8632781-Reviews-RO...</td>\n",
       "      <td>d8632781</td>\n",
       "      <td>2018-01-08</td>\n",
       "      <td>2018-01-06</td>\n",
       "    </tr>\n",
       "    <tr>\n",
       "      <th>3</th>\n",
       "      <td>Berlin</td>\n",
       "      <td>['Italian']</td>\n",
       "      <td>3458</td>\n",
       "      <td>5.0</td>\n",
       "      <td>high</td>\n",
       "      <td>3.0</td>\n",
       "      <td>[[], []]</td>\n",
       "      <td>/Restaurant_Review-g187323-d1358776-Reviews-Es...</td>\n",
       "      <td>d1358776</td>\n",
       "      <td>NaT</td>\n",
       "      <td>NaT</td>\n",
       "    </tr>\n",
       "    <tr>\n",
       "      <th>4</th>\n",
       "      <td>Munich</td>\n",
       "      <td>['German', 'Central European', 'Vegetarian Fri...</td>\n",
       "      <td>621</td>\n",
       "      <td>4.0</td>\n",
       "      <td>medium</td>\n",
       "      <td>84.0</td>\n",
       "      <td>[['Best place to try a Bavarian food', 'Nice b...</td>\n",
       "      <td>/Restaurant_Review-g187309-d6864963-Reviews-Au...</td>\n",
       "      <td>d6864963</td>\n",
       "      <td>2017-11-18</td>\n",
       "      <td>2017-02-19</td>\n",
       "    </tr>\n",
       "    <tr>\n",
       "      <th>...</th>\n",
       "      <td>...</td>\n",
       "      <td>...</td>\n",
       "      <td>...</td>\n",
       "      <td>...</td>\n",
       "      <td>...</td>\n",
       "      <td>...</td>\n",
       "      <td>...</td>\n",
       "      <td>...</td>\n",
       "      <td>...</td>\n",
       "      <td>...</td>\n",
       "      <td>...</td>\n",
       "    </tr>\n",
       "    <tr>\n",
       "      <th>39995</th>\n",
       "      <td>Milan</td>\n",
       "      <td>['Italian', 'Vegetarian Friendly', 'Vegan Opti...</td>\n",
       "      <td>500</td>\n",
       "      <td>4.5</td>\n",
       "      <td>medium</td>\n",
       "      <td>79.0</td>\n",
       "      <td>[['The real Italian experience!', 'Wonderful f...</td>\n",
       "      <td>/Restaurant_Review-g187849-d2104414-Reviews-Ro...</td>\n",
       "      <td>d2104414</td>\n",
       "      <td>2017-12-16</td>\n",
       "      <td>2017-11-12</td>\n",
       "    </tr>\n",
       "    <tr>\n",
       "      <th>39996</th>\n",
       "      <td>Paris</td>\n",
       "      <td>['French', 'American', 'Bar', 'European', 'Veg...</td>\n",
       "      <td>6341</td>\n",
       "      <td>3.5</td>\n",
       "      <td>medium</td>\n",
       "      <td>542.0</td>\n",
       "      <td>[['Parisian atmosphere', 'Bit pricey but inter...</td>\n",
       "      <td>/Restaurant_Review-g187147-d1800036-Reviews-La...</td>\n",
       "      <td>d1800036</td>\n",
       "      <td>2017-12-21</td>\n",
       "      <td>2017-12-12</td>\n",
       "    </tr>\n",
       "    <tr>\n",
       "      <th>39997</th>\n",
       "      <td>Stockholm</td>\n",
       "      <td>['Japanese', 'Sushi']</td>\n",
       "      <td>1652</td>\n",
       "      <td>4.5</td>\n",
       "      <td>high</td>\n",
       "      <td>4.0</td>\n",
       "      <td>[['Good by swedish standards', 'A hidden jewel...</td>\n",
       "      <td>/Restaurant_Review-g189852-d947615-Reviews-Sus...</td>\n",
       "      <td>d947615</td>\n",
       "      <td>2016-11-03</td>\n",
       "      <td>2008-04-12</td>\n",
       "    </tr>\n",
       "    <tr>\n",
       "      <th>39998</th>\n",
       "      <td>Warsaw</td>\n",
       "      <td>['Polish', 'European', 'Eastern European', 'Ce...</td>\n",
       "      <td>641</td>\n",
       "      <td>4.0</td>\n",
       "      <td>medium</td>\n",
       "      <td>70.0</td>\n",
       "      <td>[['Underground restaurant', 'Oldest Restaurant...</td>\n",
       "      <td>/Restaurant_Review-g274856-d1100838-Reviews-Ho...</td>\n",
       "      <td>d1100838</td>\n",
       "      <td>2017-07-11</td>\n",
       "      <td>2017-06-18</td>\n",
       "    </tr>\n",
       "    <tr>\n",
       "      <th>39999</th>\n",
       "      <td>Milan</td>\n",
       "      <td>['Spanish']</td>\n",
       "      <td>4827</td>\n",
       "      <td>3.0</td>\n",
       "      <td>medium</td>\n",
       "      <td>260.0</td>\n",
       "      <td>[['Average', 'Nice an informal'], ['01/31/2016...</td>\n",
       "      <td>/Restaurant_Review-g187849-d1109020-Reviews-Ta...</td>\n",
       "      <td>d1109020</td>\n",
       "      <td>2016-01-31</td>\n",
       "      <td>2012-07-04</td>\n",
       "    </tr>\n",
       "  </tbody>\n",
       "</table>\n",
       "<p>37877 rows × 11 columns</p>\n",
       "</div>"
      ],
      "text/plain": [
       "            city                                            cuisine  ranking  \\\n",
       "0          Paris            ['European', 'French', 'International']     5570   \n",
       "1      Stockholm                            ['European', 'Swedish']     1537   \n",
       "2         London  ['Japanese', 'Sushi', 'Asian', 'Grill', 'Veget...      353   \n",
       "3         Berlin                                        ['Italian']     3458   \n",
       "4         Munich  ['German', 'Central European', 'Vegetarian Fri...      621   \n",
       "...          ...                                                ...      ...   \n",
       "39995      Milan  ['Italian', 'Vegetarian Friendly', 'Vegan Opti...      500   \n",
       "39996      Paris  ['French', 'American', 'Bar', 'European', 'Veg...     6341   \n",
       "39997  Stockholm                              ['Japanese', 'Sushi']     1652   \n",
       "39998     Warsaw  ['Polish', 'European', 'Eastern European', 'Ce...      641   \n",
       "39999      Milan                                        ['Spanish']     4827   \n",
       "\n",
       "       rating price_range  reviews_amount  \\\n",
       "0         3.5      medium           194.0   \n",
       "1         4.0        high            10.0   \n",
       "2         4.5        high           688.0   \n",
       "3         5.0        high             3.0   \n",
       "4         4.0      medium            84.0   \n",
       "...       ...         ...             ...   \n",
       "39995     4.5      medium            79.0   \n",
       "39996     3.5      medium           542.0   \n",
       "39997     4.5        high             4.0   \n",
       "39998     4.0      medium            70.0   \n",
       "39999     3.0      medium           260.0   \n",
       "\n",
       "                                                 reviews  \\\n",
       "0      [['Good food at your doorstep', 'A good hotel ...   \n",
       "1      [['Unique cuisine', 'Delicious Nepalese food']...   \n",
       "2      [['Catch up with friends', 'Not exceptional'],...   \n",
       "3                                               [[], []]   \n",
       "4      [['Best place to try a Bavarian food', 'Nice b...   \n",
       "...                                                  ...   \n",
       "39995  [['The real Italian experience!', 'Wonderful f...   \n",
       "39996  [['Parisian atmosphere', 'Bit pricey but inter...   \n",
       "39997  [['Good by swedish standards', 'A hidden jewel...   \n",
       "39998  [['Underground restaurant', 'Oldest Restaurant...   \n",
       "39999  [['Average', 'Nice an informal'], ['01/31/2016...   \n",
       "\n",
       "                                                  url_ta     id_ta  \\\n",
       "0      /Restaurant_Review-g187147-d1912643-Reviews-R_...  d1912643   \n",
       "1      /Restaurant_Review-g189852-d7992032-Reviews-Bu...  d7992032   \n",
       "2      /Restaurant_Review-g186338-d8632781-Reviews-RO...  d8632781   \n",
       "3      /Restaurant_Review-g187323-d1358776-Reviews-Es...  d1358776   \n",
       "4      /Restaurant_Review-g187309-d6864963-Reviews-Au...  d6864963   \n",
       "...                                                  ...       ...   \n",
       "39995  /Restaurant_Review-g187849-d2104414-Reviews-Ro...  d2104414   \n",
       "39996  /Restaurant_Review-g187147-d1800036-Reviews-La...  d1800036   \n",
       "39997  /Restaurant_Review-g189852-d947615-Reviews-Sus...   d947615   \n",
       "39998  /Restaurant_Review-g274856-d1100838-Reviews-Ho...  d1100838   \n",
       "39999  /Restaurant_Review-g187849-d1109020-Reviews-Ta...  d1109020   \n",
       "\n",
       "      latest_review_1 latest_review_2  \n",
       "0          2017-12-31      2017-11-20  \n",
       "1          2017-07-06      2016-06-19  \n",
       "2          2018-01-08      2018-01-06  \n",
       "3                 NaT             NaT  \n",
       "4          2017-11-18      2017-02-19  \n",
       "...               ...             ...  \n",
       "39995      2017-12-16      2017-11-12  \n",
       "39996      2017-12-21      2017-12-12  \n",
       "39997      2016-11-03      2008-04-12  \n",
       "39998      2017-07-11      2017-06-18  \n",
       "39999      2016-01-31      2012-07-04  \n",
       "\n",
       "[37877 rows x 11 columns]"
      ]
     },
     "execution_count": 80,
     "metadata": {},
     "output_type": "execute_result"
    }
   ],
   "source": [
    "new_data"
   ]
  },
  {
   "cell_type": "code",
   "execution_count": 81,
   "metadata": {
    "ExecuteTime": {
     "end_time": "2020-08-21T14:48:58.980065Z",
     "start_time": "2020-08-21T14:48:58.948066Z"
    }
   },
   "outputs": [
    {
     "name": "stdout",
     "output_type": "stream",
     "text": [
      "<class 'pandas.core.frame.DataFrame'>\n",
      "Int64Index: 37877 entries, 0 to 39999\n",
      "Data columns (total 11 columns):\n",
      " #   Column           Non-Null Count  Dtype         \n",
      "---  ------           --------------  -----         \n",
      " 0   city             37877 non-null  object        \n",
      " 1   cuisine          37877 non-null  object        \n",
      " 2   ranking          37877 non-null  int64         \n",
      " 3   rating           36389 non-null  float64       \n",
      " 4   price_range      37877 non-null  object        \n",
      " 5   reviews_amount   37877 non-null  float64       \n",
      " 6   reviews          37877 non-null  object        \n",
      " 7   url_ta           37877 non-null  object        \n",
      " 8   id_ta            37877 non-null  object        \n",
      " 9   latest_review_1  32733 non-null  datetime64[ns]\n",
      " 10  latest_review_2  28973 non-null  datetime64[ns]\n",
      "dtypes: datetime64[ns](2), float64(2), int64(1), object(6)\n",
      "memory usage: 3.5+ MB\n"
     ]
    }
   ],
   "source": [
    "new_data.info()"
   ]
  },
  {
   "cell_type": "markdown",
   "metadata": {},
   "source": [
    "Let's create a new feature that will probably help us to understand the data better: **difference between the last two review dates**:"
   ]
  },
  {
   "cell_type": "code",
   "execution_count": 82,
   "metadata": {
    "ExecuteTime": {
     "end_time": "2020-08-21T14:48:59.004072Z",
     "start_time": "2020-08-21T14:48:58.980065Z"
    },
    "scrolled": false
   },
   "outputs": [],
   "source": [
    "new_data['review_dates_diff'] = new_data['latest_review_1'] - new_data['latest_review_2']\n",
    "new_data.drop(['latest_review_1', 'latest_review_2'], axis=1, inplace=True)"
   ]
  },
  {
   "cell_type": "markdown",
   "metadata": {},
   "source": [
    "There are some restaurants which have only one date, that is why the column with date differences can contain negative values. Let's get rid of them:"
   ]
  },
  {
   "cell_type": "code",
   "execution_count": 83,
   "metadata": {
    "ExecuteTime": {
     "end_time": "2020-08-21T14:48:59.044080Z",
     "start_time": "2020-08-21T14:48:59.004072Z"
    }
   },
   "outputs": [],
   "source": [
    "new_data.review_dates_diff = new_data.review_dates_diff.dropna().dt.days.astype(int).apply(lambda x: np.nan if x < 0 else int(x))"
   ]
  },
  {
   "cell_type": "code",
   "execution_count": 84,
   "metadata": {
    "ExecuteTime": {
     "end_time": "2020-08-21T14:48:59.092094Z",
     "start_time": "2020-08-21T14:48:59.044080Z"
    },
    "scrolled": false
   },
   "outputs": [
    {
     "data": {
      "text/html": [
       "<div>\n",
       "<style scoped>\n",
       "    .dataframe tbody tr th:only-of-type {\n",
       "        vertical-align: middle;\n",
       "    }\n",
       "\n",
       "    .dataframe tbody tr th {\n",
       "        vertical-align: top;\n",
       "    }\n",
       "\n",
       "    .dataframe thead th {\n",
       "        text-align: right;\n",
       "    }\n",
       "</style>\n",
       "<table border=\"1\" class=\"dataframe\">\n",
       "  <thead>\n",
       "    <tr style=\"text-align: right;\">\n",
       "      <th></th>\n",
       "      <th>city</th>\n",
       "      <th>cuisine</th>\n",
       "      <th>ranking</th>\n",
       "      <th>rating</th>\n",
       "      <th>price_range</th>\n",
       "      <th>reviews_amount</th>\n",
       "      <th>reviews</th>\n",
       "      <th>url_ta</th>\n",
       "      <th>id_ta</th>\n",
       "      <th>review_dates_diff</th>\n",
       "    </tr>\n",
       "  </thead>\n",
       "  <tbody>\n",
       "    <tr>\n",
       "      <th>0</th>\n",
       "      <td>Paris</td>\n",
       "      <td>['European', 'French', 'International']</td>\n",
       "      <td>5570</td>\n",
       "      <td>3.5</td>\n",
       "      <td>medium</td>\n",
       "      <td>194.0</td>\n",
       "      <td>[['Good food at your doorstep', 'A good hotel ...</td>\n",
       "      <td>/Restaurant_Review-g187147-d1912643-Reviews-R_...</td>\n",
       "      <td>d1912643</td>\n",
       "      <td>41.0</td>\n",
       "    </tr>\n",
       "    <tr>\n",
       "      <th>1</th>\n",
       "      <td>Stockholm</td>\n",
       "      <td>['European', 'Swedish']</td>\n",
       "      <td>1537</td>\n",
       "      <td>4.0</td>\n",
       "      <td>high</td>\n",
       "      <td>10.0</td>\n",
       "      <td>[['Unique cuisine', 'Delicious Nepalese food']...</td>\n",
       "      <td>/Restaurant_Review-g189852-d7992032-Reviews-Bu...</td>\n",
       "      <td>d7992032</td>\n",
       "      <td>382.0</td>\n",
       "    </tr>\n",
       "    <tr>\n",
       "      <th>2</th>\n",
       "      <td>London</td>\n",
       "      <td>['Japanese', 'Sushi', 'Asian', 'Grill', 'Veget...</td>\n",
       "      <td>353</td>\n",
       "      <td>4.5</td>\n",
       "      <td>high</td>\n",
       "      <td>688.0</td>\n",
       "      <td>[['Catch up with friends', 'Not exceptional'],...</td>\n",
       "      <td>/Restaurant_Review-g186338-d8632781-Reviews-RO...</td>\n",
       "      <td>d8632781</td>\n",
       "      <td>2.0</td>\n",
       "    </tr>\n",
       "    <tr>\n",
       "      <th>3</th>\n",
       "      <td>Berlin</td>\n",
       "      <td>['Italian']</td>\n",
       "      <td>3458</td>\n",
       "      <td>5.0</td>\n",
       "      <td>high</td>\n",
       "      <td>3.0</td>\n",
       "      <td>[[], []]</td>\n",
       "      <td>/Restaurant_Review-g187323-d1358776-Reviews-Es...</td>\n",
       "      <td>d1358776</td>\n",
       "      <td>NaN</td>\n",
       "    </tr>\n",
       "    <tr>\n",
       "      <th>4</th>\n",
       "      <td>Munich</td>\n",
       "      <td>['German', 'Central European', 'Vegetarian Fri...</td>\n",
       "      <td>621</td>\n",
       "      <td>4.0</td>\n",
       "      <td>medium</td>\n",
       "      <td>84.0</td>\n",
       "      <td>[['Best place to try a Bavarian food', 'Nice b...</td>\n",
       "      <td>/Restaurant_Review-g187309-d6864963-Reviews-Au...</td>\n",
       "      <td>d6864963</td>\n",
       "      <td>272.0</td>\n",
       "    </tr>\n",
       "    <tr>\n",
       "      <th>...</th>\n",
       "      <td>...</td>\n",
       "      <td>...</td>\n",
       "      <td>...</td>\n",
       "      <td>...</td>\n",
       "      <td>...</td>\n",
       "      <td>...</td>\n",
       "      <td>...</td>\n",
       "      <td>...</td>\n",
       "      <td>...</td>\n",
       "      <td>...</td>\n",
       "    </tr>\n",
       "    <tr>\n",
       "      <th>39995</th>\n",
       "      <td>Milan</td>\n",
       "      <td>['Italian', 'Vegetarian Friendly', 'Vegan Opti...</td>\n",
       "      <td>500</td>\n",
       "      <td>4.5</td>\n",
       "      <td>medium</td>\n",
       "      <td>79.0</td>\n",
       "      <td>[['The real Italian experience!', 'Wonderful f...</td>\n",
       "      <td>/Restaurant_Review-g187849-d2104414-Reviews-Ro...</td>\n",
       "      <td>d2104414</td>\n",
       "      <td>34.0</td>\n",
       "    </tr>\n",
       "    <tr>\n",
       "      <th>39996</th>\n",
       "      <td>Paris</td>\n",
       "      <td>['French', 'American', 'Bar', 'European', 'Veg...</td>\n",
       "      <td>6341</td>\n",
       "      <td>3.5</td>\n",
       "      <td>medium</td>\n",
       "      <td>542.0</td>\n",
       "      <td>[['Parisian atmosphere', 'Bit pricey but inter...</td>\n",
       "      <td>/Restaurant_Review-g187147-d1800036-Reviews-La...</td>\n",
       "      <td>d1800036</td>\n",
       "      <td>9.0</td>\n",
       "    </tr>\n",
       "    <tr>\n",
       "      <th>39997</th>\n",
       "      <td>Stockholm</td>\n",
       "      <td>['Japanese', 'Sushi']</td>\n",
       "      <td>1652</td>\n",
       "      <td>4.5</td>\n",
       "      <td>high</td>\n",
       "      <td>4.0</td>\n",
       "      <td>[['Good by swedish standards', 'A hidden jewel...</td>\n",
       "      <td>/Restaurant_Review-g189852-d947615-Reviews-Sus...</td>\n",
       "      <td>d947615</td>\n",
       "      <td>3127.0</td>\n",
       "    </tr>\n",
       "    <tr>\n",
       "      <th>39998</th>\n",
       "      <td>Warsaw</td>\n",
       "      <td>['Polish', 'European', 'Eastern European', 'Ce...</td>\n",
       "      <td>641</td>\n",
       "      <td>4.0</td>\n",
       "      <td>medium</td>\n",
       "      <td>70.0</td>\n",
       "      <td>[['Underground restaurant', 'Oldest Restaurant...</td>\n",
       "      <td>/Restaurant_Review-g274856-d1100838-Reviews-Ho...</td>\n",
       "      <td>d1100838</td>\n",
       "      <td>23.0</td>\n",
       "    </tr>\n",
       "    <tr>\n",
       "      <th>39999</th>\n",
       "      <td>Milan</td>\n",
       "      <td>['Spanish']</td>\n",
       "      <td>4827</td>\n",
       "      <td>3.0</td>\n",
       "      <td>medium</td>\n",
       "      <td>260.0</td>\n",
       "      <td>[['Average', 'Nice an informal'], ['01/31/2016...</td>\n",
       "      <td>/Restaurant_Review-g187849-d1109020-Reviews-Ta...</td>\n",
       "      <td>d1109020</td>\n",
       "      <td>1306.0</td>\n",
       "    </tr>\n",
       "  </tbody>\n",
       "</table>\n",
       "<p>37877 rows × 10 columns</p>\n",
       "</div>"
      ],
      "text/plain": [
       "            city                                            cuisine  ranking  \\\n",
       "0          Paris            ['European', 'French', 'International']     5570   \n",
       "1      Stockholm                            ['European', 'Swedish']     1537   \n",
       "2         London  ['Japanese', 'Sushi', 'Asian', 'Grill', 'Veget...      353   \n",
       "3         Berlin                                        ['Italian']     3458   \n",
       "4         Munich  ['German', 'Central European', 'Vegetarian Fri...      621   \n",
       "...          ...                                                ...      ...   \n",
       "39995      Milan  ['Italian', 'Vegetarian Friendly', 'Vegan Opti...      500   \n",
       "39996      Paris  ['French', 'American', 'Bar', 'European', 'Veg...     6341   \n",
       "39997  Stockholm                              ['Japanese', 'Sushi']     1652   \n",
       "39998     Warsaw  ['Polish', 'European', 'Eastern European', 'Ce...      641   \n",
       "39999      Milan                                        ['Spanish']     4827   \n",
       "\n",
       "       rating price_range  reviews_amount  \\\n",
       "0         3.5      medium           194.0   \n",
       "1         4.0        high            10.0   \n",
       "2         4.5        high           688.0   \n",
       "3         5.0        high             3.0   \n",
       "4         4.0      medium            84.0   \n",
       "...       ...         ...             ...   \n",
       "39995     4.5      medium            79.0   \n",
       "39996     3.5      medium           542.0   \n",
       "39997     4.5        high             4.0   \n",
       "39998     4.0      medium            70.0   \n",
       "39999     3.0      medium           260.0   \n",
       "\n",
       "                                                 reviews  \\\n",
       "0      [['Good food at your doorstep', 'A good hotel ...   \n",
       "1      [['Unique cuisine', 'Delicious Nepalese food']...   \n",
       "2      [['Catch up with friends', 'Not exceptional'],...   \n",
       "3                                               [[], []]   \n",
       "4      [['Best place to try a Bavarian food', 'Nice b...   \n",
       "...                                                  ...   \n",
       "39995  [['The real Italian experience!', 'Wonderful f...   \n",
       "39996  [['Parisian atmosphere', 'Bit pricey but inter...   \n",
       "39997  [['Good by swedish standards', 'A hidden jewel...   \n",
       "39998  [['Underground restaurant', 'Oldest Restaurant...   \n",
       "39999  [['Average', 'Nice an informal'], ['01/31/2016...   \n",
       "\n",
       "                                                  url_ta     id_ta  \\\n",
       "0      /Restaurant_Review-g187147-d1912643-Reviews-R_...  d1912643   \n",
       "1      /Restaurant_Review-g189852-d7992032-Reviews-Bu...  d7992032   \n",
       "2      /Restaurant_Review-g186338-d8632781-Reviews-RO...  d8632781   \n",
       "3      /Restaurant_Review-g187323-d1358776-Reviews-Es...  d1358776   \n",
       "4      /Restaurant_Review-g187309-d6864963-Reviews-Au...  d6864963   \n",
       "...                                                  ...       ...   \n",
       "39995  /Restaurant_Review-g187849-d2104414-Reviews-Ro...  d2104414   \n",
       "39996  /Restaurant_Review-g187147-d1800036-Reviews-La...  d1800036   \n",
       "39997  /Restaurant_Review-g189852-d947615-Reviews-Sus...   d947615   \n",
       "39998  /Restaurant_Review-g274856-d1100838-Reviews-Ho...  d1100838   \n",
       "39999  /Restaurant_Review-g187849-d1109020-Reviews-Ta...  d1109020   \n",
       "\n",
       "       review_dates_diff  \n",
       "0                   41.0  \n",
       "1                  382.0  \n",
       "2                    2.0  \n",
       "3                    NaN  \n",
       "4                  272.0  \n",
       "...                  ...  \n",
       "39995               34.0  \n",
       "39996                9.0  \n",
       "39997             3127.0  \n",
       "39998               23.0  \n",
       "39999             1306.0  \n",
       "\n",
       "[37877 rows x 10 columns]"
      ]
     },
     "execution_count": 84,
     "metadata": {},
     "output_type": "execute_result"
    }
   ],
   "source": [
    "new_data"
   ]
  },
  {
   "cell_type": "markdown",
   "metadata": {},
   "source": [
    "Now let's take a look at the distribution of this variable:"
   ]
  },
  {
   "cell_type": "code",
   "execution_count": 85,
   "metadata": {
    "ExecuteTime": {
     "end_time": "2020-08-21T14:49:00.157845Z",
     "start_time": "2020-08-21T14:48:59.092094Z"
    },
    "scrolled": false
   },
   "outputs": [
    {
     "data": {
      "text/plain": [
       "Text(0.5, 1.0, 'Boxplot for the date differences')"
      ]
     },
     "execution_count": 85,
     "metadata": {},
     "output_type": "execute_result"
    },
    {
     "data": {
      "image/png": "[encoded data removed]",
      "text/plain": [
       "<Figure size 1152x360 with 2 Axes>"
      ]
     },
     "metadata": {},
     "output_type": "display_data"
    }
   ],
   "source": [
    "fig = plt.figure(figsize=(16, 5))\n",
    "ax1, ax2 = fig.subplots(1, 2)\n",
    "ax1.hist(new_data.review_dates_diff, bins=100)\n",
    "ax2.boxplot(new_data.review_dates_diff.dropna(), vert=False)\n",
    "\n",
    "ax1.set_title('Distribution of the date differences', size=15)\n",
    "ax2.set_title('Boxplot for the date differences', size=15)"
   ]
  },
  {
   "cell_type": "markdown",
   "metadata": {
    "ExecuteTime": {
     "end_time": "2020-08-20T14:44:37.422726Z",
     "start_time": "2020-08-20T14:44:37.381523Z"
    }
   },
   "source": [
    "Values more than 1000 seem to be quite unrealistic. "
   ]
  },
  {
   "cell_type": "code",
   "execution_count": 86,
   "metadata": {
    "ExecuteTime": {
     "end_time": "2020-08-21T14:49:00.173718Z",
     "start_time": "2020-08-21T14:49:00.157845Z"
    }
   },
   "outputs": [
    {
     "name": "stdout",
     "output_type": "stream",
     "text": [
      "Amount of values more than 1000: 382\n"
     ]
    }
   ],
   "source": [
    "print(f'Amount of values more than 1000: {new_data[new_data.review_dates_diff > 1000].review_dates_diff.count()}')"
   ]
  },
  {
   "cell_type": "markdown",
   "metadata": {},
   "source": [
    "Since 382 values is a small part of the whole dataset, it is possible to delete these values considering them as outliers:"
   ]
  },
  {
   "cell_type": "code",
   "execution_count": 87,
   "metadata": {
    "ExecuteTime": {
     "end_time": "2020-08-21T14:49:00.224170Z",
     "start_time": "2020-08-21T14:49:00.176823Z"
    }
   },
   "outputs": [],
   "source": [
    "new_data.review_dates_diff = new_data.review_dates_diff.apply(lambda x: np.nan if x > 1000 else x)"
   ]
  },
  {
   "cell_type": "markdown",
   "metadata": {},
   "source": [
    "Let's try to fill all the missing values in this column with **backfill** method from Pandas. Later it will be clear whether this was sensible:"
   ]
  },
  {
   "cell_type": "code",
   "execution_count": 88,
   "metadata": {
    "ExecuteTime": {
     "end_time": "2020-08-21T14:49:00.296169Z",
     "start_time": "2020-08-21T14:49:00.224170Z"
    }
   },
   "outputs": [],
   "source": [
    "median = round(new_data.review_dates_diff.median())\n",
    "new_data.review_dates_diff.fillna(method='bfill', inplace=True)\n",
    "new_data.review_dates_diff = new_data.review_dates_diff.apply(lambda x: median if str(x).lower() == 'nan' or pd.isna(x) else x)"
   ]
  },
  {
   "cell_type": "code",
   "execution_count": 89,
   "metadata": {
    "ExecuteTime": {
     "end_time": "2020-08-21T14:49:00.336183Z",
     "start_time": "2020-08-21T14:49:00.296169Z"
    }
   },
   "outputs": [
    {
     "name": "stdout",
     "output_type": "stream",
     "text": [
      "<class 'pandas.core.frame.DataFrame'>\n",
      "Int64Index: 37877 entries, 0 to 39999\n",
      "Data columns (total 10 columns):\n",
      " #   Column             Non-Null Count  Dtype  \n",
      "---  ------             --------------  -----  \n",
      " 0   city               37877 non-null  object \n",
      " 1   cuisine            37877 non-null  object \n",
      " 2   ranking            37877 non-null  int64  \n",
      " 3   rating             36389 non-null  float64\n",
      " 4   price_range        37877 non-null  object \n",
      " 5   reviews_amount     37877 non-null  float64\n",
      " 6   reviews            37877 non-null  object \n",
      " 7   url_ta             37877 non-null  object \n",
      " 8   id_ta              37877 non-null  object \n",
      " 9   review_dates_diff  37877 non-null  float64\n",
      "dtypes: float64(3), int64(1), object(6)\n",
      "memory usage: 3.2+ MB\n"
     ]
    }
   ],
   "source": [
    "new_data.info()"
   ]
  },
  {
   "cell_type": "markdown",
   "metadata": {},
   "source": [
    "## URL on TripAdvisor"
   ]
  },
  {
   "cell_type": "code",
   "execution_count": 90,
   "metadata": {
    "ExecuteTime": {
     "end_time": "2020-08-21T14:49:00.384195Z",
     "start_time": "2020-08-21T14:49:00.336183Z"
    }
   },
   "outputs": [
    {
     "data": {
      "text/html": [
       "<div>\n",
       "<style scoped>\n",
       "    .dataframe tbody tr th:only-of-type {\n",
       "        vertical-align: middle;\n",
       "    }\n",
       "\n",
       "    .dataframe tbody tr th {\n",
       "        vertical-align: top;\n",
       "    }\n",
       "\n",
       "    .dataframe thead th {\n",
       "        text-align: right;\n",
       "    }\n",
       "</style>\n",
       "<table border=\"1\" class=\"dataframe\">\n",
       "  <thead>\n",
       "    <tr style=\"text-align: right;\">\n",
       "      <th></th>\n",
       "      <th>city</th>\n",
       "      <th>cuisine</th>\n",
       "      <th>ranking</th>\n",
       "      <th>rating</th>\n",
       "      <th>price_range</th>\n",
       "      <th>reviews_amount</th>\n",
       "      <th>reviews</th>\n",
       "      <th>url_ta</th>\n",
       "      <th>id_ta</th>\n",
       "      <th>review_dates_diff</th>\n",
       "    </tr>\n",
       "  </thead>\n",
       "  <tbody>\n",
       "    <tr>\n",
       "      <th>0</th>\n",
       "      <td>Paris</td>\n",
       "      <td>['European', 'French', 'International']</td>\n",
       "      <td>5570</td>\n",
       "      <td>3.5</td>\n",
       "      <td>medium</td>\n",
       "      <td>194.0</td>\n",
       "      <td>[['Good food at your doorstep', 'A good hotel ...</td>\n",
       "      <td>/Restaurant_Review-g187147-d1912643-Reviews-R_...</td>\n",
       "      <td>d1912643</td>\n",
       "      <td>41.0</td>\n",
       "    </tr>\n",
       "    <tr>\n",
       "      <th>1</th>\n",
       "      <td>Stockholm</td>\n",
       "      <td>['European', 'Swedish']</td>\n",
       "      <td>1537</td>\n",
       "      <td>4.0</td>\n",
       "      <td>high</td>\n",
       "      <td>10.0</td>\n",
       "      <td>[['Unique cuisine', 'Delicious Nepalese food']...</td>\n",
       "      <td>/Restaurant_Review-g189852-d7992032-Reviews-Bu...</td>\n",
       "      <td>d7992032</td>\n",
       "      <td>382.0</td>\n",
       "    </tr>\n",
       "    <tr>\n",
       "      <th>2</th>\n",
       "      <td>London</td>\n",
       "      <td>['Japanese', 'Sushi', 'Asian', 'Grill', 'Veget...</td>\n",
       "      <td>353</td>\n",
       "      <td>4.5</td>\n",
       "      <td>high</td>\n",
       "      <td>688.0</td>\n",
       "      <td>[['Catch up with friends', 'Not exceptional'],...</td>\n",
       "      <td>/Restaurant_Review-g186338-d8632781-Reviews-RO...</td>\n",
       "      <td>d8632781</td>\n",
       "      <td>2.0</td>\n",
       "    </tr>\n",
       "    <tr>\n",
       "      <th>3</th>\n",
       "      <td>Berlin</td>\n",
       "      <td>['Italian']</td>\n",
       "      <td>3458</td>\n",
       "      <td>5.0</td>\n",
       "      <td>high</td>\n",
       "      <td>3.0</td>\n",
       "      <td>[[], []]</td>\n",
       "      <td>/Restaurant_Review-g187323-d1358776-Reviews-Es...</td>\n",
       "      <td>d1358776</td>\n",
       "      <td>272.0</td>\n",
       "    </tr>\n",
       "    <tr>\n",
       "      <th>4</th>\n",
       "      <td>Munich</td>\n",
       "      <td>['German', 'Central European', 'Vegetarian Fri...</td>\n",
       "      <td>621</td>\n",
       "      <td>4.0</td>\n",
       "      <td>medium</td>\n",
       "      <td>84.0</td>\n",
       "      <td>[['Best place to try a Bavarian food', 'Nice b...</td>\n",
       "      <td>/Restaurant_Review-g187309-d6864963-Reviews-Au...</td>\n",
       "      <td>d6864963</td>\n",
       "      <td>272.0</td>\n",
       "    </tr>\n",
       "    <tr>\n",
       "      <th>...</th>\n",
       "      <td>...</td>\n",
       "      <td>...</td>\n",
       "      <td>...</td>\n",
       "      <td>...</td>\n",
       "      <td>...</td>\n",
       "      <td>...</td>\n",
       "      <td>...</td>\n",
       "      <td>...</td>\n",
       "      <td>...</td>\n",
       "      <td>...</td>\n",
       "    </tr>\n",
       "    <tr>\n",
       "      <th>39995</th>\n",
       "      <td>Milan</td>\n",
       "      <td>['Italian', 'Vegetarian Friendly', 'Vegan Opti...</td>\n",
       "      <td>500</td>\n",
       "      <td>4.5</td>\n",
       "      <td>medium</td>\n",
       "      <td>79.0</td>\n",
       "      <td>[['The real Italian experience!', 'Wonderful f...</td>\n",
       "      <td>/Restaurant_Review-g187849-d2104414-Reviews-Ro...</td>\n",
       "      <td>d2104414</td>\n",
       "      <td>34.0</td>\n",
       "    </tr>\n",
       "    <tr>\n",
       "      <th>39996</th>\n",
       "      <td>Paris</td>\n",
       "      <td>['French', 'American', 'Bar', 'European', 'Veg...</td>\n",
       "      <td>6341</td>\n",
       "      <td>3.5</td>\n",
       "      <td>medium</td>\n",
       "      <td>542.0</td>\n",
       "      <td>[['Parisian atmosphere', 'Bit pricey but inter...</td>\n",
       "      <td>/Restaurant_Review-g187147-d1800036-Reviews-La...</td>\n",
       "      <td>d1800036</td>\n",
       "      <td>9.0</td>\n",
       "    </tr>\n",
       "    <tr>\n",
       "      <th>39997</th>\n",
       "      <td>Stockholm</td>\n",
       "      <td>['Japanese', 'Sushi']</td>\n",
       "      <td>1652</td>\n",
       "      <td>4.5</td>\n",
       "      <td>high</td>\n",
       "      <td>4.0</td>\n",
       "      <td>[['Good by swedish standards', 'A hidden jewel...</td>\n",
       "      <td>/Restaurant_Review-g189852-d947615-Reviews-Sus...</td>\n",
       "      <td>d947615</td>\n",
       "      <td>23.0</td>\n",
       "    </tr>\n",
       "    <tr>\n",
       "      <th>39998</th>\n",
       "      <td>Warsaw</td>\n",
       "      <td>['Polish', 'European', 'Eastern European', 'Ce...</td>\n",
       "      <td>641</td>\n",
       "      <td>4.0</td>\n",
       "      <td>medium</td>\n",
       "      <td>70.0</td>\n",
       "      <td>[['Underground restaurant', 'Oldest Restaurant...</td>\n",
       "      <td>/Restaurant_Review-g274856-d1100838-Reviews-Ho...</td>\n",
       "      <td>d1100838</td>\n",
       "      <td>23.0</td>\n",
       "    </tr>\n",
       "    <tr>\n",
       "      <th>39999</th>\n",
       "      <td>Milan</td>\n",
       "      <td>['Spanish']</td>\n",
       "      <td>4827</td>\n",
       "      <td>3.0</td>\n",
       "      <td>medium</td>\n",
       "      <td>260.0</td>\n",
       "      <td>[['Average', 'Nice an informal'], ['01/31/2016...</td>\n",
       "      <td>/Restaurant_Review-g187849-d1109020-Reviews-Ta...</td>\n",
       "      <td>d1109020</td>\n",
       "      <td>61.0</td>\n",
       "    </tr>\n",
       "  </tbody>\n",
       "</table>\n",
       "<p>37877 rows × 10 columns</p>\n",
       "</div>"
      ],
      "text/plain": [
       "            city                                            cuisine  ranking  \\\n",
       "0          Paris            ['European', 'French', 'International']     5570   \n",
       "1      Stockholm                            ['European', 'Swedish']     1537   \n",
       "2         London  ['Japanese', 'Sushi', 'Asian', 'Grill', 'Veget...      353   \n",
       "3         Berlin                                        ['Italian']     3458   \n",
       "4         Munich  ['German', 'Central European', 'Vegetarian Fri...      621   \n",
       "...          ...                                                ...      ...   \n",
       "39995      Milan  ['Italian', 'Vegetarian Friendly', 'Vegan Opti...      500   \n",
       "39996      Paris  ['French', 'American', 'Bar', 'European', 'Veg...     6341   \n",
       "39997  Stockholm                              ['Japanese', 'Sushi']     1652   \n",
       "39998     Warsaw  ['Polish', 'European', 'Eastern European', 'Ce...      641   \n",
       "39999      Milan                                        ['Spanish']     4827   \n",
       "\n",
       "       rating price_range  reviews_amount  \\\n",
       "0         3.5      medium           194.0   \n",
       "1         4.0        high            10.0   \n",
       "2         4.5        high           688.0   \n",
       "3         5.0        high             3.0   \n",
       "4         4.0      medium            84.0   \n",
       "...       ...         ...             ...   \n",
       "39995     4.5      medium            79.0   \n",
       "39996     3.5      medium           542.0   \n",
       "39997     4.5        high             4.0   \n",
       "39998     4.0      medium            70.0   \n",
       "39999     3.0      medium           260.0   \n",
       "\n",
       "                                                 reviews  \\\n",
       "0      [['Good food at your doorstep', 'A good hotel ...   \n",
       "1      [['Unique cuisine', 'Delicious Nepalese food']...   \n",
       "2      [['Catch up with friends', 'Not exceptional'],...   \n",
       "3                                               [[], []]   \n",
       "4      [['Best place to try a Bavarian food', 'Nice b...   \n",
       "...                                                  ...   \n",
       "39995  [['The real Italian experience!', 'Wonderful f...   \n",
       "39996  [['Parisian atmosphere', 'Bit pricey but inter...   \n",
       "39997  [['Good by swedish standards', 'A hidden jewel...   \n",
       "39998  [['Underground restaurant', 'Oldest Restaurant...   \n",
       "39999  [['Average', 'Nice an informal'], ['01/31/2016...   \n",
       "\n",
       "                                                  url_ta     id_ta  \\\n",
       "0      /Restaurant_Review-g187147-d1912643-Reviews-R_...  d1912643   \n",
       "1      /Restaurant_Review-g189852-d7992032-Reviews-Bu...  d7992032   \n",
       "2      /Restaurant_Review-g186338-d8632781-Reviews-RO...  d8632781   \n",
       "3      /Restaurant_Review-g187323-d1358776-Reviews-Es...  d1358776   \n",
       "4      /Restaurant_Review-g187309-d6864963-Reviews-Au...  d6864963   \n",
       "...                                                  ...       ...   \n",
       "39995  /Restaurant_Review-g187849-d2104414-Reviews-Ro...  d2104414   \n",
       "39996  /Restaurant_Review-g187147-d1800036-Reviews-La...  d1800036   \n",
       "39997  /Restaurant_Review-g189852-d947615-Reviews-Sus...   d947615   \n",
       "39998  /Restaurant_Review-g274856-d1100838-Reviews-Ho...  d1100838   \n",
       "39999  /Restaurant_Review-g187849-d1109020-Reviews-Ta...  d1109020   \n",
       "\n",
       "       review_dates_diff  \n",
       "0                   41.0  \n",
       "1                  382.0  \n",
       "2                    2.0  \n",
       "3                  272.0  \n",
       "4                  272.0  \n",
       "...                  ...  \n",
       "39995               34.0  \n",
       "39996                9.0  \n",
       "39997               23.0  \n",
       "39998               23.0  \n",
       "39999               61.0  \n",
       "\n",
       "[37877 rows x 10 columns]"
      ]
     },
     "execution_count": 90,
     "metadata": {},
     "output_type": "execute_result"
    }
   ],
   "source": [
    "new_data"
   ]
  },
  {
   "cell_type": "code",
   "execution_count": 91,
   "metadata": {
    "ExecuteTime": {
     "end_time": "2020-08-21T14:49:00.448240Z",
     "start_time": "2020-08-21T14:49:00.384195Z"
    }
   },
   "outputs": [
    {
     "name": "stdout",
     "output_type": "stream",
     "text": [
      "Number of unique values for 'url_ta' column: 39980\n",
      "\n",
      "Unique values in 'url_ta' column:\n",
      " ['/Restaurant_Review-g187147-d1912643-Reviews-R_Yves-Paris_Ile_de_France.html'\n",
      " '/Restaurant_Review-g189852-d7992032-Reviews-Buddha_Nepal-Stockholm.html'\n",
      " '/Restaurant_Review-g186338-d8632781-Reviews-ROKA_Mayfair-London_England.html'\n",
      " ...\n",
      " '/Restaurant_Review-g189852-d947615-Reviews-Sushi_Bar_Anu-Stockholm.html'\n",
      " '/Restaurant_Review-g274856-d1100838-Reviews-Honoratka_dawna_Oberza_na_Miodowej-Warsaw_Mazovia_Province_Central_Poland.html'\n",
      " '/Restaurant_Review-g187849-d1109020-Reviews-Taberna_Vasca-Milan_Lombardy.html']\n"
     ]
    }
   ],
   "source": [
    "show_unique('url_ta')"
   ]
  },
  {
   "cell_type": "markdown",
   "metadata": {
    "ExecuteTime": {
     "end_time": "2020-08-20T15:19:48.657008Z",
     "start_time": "2020-08-20T15:19:48.633267Z"
    }
   },
   "source": [
    "**No ideas how to use this information yet, so I will proceed to the next step for now.**"
   ]
  },
  {
   "cell_type": "code",
   "execution_count": null,
   "metadata": {},
   "outputs": [],
   "source": []
  },
  {
   "cell_type": "code",
   "execution_count": null,
   "metadata": {},
   "outputs": [],
   "source": []
  },
  {
   "cell_type": "code",
   "execution_count": null,
   "metadata": {},
   "outputs": [],
   "source": []
  },
  {
   "cell_type": "code",
   "execution_count": null,
   "metadata": {},
   "outputs": [],
   "source": []
  },
  {
   "cell_type": "markdown",
   "metadata": {},
   "source": [
    "## ID number on TripAdvisor\n",
    "\n",
    "This feature gives no additional information for the future model now, so deleting this one makes sense:"
   ]
  },
  {
   "cell_type": "code",
   "execution_count": 92,
   "metadata": {
    "ExecuteTime": {
     "end_time": "2020-08-21T14:49:00.472235Z",
     "start_time": "2020-08-21T14:49:00.448240Z"
    }
   },
   "outputs": [],
   "source": [
    "new_data.drop(['id_ta'], axis=1, inplace=True)"
   ]
  },
  {
   "cell_type": "markdown",
   "metadata": {},
   "source": [
    "# Feature Engineering\n",
    "\n",
    "There is already one new feature which shows how many days passed between two latest reviews on restaurant's web-page.\n",
    "\n",
    "Now it makes sense go deeper and dig the data for some new features."
   ]
  },
  {
   "cell_type": "code",
   "execution_count": 93,
   "metadata": {
    "ExecuteTime": {
     "end_time": "2020-08-21T14:49:00.496219Z",
     "start_time": "2020-08-21T14:49:00.472235Z"
    }
   },
   "outputs": [
    {
     "data": {
      "text/html": [
       "<div>\n",
       "<style scoped>\n",
       "    .dataframe tbody tr th:only-of-type {\n",
       "        vertical-align: middle;\n",
       "    }\n",
       "\n",
       "    .dataframe tbody tr th {\n",
       "        vertical-align: top;\n",
       "    }\n",
       "\n",
       "    .dataframe thead th {\n",
       "        text-align: right;\n",
       "    }\n",
       "</style>\n",
       "<table border=\"1\" class=\"dataframe\">\n",
       "  <thead>\n",
       "    <tr style=\"text-align: right;\">\n",
       "      <th></th>\n",
       "      <th>city</th>\n",
       "      <th>cuisine</th>\n",
       "      <th>ranking</th>\n",
       "      <th>rating</th>\n",
       "      <th>price_range</th>\n",
       "      <th>reviews_amount</th>\n",
       "      <th>reviews</th>\n",
       "      <th>url_ta</th>\n",
       "      <th>review_dates_diff</th>\n",
       "    </tr>\n",
       "  </thead>\n",
       "  <tbody>\n",
       "    <tr>\n",
       "      <th>0</th>\n",
       "      <td>Paris</td>\n",
       "      <td>['European', 'French', 'International']</td>\n",
       "      <td>5570</td>\n",
       "      <td>3.5</td>\n",
       "      <td>medium</td>\n",
       "      <td>194.0</td>\n",
       "      <td>[['Good food at your doorstep', 'A good hotel ...</td>\n",
       "      <td>/Restaurant_Review-g187147-d1912643-Reviews-R_...</td>\n",
       "      <td>41.0</td>\n",
       "    </tr>\n",
       "    <tr>\n",
       "      <th>1</th>\n",
       "      <td>Stockholm</td>\n",
       "      <td>['European', 'Swedish']</td>\n",
       "      <td>1537</td>\n",
       "      <td>4.0</td>\n",
       "      <td>high</td>\n",
       "      <td>10.0</td>\n",
       "      <td>[['Unique cuisine', 'Delicious Nepalese food']...</td>\n",
       "      <td>/Restaurant_Review-g189852-d7992032-Reviews-Bu...</td>\n",
       "      <td>382.0</td>\n",
       "    </tr>\n",
       "    <tr>\n",
       "      <th>2</th>\n",
       "      <td>London</td>\n",
       "      <td>['Japanese', 'Sushi', 'Asian', 'Grill', 'Veget...</td>\n",
       "      <td>353</td>\n",
       "      <td>4.5</td>\n",
       "      <td>high</td>\n",
       "      <td>688.0</td>\n",
       "      <td>[['Catch up with friends', 'Not exceptional'],...</td>\n",
       "      <td>/Restaurant_Review-g186338-d8632781-Reviews-RO...</td>\n",
       "      <td>2.0</td>\n",
       "    </tr>\n",
       "    <tr>\n",
       "      <th>3</th>\n",
       "      <td>Berlin</td>\n",
       "      <td>['Italian']</td>\n",
       "      <td>3458</td>\n",
       "      <td>5.0</td>\n",
       "      <td>high</td>\n",
       "      <td>3.0</td>\n",
       "      <td>[[], []]</td>\n",
       "      <td>/Restaurant_Review-g187323-d1358776-Reviews-Es...</td>\n",
       "      <td>272.0</td>\n",
       "    </tr>\n",
       "    <tr>\n",
       "      <th>4</th>\n",
       "      <td>Munich</td>\n",
       "      <td>['German', 'Central European', 'Vegetarian Fri...</td>\n",
       "      <td>621</td>\n",
       "      <td>4.0</td>\n",
       "      <td>medium</td>\n",
       "      <td>84.0</td>\n",
       "      <td>[['Best place to try a Bavarian food', 'Nice b...</td>\n",
       "      <td>/Restaurant_Review-g187309-d6864963-Reviews-Au...</td>\n",
       "      <td>272.0</td>\n",
       "    </tr>\n",
       "  </tbody>\n",
       "</table>\n",
       "</div>"
      ],
      "text/plain": [
       "        city                                            cuisine  ranking  \\\n",
       "0      Paris            ['European', 'French', 'International']     5570   \n",
       "1  Stockholm                            ['European', 'Swedish']     1537   \n",
       "2     London  ['Japanese', 'Sushi', 'Asian', 'Grill', 'Veget...      353   \n",
       "3     Berlin                                        ['Italian']     3458   \n",
       "4     Munich  ['German', 'Central European', 'Vegetarian Fri...      621   \n",
       "\n",
       "   rating price_range  reviews_amount  \\\n",
       "0     3.5      medium           194.0   \n",
       "1     4.0        high            10.0   \n",
       "2     4.5        high           688.0   \n",
       "3     5.0        high             3.0   \n",
       "4     4.0      medium            84.0   \n",
       "\n",
       "                                             reviews  \\\n",
       "0  [['Good food at your doorstep', 'A good hotel ...   \n",
       "1  [['Unique cuisine', 'Delicious Nepalese food']...   \n",
       "2  [['Catch up with friends', 'Not exceptional'],...   \n",
       "3                                           [[], []]   \n",
       "4  [['Best place to try a Bavarian food', 'Nice b...   \n",
       "\n",
       "                                              url_ta  review_dates_diff  \n",
       "0  /Restaurant_Review-g187147-d1912643-Reviews-R_...               41.0  \n",
       "1  /Restaurant_Review-g189852-d7992032-Reviews-Bu...              382.0  \n",
       "2  /Restaurant_Review-g186338-d8632781-Reviews-RO...                2.0  \n",
       "3  /Restaurant_Review-g187323-d1358776-Reviews-Es...              272.0  \n",
       "4  /Restaurant_Review-g187309-d6864963-Reviews-Au...              272.0  "
      ]
     },
     "execution_count": 93,
     "metadata": {},
     "output_type": "execute_result"
    }
   ],
   "source": [
    "new_data.head()"
   ]
  },
  {
   "cell_type": "code",
   "execution_count": 94,
   "metadata": {
    "ExecuteTime": {
     "end_time": "2020-08-21T14:49:00.536254Z",
     "start_time": "2020-08-21T14:49:00.496219Z"
    },
    "scrolled": true
   },
   "outputs": [
    {
     "name": "stdout",
     "output_type": "stream",
     "text": [
      "<class 'pandas.core.frame.DataFrame'>\n",
      "Int64Index: 37877 entries, 0 to 39999\n",
      "Data columns (total 9 columns):\n",
      " #   Column             Non-Null Count  Dtype  \n",
      "---  ------             --------------  -----  \n",
      " 0   city               37877 non-null  object \n",
      " 1   cuisine            37877 non-null  object \n",
      " 2   ranking            37877 non-null  int64  \n",
      " 3   rating             36389 non-null  float64\n",
      " 4   price_range        37877 non-null  object \n",
      " 5   reviews_amount     37877 non-null  float64\n",
      " 6   reviews            37877 non-null  object \n",
      " 7   url_ta             37877 non-null  object \n",
      " 8   review_dates_diff  37877 non-null  float64\n",
      "dtypes: float64(3), int64(1), object(5)\n",
      "memory usage: 2.9+ MB\n"
     ]
    }
   ],
   "source": [
    "new_data.info()"
   ]
  },
  {
   "cell_type": "markdown",
   "metadata": {},
   "source": [
    "## Average length of last two reviews"
   ]
  },
  {
   "cell_type": "markdown",
   "metadata": {},
   "source": [
    "Let's try to add a new feature: **mean amount of words in the last two reviews**. Probably if reviews are fake, they will contain less words.\n",
    "\n",
    "First of all, let's get rid of dates from review column values:"
   ]
  },
  {
   "cell_type": "code",
   "execution_count": 95,
   "metadata": {
    "ExecuteTime": {
     "end_time": "2020-08-21T14:49:00.552254Z",
     "start_time": "2020-08-21T14:49:00.536254Z"
    }
   },
   "outputs": [],
   "source": [
    "def del_date(x):\n",
    "    ptrn = r'\\d{2}/\\d{2}/\\d{4}'\n",
    "    x = re.sub(ptrn, '', x)\n",
    "    \n",
    "    return x"
   ]
  },
  {
   "cell_type": "code",
   "execution_count": 96,
   "metadata": {
    "ExecuteTime": {
     "end_time": "2020-08-21T14:49:00.769919Z",
     "start_time": "2020-08-21T14:49:00.552254Z"
    },
    "scrolled": true
   },
   "outputs": [
    {
     "data": {
      "text/html": [
       "<div>\n",
       "<style scoped>\n",
       "    .dataframe tbody tr th:only-of-type {\n",
       "        vertical-align: middle;\n",
       "    }\n",
       "\n",
       "    .dataframe tbody tr th {\n",
       "        vertical-align: top;\n",
       "    }\n",
       "\n",
       "    .dataframe thead th {\n",
       "        text-align: right;\n",
       "    }\n",
       "</style>\n",
       "<table border=\"1\" class=\"dataframe\">\n",
       "  <thead>\n",
       "    <tr style=\"text-align: right;\">\n",
       "      <th></th>\n",
       "      <th>city</th>\n",
       "      <th>cuisine</th>\n",
       "      <th>ranking</th>\n",
       "      <th>rating</th>\n",
       "      <th>price_range</th>\n",
       "      <th>reviews_amount</th>\n",
       "      <th>reviews</th>\n",
       "      <th>url_ta</th>\n",
       "      <th>review_dates_diff</th>\n",
       "    </tr>\n",
       "  </thead>\n",
       "  <tbody>\n",
       "    <tr>\n",
       "      <th>0</th>\n",
       "      <td>Paris</td>\n",
       "      <td>['European', 'French', 'International']</td>\n",
       "      <td>5570</td>\n",
       "      <td>3.5</td>\n",
       "      <td>medium</td>\n",
       "      <td>194.0</td>\n",
       "      <td>[['Good food at your doorstep', 'A good hotel ...</td>\n",
       "      <td>/Restaurant_Review-g187147-d1912643-Reviews-R_...</td>\n",
       "      <td>41.0</td>\n",
       "    </tr>\n",
       "    <tr>\n",
       "      <th>1</th>\n",
       "      <td>Stockholm</td>\n",
       "      <td>['European', 'Swedish']</td>\n",
       "      <td>1537</td>\n",
       "      <td>4.0</td>\n",
       "      <td>high</td>\n",
       "      <td>10.0</td>\n",
       "      <td>[['Unique cuisine', 'Delicious Nepalese food']...</td>\n",
       "      <td>/Restaurant_Review-g189852-d7992032-Reviews-Bu...</td>\n",
       "      <td>382.0</td>\n",
       "    </tr>\n",
       "  </tbody>\n",
       "</table>\n",
       "</div>"
      ],
      "text/plain": [
       "        city                                  cuisine  ranking  rating  \\\n",
       "0      Paris  ['European', 'French', 'International']     5570     3.5   \n",
       "1  Stockholm                  ['European', 'Swedish']     1537     4.0   \n",
       "\n",
       "  price_range  reviews_amount  \\\n",
       "0      medium           194.0   \n",
       "1        high            10.0   \n",
       "\n",
       "                                             reviews  \\\n",
       "0  [['Good food at your doorstep', 'A good hotel ...   \n",
       "1  [['Unique cuisine', 'Delicious Nepalese food']...   \n",
       "\n",
       "                                              url_ta  review_dates_diff  \n",
       "0  /Restaurant_Review-g187147-d1912643-Reviews-R_...               41.0  \n",
       "1  /Restaurant_Review-g189852-d7992032-Reviews-Bu...              382.0  "
      ]
     },
     "execution_count": 96,
     "metadata": {},
     "output_type": "execute_result"
    }
   ],
   "source": [
    "new_data.reviews = new_data.reviews.apply(del_date)\n",
    "new_data.head(2)"
   ]
  },
  {
   "cell_type": "markdown",
   "metadata": {},
   "source": [
    "Elements in columns **'cuisine'** and **'reviews'** are actually lists but, formally, they are strings.\n",
    "\n",
    "So, let's format them in order to work with real lists:"
   ]
  },
  {
   "cell_type": "code",
   "execution_count": 97,
   "metadata": {
    "ExecuteTime": {
     "end_time": "2020-08-21T14:49:01.370131Z",
     "start_time": "2020-08-21T14:49:00.769919Z"
    },
    "scrolled": true
   },
   "outputs": [
    {
     "name": "stdout",
     "output_type": "stream",
     "text": [
      "True\n",
      "True\n"
     ]
    }
   ],
   "source": [
    "new_data.cuisine = new_data.cuisine.str.replace(pat=r\"\\[|\\]|'\", repl='', regex=True)\n",
    "new_data.cuisine = new_data.cuisine.str.split(', ')\n",
    "\n",
    "new_data.reviews = new_data.reviews.str.replace(pat=r\",|\\[|\\]|'\", repl='', regex=True)\n",
    "new_data.reviews = new_data.reviews.str.split()\n",
    "\n",
    "print(type(new_data.cuisine.iloc[0]) is list)\n",
    "print(type(new_data.reviews.iloc[0]) is list)"
   ]
  },
  {
   "cell_type": "code",
   "execution_count": 98,
   "metadata": {
    "ExecuteTime": {
     "end_time": "2020-08-21T14:49:01.394534Z",
     "start_time": "2020-08-21T14:49:01.370131Z"
    },
    "scrolled": true
   },
   "outputs": [
    {
     "data": {
      "text/html": [
       "<div>\n",
       "<style scoped>\n",
       "    .dataframe tbody tr th:only-of-type {\n",
       "        vertical-align: middle;\n",
       "    }\n",
       "\n",
       "    .dataframe tbody tr th {\n",
       "        vertical-align: top;\n",
       "    }\n",
       "\n",
       "    .dataframe thead th {\n",
       "        text-align: right;\n",
       "    }\n",
       "</style>\n",
       "<table border=\"1\" class=\"dataframe\">\n",
       "  <thead>\n",
       "    <tr style=\"text-align: right;\">\n",
       "      <th></th>\n",
       "      <th>city</th>\n",
       "      <th>cuisine</th>\n",
       "      <th>ranking</th>\n",
       "      <th>rating</th>\n",
       "      <th>price_range</th>\n",
       "      <th>reviews_amount</th>\n",
       "      <th>reviews</th>\n",
       "      <th>url_ta</th>\n",
       "      <th>review_dates_diff</th>\n",
       "    </tr>\n",
       "  </thead>\n",
       "  <tbody>\n",
       "    <tr>\n",
       "      <th>0</th>\n",
       "      <td>Paris</td>\n",
       "      <td>[European, French, International]</td>\n",
       "      <td>5570</td>\n",
       "      <td>3.5</td>\n",
       "      <td>medium</td>\n",
       "      <td>194.0</td>\n",
       "      <td>[Good, food, at, your, doorstep, A, good, hote...</td>\n",
       "      <td>/Restaurant_Review-g187147-d1912643-Reviews-R_...</td>\n",
       "      <td>41.0</td>\n",
       "    </tr>\n",
       "    <tr>\n",
       "      <th>1</th>\n",
       "      <td>Stockholm</td>\n",
       "      <td>[European, Swedish]</td>\n",
       "      <td>1537</td>\n",
       "      <td>4.0</td>\n",
       "      <td>high</td>\n",
       "      <td>10.0</td>\n",
       "      <td>[Unique, cuisine, Delicious, Nepalese, food]</td>\n",
       "      <td>/Restaurant_Review-g189852-d7992032-Reviews-Bu...</td>\n",
       "      <td>382.0</td>\n",
       "    </tr>\n",
       "  </tbody>\n",
       "</table>\n",
       "</div>"
      ],
      "text/plain": [
       "        city                            cuisine  ranking  rating price_range  \\\n",
       "0      Paris  [European, French, International]     5570     3.5      medium   \n",
       "1  Stockholm                [European, Swedish]     1537     4.0        high   \n",
       "\n",
       "   reviews_amount                                            reviews  \\\n",
       "0           194.0  [Good, food, at, your, doorstep, A, good, hote...   \n",
       "1            10.0       [Unique, cuisine, Delicious, Nepalese, food]   \n",
       "\n",
       "                                              url_ta  review_dates_diff  \n",
       "0  /Restaurant_Review-g187147-d1912643-Reviews-R_...               41.0  \n",
       "1  /Restaurant_Review-g189852-d7992032-Reviews-Bu...              382.0  "
      ]
     },
     "execution_count": 98,
     "metadata": {},
     "output_type": "execute_result"
    }
   ],
   "source": [
    "new_data.head(2)"
   ]
  },
  {
   "cell_type": "code",
   "execution_count": 99,
   "metadata": {
    "ExecuteTime": {
     "end_time": "2020-08-21T14:49:01.446609Z",
     "start_time": "2020-08-21T14:49:01.397644Z"
    }
   },
   "outputs": [],
   "source": [
    "new_data['review_length'] = new_data['reviews'].apply(lambda x: len(x) / 2 if x else np.nan)"
   ]
  },
  {
   "cell_type": "markdown",
   "metadata": {},
   "source": [
    "**Correlation matrix:**"
   ]
  },
  {
   "cell_type": "code",
   "execution_count": 100,
   "metadata": {
    "ExecuteTime": {
     "end_time": "2020-08-21T14:49:01.478369Z",
     "start_time": "2020-08-21T14:49:01.446609Z"
    },
    "scrolled": true
   },
   "outputs": [
    {
     "data": {
      "text/html": [
       "<div>\n",
       "<style scoped>\n",
       "    .dataframe tbody tr th:only-of-type {\n",
       "        vertical-align: middle;\n",
       "    }\n",
       "\n",
       "    .dataframe tbody tr th {\n",
       "        vertical-align: top;\n",
       "    }\n",
       "\n",
       "    .dataframe thead th {\n",
       "        text-align: right;\n",
       "    }\n",
       "</style>\n",
       "<table border=\"1\" class=\"dataframe\">\n",
       "  <thead>\n",
       "    <tr style=\"text-align: right;\">\n",
       "      <th></th>\n",
       "      <th>ranking</th>\n",
       "      <th>rating</th>\n",
       "      <th>reviews_amount</th>\n",
       "      <th>review_dates_diff</th>\n",
       "      <th>review_length</th>\n",
       "    </tr>\n",
       "  </thead>\n",
       "  <tbody>\n",
       "    <tr>\n",
       "      <th>ranking</th>\n",
       "      <td>1.000000</td>\n",
       "      <td>-0.326697</td>\n",
       "      <td>-0.222329</td>\n",
       "      <td>0.110615</td>\n",
       "      <td>-0.036674</td>\n",
       "    </tr>\n",
       "    <tr>\n",
       "      <th>rating</th>\n",
       "      <td>-0.326697</td>\n",
       "      <td>1.000000</td>\n",
       "      <td>-0.004347</td>\n",
       "      <td>-0.065596</td>\n",
       "      <td>-0.026980</td>\n",
       "    </tr>\n",
       "    <tr>\n",
       "      <th>reviews_amount</th>\n",
       "      <td>-0.222329</td>\n",
       "      <td>-0.004347</td>\n",
       "      <td>1.000000</td>\n",
       "      <td>-0.165733</td>\n",
       "      <td>0.043640</td>\n",
       "    </tr>\n",
       "    <tr>\n",
       "      <th>review_dates_diff</th>\n",
       "      <td>0.110615</td>\n",
       "      <td>-0.065596</td>\n",
       "      <td>-0.165733</td>\n",
       "      <td>1.000000</td>\n",
       "      <td>0.018664</td>\n",
       "    </tr>\n",
       "    <tr>\n",
       "      <th>review_length</th>\n",
       "      <td>-0.036674</td>\n",
       "      <td>-0.026980</td>\n",
       "      <td>0.043640</td>\n",
       "      <td>0.018664</td>\n",
       "      <td>1.000000</td>\n",
       "    </tr>\n",
       "  </tbody>\n",
       "</table>\n",
       "</div>"
      ],
      "text/plain": [
       "                    ranking    rating  reviews_amount  review_dates_diff  \\\n",
       "ranking            1.000000 -0.326697       -0.222329           0.110615   \n",
       "rating            -0.326697  1.000000       -0.004347          -0.065596   \n",
       "reviews_amount    -0.222329 -0.004347        1.000000          -0.165733   \n",
       "review_dates_diff  0.110615 -0.065596       -0.165733           1.000000   \n",
       "review_length     -0.036674 -0.026980        0.043640           0.018664   \n",
       "\n",
       "                   review_length  \n",
       "ranking                -0.036674  \n",
       "rating                 -0.026980  \n",
       "reviews_amount          0.043640  \n",
       "review_dates_diff       0.018664  \n",
       "review_length           1.000000  "
      ]
     },
     "execution_count": 100,
     "metadata": {},
     "output_type": "execute_result"
    }
   ],
   "source": [
    "new_data.corr()"
   ]
  },
  {
   "cell_type": "markdown",
   "metadata": {},
   "source": [
    "## Number of cuisines a restaurant has\n",
    "\n",
    "> There is an assumption that the more cuisines the restaurant has, the worse its dishes (and therefore the rating) are because there is not just one cuisine which the restaurant specializes in. It is probably more difficult to be good at cooking all the dishes from different cuisines rather than being excellent in one cuisine.\n",
    "\n",
    "The idea is to count **how many different cuisines a restaurant has** and put this values into a new vector-column."
   ]
  },
  {
   "cell_type": "code",
   "execution_count": 101,
   "metadata": {
    "ExecuteTime": {
     "end_time": "2020-08-21T14:49:01.534394Z",
     "start_time": "2020-08-21T14:49:01.478369Z"
    }
   },
   "outputs": [
    {
     "data": {
      "text/html": [
       "<div>\n",
       "<style scoped>\n",
       "    .dataframe tbody tr th:only-of-type {\n",
       "        vertical-align: middle;\n",
       "    }\n",
       "\n",
       "    .dataframe tbody tr th {\n",
       "        vertical-align: top;\n",
       "    }\n",
       "\n",
       "    .dataframe thead th {\n",
       "        text-align: right;\n",
       "    }\n",
       "</style>\n",
       "<table border=\"1\" class=\"dataframe\">\n",
       "  <thead>\n",
       "    <tr style=\"text-align: right;\">\n",
       "      <th></th>\n",
       "      <th>city</th>\n",
       "      <th>cuisine</th>\n",
       "      <th>ranking</th>\n",
       "      <th>rating</th>\n",
       "      <th>price_range</th>\n",
       "      <th>reviews_amount</th>\n",
       "      <th>reviews</th>\n",
       "      <th>url_ta</th>\n",
       "      <th>review_dates_diff</th>\n",
       "      <th>review_length</th>\n",
       "      <th>cuisines_amount</th>\n",
       "    </tr>\n",
       "  </thead>\n",
       "  <tbody>\n",
       "    <tr>\n",
       "      <th>0</th>\n",
       "      <td>Paris</td>\n",
       "      <td>[European, French, International]</td>\n",
       "      <td>5570</td>\n",
       "      <td>3.5</td>\n",
       "      <td>medium</td>\n",
       "      <td>194.0</td>\n",
       "      <td>[Good, food, at, your, doorstep, A, good, hote...</td>\n",
       "      <td>/Restaurant_Review-g187147-d1912643-Reviews-R_...</td>\n",
       "      <td>41.0</td>\n",
       "      <td>4.5</td>\n",
       "      <td>3</td>\n",
       "    </tr>\n",
       "    <tr>\n",
       "      <th>1</th>\n",
       "      <td>Stockholm</td>\n",
       "      <td>[European, Swedish]</td>\n",
       "      <td>1537</td>\n",
       "      <td>4.0</td>\n",
       "      <td>high</td>\n",
       "      <td>10.0</td>\n",
       "      <td>[Unique, cuisine, Delicious, Nepalese, food]</td>\n",
       "      <td>/Restaurant_Review-g189852-d7992032-Reviews-Bu...</td>\n",
       "      <td>382.0</td>\n",
       "      <td>2.5</td>\n",
       "      <td>2</td>\n",
       "    </tr>\n",
       "  </tbody>\n",
       "</table>\n",
       "</div>"
      ],
      "text/plain": [
       "        city                            cuisine  ranking  rating price_range  \\\n",
       "0      Paris  [European, French, International]     5570     3.5      medium   \n",
       "1  Stockholm                [European, Swedish]     1537     4.0        high   \n",
       "\n",
       "   reviews_amount                                            reviews  \\\n",
       "0           194.0  [Good, food, at, your, doorstep, A, good, hote...   \n",
       "1            10.0       [Unique, cuisine, Delicious, Nepalese, food]   \n",
       "\n",
       "                                              url_ta  review_dates_diff  \\\n",
       "0  /Restaurant_Review-g187147-d1912643-Reviews-R_...               41.0   \n",
       "1  /Restaurant_Review-g189852-d7992032-Reviews-Bu...              382.0   \n",
       "\n",
       "   review_length  cuisines_amount  \n",
       "0            4.5                3  \n",
       "1            2.5                2  "
      ]
     },
     "execution_count": 101,
     "metadata": {},
     "output_type": "execute_result"
    }
   ],
   "source": [
    "new_data['cuisines_amount'] = new_data['cuisine'].apply(lambda x: len(x))\n",
    "new_data.head(2)"
   ]
  },
  {
   "cell_type": "code",
   "execution_count": 108,
   "metadata": {
    "ExecuteTime": {
     "end_time": "2020-08-21T14:49:45.013626Z",
     "start_time": "2020-08-21T14:49:44.980859Z"
    }
   },
   "outputs": [
    {
     "data": {
      "text/html": [
       "<div>\n",
       "<style scoped>\n",
       "    .dataframe tbody tr th:only-of-type {\n",
       "        vertical-align: middle;\n",
       "    }\n",
       "\n",
       "    .dataframe tbody tr th {\n",
       "        vertical-align: top;\n",
       "    }\n",
       "\n",
       "    .dataframe thead th {\n",
       "        text-align: right;\n",
       "    }\n",
       "</style>\n",
       "<table border=\"1\" class=\"dataframe\">\n",
       "  <thead>\n",
       "    <tr style=\"text-align: right;\">\n",
       "      <th></th>\n",
       "      <th>ranking</th>\n",
       "      <th>rating</th>\n",
       "      <th>reviews_amount</th>\n",
       "      <th>review_dates_diff</th>\n",
       "      <th>review_length</th>\n",
       "      <th>cuisines_amount</th>\n",
       "    </tr>\n",
       "  </thead>\n",
       "  <tbody>\n",
       "    <tr>\n",
       "      <th>ranking</th>\n",
       "      <td>1.000000</td>\n",
       "      <td>-0.326697</td>\n",
       "      <td>-0.222329</td>\n",
       "      <td>0.110615</td>\n",
       "      <td>-0.036674</td>\n",
       "      <td>-0.298376</td>\n",
       "    </tr>\n",
       "    <tr>\n",
       "      <th>rating</th>\n",
       "      <td>-0.326697</td>\n",
       "      <td>1.000000</td>\n",
       "      <td>-0.004347</td>\n",
       "      <td>-0.065596</td>\n",
       "      <td>-0.026980</td>\n",
       "      <td>0.078114</td>\n",
       "    </tr>\n",
       "    <tr>\n",
       "      <th>reviews_amount</th>\n",
       "      <td>-0.222329</td>\n",
       "      <td>-0.004347</td>\n",
       "      <td>1.000000</td>\n",
       "      <td>-0.165733</td>\n",
       "      <td>0.043640</td>\n",
       "      <td>0.387877</td>\n",
       "    </tr>\n",
       "    <tr>\n",
       "      <th>review_dates_diff</th>\n",
       "      <td>0.110615</td>\n",
       "      <td>-0.065596</td>\n",
       "      <td>-0.165733</td>\n",
       "      <td>1.000000</td>\n",
       "      <td>0.018664</td>\n",
       "      <td>-0.237211</td>\n",
       "    </tr>\n",
       "    <tr>\n",
       "      <th>review_length</th>\n",
       "      <td>-0.036674</td>\n",
       "      <td>-0.026980</td>\n",
       "      <td>0.043640</td>\n",
       "      <td>0.018664</td>\n",
       "      <td>1.000000</td>\n",
       "      <td>0.084750</td>\n",
       "    </tr>\n",
       "    <tr>\n",
       "      <th>cuisines_amount</th>\n",
       "      <td>-0.298376</td>\n",
       "      <td>0.078114</td>\n",
       "      <td>0.387877</td>\n",
       "      <td>-0.237211</td>\n",
       "      <td>0.084750</td>\n",
       "      <td>1.000000</td>\n",
       "    </tr>\n",
       "  </tbody>\n",
       "</table>\n",
       "</div>"
      ],
      "text/plain": [
       "                    ranking    rating  reviews_amount  review_dates_diff  \\\n",
       "ranking            1.000000 -0.326697       -0.222329           0.110615   \n",
       "rating            -0.326697  1.000000       -0.004347          -0.065596   \n",
       "reviews_amount    -0.222329 -0.004347        1.000000          -0.165733   \n",
       "review_dates_diff  0.110615 -0.065596       -0.165733           1.000000   \n",
       "review_length     -0.036674 -0.026980        0.043640           0.018664   \n",
       "cuisines_amount   -0.298376  0.078114        0.387877          -0.237211   \n",
       "\n",
       "                   review_length  cuisines_amount  \n",
       "ranking                -0.036674        -0.298376  \n",
       "rating                 -0.026980         0.078114  \n",
       "reviews_amount          0.043640         0.387877  \n",
       "review_dates_diff       0.018664        -0.237211  \n",
       "review_length           1.000000         0.084750  \n",
       "cuisines_amount         0.084750         1.000000  "
      ]
     },
     "execution_count": 108,
     "metadata": {},
     "output_type": "execute_result"
    }
   ],
   "source": [
    "new_data.corr()"
   ]
  },
  {
   "cell_type": "markdown",
   "metadata": {},
   "source": []
  },
  {
   "cell_type": "code",
   "execution_count": null,
   "metadata": {},
   "outputs": [],
   "source": []
  },
  {
   "cell_type": "code",
   "execution_count": null,
   "metadata": {},
   "outputs": [],
   "source": []
  },
  {
   "cell_type": "code",
   "execution_count": null,
   "metadata": {},
   "outputs": [],
   "source": []
  },
  {
   "cell_type": "code",
   "execution_count": null,
   "metadata": {},
   "outputs": [],
   "source": []
  },
  {
   "cell_type": "code",
   "execution_count": null,
   "metadata": {},
   "outputs": [],
   "source": []
  },
  {
   "cell_type": "code",
   "execution_count": null,
   "metadata": {},
   "outputs": [],
   "source": []
  },
  {
   "cell_type": "code",
   "execution_count": null,
   "metadata": {},
   "outputs": [],
   "source": []
  },
  {
   "cell_type": "code",
   "execution_count": null,
   "metadata": {},
   "outputs": [],
   "source": []
  },
  {
   "cell_type": "markdown",
   "metadata": {},
   "source": [
    "## Dummy price range"
   ]
  },
  {
   "cell_type": "code",
   "execution_count": 102,
   "metadata": {
    "ExecuteTime": {
     "end_time": "2020-08-21T14:49:01.574400Z",
     "start_time": "2020-08-21T14:49:01.534394Z"
    }
   },
   "outputs": [
    {
     "data": {
      "text/html": [
       "<div>\n",
       "<style scoped>\n",
       "    .dataframe tbody tr th:only-of-type {\n",
       "        vertical-align: middle;\n",
       "    }\n",
       "\n",
       "    .dataframe tbody tr th {\n",
       "        vertical-align: top;\n",
       "    }\n",
       "\n",
       "    .dataframe thead th {\n",
       "        text-align: right;\n",
       "    }\n",
       "</style>\n",
       "<table border=\"1\" class=\"dataframe\">\n",
       "  <thead>\n",
       "    <tr style=\"text-align: right;\">\n",
       "      <th></th>\n",
       "      <th>city</th>\n",
       "      <th>cuisine</th>\n",
       "      <th>ranking</th>\n",
       "      <th>rating</th>\n",
       "      <th>price_range</th>\n",
       "      <th>reviews_amount</th>\n",
       "      <th>reviews</th>\n",
       "      <th>url_ta</th>\n",
       "      <th>review_dates_diff</th>\n",
       "      <th>review_length</th>\n",
       "      <th>cuisines_amount</th>\n",
       "    </tr>\n",
       "  </thead>\n",
       "  <tbody>\n",
       "    <tr>\n",
       "      <th>0</th>\n",
       "      <td>Paris</td>\n",
       "      <td>[European, French, International]</td>\n",
       "      <td>5570</td>\n",
       "      <td>3.5</td>\n",
       "      <td>medium</td>\n",
       "      <td>194.0</td>\n",
       "      <td>[Good, food, at, your, doorstep, A, good, hote...</td>\n",
       "      <td>/Restaurant_Review-g187147-d1912643-Reviews-R_...</td>\n",
       "      <td>41.0</td>\n",
       "      <td>4.5</td>\n",
       "      <td>3</td>\n",
       "    </tr>\n",
       "    <tr>\n",
       "      <th>1</th>\n",
       "      <td>Stockholm</td>\n",
       "      <td>[European, Swedish]</td>\n",
       "      <td>1537</td>\n",
       "      <td>4.0</td>\n",
       "      <td>high</td>\n",
       "      <td>10.0</td>\n",
       "      <td>[Unique, cuisine, Delicious, Nepalese, food]</td>\n",
       "      <td>/Restaurant_Review-g189852-d7992032-Reviews-Bu...</td>\n",
       "      <td>382.0</td>\n",
       "      <td>2.5</td>\n",
       "      <td>2</td>\n",
       "    </tr>\n",
       "    <tr>\n",
       "      <th>2</th>\n",
       "      <td>London</td>\n",
       "      <td>[Japanese, Sushi, Asian, Grill, Vegetarian Fri...</td>\n",
       "      <td>353</td>\n",
       "      <td>4.5</td>\n",
       "      <td>high</td>\n",
       "      <td>688.0</td>\n",
       "      <td>[Catch, up, with, friends, Not, exceptional]</td>\n",
       "      <td>/Restaurant_Review-g186338-d8632781-Reviews-RO...</td>\n",
       "      <td>2.0</td>\n",
       "      <td>3.0</td>\n",
       "      <td>7</td>\n",
       "    </tr>\n",
       "    <tr>\n",
       "      <th>3</th>\n",
       "      <td>Berlin</td>\n",
       "      <td>[Italian]</td>\n",
       "      <td>3458</td>\n",
       "      <td>5.0</td>\n",
       "      <td>high</td>\n",
       "      <td>3.0</td>\n",
       "      <td>[]</td>\n",
       "      <td>/Restaurant_Review-g187323-d1358776-Reviews-Es...</td>\n",
       "      <td>272.0</td>\n",
       "      <td>NaN</td>\n",
       "      <td>1</td>\n",
       "    </tr>\n",
       "    <tr>\n",
       "      <th>4</th>\n",
       "      <td>Munich</td>\n",
       "      <td>[German, Central European, Vegetarian Friendly]</td>\n",
       "      <td>621</td>\n",
       "      <td>4.0</td>\n",
       "      <td>medium</td>\n",
       "      <td>84.0</td>\n",
       "      <td>[Best, place, to, try, a, Bavarian, food, Nice...</td>\n",
       "      <td>/Restaurant_Review-g187309-d6864963-Reviews-Au...</td>\n",
       "      <td>272.0</td>\n",
       "      <td>7.0</td>\n",
       "      <td>3</td>\n",
       "    </tr>\n",
       "  </tbody>\n",
       "</table>\n",
       "</div>"
      ],
      "text/plain": [
       "        city                                            cuisine  ranking  \\\n",
       "0      Paris                  [European, French, International]     5570   \n",
       "1  Stockholm                                [European, Swedish]     1537   \n",
       "2     London  [Japanese, Sushi, Asian, Grill, Vegetarian Fri...      353   \n",
       "3     Berlin                                          [Italian]     3458   \n",
       "4     Munich    [German, Central European, Vegetarian Friendly]      621   \n",
       "\n",
       "   rating price_range  reviews_amount  \\\n",
       "0     3.5      medium           194.0   \n",
       "1     4.0        high            10.0   \n",
       "2     4.5        high           688.0   \n",
       "3     5.0        high             3.0   \n",
       "4     4.0      medium            84.0   \n",
       "\n",
       "                                             reviews  \\\n",
       "0  [Good, food, at, your, doorstep, A, good, hote...   \n",
       "1       [Unique, cuisine, Delicious, Nepalese, food]   \n",
       "2       [Catch, up, with, friends, Not, exceptional]   \n",
       "3                                                 []   \n",
       "4  [Best, place, to, try, a, Bavarian, food, Nice...   \n",
       "\n",
       "                                              url_ta  review_dates_diff  \\\n",
       "0  /Restaurant_Review-g187147-d1912643-Reviews-R_...               41.0   \n",
       "1  /Restaurant_Review-g189852-d7992032-Reviews-Bu...              382.0   \n",
       "2  /Restaurant_Review-g186338-d8632781-Reviews-RO...                2.0   \n",
       "3  /Restaurant_Review-g187323-d1358776-Reviews-Es...              272.0   \n",
       "4  /Restaurant_Review-g187309-d6864963-Reviews-Au...              272.0   \n",
       "\n",
       "   review_length  cuisines_amount  \n",
       "0            4.5                3  \n",
       "1            2.5                2  \n",
       "2            3.0                7  \n",
       "3            NaN                1  \n",
       "4            7.0                3  "
      ]
     },
     "execution_count": 102,
     "metadata": {},
     "output_type": "execute_result"
    }
   ],
   "source": [
    "new_data.head()"
   ]
  },
  {
   "cell_type": "markdown",
   "metadata": {},
   "source": [
    "Now, let's see if there are significant differences between the ratings of restaurants depending on their price range or city.\n",
    "\n",
    "For this purposes Student's t-test can be used since the data in **'rating'** column is normally distributed."
   ]
  },
  {
   "cell_type": "code",
   "execution_count": 103,
   "metadata": {
    "ExecuteTime": {
     "end_time": "2020-08-21T14:49:01.646438Z",
     "start_time": "2020-08-21T14:49:01.574400Z"
    }
   },
   "outputs": [
    {
     "name": "stdout",
     "output_type": "stream",
     "text": [
      "Statistically significant differences found for column \"city\"\n",
      "Statistically significant differences found for column \"price_range\"\n"
     ]
    }
   ],
   "source": [
    "for column in ['city', 'price_range']:\n",
    "    combs =  combinations(list(new_data[column].dropna().unique()), 2)\n",
    "    for comb in combs:\n",
    "        p_value = stats.ttest_ind(new_data[new_data[column] == comb[0]].rating.dropna(),\n",
    "                                  new_data[new_data[column] == comb[1]].rating.dropna()).pvalue\n",
    "        if (p_value / len(list(combs))) < 0.05:\n",
    "            print(f'Statistically significant differences found for column \\\"{column}\\\"')\n",
    "            break\n"
   ]
  },
  {
   "cell_type": "markdown",
   "metadata": {},
   "source": [
    "**Getting dummies for price range:**"
   ]
  },
  {
   "cell_type": "code",
   "execution_count": 104,
   "metadata": {
    "ExecuteTime": {
     "end_time": "2020-08-21T14:49:01.670434Z",
     "start_time": "2020-08-21T14:49:01.646438Z"
    }
   },
   "outputs": [
    {
     "data": {
      "text/html": [
       "<div>\n",
       "<style scoped>\n",
       "    .dataframe tbody tr th:only-of-type {\n",
       "        vertical-align: middle;\n",
       "    }\n",
       "\n",
       "    .dataframe tbody tr th {\n",
       "        vertical-align: top;\n",
       "    }\n",
       "\n",
       "    .dataframe thead th {\n",
       "        text-align: right;\n",
       "    }\n",
       "</style>\n",
       "<table border=\"1\" class=\"dataframe\">\n",
       "  <thead>\n",
       "    <tr style=\"text-align: right;\">\n",
       "      <th></th>\n",
       "      <th>high</th>\n",
       "      <th>low</th>\n",
       "      <th>medium</th>\n",
       "    </tr>\n",
       "  </thead>\n",
       "  <tbody>\n",
       "    <tr>\n",
       "      <th>0</th>\n",
       "      <td>0</td>\n",
       "      <td>0</td>\n",
       "      <td>1</td>\n",
       "    </tr>\n",
       "    <tr>\n",
       "      <th>1</th>\n",
       "      <td>1</td>\n",
       "      <td>0</td>\n",
       "      <td>0</td>\n",
       "    </tr>\n",
       "    <tr>\n",
       "      <th>2</th>\n",
       "      <td>1</td>\n",
       "      <td>0</td>\n",
       "      <td>0</td>\n",
       "    </tr>\n",
       "  </tbody>\n",
       "</table>\n",
       "</div>"
      ],
      "text/plain": [
       "   high  low  medium\n",
       "0     0    0       1\n",
       "1     1    0       0\n",
       "2     1    0       0"
      ]
     },
     "execution_count": 104,
     "metadata": {},
     "output_type": "execute_result"
    }
   ],
   "source": [
    "price_range_dummies = pd.get_dummies(new_data.price_range)\n",
    "price_range_dummies.head(3)"
   ]
  },
  {
   "cell_type": "code",
   "execution_count": 112,
   "metadata": {
    "ExecuteTime": {
     "end_time": "2020-08-21T17:12:04.451293Z",
     "start_time": "2020-08-21T17:12:04.327445Z"
    }
   },
   "outputs": [
    {
     "data": {
      "text/html": [
       "<div>\n",
       "<style scoped>\n",
       "    .dataframe tbody tr th:only-of-type {\n",
       "        vertical-align: middle;\n",
       "    }\n",
       "\n",
       "    .dataframe tbody tr th {\n",
       "        vertical-align: top;\n",
       "    }\n",
       "\n",
       "    .dataframe thead th {\n",
       "        text-align: right;\n",
       "    }\n",
       "</style>\n",
       "<table border=\"1\" class=\"dataframe\">\n",
       "  <thead>\n",
       "    <tr style=\"text-align: right;\">\n",
       "      <th></th>\n",
       "      <th>city</th>\n",
       "      <th>cuisine</th>\n",
       "      <th>ranking</th>\n",
       "      <th>rating</th>\n",
       "      <th>price_range</th>\n",
       "      <th>reviews_amount</th>\n",
       "      <th>reviews</th>\n",
       "      <th>url_ta</th>\n",
       "      <th>review_dates_diff</th>\n",
       "      <th>review_length</th>\n",
       "      <th>cuisines_amount</th>\n",
       "      <th>high</th>\n",
       "      <th>low</th>\n",
       "      <th>medium</th>\n",
       "    </tr>\n",
       "  </thead>\n",
       "  <tbody>\n",
       "    <tr>\n",
       "      <th>0</th>\n",
       "      <td>Paris</td>\n",
       "      <td>[European, French, International]</td>\n",
       "      <td>5570</td>\n",
       "      <td>3.5</td>\n",
       "      <td>medium</td>\n",
       "      <td>194.0</td>\n",
       "      <td>[Good, food, at, your, doorstep, A, good, hote...</td>\n",
       "      <td>/Restaurant_Review-g187147-d1912643-Reviews-R_...</td>\n",
       "      <td>41.0</td>\n",
       "      <td>4.5</td>\n",
       "      <td>3</td>\n",
       "      <td>0</td>\n",
       "      <td>0</td>\n",
       "      <td>1</td>\n",
       "    </tr>\n",
       "    <tr>\n",
       "      <th>1</th>\n",
       "      <td>Stockholm</td>\n",
       "      <td>[European, Swedish]</td>\n",
       "      <td>1537</td>\n",
       "      <td>4.0</td>\n",
       "      <td>high</td>\n",
       "      <td>10.0</td>\n",
       "      <td>[Unique, cuisine, Delicious, Nepalese, food]</td>\n",
       "      <td>/Restaurant_Review-g189852-d7992032-Reviews-Bu...</td>\n",
       "      <td>382.0</td>\n",
       "      <td>2.5</td>\n",
       "      <td>2</td>\n",
       "      <td>1</td>\n",
       "      <td>0</td>\n",
       "      <td>0</td>\n",
       "    </tr>\n",
       "    <tr>\n",
       "      <th>2</th>\n",
       "      <td>London</td>\n",
       "      <td>[Japanese, Sushi, Asian, Grill, Vegetarian Fri...</td>\n",
       "      <td>353</td>\n",
       "      <td>4.5</td>\n",
       "      <td>high</td>\n",
       "      <td>688.0</td>\n",
       "      <td>[Catch, up, with, friends, Not, exceptional]</td>\n",
       "      <td>/Restaurant_Review-g186338-d8632781-Reviews-RO...</td>\n",
       "      <td>2.0</td>\n",
       "      <td>3.0</td>\n",
       "      <td>7</td>\n",
       "      <td>1</td>\n",
       "      <td>0</td>\n",
       "      <td>0</td>\n",
       "    </tr>\n",
       "    <tr>\n",
       "      <th>3</th>\n",
       "      <td>Berlin</td>\n",
       "      <td>[Italian]</td>\n",
       "      <td>3458</td>\n",
       "      <td>5.0</td>\n",
       "      <td>high</td>\n",
       "      <td>3.0</td>\n",
       "      <td>[]</td>\n",
       "      <td>/Restaurant_Review-g187323-d1358776-Reviews-Es...</td>\n",
       "      <td>272.0</td>\n",
       "      <td>NaN</td>\n",
       "      <td>1</td>\n",
       "      <td>1</td>\n",
       "      <td>0</td>\n",
       "      <td>0</td>\n",
       "    </tr>\n",
       "    <tr>\n",
       "      <th>4</th>\n",
       "      <td>Munich</td>\n",
       "      <td>[German, Central European, Vegetarian Friendly]</td>\n",
       "      <td>621</td>\n",
       "      <td>4.0</td>\n",
       "      <td>medium</td>\n",
       "      <td>84.0</td>\n",
       "      <td>[Best, place, to, try, a, Bavarian, food, Nice...</td>\n",
       "      <td>/Restaurant_Review-g187309-d6864963-Reviews-Au...</td>\n",
       "      <td>272.0</td>\n",
       "      <td>7.0</td>\n",
       "      <td>3</td>\n",
       "      <td>0</td>\n",
       "      <td>0</td>\n",
       "      <td>1</td>\n",
       "    </tr>\n",
       "    <tr>\n",
       "      <th>...</th>\n",
       "      <td>...</td>\n",
       "      <td>...</td>\n",
       "      <td>...</td>\n",
       "      <td>...</td>\n",
       "      <td>...</td>\n",
       "      <td>...</td>\n",
       "      <td>...</td>\n",
       "      <td>...</td>\n",
       "      <td>...</td>\n",
       "      <td>...</td>\n",
       "      <td>...</td>\n",
       "      <td>...</td>\n",
       "      <td>...</td>\n",
       "      <td>...</td>\n",
       "    </tr>\n",
       "    <tr>\n",
       "      <th>39995</th>\n",
       "      <td>Milan</td>\n",
       "      <td>[Italian, Vegetarian Friendly, Vegan Options, ...</td>\n",
       "      <td>500</td>\n",
       "      <td>4.5</td>\n",
       "      <td>medium</td>\n",
       "      <td>79.0</td>\n",
       "      <td>[The, real, Italian, experience!, Wonderful, f...</td>\n",
       "      <td>/Restaurant_Review-g187849-d2104414-Reviews-Ro...</td>\n",
       "      <td>34.0</td>\n",
       "      <td>4.0</td>\n",
       "      <td>4</td>\n",
       "      <td>0</td>\n",
       "      <td>0</td>\n",
       "      <td>1</td>\n",
       "    </tr>\n",
       "    <tr>\n",
       "      <th>39996</th>\n",
       "      <td>Paris</td>\n",
       "      <td>[French, American, Bar, European, Vegetarian F...</td>\n",
       "      <td>6341</td>\n",
       "      <td>3.5</td>\n",
       "      <td>medium</td>\n",
       "      <td>542.0</td>\n",
       "      <td>[Parisian, atmosphere, Bit, pricey, but, inter...</td>\n",
       "      <td>/Restaurant_Review-g187147-d1800036-Reviews-La...</td>\n",
       "      <td>9.0</td>\n",
       "      <td>4.5</td>\n",
       "      <td>5</td>\n",
       "      <td>0</td>\n",
       "      <td>0</td>\n",
       "      <td>1</td>\n",
       "    </tr>\n",
       "    <tr>\n",
       "      <th>39997</th>\n",
       "      <td>Stockholm</td>\n",
       "      <td>[Japanese, Sushi]</td>\n",
       "      <td>1652</td>\n",
       "      <td>4.5</td>\n",
       "      <td>high</td>\n",
       "      <td>4.0</td>\n",
       "      <td>[Good, by, swedish, standards, A, hidden, jewe...</td>\n",
       "      <td>/Restaurant_Review-g189852-d947615-Reviews-Sus...</td>\n",
       "      <td>23.0</td>\n",
       "      <td>6.0</td>\n",
       "      <td>2</td>\n",
       "      <td>1</td>\n",
       "      <td>0</td>\n",
       "      <td>0</td>\n",
       "    </tr>\n",
       "    <tr>\n",
       "      <th>39998</th>\n",
       "      <td>Warsaw</td>\n",
       "      <td>[Polish, European, Eastern European, Central E...</td>\n",
       "      <td>641</td>\n",
       "      <td>4.0</td>\n",
       "      <td>medium</td>\n",
       "      <td>70.0</td>\n",
       "      <td>[Underground, restaurant, Oldest, Restaurant, ...</td>\n",
       "      <td>/Restaurant_Review-g274856-d1100838-Reviews-Ho...</td>\n",
       "      <td>23.0</td>\n",
       "      <td>3.0</td>\n",
       "      <td>5</td>\n",
       "      <td>0</td>\n",
       "      <td>0</td>\n",
       "      <td>1</td>\n",
       "    </tr>\n",
       "    <tr>\n",
       "      <th>39999</th>\n",
       "      <td>Milan</td>\n",
       "      <td>[Spanish]</td>\n",
       "      <td>4827</td>\n",
       "      <td>3.0</td>\n",
       "      <td>medium</td>\n",
       "      <td>260.0</td>\n",
       "      <td>[Average, Nice, an, informal]</td>\n",
       "      <td>/Restaurant_Review-g187849-d1109020-Reviews-Ta...</td>\n",
       "      <td>61.0</td>\n",
       "      <td>2.0</td>\n",
       "      <td>1</td>\n",
       "      <td>0</td>\n",
       "      <td>0</td>\n",
       "      <td>1</td>\n",
       "    </tr>\n",
       "  </tbody>\n",
       "</table>\n",
       "<p>37877 rows × 14 columns</p>\n",
       "</div>"
      ],
      "text/plain": [
       "            city                                            cuisine  ranking  \\\n",
       "0          Paris                  [European, French, International]     5570   \n",
       "1      Stockholm                                [European, Swedish]     1537   \n",
       "2         London  [Japanese, Sushi, Asian, Grill, Vegetarian Fri...      353   \n",
       "3         Berlin                                          [Italian]     3458   \n",
       "4         Munich    [German, Central European, Vegetarian Friendly]      621   \n",
       "...          ...                                                ...      ...   \n",
       "39995      Milan  [Italian, Vegetarian Friendly, Vegan Options, ...      500   \n",
       "39996      Paris  [French, American, Bar, European, Vegetarian F...     6341   \n",
       "39997  Stockholm                                  [Japanese, Sushi]     1652   \n",
       "39998     Warsaw  [Polish, European, Eastern European, Central E...      641   \n",
       "39999      Milan                                          [Spanish]     4827   \n",
       "\n",
       "       rating price_range  reviews_amount  \\\n",
       "0         3.5      medium           194.0   \n",
       "1         4.0        high            10.0   \n",
       "2         4.5        high           688.0   \n",
       "3         5.0        high             3.0   \n",
       "4         4.0      medium            84.0   \n",
       "...       ...         ...             ...   \n",
       "39995     4.5      medium            79.0   \n",
       "39996     3.5      medium           542.0   \n",
       "39997     4.5        high             4.0   \n",
       "39998     4.0      medium            70.0   \n",
       "39999     3.0      medium           260.0   \n",
       "\n",
       "                                                 reviews  \\\n",
       "0      [Good, food, at, your, doorstep, A, good, hote...   \n",
       "1           [Unique, cuisine, Delicious, Nepalese, food]   \n",
       "2           [Catch, up, with, friends, Not, exceptional]   \n",
       "3                                                     []   \n",
       "4      [Best, place, to, try, a, Bavarian, food, Nice...   \n",
       "...                                                  ...   \n",
       "39995  [The, real, Italian, experience!, Wonderful, f...   \n",
       "39996  [Parisian, atmosphere, Bit, pricey, but, inter...   \n",
       "39997  [Good, by, swedish, standards, A, hidden, jewe...   \n",
       "39998  [Underground, restaurant, Oldest, Restaurant, ...   \n",
       "39999                      [Average, Nice, an, informal]   \n",
       "\n",
       "                                                  url_ta  review_dates_diff  \\\n",
       "0      /Restaurant_Review-g187147-d1912643-Reviews-R_...               41.0   \n",
       "1      /Restaurant_Review-g189852-d7992032-Reviews-Bu...              382.0   \n",
       "2      /Restaurant_Review-g186338-d8632781-Reviews-RO...                2.0   \n",
       "3      /Restaurant_Review-g187323-d1358776-Reviews-Es...              272.0   \n",
       "4      /Restaurant_Review-g187309-d6864963-Reviews-Au...              272.0   \n",
       "...                                                  ...                ...   \n",
       "39995  /Restaurant_Review-g187849-d2104414-Reviews-Ro...               34.0   \n",
       "39996  /Restaurant_Review-g187147-d1800036-Reviews-La...                9.0   \n",
       "39997  /Restaurant_Review-g189852-d947615-Reviews-Sus...               23.0   \n",
       "39998  /Restaurant_Review-g274856-d1100838-Reviews-Ho...               23.0   \n",
       "39999  /Restaurant_Review-g187849-d1109020-Reviews-Ta...               61.0   \n",
       "\n",
       "       review_length  cuisines_amount  high  low  medium  \n",
       "0                4.5                3     0    0       1  \n",
       "1                2.5                2     1    0       0  \n",
       "2                3.0                7     1    0       0  \n",
       "3                NaN                1     1    0       0  \n",
       "4                7.0                3     0    0       1  \n",
       "...              ...              ...   ...  ...     ...  \n",
       "39995            4.0                4     0    0       1  \n",
       "39996            4.5                5     0    0       1  \n",
       "39997            6.0                2     1    0       0  \n",
       "39998            3.0                5     0    0       1  \n",
       "39999            2.0                1     0    0       1  \n",
       "\n",
       "[37877 rows x 14 columns]"
      ]
     },
     "execution_count": 112,
     "metadata": {},
     "output_type": "execute_result"
    }
   ],
   "source": [
    "concated = pd.concat([new_data, price_range_dummies], axis=1)\n",
    "concated"
   ]
  },
  {
   "cell_type": "code",
   "execution_count": null,
   "metadata": {},
   "outputs": [],
   "source": []
  },
  {
   "cell_type": "code",
   "execution_count": null,
   "metadata": {},
   "outputs": [],
   "source": []
  },
  {
   "cell_type": "code",
   "execution_count": null,
   "metadata": {},
   "outputs": [],
   "source": []
  },
  {
   "cell_type": "code",
   "execution_count": null,
   "metadata": {},
   "outputs": [],
   "source": []
  },
  {
   "cell_type": "code",
   "execution_count": null,
   "metadata": {},
   "outputs": [],
   "source": []
  },
  {
   "cell_type": "code",
   "execution_count": null,
   "metadata": {},
   "outputs": [],
   "source": []
  },
  {
   "cell_type": "code",
   "execution_count": null,
   "metadata": {},
   "outputs": [],
   "source": []
  },
  {
   "cell_type": "markdown",
   "metadata": {},
   "source": [
    "# One more simple model\n"
   ]
  },
  {
   "cell_type": "markdown",
   "metadata": {},
   "source": [
    "**Data for model:**"
   ]
  },
  {
   "cell_type": "code",
   "execution_count": 130,
   "metadata": {
    "ExecuteTime": {
     "end_time": "2020-08-21T17:27:58.681879Z",
     "start_time": "2020-08-21T17:27:58.612864Z"
    }
   },
   "outputs": [
    {
     "data": {
      "text/html": [
       "<div>\n",
       "<style scoped>\n",
       "    .dataframe tbody tr th:only-of-type {\n",
       "        vertical-align: middle;\n",
       "    }\n",
       "\n",
       "    .dataframe tbody tr th {\n",
       "        vertical-align: top;\n",
       "    }\n",
       "\n",
       "    .dataframe thead th {\n",
       "        text-align: right;\n",
       "    }\n",
       "</style>\n",
       "<table border=\"1\" class=\"dataframe\">\n",
       "  <thead>\n",
       "    <tr style=\"text-align: right;\">\n",
       "      <th></th>\n",
       "      <th>ranking</th>\n",
       "      <th>rating</th>\n",
       "      <th>reviews_amount</th>\n",
       "      <th>review_dates_diff</th>\n",
       "      <th>review_length</th>\n",
       "      <th>cuisines_amount</th>\n",
       "      <th>high</th>\n",
       "      <th>low</th>\n",
       "      <th>medium</th>\n",
       "    </tr>\n",
       "  </thead>\n",
       "  <tbody>\n",
       "    <tr>\n",
       "      <th>0</th>\n",
       "      <td>5570</td>\n",
       "      <td>3.5</td>\n",
       "      <td>194.0</td>\n",
       "      <td>41.0</td>\n",
       "      <td>4.5</td>\n",
       "      <td>3</td>\n",
       "      <td>0</td>\n",
       "      <td>0</td>\n",
       "      <td>1</td>\n",
       "    </tr>\n",
       "    <tr>\n",
       "      <th>1</th>\n",
       "      <td>1537</td>\n",
       "      <td>4.0</td>\n",
       "      <td>10.0</td>\n",
       "      <td>382.0</td>\n",
       "      <td>2.5</td>\n",
       "      <td>2</td>\n",
       "      <td>1</td>\n",
       "      <td>0</td>\n",
       "      <td>0</td>\n",
       "    </tr>\n",
       "    <tr>\n",
       "      <th>2</th>\n",
       "      <td>353</td>\n",
       "      <td>4.5</td>\n",
       "      <td>688.0</td>\n",
       "      <td>2.0</td>\n",
       "      <td>3.0</td>\n",
       "      <td>7</td>\n",
       "      <td>1</td>\n",
       "      <td>0</td>\n",
       "      <td>0</td>\n",
       "    </tr>\n",
       "    <tr>\n",
       "      <th>4</th>\n",
       "      <td>621</td>\n",
       "      <td>4.0</td>\n",
       "      <td>84.0</td>\n",
       "      <td>272.0</td>\n",
       "      <td>7.0</td>\n",
       "      <td>3</td>\n",
       "      <td>0</td>\n",
       "      <td>0</td>\n",
       "      <td>1</td>\n",
       "    </tr>\n",
       "    <tr>\n",
       "      <th>5</th>\n",
       "      <td>1419</td>\n",
       "      <td>3.0</td>\n",
       "      <td>2.0</td>\n",
       "      <td>108.0</td>\n",
       "      <td>7.0</td>\n",
       "      <td>2</td>\n",
       "      <td>1</td>\n",
       "      <td>0</td>\n",
       "      <td>0</td>\n",
       "    </tr>\n",
       "  </tbody>\n",
       "</table>\n",
       "</div>"
      ],
      "text/plain": [
       "   ranking  rating  reviews_amount  review_dates_diff  review_length  \\\n",
       "0     5570     3.5           194.0               41.0            4.5   \n",
       "1     1537     4.0            10.0              382.0            2.5   \n",
       "2      353     4.5           688.0                2.0            3.0   \n",
       "4      621     4.0            84.0              272.0            7.0   \n",
       "5     1419     3.0             2.0              108.0            7.0   \n",
       "\n",
       "   cuisines_amount  high  low  medium  \n",
       "0                3     0    0       1  \n",
       "1                2     1    0       0  \n",
       "2                7     1    0       0  \n",
       "4                3     0    0       1  \n",
       "5                2     1    0       0  "
      ]
     },
     "execution_count": 130,
     "metadata": {},
     "output_type": "execute_result"
    }
   ],
   "source": [
    "model = concated.dropna().copy(deep=True)\n",
    "\n",
    "for column in model.columns:\n",
    "    if model[column].dtype == 'O':\n",
    "        model.drop([column], axis=1, inplace=True)\n",
    "        \n",
    "model.head()"
   ]
  },
  {
   "cell_type": "markdown",
   "metadata": {},
   "source": [
    "Before creating a model, it is necessary to use **MinMax Scaling** so that ML algorithms could work better:"
   ]
  },
  {
   "cell_type": "code",
   "execution_count": 131,
   "metadata": {
    "ExecuteTime": {
     "end_time": "2020-08-21T17:28:05.767585Z",
     "start_time": "2020-08-21T17:28:05.705566Z"
    },
    "scrolled": true
   },
   "outputs": [],
   "source": [
    "minmax_scale = MinMaxScaler(feature_range=(0, 1))\n",
    "\n",
    "for column in model.columns:\n",
    "    if column not in ['high', 'low', 'medium']:\n",
    "        model[[column]] = minmax_scale.fit_transform(model[[column]])"
   ]
  },
  {
   "cell_type": "code",
   "execution_count": 132,
   "metadata": {
    "ExecuteTime": {
     "end_time": "2020-08-21T17:28:12.648668Z",
     "start_time": "2020-08-21T17:28:12.635668Z"
    }
   },
   "outputs": [
    {
     "data": {
      "text/html": [
       "<div>\n",
       "<style scoped>\n",
       "    .dataframe tbody tr th:only-of-type {\n",
       "        vertical-align: middle;\n",
       "    }\n",
       "\n",
       "    .dataframe tbody tr th {\n",
       "        vertical-align: top;\n",
       "    }\n",
       "\n",
       "    .dataframe thead th {\n",
       "        text-align: right;\n",
       "    }\n",
       "</style>\n",
       "<table border=\"1\" class=\"dataframe\">\n",
       "  <thead>\n",
       "    <tr style=\"text-align: right;\">\n",
       "      <th></th>\n",
       "      <th>ranking</th>\n",
       "      <th>rating</th>\n",
       "      <th>reviews_amount</th>\n",
       "      <th>review_dates_diff</th>\n",
       "      <th>review_length</th>\n",
       "      <th>cuisines_amount</th>\n",
       "      <th>high</th>\n",
       "      <th>low</th>\n",
       "      <th>medium</th>\n",
       "    </tr>\n",
       "  </thead>\n",
       "  <tbody>\n",
       "    <tr>\n",
       "      <th>0</th>\n",
       "      <td>0.342413</td>\n",
       "      <td>0.25</td>\n",
       "      <td>0.019880</td>\n",
       "      <td>0.041041</td>\n",
       "      <td>0.421053</td>\n",
       "      <td>0.10</td>\n",
       "      <td>0</td>\n",
       "      <td>0</td>\n",
       "      <td>1</td>\n",
       "    </tr>\n",
       "    <tr>\n",
       "      <th>1</th>\n",
       "      <td>0.094442</td>\n",
       "      <td>0.50</td>\n",
       "      <td>0.000828</td>\n",
       "      <td>0.382382</td>\n",
       "      <td>0.210526</td>\n",
       "      <td>0.05</td>\n",
       "      <td>1</td>\n",
       "      <td>0</td>\n",
       "      <td>0</td>\n",
       "    </tr>\n",
       "  </tbody>\n",
       "</table>\n",
       "</div>"
      ],
      "text/plain": [
       "    ranking  rating  reviews_amount  review_dates_diff  review_length  \\\n",
       "0  0.342413    0.25        0.019880           0.041041       0.421053   \n",
       "1  0.094442    0.50        0.000828           0.382382       0.210526   \n",
       "\n",
       "   cuisines_amount  high  low  medium  \n",
       "0             0.10     0    0       1  \n",
       "1             0.05     1    0       0  "
      ]
     },
     "execution_count": 132,
     "metadata": {},
     "output_type": "execute_result"
    }
   ],
   "source": [
    "model.head(2)"
   ]
  },
  {
   "cell_type": "code",
   "execution_count": 133,
   "metadata": {
    "ExecuteTime": {
     "end_time": "2020-08-21T17:28:26.637504Z",
     "start_time": "2020-08-21T17:28:19.534441Z"
    }
   },
   "outputs": [
    {
     "name": "stdout",
     "output_type": "stream",
     "text": [
      "MAE: 0.1648007452317797\n"
     ]
    }
   ],
   "source": [
    "X = model.drop(['rating'], axis = 1)\n",
    "y = model['rating']\n",
    "\n",
    "X_train, X_test, y_train, y_test = train_test_split(X, y, test_size=0.25)\n",
    "regr = RandomForestRegressor(n_estimators=100)\n",
    "\n",
    "regr.fit(X_train, y_train)\n",
    "y_pred = regr.predict(X_test)\n",
    "\n",
    "print('MAE:', metrics.mean_absolute_error(y_test, y_pred))"
   ]
  },
  {
   "cell_type": "code",
   "execution_count": 115,
   "metadata": {
    "ExecuteTime": {
     "end_time": "2020-08-21T17:13:18.381240Z",
     "start_time": "2020-08-21T17:13:18.340665Z"
    }
   },
   "outputs": [
    {
     "name": "stdout",
     "output_type": "stream",
     "text": [
      "<class 'pandas.core.frame.DataFrame'>\n",
      "Int64Index: 37877 entries, 0 to 39999\n",
      "Data columns (total 11 columns):\n",
      " #   Column             Non-Null Count  Dtype  \n",
      "---  ------             --------------  -----  \n",
      " 0   city               37877 non-null  object \n",
      " 1   cuisine            37877 non-null  object \n",
      " 2   ranking            37877 non-null  int64  \n",
      " 3   rating             36389 non-null  float64\n",
      " 4   price_range        37877 non-null  object \n",
      " 5   reviews_amount     37877 non-null  float64\n",
      " 6   reviews            37877 non-null  object \n",
      " 7   url_ta             37877 non-null  object \n",
      " 8   review_dates_diff  37877 non-null  float64\n",
      " 9   review_length      32733 non-null  float64\n",
      " 10  cuisines_amount    37877 non-null  int64  \n",
      "dtypes: float64(4), int64(2), object(5)\n",
      "memory usage: 3.5+ MB\n"
     ]
    }
   ],
   "source": [
    "new_data.info()"
   ]
  },
  {
   "cell_type": "code",
   "execution_count": null,
   "metadata": {},
   "outputs": [],
   "source": []
  },
  {
   "cell_type": "code",
   "execution_count": null,
   "metadata": {},
   "outputs": [],
   "source": []
  },
  {
   "cell_type": "code",
   "execution_count": null,
   "metadata": {},
   "outputs": [],
   "source": []
  },
  {
   "cell_type": "code",
   "execution_count": null,
   "metadata": {},
   "outputs": [],
   "source": []
  },
  {
   "cell_type": "code",
   "execution_count": null,
   "metadata": {},
   "outputs": [],
   "source": []
  },
  {
   "cell_type": "code",
   "execution_count": null,
   "metadata": {},
   "outputs": [],
   "source": []
  },
  {
   "cell_type": "code",
   "execution_count": null,
   "metadata": {},
   "outputs": [],
   "source": []
  },
  {
   "cell_type": "code",
   "execution_count": null,
   "metadata": {},
   "outputs": [],
   "source": []
  },
  {
   "cell_type": "code",
   "execution_count": null,
   "metadata": {},
   "outputs": [],
   "source": []
  },
  {
   "cell_type": "code",
   "execution_count": null,
   "metadata": {},
   "outputs": [],
   "source": []
  },
  {
   "cell_type": "code",
   "execution_count": null,
   "metadata": {},
   "outputs": [],
   "source": []
  },
  {
   "cell_type": "code",
   "execution_count": null,
   "metadata": {},
   "outputs": [],
   "source": []
  },
  {
   "cell_type": "code",
   "execution_count": null,
   "metadata": {},
   "outputs": [],
   "source": []
  },
  {
   "cell_type": "code",
   "execution_count": null,
   "metadata": {},
   "outputs": [],
   "source": []
  },
  {
   "cell_type": "code",
   "execution_count": null,
   "metadata": {},
   "outputs": [],
   "source": []
  },
  {
   "cell_type": "code",
   "execution_count": null,
   "metadata": {},
   "outputs": [],
   "source": []
  },
  {
   "cell_type": "code",
   "execution_count": null,
   "metadata": {},
   "outputs": [],
   "source": []
  },
  {
   "cell_type": "code",
   "execution_count": null,
   "metadata": {},
   "outputs": [],
   "source": []
  },
  {
   "cell_type": "code",
   "execution_count": null,
   "metadata": {},
   "outputs": [],
   "source": []
  },
  {
   "cell_type": "code",
   "execution_count": null,
   "metadata": {},
   "outputs": [],
   "source": []
  },
  {
   "cell_type": "code",
   "execution_count": null,
   "metadata": {},
   "outputs": [],
   "source": []
  },
  {
   "cell_type": "code",
   "execution_count": null,
   "metadata": {},
   "outputs": [],
   "source": []
  },
  {
   "cell_type": "code",
   "execution_count": null,
   "metadata": {},
   "outputs": [],
   "source": []
  },
  {
   "cell_type": "code",
   "execution_count": null,
   "metadata": {},
   "outputs": [],
   "source": []
  },
  {
   "cell_type": "code",
   "execution_count": null,
   "metadata": {},
   "outputs": [],
   "source": []
  },
  {
   "cell_type": "code",
   "execution_count": null,
   "metadata": {},
   "outputs": [],
   "source": []
  },
  {
   "cell_type": "code",
   "execution_count": null,
   "metadata": {},
   "outputs": [],
   "source": []
  },
  {
   "cell_type": "code",
   "execution_count": null,
   "metadata": {},
   "outputs": [],
   "source": []
  },
  {
   "cell_type": "code",
   "execution_count": null,
   "metadata": {},
   "outputs": [],
   "source": []
  },
  {
   "cell_type": "code",
   "execution_count": null,
   "metadata": {},
   "outputs": [],
   "source": []
  },
  {
   "cell_type": "code",
   "execution_count": null,
   "metadata": {},
   "outputs": [],
   "source": []
  },
  {
   "cell_type": "code",
   "execution_count": null,
   "metadata": {},
   "outputs": [],
   "source": []
  },
  {
   "cell_type": "code",
   "execution_count": null,
   "metadata": {},
   "outputs": [],
   "source": []
  },
  {
   "cell_type": "code",
   "execution_count": null,
   "metadata": {},
   "outputs": [],
   "source": []
  },
  {
   "cell_type": "code",
   "execution_count": null,
   "metadata": {},
   "outputs": [],
   "source": []
  },
  {
   "cell_type": "code",
   "execution_count": null,
   "metadata": {},
   "outputs": [],
   "source": []
  },
  {
   "cell_type": "code",
   "execution_count": null,
   "metadata": {},
   "outputs": [],
   "source": []
  },
  {
   "cell_type": "code",
   "execution_count": null,
   "metadata": {},
   "outputs": [],
   "source": []
  },
  {
   "cell_type": "code",
   "execution_count": null,
   "metadata": {},
   "outputs": [],
   "source": []
  },
  {
   "cell_type": "code",
   "execution_count": null,
   "metadata": {},
   "outputs": [],
   "source": []
  },
  {
   "cell_type": "code",
   "execution_count": null,
   "metadata": {},
   "outputs": [],
   "source": []
  },
  {
   "cell_type": "code",
   "execution_count": null,
   "metadata": {},
   "outputs": [],
   "source": []
  },
  {
   "cell_type": "code",
   "execution_count": null,
   "metadata": {},
   "outputs": [],
   "source": []
  },
  {
   "cell_type": "code",
   "execution_count": null,
   "metadata": {},
   "outputs": [],
   "source": []
  },
  {
   "cell_type": "code",
   "execution_count": null,
   "metadata": {},
   "outputs": [],
   "source": []
  },
  {
   "cell_type": "code",
   "execution_count": null,
   "metadata": {},
   "outputs": [],
   "source": []
  },
  {
   "cell_type": "code",
   "execution_count": null,
   "metadata": {},
   "outputs": [],
   "source": []
  },
  {
   "cell_type": "code",
   "execution_count": null,
   "metadata": {},
   "outputs": [],
   "source": []
  },
  {
   "cell_type": "code",
   "execution_count": null,
   "metadata": {},
   "outputs": [],
   "source": []
  },
  {
   "cell_type": "code",
   "execution_count": null,
   "metadata": {},
   "outputs": [],
   "source": []
  },
  {
   "cell_type": "code",
   "execution_count": null,
   "metadata": {},
   "outputs": [],
   "source": []
  },
  {
   "cell_type": "code",
   "execution_count": null,
   "metadata": {},
   "outputs": [],
   "source": []
  },
  {
   "cell_type": "code",
   "execution_count": null,
   "metadata": {},
   "outputs": [],
   "source": []
  },
  {
   "cell_type": "code",
   "execution_count": null,
   "metadata": {},
   "outputs": [],
   "source": []
  },
  {
   "cell_type": "code",
   "execution_count": null,
   "metadata": {},
   "outputs": [],
   "source": []
  },
  {
   "cell_type": "code",
   "execution_count": null,
   "metadata": {},
   "outputs": [],
   "source": []
  },
  {
   "cell_type": "code",
   "execution_count": null,
   "metadata": {},
   "outputs": [],
   "source": []
  },
  {
   "cell_type": "code",
   "execution_count": null,
   "metadata": {},
   "outputs": [],
   "source": []
  },
  {
   "cell_type": "code",
   "execution_count": null,
   "metadata": {},
   "outputs": [],
   "source": []
  },
  {
   "cell_type": "code",
   "execution_count": null,
   "metadata": {},
   "outputs": [],
   "source": []
  },
  {
   "cell_type": "code",
   "execution_count": null,
   "metadata": {},
   "outputs": [],
   "source": []
  },
  {
   "cell_type": "code",
   "execution_count": null,
   "metadata": {},
   "outputs": [],
   "source": []
  },
  {
   "cell_type": "code",
   "execution_count": null,
   "metadata": {},
   "outputs": [],
   "source": []
  },
  {
   "cell_type": "code",
   "execution_count": null,
   "metadata": {},
   "outputs": [],
   "source": []
  },
  {
   "cell_type": "code",
   "execution_count": null,
   "metadata": {},
   "outputs": [],
   "source": []
  },
  {
   "cell_type": "code",
   "execution_count": null,
   "metadata": {},
   "outputs": [],
   "source": []
  },
  {
   "cell_type": "code",
   "execution_count": null,
   "metadata": {},
   "outputs": [],
   "source": []
  },
  {
   "cell_type": "code",
   "execution_count": null,
   "metadata": {},
   "outputs": [],
   "source": []
  }
 ],
 "metadata": {
  "kernelspec": {
   "display_name": "Python 3",
   "language": "python",
   "name": "python3"
  },
  "language_info": {
   "codemirror_mode": {
    "name": "ipython",
    "version": 3
   },
   "file_extension": ".py",
   "mimetype": "text/x-python",
   "name": "python",
   "nbconvert_exporter": "python",
   "pygments_lexer": "ipython3",
   "version": "3.7.6"
  },
  "toc": {
   "base_numbering": 1,
   "nav_menu": {},
   "number_sections": true,
   "sideBar": true,
   "skip_h1_title": false,
   "title_cell": "Table of Contents",
   "title_sidebar": "Contents",
   "toc_cell": false,
   "toc_position": {
    "height": "calc(100% - 180px)",
    "left": "10px",
    "top": "150px",
    "width": "232.2px"
   },
   "toc_section_display": true,
   "toc_window_display": true
  },
  "varInspector": {
   "cols": {
    "lenName": 16,
    "lenType": 16,
    "lenVar": 40
   },
   "kernels_config": {
    "python": {
     "delete_cmd_postfix": "",
     "delete_cmd_prefix": "del ",
     "library": "var_list.py",
     "varRefreshCmd": "print(var_dic_list())"
    },
    "r": {
     "delete_cmd_postfix": ") ",
     "delete_cmd_prefix": "rm(",
     "library": "var_list.r",
     "varRefreshCmd": "cat(var_dic_list()) "
    }
   },
   "types_to_exclude": [
    "module",
    "function",
    "builtin_function_or_method",
    "instance",
    "_Feature"
   ],
   "window_display": false
  }
 },
 "nbformat": 4,
 "nbformat_minor": 4
}
